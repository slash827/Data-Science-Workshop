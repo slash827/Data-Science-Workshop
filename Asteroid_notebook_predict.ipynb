{
  "cells": [
    {
      "cell_type": "markdown",
      "metadata": {
        "id": "e46jmT5PvwGQ"
      },
      "source": [
        "# **Asteroid Prediction**\n"
      ]
    },
    {
      "cell_type": "markdown",
      "metadata": {
        "id": "ZBH8DG2uwVdK"
      },
      "source": [
        "# Import Python Libraries"
      ]
    },
    {
      "cell_type": "code",
      "execution_count": 232,
      "outputs": [],
      "source": [
        "#from google.colab import drive\n",
        "#drive.mount('/content/drive')"
      ],
      "metadata": {
        "pycharm": {
          "name": "#%%\n"
        },
        "id": "7YSk9uvqR7uo"
      }
    },
    {
      "cell_type": "code",
      "execution_count": 233,
      "metadata": {
        "id": "f5wQSSrmvsmE"
      },
      "outputs": [],
      "source": [
        "import pandas as pd\n",
        "import numpy as np\n",
        "import seaborn as sns\n",
        "import matplotlib.pyplot as plt\n",
        "%matplotlib inline\n",
        "import sklearn\n",
        "import matplotlib.pyplot as plt\n",
        "from sklearn.ensemble import RandomForestRegressor\n",
        "from sklearn.linear_model import LinearRegression\n",
        "from sklearn.model_selection import train_test_split\n",
        "from sklearn.preprocessing import OneHotEncoder\n",
        "import numpy as np"
      ]
    },
    {
      "cell_type": "markdown",
      "metadata": {
        "id": "eummGGzew4M9"
      },
      "source": [
        "# Reading the Income Classification Dataset"
      ]
    },
    {
      "cell_type": "code",
      "execution_count": 234,
      "metadata": {
        "id": "JRldRS3T6q7x"
      },
      "outputs": [],
      "source": [
        "#%cd /content/drive/My Drive/Data"
      ]
    },
    {
      "cell_type": "code",
      "source": [
        "from google.colab import drive\n",
        "drive.mount('/content/drive')"
      ],
      "metadata": {
        "colab": {
          "base_uri": "https://localhost:8080/"
        },
        "id": "JtDvhA7mIZr3",
        "outputId": "c9b5b258-d571-4a94-cd7d-73ffa31c23e4"
      },
      "execution_count": 235,
      "outputs": [
        {
          "output_type": "stream",
          "name": "stdout",
          "text": [
            "Drive already mounted at /content/drive; to attempt to forcibly remount, call drive.mount(\"/content/drive\", force_remount=True).\n"
          ]
        }
      ]
    },
    {
      "cell_type": "code",
      "execution_count": 236,
      "metadata": {
        "id": "CmR1ECBM6ux5",
        "colab": {
          "base_uri": "https://localhost:8080/"
        },
        "outputId": "582ece7f-406c-4b05-f449-edf2cc1db934"
      },
      "outputs": [
        {
          "output_type": "stream",
          "name": "stderr",
          "text": [
            "/usr/local/lib/python3.7/dist-packages/IPython/core/interactiveshell.py:2882: DtypeWarning: Columns (11,14,15,22,23) have mixed types.Specify dtype option on import or set low_memory=False.\n",
            "  exec(code_obj, self.user_global_ns, self.user_ns)\n"
          ]
        }
      ],
      "source": [
        "df = pd.read_csv('/content/drive/MyDrive/Asteroid.csv',  on_bad_lines='skip')"
      ]
    },
    {
      "cell_type": "code",
      "source": [
        "df.head()"
      ],
      "metadata": {
        "id": "CdeqEtNQ5x9a",
        "colab": {
          "base_uri": "https://localhost:8080/",
          "height": 235
        },
        "outputId": "0b245c62-f2b1-459e-bacb-3e0aacfe0673"
      },
      "execution_count": 237,
      "outputs": [
        {
          "output_type": "execute_result",
          "data": {
            "text/plain": [
              "        full_name         a         e     G          i          om  \\\n",
              "0         1 Ceres  2.769165  0.076009  0.12  10.594067   80.305532   \n",
              "1        2 Pallas  2.772466  0.230337  0.11  34.836234  173.080063   \n",
              "2          3 Juno  2.669150  0.256942  0.32  12.988919  169.852760   \n",
              "3         4 Vesta  2.361418  0.088721  0.32   7.141771  103.810804   \n",
              "4       5 Astraea  2.574249  0.191095   NaN   5.366988  141.576604   \n",
              "\n",
              "            w         q        ad     per_y  ...    rot_per       GM     BV  \\\n",
              "0   73.597694  2.558684  2.979647  4.608202  ...   9.074170  62.6284  0.713   \n",
              "1  310.048857  2.133865  3.411067  4.616444  ...   7.813200  14.3000  0.635   \n",
              "2  248.138626  1.983332  3.354967  4.360814  ...   7.210000      NaN  0.824   \n",
              "3  150.728541  2.151909  2.570926  3.628837  ...   5.342128  17.8000  0.782   \n",
              "4  358.687608  2.082324  3.066174  4.130323  ...  16.806000      NaN  0.826   \n",
              "\n",
              "      UB  IR spec_B  spec_T  neo  pha     moid  \n",
              "0  0.426 NaN      C       G    N    N  1.59478  \n",
              "1  0.284 NaN      B       B    N    N  1.23324  \n",
              "2  0.433 NaN     Sk       S    N    N  1.03454  \n",
              "3  0.492 NaN      V       V    N    N  1.13948  \n",
              "4  0.411 NaN      S       S    N    N  1.09589  \n",
              "\n",
              "[5 rows x 27 columns]"
            ],
            "text/html": [
              "\n",
              "  <div id=\"df-9c891049-ce24-4478-a79d-a7590bb21ba4\">\n",
              "    <div class=\"colab-df-container\">\n",
              "      <div>\n",
              "<style scoped>\n",
              "    .dataframe tbody tr th:only-of-type {\n",
              "        vertical-align: middle;\n",
              "    }\n",
              "\n",
              "    .dataframe tbody tr th {\n",
              "        vertical-align: top;\n",
              "    }\n",
              "\n",
              "    .dataframe thead th {\n",
              "        text-align: right;\n",
              "    }\n",
              "</style>\n",
              "<table border=\"1\" class=\"dataframe\">\n",
              "  <thead>\n",
              "    <tr style=\"text-align: right;\">\n",
              "      <th></th>\n",
              "      <th>full_name</th>\n",
              "      <th>a</th>\n",
              "      <th>e</th>\n",
              "      <th>G</th>\n",
              "      <th>i</th>\n",
              "      <th>om</th>\n",
              "      <th>w</th>\n",
              "      <th>q</th>\n",
              "      <th>ad</th>\n",
              "      <th>per_y</th>\n",
              "      <th>...</th>\n",
              "      <th>rot_per</th>\n",
              "      <th>GM</th>\n",
              "      <th>BV</th>\n",
              "      <th>UB</th>\n",
              "      <th>IR</th>\n",
              "      <th>spec_B</th>\n",
              "      <th>spec_T</th>\n",
              "      <th>neo</th>\n",
              "      <th>pha</th>\n",
              "      <th>moid</th>\n",
              "    </tr>\n",
              "  </thead>\n",
              "  <tbody>\n",
              "    <tr>\n",
              "      <th>0</th>\n",
              "      <td>1 Ceres</td>\n",
              "      <td>2.769165</td>\n",
              "      <td>0.076009</td>\n",
              "      <td>0.12</td>\n",
              "      <td>10.594067</td>\n",
              "      <td>80.305532</td>\n",
              "      <td>73.597694</td>\n",
              "      <td>2.558684</td>\n",
              "      <td>2.979647</td>\n",
              "      <td>4.608202</td>\n",
              "      <td>...</td>\n",
              "      <td>9.074170</td>\n",
              "      <td>62.6284</td>\n",
              "      <td>0.713</td>\n",
              "      <td>0.426</td>\n",
              "      <td>NaN</td>\n",
              "      <td>C</td>\n",
              "      <td>G</td>\n",
              "      <td>N</td>\n",
              "      <td>N</td>\n",
              "      <td>1.59478</td>\n",
              "    </tr>\n",
              "    <tr>\n",
              "      <th>1</th>\n",
              "      <td>2 Pallas</td>\n",
              "      <td>2.772466</td>\n",
              "      <td>0.230337</td>\n",
              "      <td>0.11</td>\n",
              "      <td>34.836234</td>\n",
              "      <td>173.080063</td>\n",
              "      <td>310.048857</td>\n",
              "      <td>2.133865</td>\n",
              "      <td>3.411067</td>\n",
              "      <td>4.616444</td>\n",
              "      <td>...</td>\n",
              "      <td>7.813200</td>\n",
              "      <td>14.3000</td>\n",
              "      <td>0.635</td>\n",
              "      <td>0.284</td>\n",
              "      <td>NaN</td>\n",
              "      <td>B</td>\n",
              "      <td>B</td>\n",
              "      <td>N</td>\n",
              "      <td>N</td>\n",
              "      <td>1.23324</td>\n",
              "    </tr>\n",
              "    <tr>\n",
              "      <th>2</th>\n",
              "      <td>3 Juno</td>\n",
              "      <td>2.669150</td>\n",
              "      <td>0.256942</td>\n",
              "      <td>0.32</td>\n",
              "      <td>12.988919</td>\n",
              "      <td>169.852760</td>\n",
              "      <td>248.138626</td>\n",
              "      <td>1.983332</td>\n",
              "      <td>3.354967</td>\n",
              "      <td>4.360814</td>\n",
              "      <td>...</td>\n",
              "      <td>7.210000</td>\n",
              "      <td>NaN</td>\n",
              "      <td>0.824</td>\n",
              "      <td>0.433</td>\n",
              "      <td>NaN</td>\n",
              "      <td>Sk</td>\n",
              "      <td>S</td>\n",
              "      <td>N</td>\n",
              "      <td>N</td>\n",
              "      <td>1.03454</td>\n",
              "    </tr>\n",
              "    <tr>\n",
              "      <th>3</th>\n",
              "      <td>4 Vesta</td>\n",
              "      <td>2.361418</td>\n",
              "      <td>0.088721</td>\n",
              "      <td>0.32</td>\n",
              "      <td>7.141771</td>\n",
              "      <td>103.810804</td>\n",
              "      <td>150.728541</td>\n",
              "      <td>2.151909</td>\n",
              "      <td>2.570926</td>\n",
              "      <td>3.628837</td>\n",
              "      <td>...</td>\n",
              "      <td>5.342128</td>\n",
              "      <td>17.8000</td>\n",
              "      <td>0.782</td>\n",
              "      <td>0.492</td>\n",
              "      <td>NaN</td>\n",
              "      <td>V</td>\n",
              "      <td>V</td>\n",
              "      <td>N</td>\n",
              "      <td>N</td>\n",
              "      <td>1.13948</td>\n",
              "    </tr>\n",
              "    <tr>\n",
              "      <th>4</th>\n",
              "      <td>5 Astraea</td>\n",
              "      <td>2.574249</td>\n",
              "      <td>0.191095</td>\n",
              "      <td>NaN</td>\n",
              "      <td>5.366988</td>\n",
              "      <td>141.576604</td>\n",
              "      <td>358.687608</td>\n",
              "      <td>2.082324</td>\n",
              "      <td>3.066174</td>\n",
              "      <td>4.130323</td>\n",
              "      <td>...</td>\n",
              "      <td>16.806000</td>\n",
              "      <td>NaN</td>\n",
              "      <td>0.826</td>\n",
              "      <td>0.411</td>\n",
              "      <td>NaN</td>\n",
              "      <td>S</td>\n",
              "      <td>S</td>\n",
              "      <td>N</td>\n",
              "      <td>N</td>\n",
              "      <td>1.09589</td>\n",
              "    </tr>\n",
              "  </tbody>\n",
              "</table>\n",
              "<p>5 rows × 27 columns</p>\n",
              "</div>\n",
              "      <button class=\"colab-df-convert\" onclick=\"convertToInteractive('df-9c891049-ce24-4478-a79d-a7590bb21ba4')\"\n",
              "              title=\"Convert this dataframe to an interactive table.\"\n",
              "              style=\"display:none;\">\n",
              "        \n",
              "  <svg xmlns=\"http://www.w3.org/2000/svg\" height=\"24px\"viewBox=\"0 0 24 24\"\n",
              "       width=\"24px\">\n",
              "    <path d=\"M0 0h24v24H0V0z\" fill=\"none\"/>\n",
              "    <path d=\"M18.56 5.44l.94 2.06.94-2.06 2.06-.94-2.06-.94-.94-2.06-.94 2.06-2.06.94zm-11 1L8.5 8.5l.94-2.06 2.06-.94-2.06-.94L8.5 2.5l-.94 2.06-2.06.94zm10 10l.94 2.06.94-2.06 2.06-.94-2.06-.94-.94-2.06-.94 2.06-2.06.94z\"/><path d=\"M17.41 7.96l-1.37-1.37c-.4-.4-.92-.59-1.43-.59-.52 0-1.04.2-1.43.59L10.3 9.45l-7.72 7.72c-.78.78-.78 2.05 0 2.83L4 21.41c.39.39.9.59 1.41.59.51 0 1.02-.2 1.41-.59l7.78-7.78 2.81-2.81c.8-.78.8-2.07 0-2.86zM5.41 20L4 18.59l7.72-7.72 1.47 1.35L5.41 20z\"/>\n",
              "  </svg>\n",
              "      </button>\n",
              "      \n",
              "  <style>\n",
              "    .colab-df-container {\n",
              "      display:flex;\n",
              "      flex-wrap:wrap;\n",
              "      gap: 12px;\n",
              "    }\n",
              "\n",
              "    .colab-df-convert {\n",
              "      background-color: #E8F0FE;\n",
              "      border: none;\n",
              "      border-radius: 50%;\n",
              "      cursor: pointer;\n",
              "      display: none;\n",
              "      fill: #1967D2;\n",
              "      height: 32px;\n",
              "      padding: 0 0 0 0;\n",
              "      width: 32px;\n",
              "    }\n",
              "\n",
              "    .colab-df-convert:hover {\n",
              "      background-color: #E2EBFA;\n",
              "      box-shadow: 0px 1px 2px rgba(60, 64, 67, 0.3), 0px 1px 3px 1px rgba(60, 64, 67, 0.15);\n",
              "      fill: #174EA6;\n",
              "    }\n",
              "\n",
              "    [theme=dark] .colab-df-convert {\n",
              "      background-color: #3B4455;\n",
              "      fill: #D2E3FC;\n",
              "    }\n",
              "\n",
              "    [theme=dark] .colab-df-convert:hover {\n",
              "      background-color: #434B5C;\n",
              "      box-shadow: 0px 1px 3px 1px rgba(0, 0, 0, 0.15);\n",
              "      filter: drop-shadow(0px 1px 2px rgba(0, 0, 0, 0.3));\n",
              "      fill: #FFFFFF;\n",
              "    }\n",
              "  </style>\n",
              "\n",
              "      <script>\n",
              "        const buttonEl =\n",
              "          document.querySelector('#df-9c891049-ce24-4478-a79d-a7590bb21ba4 button.colab-df-convert');\n",
              "        buttonEl.style.display =\n",
              "          google.colab.kernel.accessAllowed ? 'block' : 'none';\n",
              "\n",
              "        async function convertToInteractive(key) {\n",
              "          const element = document.querySelector('#df-9c891049-ce24-4478-a79d-a7590bb21ba4');\n",
              "          const dataTable =\n",
              "            await google.colab.kernel.invokeFunction('convertToInteractive',\n",
              "                                                     [key], {});\n",
              "          if (!dataTable) return;\n",
              "\n",
              "          const docLinkHtml = 'Like what you see? Visit the ' +\n",
              "            '<a target=\"_blank\" href=https://colab.research.google.com/notebooks/data_table.ipynb>data table notebook</a>'\n",
              "            + ' to learn more about interactive tables.';\n",
              "          element.innerHTML = '';\n",
              "          dataTable['output_type'] = 'display_data';\n",
              "          await google.colab.output.renderOutput(dataTable, element);\n",
              "          const docLink = document.createElement('div');\n",
              "          docLink.innerHTML = docLinkHtml;\n",
              "          element.appendChild(docLink);\n",
              "        }\n",
              "      </script>\n",
              "    </div>\n",
              "  </div>\n",
              "  "
            ]
          },
          "metadata": {},
          "execution_count": 237
        }
      ]
    },
    {
      "cell_type": "markdown",
      "source": [
        "# Column Renaming"
      ],
      "metadata": {
        "collapsed": false,
        "pycharm": {
          "name": "#%% md\n"
        },
        "id": "UjIQvERdR7us"
      }
    },
    {
      "cell_type": "code",
      "execution_count": 238,
      "outputs": [],
      "source": [
        "readable_df = df.copy()\n",
        "readable_df = readable_df.rename(columns={\"a\": \"semi-major axis\",\n",
        "                            \"e\": \"eccentricity\",\n",
        "                            \"G\": \"Magnitude slope parameter\",\n",
        "                            \"i\": \"Inclination with ecliptic plane\",\n",
        "                            \"om\": \"Longitude of the ascending node\",\n",
        "                            \"w\": \"argument of perihelion\",\n",
        "                            \"q\": \"perihelion distance(au)\",\n",
        "                            \"ad\": \"aphelion distance(au)\",\n",
        "                            \"per_y\": \"Orbital period\",\n",
        "                            \"data_arc\": \"data arc-span(d)\",\n",
        "                            \"condition_code\": \"Orbit condition code\",\n",
        "                            \"n_obs_used\": \"number of observations used\",\n",
        "                            \"H\": \"Absolute Magnitude parameter\",\n",
        "                            \"condition_code\": \"Orbit condition code\",\n",
        "                            })"
      ],
      "metadata": {
        "pycharm": {
          "name": "#%%\n"
        },
        "id": "evJ2jMnuR7us"
      }
    },
    {
      "cell_type": "code",
      "execution_count": 239,
      "metadata": {
        "id": "h4-SRqnm6ik6",
        "colab": {
          "base_uri": "https://localhost:8080/",
          "height": 314
        },
        "outputId": "4d572446-05c5-4edd-c4bf-28f88b4b130b"
      },
      "outputs": [
        {
          "output_type": "execute_result",
          "data": {
            "text/plain": [
              "        full_name  semi-major axis  eccentricity  Magnitude slope parameter  \\\n",
              "0         1 Ceres         2.769165      0.076009                       0.12   \n",
              "1        2 Pallas         2.772466      0.230337                       0.11   \n",
              "2          3 Juno         2.669150      0.256942                       0.32   \n",
              "3         4 Vesta         2.361418      0.088721                       0.32   \n",
              "4       5 Astraea         2.574249      0.191095                        NaN   \n",
              "\n",
              "   Inclination with ecliptic plane  Longitude of the ascending node  \\\n",
              "0                        10.594067                        80.305532   \n",
              "1                        34.836234                       173.080063   \n",
              "2                        12.988919                       169.852760   \n",
              "3                         7.141771                       103.810804   \n",
              "4                         5.366988                       141.576604   \n",
              "\n",
              "   argument of perihelion  perihelion distance(au)  aphelion distance(au)  \\\n",
              "0               73.597694                 2.558684               2.979647   \n",
              "1              310.048857                 2.133865               3.411067   \n",
              "2              248.138626                 1.983332               3.354967   \n",
              "3              150.728541                 2.151909               2.570926   \n",
              "4              358.687608                 2.082324               3.066174   \n",
              "\n",
              "   Orbital period  ...    rot_per       GM     BV     UB  IR spec_B  spec_T  \\\n",
              "0        4.608202  ...   9.074170  62.6284  0.713  0.426 NaN      C       G   \n",
              "1        4.616444  ...   7.813200  14.3000  0.635  0.284 NaN      B       B   \n",
              "2        4.360814  ...   7.210000      NaN  0.824  0.433 NaN     Sk       S   \n",
              "3        3.628837  ...   5.342128  17.8000  0.782  0.492 NaN      V       V   \n",
              "4        4.130323  ...  16.806000      NaN  0.826  0.411 NaN      S       S   \n",
              "\n",
              "   neo  pha     moid  \n",
              "0    N    N  1.59478  \n",
              "1    N    N  1.23324  \n",
              "2    N    N  1.03454  \n",
              "3    N    N  1.13948  \n",
              "4    N    N  1.09589  \n",
              "\n",
              "[5 rows x 27 columns]"
            ],
            "text/html": [
              "\n",
              "  <div id=\"df-d642d219-8a3c-48a7-95d3-648c29387ec7\">\n",
              "    <div class=\"colab-df-container\">\n",
              "      <div>\n",
              "<style scoped>\n",
              "    .dataframe tbody tr th:only-of-type {\n",
              "        vertical-align: middle;\n",
              "    }\n",
              "\n",
              "    .dataframe tbody tr th {\n",
              "        vertical-align: top;\n",
              "    }\n",
              "\n",
              "    .dataframe thead th {\n",
              "        text-align: right;\n",
              "    }\n",
              "</style>\n",
              "<table border=\"1\" class=\"dataframe\">\n",
              "  <thead>\n",
              "    <tr style=\"text-align: right;\">\n",
              "      <th></th>\n",
              "      <th>full_name</th>\n",
              "      <th>semi-major axis</th>\n",
              "      <th>eccentricity</th>\n",
              "      <th>Magnitude slope parameter</th>\n",
              "      <th>Inclination with ecliptic plane</th>\n",
              "      <th>Longitude of the ascending node</th>\n",
              "      <th>argument of perihelion</th>\n",
              "      <th>perihelion distance(au)</th>\n",
              "      <th>aphelion distance(au)</th>\n",
              "      <th>Orbital period</th>\n",
              "      <th>...</th>\n",
              "      <th>rot_per</th>\n",
              "      <th>GM</th>\n",
              "      <th>BV</th>\n",
              "      <th>UB</th>\n",
              "      <th>IR</th>\n",
              "      <th>spec_B</th>\n",
              "      <th>spec_T</th>\n",
              "      <th>neo</th>\n",
              "      <th>pha</th>\n",
              "      <th>moid</th>\n",
              "    </tr>\n",
              "  </thead>\n",
              "  <tbody>\n",
              "    <tr>\n",
              "      <th>0</th>\n",
              "      <td>1 Ceres</td>\n",
              "      <td>2.769165</td>\n",
              "      <td>0.076009</td>\n",
              "      <td>0.12</td>\n",
              "      <td>10.594067</td>\n",
              "      <td>80.305532</td>\n",
              "      <td>73.597694</td>\n",
              "      <td>2.558684</td>\n",
              "      <td>2.979647</td>\n",
              "      <td>4.608202</td>\n",
              "      <td>...</td>\n",
              "      <td>9.074170</td>\n",
              "      <td>62.6284</td>\n",
              "      <td>0.713</td>\n",
              "      <td>0.426</td>\n",
              "      <td>NaN</td>\n",
              "      <td>C</td>\n",
              "      <td>G</td>\n",
              "      <td>N</td>\n",
              "      <td>N</td>\n",
              "      <td>1.59478</td>\n",
              "    </tr>\n",
              "    <tr>\n",
              "      <th>1</th>\n",
              "      <td>2 Pallas</td>\n",
              "      <td>2.772466</td>\n",
              "      <td>0.230337</td>\n",
              "      <td>0.11</td>\n",
              "      <td>34.836234</td>\n",
              "      <td>173.080063</td>\n",
              "      <td>310.048857</td>\n",
              "      <td>2.133865</td>\n",
              "      <td>3.411067</td>\n",
              "      <td>4.616444</td>\n",
              "      <td>...</td>\n",
              "      <td>7.813200</td>\n",
              "      <td>14.3000</td>\n",
              "      <td>0.635</td>\n",
              "      <td>0.284</td>\n",
              "      <td>NaN</td>\n",
              "      <td>B</td>\n",
              "      <td>B</td>\n",
              "      <td>N</td>\n",
              "      <td>N</td>\n",
              "      <td>1.23324</td>\n",
              "    </tr>\n",
              "    <tr>\n",
              "      <th>2</th>\n",
              "      <td>3 Juno</td>\n",
              "      <td>2.669150</td>\n",
              "      <td>0.256942</td>\n",
              "      <td>0.32</td>\n",
              "      <td>12.988919</td>\n",
              "      <td>169.852760</td>\n",
              "      <td>248.138626</td>\n",
              "      <td>1.983332</td>\n",
              "      <td>3.354967</td>\n",
              "      <td>4.360814</td>\n",
              "      <td>...</td>\n",
              "      <td>7.210000</td>\n",
              "      <td>NaN</td>\n",
              "      <td>0.824</td>\n",
              "      <td>0.433</td>\n",
              "      <td>NaN</td>\n",
              "      <td>Sk</td>\n",
              "      <td>S</td>\n",
              "      <td>N</td>\n",
              "      <td>N</td>\n",
              "      <td>1.03454</td>\n",
              "    </tr>\n",
              "    <tr>\n",
              "      <th>3</th>\n",
              "      <td>4 Vesta</td>\n",
              "      <td>2.361418</td>\n",
              "      <td>0.088721</td>\n",
              "      <td>0.32</td>\n",
              "      <td>7.141771</td>\n",
              "      <td>103.810804</td>\n",
              "      <td>150.728541</td>\n",
              "      <td>2.151909</td>\n",
              "      <td>2.570926</td>\n",
              "      <td>3.628837</td>\n",
              "      <td>...</td>\n",
              "      <td>5.342128</td>\n",
              "      <td>17.8000</td>\n",
              "      <td>0.782</td>\n",
              "      <td>0.492</td>\n",
              "      <td>NaN</td>\n",
              "      <td>V</td>\n",
              "      <td>V</td>\n",
              "      <td>N</td>\n",
              "      <td>N</td>\n",
              "      <td>1.13948</td>\n",
              "    </tr>\n",
              "    <tr>\n",
              "      <th>4</th>\n",
              "      <td>5 Astraea</td>\n",
              "      <td>2.574249</td>\n",
              "      <td>0.191095</td>\n",
              "      <td>NaN</td>\n",
              "      <td>5.366988</td>\n",
              "      <td>141.576604</td>\n",
              "      <td>358.687608</td>\n",
              "      <td>2.082324</td>\n",
              "      <td>3.066174</td>\n",
              "      <td>4.130323</td>\n",
              "      <td>...</td>\n",
              "      <td>16.806000</td>\n",
              "      <td>NaN</td>\n",
              "      <td>0.826</td>\n",
              "      <td>0.411</td>\n",
              "      <td>NaN</td>\n",
              "      <td>S</td>\n",
              "      <td>S</td>\n",
              "      <td>N</td>\n",
              "      <td>N</td>\n",
              "      <td>1.09589</td>\n",
              "    </tr>\n",
              "  </tbody>\n",
              "</table>\n",
              "<p>5 rows × 27 columns</p>\n",
              "</div>\n",
              "      <button class=\"colab-df-convert\" onclick=\"convertToInteractive('df-d642d219-8a3c-48a7-95d3-648c29387ec7')\"\n",
              "              title=\"Convert this dataframe to an interactive table.\"\n",
              "              style=\"display:none;\">\n",
              "        \n",
              "  <svg xmlns=\"http://www.w3.org/2000/svg\" height=\"24px\"viewBox=\"0 0 24 24\"\n",
              "       width=\"24px\">\n",
              "    <path d=\"M0 0h24v24H0V0z\" fill=\"none\"/>\n",
              "    <path d=\"M18.56 5.44l.94 2.06.94-2.06 2.06-.94-2.06-.94-.94-2.06-.94 2.06-2.06.94zm-11 1L8.5 8.5l.94-2.06 2.06-.94-2.06-.94L8.5 2.5l-.94 2.06-2.06.94zm10 10l.94 2.06.94-2.06 2.06-.94-2.06-.94-.94-2.06-.94 2.06-2.06.94z\"/><path d=\"M17.41 7.96l-1.37-1.37c-.4-.4-.92-.59-1.43-.59-.52 0-1.04.2-1.43.59L10.3 9.45l-7.72 7.72c-.78.78-.78 2.05 0 2.83L4 21.41c.39.39.9.59 1.41.59.51 0 1.02-.2 1.41-.59l7.78-7.78 2.81-2.81c.8-.78.8-2.07 0-2.86zM5.41 20L4 18.59l7.72-7.72 1.47 1.35L5.41 20z\"/>\n",
              "  </svg>\n",
              "      </button>\n",
              "      \n",
              "  <style>\n",
              "    .colab-df-container {\n",
              "      display:flex;\n",
              "      flex-wrap:wrap;\n",
              "      gap: 12px;\n",
              "    }\n",
              "\n",
              "    .colab-df-convert {\n",
              "      background-color: #E8F0FE;\n",
              "      border: none;\n",
              "      border-radius: 50%;\n",
              "      cursor: pointer;\n",
              "      display: none;\n",
              "      fill: #1967D2;\n",
              "      height: 32px;\n",
              "      padding: 0 0 0 0;\n",
              "      width: 32px;\n",
              "    }\n",
              "\n",
              "    .colab-df-convert:hover {\n",
              "      background-color: #E2EBFA;\n",
              "      box-shadow: 0px 1px 2px rgba(60, 64, 67, 0.3), 0px 1px 3px 1px rgba(60, 64, 67, 0.15);\n",
              "      fill: #174EA6;\n",
              "    }\n",
              "\n",
              "    [theme=dark] .colab-df-convert {\n",
              "      background-color: #3B4455;\n",
              "      fill: #D2E3FC;\n",
              "    }\n",
              "\n",
              "    [theme=dark] .colab-df-convert:hover {\n",
              "      background-color: #434B5C;\n",
              "      box-shadow: 0px 1px 3px 1px rgba(0, 0, 0, 0.15);\n",
              "      filter: drop-shadow(0px 1px 2px rgba(0, 0, 0, 0.3));\n",
              "      fill: #FFFFFF;\n",
              "    }\n",
              "  </style>\n",
              "\n",
              "      <script>\n",
              "        const buttonEl =\n",
              "          document.querySelector('#df-d642d219-8a3c-48a7-95d3-648c29387ec7 button.colab-df-convert');\n",
              "        buttonEl.style.display =\n",
              "          google.colab.kernel.accessAllowed ? 'block' : 'none';\n",
              "\n",
              "        async function convertToInteractive(key) {\n",
              "          const element = document.querySelector('#df-d642d219-8a3c-48a7-95d3-648c29387ec7');\n",
              "          const dataTable =\n",
              "            await google.colab.kernel.invokeFunction('convertToInteractive',\n",
              "                                                     [key], {});\n",
              "          if (!dataTable) return;\n",
              "\n",
              "          const docLinkHtml = 'Like what you see? Visit the ' +\n",
              "            '<a target=\"_blank\" href=https://colab.research.google.com/notebooks/data_table.ipynb>data table notebook</a>'\n",
              "            + ' to learn more about interactive tables.';\n",
              "          element.innerHTML = '';\n",
              "          dataTable['output_type'] = 'display_data';\n",
              "          await google.colab.output.renderOutput(dataTable, element);\n",
              "          const docLink = document.createElement('div');\n",
              "          docLink.innerHTML = docLinkHtml;\n",
              "          element.appendChild(docLink);\n",
              "        }\n",
              "      </script>\n",
              "    </div>\n",
              "  </div>\n",
              "  "
            ]
          },
          "metadata": {},
          "execution_count": 239
        }
      ],
      "source": [
        "readable_df.head()"
      ]
    },
    {
      "cell_type": "markdown",
      "metadata": {
        "id": "z0oHQWk2x9zD"
      },
      "source": [
        "# **Exploration (EDA) & Visualization**"
      ]
    },
    {
      "cell_type": "markdown",
      "source": [
        "# Handling missing values"
      ],
      "metadata": {
        "id": "Ohekbwp3DRUY"
      }
    },
    {
      "cell_type": "code",
      "execution_count": 240,
      "metadata": {
        "id": "Eib1vs4c61H4",
        "colab": {
          "base_uri": "https://localhost:8080/"
        },
        "outputId": "7957a629-7904-4c0b-9aaa-f535157cf820"
      },
      "outputs": [
        {
          "output_type": "execute_result",
          "data": {
            "text/plain": [
              "(839736, 27)"
            ]
          },
          "metadata": {},
          "execution_count": 240
        }
      ],
      "source": [
        "readable_df.shape"
      ]
    },
    {
      "cell_type": "markdown",
      "source": [
        "**Drop nan rows (diameter col)**"
      ],
      "metadata": {
        "id": "JC2oBLhkC-Lv"
      }
    },
    {
      "cell_type": "code",
      "source": [
        "readable_df = readable_df.dropna(axis=0, subset=['diameter'])"
      ],
      "metadata": {
        "id": "Xh4aY96vTsMG"
      },
      "execution_count": 241,
      "outputs": []
    },
    {
      "cell_type": "code",
      "source": [
        "readable_df.shape"
      ],
      "metadata": {
        "id": "B9k-5zcJ4CJQ",
        "colab": {
          "base_uri": "https://localhost:8080/"
        },
        "outputId": "a9fd2320-b582-42d6-d23c-2aa3b2599e8f"
      },
      "execution_count": 242,
      "outputs": [
        {
          "output_type": "execute_result",
          "data": {
            "text/plain": [
              "(137681, 27)"
            ]
          },
          "metadata": {},
          "execution_count": 242
        }
      ]
    },
    {
      "cell_type": "markdown",
      "source": [
        "**Split a dataset into training and testing sets**"
      ],
      "metadata": {
        "id": "3EG_PkjlD2NB"
      }
    },
    {
      "cell_type": "code",
      "execution_count": 243,
      "outputs": [],
      "source": [
        "dtf_train, dtf_test = train_test_split(readable_df, test_size=0.2)"
      ],
      "metadata": {
        "pycharm": {
          "name": "#%%\n"
        },
        "id": "uoGtm_ChR7uz"
      }
    },
    {
      "cell_type": "code",
      "source": [
        "dtf_train.shape"
      ],
      "metadata": {
        "id": "T-NNVJED30g-",
        "colab": {
          "base_uri": "https://localhost:8080/"
        },
        "outputId": "6433ca86-aa01-4eb2-e561-1f3bfd1c57a9"
      },
      "execution_count": 244,
      "outputs": [
        {
          "output_type": "execute_result",
          "data": {
            "text/plain": [
              "(110144, 27)"
            ]
          },
          "metadata": {},
          "execution_count": 244
        }
      ]
    },
    {
      "cell_type": "code",
      "source": [
        "dtf_test.shape"
      ],
      "metadata": {
        "id": "P0qmJSSg34SG",
        "colab": {
          "base_uri": "https://localhost:8080/"
        },
        "outputId": "a03e2955-e492-4b29-83b1-3990677f5108"
      },
      "execution_count": 245,
      "outputs": [
        {
          "output_type": "execute_result",
          "data": {
            "text/plain": [
              "(27537, 27)"
            ]
          },
          "metadata": {},
          "execution_count": 245
        }
      ]
    },
    {
      "cell_type": "markdown",
      "source": [
        "**missing values**"
      ],
      "metadata": {
        "id": "wOaDlYHkE8vQ"
      }
    },
    {
      "cell_type": "code",
      "execution_count": 246,
      "metadata": {
        "id": "ofAkE3funvkX",
        "colab": {
          "base_uri": "https://localhost:8080/"
        },
        "outputId": "839af3fb-4470-4e2d-9ffb-271867823a48"
      },
      "outputs": [
        {
          "output_type": "execute_result",
          "data": {
            "text/plain": [
              "full_name                               0\n",
              "semi-major axis                         0\n",
              "eccentricity                            0\n",
              "Magnitude slope parameter          110050\n",
              "Inclination with ecliptic plane         0\n",
              "Longitude of the ascending node         0\n",
              "argument of perihelion                  0\n",
              "perihelion distance(au)                 0\n",
              "aphelion distance(au)                   0\n",
              "Orbital period                          0\n",
              "data arc-span(d)                      113\n",
              "Orbit condition code                    0\n",
              "number of observations used             0\n",
              "Absolute Magnitude parameter          613\n",
              "diameter                                0\n",
              "extent                             110129\n",
              "albedo                               1002\n",
              "rot_per                            101225\n",
              "GM                                 110131\n",
              "BV                                 109352\n",
              "UB                                 109381\n",
              "IR                                 110143\n",
              "spec_B                             109048\n",
              "spec_T                             109378\n",
              "neo                                     0\n",
              "pha                                     0\n",
              "moid                                    0\n",
              "dtype: int64"
            ]
          },
          "metadata": {},
          "execution_count": 246
        }
      ],
      "source": [
        "dtf_train.isna().sum()"
      ]
    },
    {
      "cell_type": "markdown",
      "source": [
        "**percent missing values**"
      ],
      "metadata": {
        "id": "A8s0-Bw1FQhE"
      }
    },
    {
      "cell_type": "code",
      "source": [
        "percent_missing = dtf_train.isnull().sum() * 100 / len(dtf_train)\n",
        "\n",
        "missing_value = pd.DataFrame({'column': dtf_train.columns,'percent_missing': percent_missing})\n",
        "\n",
        "missing_value.sort_values('percent_missing', ascending=False)\n",
        "\n",
        "missing_value"
      ],
      "metadata": {
        "id": "ZejaWJ6L5v2l",
        "colab": {
          "base_uri": "https://localhost:8080/",
          "height": 896
        },
        "outputId": "454bc27f-ac29-479c-c583-0299f86825cb"
      },
      "execution_count": 247,
      "outputs": [
        {
          "output_type": "execute_result",
          "data": {
            "text/plain": [
              "                                                          column  \\\n",
              "full_name                                              full_name   \n",
              "semi-major axis                                  semi-major axis   \n",
              "eccentricity                                        eccentricity   \n",
              "Magnitude slope parameter              Magnitude slope parameter   \n",
              "Inclination with ecliptic plane  Inclination with ecliptic plane   \n",
              "Longitude of the ascending node  Longitude of the ascending node   \n",
              "argument of perihelion                    argument of perihelion   \n",
              "perihelion distance(au)                  perihelion distance(au)   \n",
              "aphelion distance(au)                      aphelion distance(au)   \n",
              "Orbital period                                    Orbital period   \n",
              "data arc-span(d)                                data arc-span(d)   \n",
              "Orbit condition code                        Orbit condition code   \n",
              "number of observations used          number of observations used   \n",
              "Absolute Magnitude parameter        Absolute Magnitude parameter   \n",
              "diameter                                                diameter   \n",
              "extent                                                    extent   \n",
              "albedo                                                    albedo   \n",
              "rot_per                                                  rot_per   \n",
              "GM                                                            GM   \n",
              "BV                                                            BV   \n",
              "UB                                                            UB   \n",
              "IR                                                            IR   \n",
              "spec_B                                                    spec_B   \n",
              "spec_T                                                    spec_T   \n",
              "neo                                                          neo   \n",
              "pha                                                          pha   \n",
              "moid                                                        moid   \n",
              "\n",
              "                                 percent_missing  \n",
              "full_name                               0.000000  \n",
              "semi-major axis                         0.000000  \n",
              "eccentricity                            0.000000  \n",
              "Magnitude slope parameter              99.914657  \n",
              "Inclination with ecliptic plane         0.000000  \n",
              "Longitude of the ascending node         0.000000  \n",
              "argument of perihelion                  0.000000  \n",
              "perihelion distance(au)                 0.000000  \n",
              "aphelion distance(au)                   0.000000  \n",
              "Orbital period                          0.000000  \n",
              "data arc-span(d)                        0.102593  \n",
              "Orbit condition code                    0.000000  \n",
              "number of observations used             0.000000  \n",
              "Absolute Magnitude parameter            0.556544  \n",
              "diameter                                0.000000  \n",
              "extent                                 99.986381  \n",
              "albedo                                  0.909718  \n",
              "rot_per                                91.902419  \n",
              "GM                                     99.988197  \n",
              "BV                                     99.280941  \n",
              "UB                                     99.307270  \n",
              "IR                                     99.999092  \n",
              "spec_B                                 99.004939  \n",
              "spec_T                                 99.304547  \n",
              "neo                                     0.000000  \n",
              "pha                                     0.000000  \n",
              "moid                                    0.000000  "
            ],
            "text/html": [
              "\n",
              "  <div id=\"df-11cf2dc8-495e-4d73-8700-f98833ddec23\">\n",
              "    <div class=\"colab-df-container\">\n",
              "      <div>\n",
              "<style scoped>\n",
              "    .dataframe tbody tr th:only-of-type {\n",
              "        vertical-align: middle;\n",
              "    }\n",
              "\n",
              "    .dataframe tbody tr th {\n",
              "        vertical-align: top;\n",
              "    }\n",
              "\n",
              "    .dataframe thead th {\n",
              "        text-align: right;\n",
              "    }\n",
              "</style>\n",
              "<table border=\"1\" class=\"dataframe\">\n",
              "  <thead>\n",
              "    <tr style=\"text-align: right;\">\n",
              "      <th></th>\n",
              "      <th>column</th>\n",
              "      <th>percent_missing</th>\n",
              "    </tr>\n",
              "  </thead>\n",
              "  <tbody>\n",
              "    <tr>\n",
              "      <th>full_name</th>\n",
              "      <td>full_name</td>\n",
              "      <td>0.000000</td>\n",
              "    </tr>\n",
              "    <tr>\n",
              "      <th>semi-major axis</th>\n",
              "      <td>semi-major axis</td>\n",
              "      <td>0.000000</td>\n",
              "    </tr>\n",
              "    <tr>\n",
              "      <th>eccentricity</th>\n",
              "      <td>eccentricity</td>\n",
              "      <td>0.000000</td>\n",
              "    </tr>\n",
              "    <tr>\n",
              "      <th>Magnitude slope parameter</th>\n",
              "      <td>Magnitude slope parameter</td>\n",
              "      <td>99.914657</td>\n",
              "    </tr>\n",
              "    <tr>\n",
              "      <th>Inclination with ecliptic plane</th>\n",
              "      <td>Inclination with ecliptic plane</td>\n",
              "      <td>0.000000</td>\n",
              "    </tr>\n",
              "    <tr>\n",
              "      <th>Longitude of the ascending node</th>\n",
              "      <td>Longitude of the ascending node</td>\n",
              "      <td>0.000000</td>\n",
              "    </tr>\n",
              "    <tr>\n",
              "      <th>argument of perihelion</th>\n",
              "      <td>argument of perihelion</td>\n",
              "      <td>0.000000</td>\n",
              "    </tr>\n",
              "    <tr>\n",
              "      <th>perihelion distance(au)</th>\n",
              "      <td>perihelion distance(au)</td>\n",
              "      <td>0.000000</td>\n",
              "    </tr>\n",
              "    <tr>\n",
              "      <th>aphelion distance(au)</th>\n",
              "      <td>aphelion distance(au)</td>\n",
              "      <td>0.000000</td>\n",
              "    </tr>\n",
              "    <tr>\n",
              "      <th>Orbital period</th>\n",
              "      <td>Orbital period</td>\n",
              "      <td>0.000000</td>\n",
              "    </tr>\n",
              "    <tr>\n",
              "      <th>data arc-span(d)</th>\n",
              "      <td>data arc-span(d)</td>\n",
              "      <td>0.102593</td>\n",
              "    </tr>\n",
              "    <tr>\n",
              "      <th>Orbit condition code</th>\n",
              "      <td>Orbit condition code</td>\n",
              "      <td>0.000000</td>\n",
              "    </tr>\n",
              "    <tr>\n",
              "      <th>number of observations used</th>\n",
              "      <td>number of observations used</td>\n",
              "      <td>0.000000</td>\n",
              "    </tr>\n",
              "    <tr>\n",
              "      <th>Absolute Magnitude parameter</th>\n",
              "      <td>Absolute Magnitude parameter</td>\n",
              "      <td>0.556544</td>\n",
              "    </tr>\n",
              "    <tr>\n",
              "      <th>diameter</th>\n",
              "      <td>diameter</td>\n",
              "      <td>0.000000</td>\n",
              "    </tr>\n",
              "    <tr>\n",
              "      <th>extent</th>\n",
              "      <td>extent</td>\n",
              "      <td>99.986381</td>\n",
              "    </tr>\n",
              "    <tr>\n",
              "      <th>albedo</th>\n",
              "      <td>albedo</td>\n",
              "      <td>0.909718</td>\n",
              "    </tr>\n",
              "    <tr>\n",
              "      <th>rot_per</th>\n",
              "      <td>rot_per</td>\n",
              "      <td>91.902419</td>\n",
              "    </tr>\n",
              "    <tr>\n",
              "      <th>GM</th>\n",
              "      <td>GM</td>\n",
              "      <td>99.988197</td>\n",
              "    </tr>\n",
              "    <tr>\n",
              "      <th>BV</th>\n",
              "      <td>BV</td>\n",
              "      <td>99.280941</td>\n",
              "    </tr>\n",
              "    <tr>\n",
              "      <th>UB</th>\n",
              "      <td>UB</td>\n",
              "      <td>99.307270</td>\n",
              "    </tr>\n",
              "    <tr>\n",
              "      <th>IR</th>\n",
              "      <td>IR</td>\n",
              "      <td>99.999092</td>\n",
              "    </tr>\n",
              "    <tr>\n",
              "      <th>spec_B</th>\n",
              "      <td>spec_B</td>\n",
              "      <td>99.004939</td>\n",
              "    </tr>\n",
              "    <tr>\n",
              "      <th>spec_T</th>\n",
              "      <td>spec_T</td>\n",
              "      <td>99.304547</td>\n",
              "    </tr>\n",
              "    <tr>\n",
              "      <th>neo</th>\n",
              "      <td>neo</td>\n",
              "      <td>0.000000</td>\n",
              "    </tr>\n",
              "    <tr>\n",
              "      <th>pha</th>\n",
              "      <td>pha</td>\n",
              "      <td>0.000000</td>\n",
              "    </tr>\n",
              "    <tr>\n",
              "      <th>moid</th>\n",
              "      <td>moid</td>\n",
              "      <td>0.000000</td>\n",
              "    </tr>\n",
              "  </tbody>\n",
              "</table>\n",
              "</div>\n",
              "      <button class=\"colab-df-convert\" onclick=\"convertToInteractive('df-11cf2dc8-495e-4d73-8700-f98833ddec23')\"\n",
              "              title=\"Convert this dataframe to an interactive table.\"\n",
              "              style=\"display:none;\">\n",
              "        \n",
              "  <svg xmlns=\"http://www.w3.org/2000/svg\" height=\"24px\"viewBox=\"0 0 24 24\"\n",
              "       width=\"24px\">\n",
              "    <path d=\"M0 0h24v24H0V0z\" fill=\"none\"/>\n",
              "    <path d=\"M18.56 5.44l.94 2.06.94-2.06 2.06-.94-2.06-.94-.94-2.06-.94 2.06-2.06.94zm-11 1L8.5 8.5l.94-2.06 2.06-.94-2.06-.94L8.5 2.5l-.94 2.06-2.06.94zm10 10l.94 2.06.94-2.06 2.06-.94-2.06-.94-.94-2.06-.94 2.06-2.06.94z\"/><path d=\"M17.41 7.96l-1.37-1.37c-.4-.4-.92-.59-1.43-.59-.52 0-1.04.2-1.43.59L10.3 9.45l-7.72 7.72c-.78.78-.78 2.05 0 2.83L4 21.41c.39.39.9.59 1.41.59.51 0 1.02-.2 1.41-.59l7.78-7.78 2.81-2.81c.8-.78.8-2.07 0-2.86zM5.41 20L4 18.59l7.72-7.72 1.47 1.35L5.41 20z\"/>\n",
              "  </svg>\n",
              "      </button>\n",
              "      \n",
              "  <style>\n",
              "    .colab-df-container {\n",
              "      display:flex;\n",
              "      flex-wrap:wrap;\n",
              "      gap: 12px;\n",
              "    }\n",
              "\n",
              "    .colab-df-convert {\n",
              "      background-color: #E8F0FE;\n",
              "      border: none;\n",
              "      border-radius: 50%;\n",
              "      cursor: pointer;\n",
              "      display: none;\n",
              "      fill: #1967D2;\n",
              "      height: 32px;\n",
              "      padding: 0 0 0 0;\n",
              "      width: 32px;\n",
              "    }\n",
              "\n",
              "    .colab-df-convert:hover {\n",
              "      background-color: #E2EBFA;\n",
              "      box-shadow: 0px 1px 2px rgba(60, 64, 67, 0.3), 0px 1px 3px 1px rgba(60, 64, 67, 0.15);\n",
              "      fill: #174EA6;\n",
              "    }\n",
              "\n",
              "    [theme=dark] .colab-df-convert {\n",
              "      background-color: #3B4455;\n",
              "      fill: #D2E3FC;\n",
              "    }\n",
              "\n",
              "    [theme=dark] .colab-df-convert:hover {\n",
              "      background-color: #434B5C;\n",
              "      box-shadow: 0px 1px 3px 1px rgba(0, 0, 0, 0.15);\n",
              "      filter: drop-shadow(0px 1px 2px rgba(0, 0, 0, 0.3));\n",
              "      fill: #FFFFFF;\n",
              "    }\n",
              "  </style>\n",
              "\n",
              "      <script>\n",
              "        const buttonEl =\n",
              "          document.querySelector('#df-11cf2dc8-495e-4d73-8700-f98833ddec23 button.colab-df-convert');\n",
              "        buttonEl.style.display =\n",
              "          google.colab.kernel.accessAllowed ? 'block' : 'none';\n",
              "\n",
              "        async function convertToInteractive(key) {\n",
              "          const element = document.querySelector('#df-11cf2dc8-495e-4d73-8700-f98833ddec23');\n",
              "          const dataTable =\n",
              "            await google.colab.kernel.invokeFunction('convertToInteractive',\n",
              "                                                     [key], {});\n",
              "          if (!dataTable) return;\n",
              "\n",
              "          const docLinkHtml = 'Like what you see? Visit the ' +\n",
              "            '<a target=\"_blank\" href=https://colab.research.google.com/notebooks/data_table.ipynb>data table notebook</a>'\n",
              "            + ' to learn more about interactive tables.';\n",
              "          element.innerHTML = '';\n",
              "          dataTable['output_type'] = 'display_data';\n",
              "          await google.colab.output.renderOutput(dataTable, element);\n",
              "          const docLink = document.createElement('div');\n",
              "          docLink.innerHTML = docLinkHtml;\n",
              "          element.appendChild(docLink);\n",
              "        }\n",
              "      </script>\n",
              "    </div>\n",
              "  </div>\n",
              "  "
            ]
          },
          "metadata": {},
          "execution_count": 247
        }
      ]
    },
    {
      "cell_type": "markdown",
      "source": [
        "**Dropping columns which has more than 90% of missing values**"
      ],
      "metadata": {
        "id": "n_rFlV5xFcGt"
      }
    },
    {
      "cell_type": "code",
      "source": [
        "dropCols = missing_value[\"column\"][missing_value[\"percent_missing\"]>90]"
      ],
      "metadata": {
        "id": "1MJuW21f6Nt7"
      },
      "execution_count": 248,
      "outputs": []
    },
    {
      "cell_type": "code",
      "source": [
        "dtf_train.drop(columns = dropCols , inplace = True)\n",
        "dtf_test.drop(columns = dropCols , inplace = True)"
      ],
      "metadata": {
        "id": "KaRLApwJ66Ek"
      },
      "execution_count": 249,
      "outputs": []
    },
    {
      "cell_type": "markdown",
      "source": [
        "Drop 'full_name' col"
      ],
      "metadata": {
        "id": "MOEIThcEF78m"
      }
    },
    {
      "cell_type": "code",
      "source": [
        "dtf_train = dtf_train.drop(['full_name'], axis=1)\n",
        "dtf_test = dtf_test.drop(['full_name'], axis=1)"
      ],
      "metadata": {
        "id": "jpUrB_nCUS3L"
      },
      "execution_count": 250,
      "outputs": []
    },
    {
      "cell_type": "markdown",
      "source": [
        "**missing values**"
      ],
      "metadata": {
        "id": "6NbsKDBMGHd7"
      }
    },
    {
      "cell_type": "code",
      "source": [
        "dtf_train.isna().sum()"
      ],
      "metadata": {
        "id": "KafPqC5w7UUJ",
        "colab": {
          "base_uri": "https://localhost:8080/"
        },
        "outputId": "778bbff0-5233-4069-a24c-52bf5f9352b0"
      },
      "execution_count": 251,
      "outputs": [
        {
          "output_type": "execute_result",
          "data": {
            "text/plain": [
              "semi-major axis                       0\n",
              "eccentricity                          0\n",
              "Inclination with ecliptic plane       0\n",
              "Longitude of the ascending node       0\n",
              "argument of perihelion                0\n",
              "perihelion distance(au)               0\n",
              "aphelion distance(au)                 0\n",
              "Orbital period                        0\n",
              "data arc-span(d)                    113\n",
              "Orbit condition code                  0\n",
              "number of observations used           0\n",
              "Absolute Magnitude parameter        613\n",
              "diameter                              0\n",
              "albedo                             1002\n",
              "neo                                   0\n",
              "pha                                   0\n",
              "moid                                  0\n",
              "dtype: int64"
            ]
          },
          "metadata": {},
          "execution_count": 251
        }
      ]
    },
    {
      "cell_type": "code",
      "source": [
        "dtf_train.dtypes"
      ],
      "metadata": {
        "id": "0JcY2awr7eMX",
        "colab": {
          "base_uri": "https://localhost:8080/"
        },
        "outputId": "8f58716c-430c-48fe-dab4-0accd703b738"
      },
      "execution_count": 252,
      "outputs": [
        {
          "output_type": "execute_result",
          "data": {
            "text/plain": [
              "semi-major axis                    float64\n",
              "eccentricity                       float64\n",
              "Inclination with ecliptic plane    float64\n",
              "Longitude of the ascending node    float64\n",
              "argument of perihelion             float64\n",
              "perihelion distance(au)            float64\n",
              "aphelion distance(au)              float64\n",
              "Orbital period                     float64\n",
              "data arc-span(d)                   float64\n",
              "Orbit condition code                object\n",
              "number of observations used          int64\n",
              "Absolute Magnitude parameter       float64\n",
              "diameter                            object\n",
              "albedo                             float64\n",
              "neo                                 object\n",
              "pha                                 object\n",
              "moid                               float64\n",
              "dtype: object"
            ]
          },
          "metadata": {},
          "execution_count": 252
        }
      ]
    },
    {
      "cell_type": "code",
      "source": [
        "nan_cols_contiguous = ['data arc-span(d)', 'Absolute Magnitude parameter', 'albedo']"
      ],
      "metadata": {
        "id": "D-RBKosn7cCo"
      },
      "execution_count": 253,
      "outputs": []
    },
    {
      "cell_type": "code",
      "source": [
        "dtf_train = dtf_train.astype({'diameter': 'float64'})\n",
        "dtf_test= dtf_test.astype({'diameter': 'float64'})"
      ],
      "metadata": {
        "id": "pArVS5TYCv6g"
      },
      "execution_count": 254,
      "outputs": []
    },
    {
      "cell_type": "code",
      "source": [
        "# tf_train = dtf_train.dropna(axis=0, subset=['diameter'])\n",
        "# tf_test = dtf_test.dropna(axis=0, subset=['diameter'])"
      ],
      "metadata": {
        "id": "CAtANumj16kP"
      },
      "execution_count": 255,
      "outputs": []
    },
    {
      "cell_type": "code",
      "source": [
        "dtf_train['data arc-span(d)'].value_counts()"
      ],
      "metadata": {
        "id": "-y0toSrm8XG8",
        "colab": {
          "base_uri": "https://localhost:8080/"
        },
        "outputId": "d264c061-d6fc-41a1-e2cc-d78aa703c107"
      },
      "execution_count": 256,
      "outputs": [
        {
          "output_type": "execute_result",
          "data": {
            "text/plain": [
              "1.0        3436\n",
              "2.0        1447\n",
              "7150.0      118\n",
              "5.0         106\n",
              "4.0          92\n",
              "           ... \n",
              "17515.0       1\n",
              "17711.0       1\n",
              "14090.0       1\n",
              "3650.0        1\n",
              "28734.0       1\n",
              "Name: data arc-span(d), Length: 18124, dtype: int64"
            ]
          },
          "metadata": {},
          "execution_count": 256
        }
      ]
    },
    {
      "cell_type": "code",
      "source": [
        "#categorical_variables = ['Orbit condition code', 'neo', 'pha']"
      ],
      "metadata": {
        "id": "A9n4MeYkCEOY"
      },
      "execution_count": 257,
      "outputs": []
    },
    {
      "cell_type": "markdown",
      "source": [
        "## Dealing with Categorical variables\n"
      ],
      "metadata": {
        "collapsed": false,
        "pycharm": {
          "name": "#%% md\n"
        },
        "id": "8GBZ40fKR7ux"
      }
    },
    {
      "cell_type": "markdown",
      "source": [
        "Converting all categorical columns into binary columns"
      ],
      "metadata": {
        "id": "dEixQZlnKa8w"
      }
    },
    {
      "cell_type": "code",
      "source": [
        "categorical_data = dtf_train.select_dtypes(include=['object']).copy()\n",
        "categorical_data_test = dtf_test.select_dtypes(include=['object']).copy()\n",
        "categorical_data "
      ],
      "metadata": {
        "id": "3CaxVyNwT7G-",
        "colab": {
          "base_uri": "https://localhost:8080/",
          "height": 423
        },
        "outputId": "6dd40cf3-e919-4e90-c6ab-a6013ad1da55"
      },
      "execution_count": 258,
      "outputs": [
        {
          "output_type": "execute_result",
          "data": {
            "text/plain": [
              "       Orbit condition code neo pha\n",
              "136735                  0.0   N   N\n",
              "621690                  9.0   N   N\n",
              "14856                     0   N   N\n",
              "160495                  0.0   N   N\n",
              "66512                     0   N   N\n",
              "...                     ...  ..  ..\n",
              "248398                    0   N   N\n",
              "147909                  0.0   N   N\n",
              "407322                    0   N   N\n",
              "224482                    0   N   N\n",
              "168604                    0   N   N\n",
              "\n",
              "[110144 rows x 3 columns]"
            ],
            "text/html": [
              "\n",
              "  <div id=\"df-4eeb77bd-5df3-471b-a5ac-31eb0e3b38a6\">\n",
              "    <div class=\"colab-df-container\">\n",
              "      <div>\n",
              "<style scoped>\n",
              "    .dataframe tbody tr th:only-of-type {\n",
              "        vertical-align: middle;\n",
              "    }\n",
              "\n",
              "    .dataframe tbody tr th {\n",
              "        vertical-align: top;\n",
              "    }\n",
              "\n",
              "    .dataframe thead th {\n",
              "        text-align: right;\n",
              "    }\n",
              "</style>\n",
              "<table border=\"1\" class=\"dataframe\">\n",
              "  <thead>\n",
              "    <tr style=\"text-align: right;\">\n",
              "      <th></th>\n",
              "      <th>Orbit condition code</th>\n",
              "      <th>neo</th>\n",
              "      <th>pha</th>\n",
              "    </tr>\n",
              "  </thead>\n",
              "  <tbody>\n",
              "    <tr>\n",
              "      <th>136735</th>\n",
              "      <td>0.0</td>\n",
              "      <td>N</td>\n",
              "      <td>N</td>\n",
              "    </tr>\n",
              "    <tr>\n",
              "      <th>621690</th>\n",
              "      <td>9.0</td>\n",
              "      <td>N</td>\n",
              "      <td>N</td>\n",
              "    </tr>\n",
              "    <tr>\n",
              "      <th>14856</th>\n",
              "      <td>0</td>\n",
              "      <td>N</td>\n",
              "      <td>N</td>\n",
              "    </tr>\n",
              "    <tr>\n",
              "      <th>160495</th>\n",
              "      <td>0.0</td>\n",
              "      <td>N</td>\n",
              "      <td>N</td>\n",
              "    </tr>\n",
              "    <tr>\n",
              "      <th>66512</th>\n",
              "      <td>0</td>\n",
              "      <td>N</td>\n",
              "      <td>N</td>\n",
              "    </tr>\n",
              "    <tr>\n",
              "      <th>...</th>\n",
              "      <td>...</td>\n",
              "      <td>...</td>\n",
              "      <td>...</td>\n",
              "    </tr>\n",
              "    <tr>\n",
              "      <th>248398</th>\n",
              "      <td>0</td>\n",
              "      <td>N</td>\n",
              "      <td>N</td>\n",
              "    </tr>\n",
              "    <tr>\n",
              "      <th>147909</th>\n",
              "      <td>0.0</td>\n",
              "      <td>N</td>\n",
              "      <td>N</td>\n",
              "    </tr>\n",
              "    <tr>\n",
              "      <th>407322</th>\n",
              "      <td>0</td>\n",
              "      <td>N</td>\n",
              "      <td>N</td>\n",
              "    </tr>\n",
              "    <tr>\n",
              "      <th>224482</th>\n",
              "      <td>0</td>\n",
              "      <td>N</td>\n",
              "      <td>N</td>\n",
              "    </tr>\n",
              "    <tr>\n",
              "      <th>168604</th>\n",
              "      <td>0</td>\n",
              "      <td>N</td>\n",
              "      <td>N</td>\n",
              "    </tr>\n",
              "  </tbody>\n",
              "</table>\n",
              "<p>110144 rows × 3 columns</p>\n",
              "</div>\n",
              "      <button class=\"colab-df-convert\" onclick=\"convertToInteractive('df-4eeb77bd-5df3-471b-a5ac-31eb0e3b38a6')\"\n",
              "              title=\"Convert this dataframe to an interactive table.\"\n",
              "              style=\"display:none;\">\n",
              "        \n",
              "  <svg xmlns=\"http://www.w3.org/2000/svg\" height=\"24px\"viewBox=\"0 0 24 24\"\n",
              "       width=\"24px\">\n",
              "    <path d=\"M0 0h24v24H0V0z\" fill=\"none\"/>\n",
              "    <path d=\"M18.56 5.44l.94 2.06.94-2.06 2.06-.94-2.06-.94-.94-2.06-.94 2.06-2.06.94zm-11 1L8.5 8.5l.94-2.06 2.06-.94-2.06-.94L8.5 2.5l-.94 2.06-2.06.94zm10 10l.94 2.06.94-2.06 2.06-.94-2.06-.94-.94-2.06-.94 2.06-2.06.94z\"/><path d=\"M17.41 7.96l-1.37-1.37c-.4-.4-.92-.59-1.43-.59-.52 0-1.04.2-1.43.59L10.3 9.45l-7.72 7.72c-.78.78-.78 2.05 0 2.83L4 21.41c.39.39.9.59 1.41.59.51 0 1.02-.2 1.41-.59l7.78-7.78 2.81-2.81c.8-.78.8-2.07 0-2.86zM5.41 20L4 18.59l7.72-7.72 1.47 1.35L5.41 20z\"/>\n",
              "  </svg>\n",
              "      </button>\n",
              "      \n",
              "  <style>\n",
              "    .colab-df-container {\n",
              "      display:flex;\n",
              "      flex-wrap:wrap;\n",
              "      gap: 12px;\n",
              "    }\n",
              "\n",
              "    .colab-df-convert {\n",
              "      background-color: #E8F0FE;\n",
              "      border: none;\n",
              "      border-radius: 50%;\n",
              "      cursor: pointer;\n",
              "      display: none;\n",
              "      fill: #1967D2;\n",
              "      height: 32px;\n",
              "      padding: 0 0 0 0;\n",
              "      width: 32px;\n",
              "    }\n",
              "\n",
              "    .colab-df-convert:hover {\n",
              "      background-color: #E2EBFA;\n",
              "      box-shadow: 0px 1px 2px rgba(60, 64, 67, 0.3), 0px 1px 3px 1px rgba(60, 64, 67, 0.15);\n",
              "      fill: #174EA6;\n",
              "    }\n",
              "\n",
              "    [theme=dark] .colab-df-convert {\n",
              "      background-color: #3B4455;\n",
              "      fill: #D2E3FC;\n",
              "    }\n",
              "\n",
              "    [theme=dark] .colab-df-convert:hover {\n",
              "      background-color: #434B5C;\n",
              "      box-shadow: 0px 1px 3px 1px rgba(0, 0, 0, 0.15);\n",
              "      filter: drop-shadow(0px 1px 2px rgba(0, 0, 0, 0.3));\n",
              "      fill: #FFFFFF;\n",
              "    }\n",
              "  </style>\n",
              "\n",
              "      <script>\n",
              "        const buttonEl =\n",
              "          document.querySelector('#df-4eeb77bd-5df3-471b-a5ac-31eb0e3b38a6 button.colab-df-convert');\n",
              "        buttonEl.style.display =\n",
              "          google.colab.kernel.accessAllowed ? 'block' : 'none';\n",
              "\n",
              "        async function convertToInteractive(key) {\n",
              "          const element = document.querySelector('#df-4eeb77bd-5df3-471b-a5ac-31eb0e3b38a6');\n",
              "          const dataTable =\n",
              "            await google.colab.kernel.invokeFunction('convertToInteractive',\n",
              "                                                     [key], {});\n",
              "          if (!dataTable) return;\n",
              "\n",
              "          const docLinkHtml = 'Like what you see? Visit the ' +\n",
              "            '<a target=\"_blank\" href=https://colab.research.google.com/notebooks/data_table.ipynb>data table notebook</a>'\n",
              "            + ' to learn more about interactive tables.';\n",
              "          element.innerHTML = '';\n",
              "          dataTable['output_type'] = 'display_data';\n",
              "          await google.colab.output.renderOutput(dataTable, element);\n",
              "          const docLink = document.createElement('div');\n",
              "          docLink.innerHTML = docLinkHtml;\n",
              "          element.appendChild(docLink);\n",
              "        }\n",
              "      </script>\n",
              "    </div>\n",
              "  </div>\n",
              "  "
            ]
          },
          "metadata": {},
          "execution_count": 258
        }
      ]
    },
    {
      "cell_type": "markdown",
      "source": [
        "\"One Hot\" encoding"
      ],
      "metadata": {
        "id": "uqsKpDk4KlYi"
      }
    },
    {
      "cell_type": "code",
      "execution_count": 259,
      "outputs": [],
      "source": [
        "#categorical_data = real_diameter_df.select_dtypes(include=['object']).copy()\n",
        "new_columns = pd.get_dummies(categorical_data, columns=categorical_data.columns, drop_first=True)\n",
        "new_columns_test = pd.get_dummies(categorical_data_test, columns=categorical_data_test.columns, drop_first=True)"
      ],
      "metadata": {
        "pycharm": {
          "name": "#%%\n"
        },
        "id": "PCVW0DxUR7uy"
      }
    },
    {
      "cell_type": "markdown",
      "source": [
        "**Define the same columns on train and test**"
      ],
      "metadata": {
        "id": "Ioo733I9H-Lt"
      }
    },
    {
      "cell_type": "code",
      "source": [
        "new_columns, new_columns_test = new_columns.align(new_columns_test, join='left', axis=1)"
      ],
      "metadata": {
        "id": "uWV4n7zzJPsr"
      },
      "execution_count": 260,
      "outputs": []
    },
    {
      "cell_type": "code",
      "source": [
        "new_columns = new_columns.fillna(0)\n",
        "new_columns_test = new_columns_test.fillna(0)"
      ],
      "metadata": {
        "id": "igU_JTBuJrV3"
      },
      "execution_count": 261,
      "outputs": []
    },
    {
      "cell_type": "markdown",
      "source": [
        "**Drop original categorical cols**"
      ],
      "metadata": {
        "id": "5WGbgWLJJSxO"
      }
    },
    {
      "cell_type": "code",
      "source": [
        "dtf_train = dtf_train.drop(categorical_data.columns, axis = 1)\n",
        "dtf_test = dtf_test.drop(categorical_data_test.columns, axis = 1)"
      ],
      "metadata": {
        "id": "UWSRmRfqU-7g"
      },
      "execution_count": 262,
      "outputs": []
    },
    {
      "cell_type": "code",
      "execution_count": 263,
      "outputs": [
        {
          "output_type": "execute_result",
          "data": {
            "text/plain": [
              "        semi-major axis  eccentricity  Inclination with ecliptic plane  \\\n",
              "136735         3.190421      0.143728                         6.841339   \n",
              "621690         2.002942      0.143786                         8.778288   \n",
              "14856          2.594598      0.283532                        16.978259   \n",
              "160495         3.217366      0.150394                        19.166015   \n",
              "66512          2.568345      0.189669                        11.698549   \n",
              "\n",
              "        Longitude of the ascending node  argument of perihelion  \\\n",
              "136735                        69.656155              253.416745   \n",
              "621690                       265.342100                8.285577   \n",
              "14856                        173.241306              221.557780   \n",
              "160495                       167.199938              277.734416   \n",
              "66512                        156.381892              140.576449   \n",
              "\n",
              "        perihelion distance(au)  aphelion distance(au)  Orbital period  \\\n",
              "136735                 2.731869               3.648973        5.698757   \n",
              "621690                 1.714947               2.290937        2.834724   \n",
              "14856                  1.858945               3.330250        4.179393   \n",
              "160495                 2.733494               3.701237        5.771103   \n",
              "66512                  2.081209               3.055480        4.116121   \n",
              "\n",
              "        data arc-span(d)  number of observations used  ...  \\\n",
              "136735            9415.0                          297  ...   \n",
              "621690               2.0                            7  ...   \n",
              "14856            10718.0                         1183  ...   \n",
              "160495            7150.0                          317  ...   \n",
              "66512             7834.0                          986  ...   \n",
              "\n",
              "        Orbit condition code_2  Orbit condition code_3  \\\n",
              "136735                       0                       0   \n",
              "621690                       0                       0   \n",
              "14856                        0                       0   \n",
              "160495                       0                       0   \n",
              "66512                        0                       0   \n",
              "\n",
              "        Orbit condition code_4  Orbit condition code_5  \\\n",
              "136735                       0                       0   \n",
              "621690                       0                       0   \n",
              "14856                        0                       0   \n",
              "160495                       0                       0   \n",
              "66512                        0                       0   \n",
              "\n",
              "        Orbit condition code_6  Orbit condition code_7  \\\n",
              "136735                       0                       0   \n",
              "621690                       0                       0   \n",
              "14856                        0                       0   \n",
              "160495                       0                       0   \n",
              "66512                        0                       0   \n",
              "\n",
              "        Orbit condition code_8  Orbit condition code_9  neo_Y  pha_Y  \n",
              "136735                       0                       0      0      0  \n",
              "621690                       0                       0      0      0  \n",
              "14856                        0                       0      0      0  \n",
              "160495                       0                       0      0      0  \n",
              "66512                        0                       0      0      0  \n",
              "\n",
              "[5 rows x 35 columns]"
            ],
            "text/html": [
              "\n",
              "  <div id=\"df-90def919-0a37-4f9d-be08-99b4b2e8467a\">\n",
              "    <div class=\"colab-df-container\">\n",
              "      <div>\n",
              "<style scoped>\n",
              "    .dataframe tbody tr th:only-of-type {\n",
              "        vertical-align: middle;\n",
              "    }\n",
              "\n",
              "    .dataframe tbody tr th {\n",
              "        vertical-align: top;\n",
              "    }\n",
              "\n",
              "    .dataframe thead th {\n",
              "        text-align: right;\n",
              "    }\n",
              "</style>\n",
              "<table border=\"1\" class=\"dataframe\">\n",
              "  <thead>\n",
              "    <tr style=\"text-align: right;\">\n",
              "      <th></th>\n",
              "      <th>semi-major axis</th>\n",
              "      <th>eccentricity</th>\n",
              "      <th>Inclination with ecliptic plane</th>\n",
              "      <th>Longitude of the ascending node</th>\n",
              "      <th>argument of perihelion</th>\n",
              "      <th>perihelion distance(au)</th>\n",
              "      <th>aphelion distance(au)</th>\n",
              "      <th>Orbital period</th>\n",
              "      <th>data arc-span(d)</th>\n",
              "      <th>number of observations used</th>\n",
              "      <th>...</th>\n",
              "      <th>Orbit condition code_2</th>\n",
              "      <th>Orbit condition code_3</th>\n",
              "      <th>Orbit condition code_4</th>\n",
              "      <th>Orbit condition code_5</th>\n",
              "      <th>Orbit condition code_6</th>\n",
              "      <th>Orbit condition code_7</th>\n",
              "      <th>Orbit condition code_8</th>\n",
              "      <th>Orbit condition code_9</th>\n",
              "      <th>neo_Y</th>\n",
              "      <th>pha_Y</th>\n",
              "    </tr>\n",
              "  </thead>\n",
              "  <tbody>\n",
              "    <tr>\n",
              "      <th>136735</th>\n",
              "      <td>3.190421</td>\n",
              "      <td>0.143728</td>\n",
              "      <td>6.841339</td>\n",
              "      <td>69.656155</td>\n",
              "      <td>253.416745</td>\n",
              "      <td>2.731869</td>\n",
              "      <td>3.648973</td>\n",
              "      <td>5.698757</td>\n",
              "      <td>9415.0</td>\n",
              "      <td>297</td>\n",
              "      <td>...</td>\n",
              "      <td>0</td>\n",
              "      <td>0</td>\n",
              "      <td>0</td>\n",
              "      <td>0</td>\n",
              "      <td>0</td>\n",
              "      <td>0</td>\n",
              "      <td>0</td>\n",
              "      <td>0</td>\n",
              "      <td>0</td>\n",
              "      <td>0</td>\n",
              "    </tr>\n",
              "    <tr>\n",
              "      <th>621690</th>\n",
              "      <td>2.002942</td>\n",
              "      <td>0.143786</td>\n",
              "      <td>8.778288</td>\n",
              "      <td>265.342100</td>\n",
              "      <td>8.285577</td>\n",
              "      <td>1.714947</td>\n",
              "      <td>2.290937</td>\n",
              "      <td>2.834724</td>\n",
              "      <td>2.0</td>\n",
              "      <td>7</td>\n",
              "      <td>...</td>\n",
              "      <td>0</td>\n",
              "      <td>0</td>\n",
              "      <td>0</td>\n",
              "      <td>0</td>\n",
              "      <td>0</td>\n",
              "      <td>0</td>\n",
              "      <td>0</td>\n",
              "      <td>0</td>\n",
              "      <td>0</td>\n",
              "      <td>0</td>\n",
              "    </tr>\n",
              "    <tr>\n",
              "      <th>14856</th>\n",
              "      <td>2.594598</td>\n",
              "      <td>0.283532</td>\n",
              "      <td>16.978259</td>\n",
              "      <td>173.241306</td>\n",
              "      <td>221.557780</td>\n",
              "      <td>1.858945</td>\n",
              "      <td>3.330250</td>\n",
              "      <td>4.179393</td>\n",
              "      <td>10718.0</td>\n",
              "      <td>1183</td>\n",
              "      <td>...</td>\n",
              "      <td>0</td>\n",
              "      <td>0</td>\n",
              "      <td>0</td>\n",
              "      <td>0</td>\n",
              "      <td>0</td>\n",
              "      <td>0</td>\n",
              "      <td>0</td>\n",
              "      <td>0</td>\n",
              "      <td>0</td>\n",
              "      <td>0</td>\n",
              "    </tr>\n",
              "    <tr>\n",
              "      <th>160495</th>\n",
              "      <td>3.217366</td>\n",
              "      <td>0.150394</td>\n",
              "      <td>19.166015</td>\n",
              "      <td>167.199938</td>\n",
              "      <td>277.734416</td>\n",
              "      <td>2.733494</td>\n",
              "      <td>3.701237</td>\n",
              "      <td>5.771103</td>\n",
              "      <td>7150.0</td>\n",
              "      <td>317</td>\n",
              "      <td>...</td>\n",
              "      <td>0</td>\n",
              "      <td>0</td>\n",
              "      <td>0</td>\n",
              "      <td>0</td>\n",
              "      <td>0</td>\n",
              "      <td>0</td>\n",
              "      <td>0</td>\n",
              "      <td>0</td>\n",
              "      <td>0</td>\n",
              "      <td>0</td>\n",
              "    </tr>\n",
              "    <tr>\n",
              "      <th>66512</th>\n",
              "      <td>2.568345</td>\n",
              "      <td>0.189669</td>\n",
              "      <td>11.698549</td>\n",
              "      <td>156.381892</td>\n",
              "      <td>140.576449</td>\n",
              "      <td>2.081209</td>\n",
              "      <td>3.055480</td>\n",
              "      <td>4.116121</td>\n",
              "      <td>7834.0</td>\n",
              "      <td>986</td>\n",
              "      <td>...</td>\n",
              "      <td>0</td>\n",
              "      <td>0</td>\n",
              "      <td>0</td>\n",
              "      <td>0</td>\n",
              "      <td>0</td>\n",
              "      <td>0</td>\n",
              "      <td>0</td>\n",
              "      <td>0</td>\n",
              "      <td>0</td>\n",
              "      <td>0</td>\n",
              "    </tr>\n",
              "  </tbody>\n",
              "</table>\n",
              "<p>5 rows × 35 columns</p>\n",
              "</div>\n",
              "      <button class=\"colab-df-convert\" onclick=\"convertToInteractive('df-90def919-0a37-4f9d-be08-99b4b2e8467a')\"\n",
              "              title=\"Convert this dataframe to an interactive table.\"\n",
              "              style=\"display:none;\">\n",
              "        \n",
              "  <svg xmlns=\"http://www.w3.org/2000/svg\" height=\"24px\"viewBox=\"0 0 24 24\"\n",
              "       width=\"24px\">\n",
              "    <path d=\"M0 0h24v24H0V0z\" fill=\"none\"/>\n",
              "    <path d=\"M18.56 5.44l.94 2.06.94-2.06 2.06-.94-2.06-.94-.94-2.06-.94 2.06-2.06.94zm-11 1L8.5 8.5l.94-2.06 2.06-.94-2.06-.94L8.5 2.5l-.94 2.06-2.06.94zm10 10l.94 2.06.94-2.06 2.06-.94-2.06-.94-.94-2.06-.94 2.06-2.06.94z\"/><path d=\"M17.41 7.96l-1.37-1.37c-.4-.4-.92-.59-1.43-.59-.52 0-1.04.2-1.43.59L10.3 9.45l-7.72 7.72c-.78.78-.78 2.05 0 2.83L4 21.41c.39.39.9.59 1.41.59.51 0 1.02-.2 1.41-.59l7.78-7.78 2.81-2.81c.8-.78.8-2.07 0-2.86zM5.41 20L4 18.59l7.72-7.72 1.47 1.35L5.41 20z\"/>\n",
              "  </svg>\n",
              "      </button>\n",
              "      \n",
              "  <style>\n",
              "    .colab-df-container {\n",
              "      display:flex;\n",
              "      flex-wrap:wrap;\n",
              "      gap: 12px;\n",
              "    }\n",
              "\n",
              "    .colab-df-convert {\n",
              "      background-color: #E8F0FE;\n",
              "      border: none;\n",
              "      border-radius: 50%;\n",
              "      cursor: pointer;\n",
              "      display: none;\n",
              "      fill: #1967D2;\n",
              "      height: 32px;\n",
              "      padding: 0 0 0 0;\n",
              "      width: 32px;\n",
              "    }\n",
              "\n",
              "    .colab-df-convert:hover {\n",
              "      background-color: #E2EBFA;\n",
              "      box-shadow: 0px 1px 2px rgba(60, 64, 67, 0.3), 0px 1px 3px 1px rgba(60, 64, 67, 0.15);\n",
              "      fill: #174EA6;\n",
              "    }\n",
              "\n",
              "    [theme=dark] .colab-df-convert {\n",
              "      background-color: #3B4455;\n",
              "      fill: #D2E3FC;\n",
              "    }\n",
              "\n",
              "    [theme=dark] .colab-df-convert:hover {\n",
              "      background-color: #434B5C;\n",
              "      box-shadow: 0px 1px 3px 1px rgba(0, 0, 0, 0.15);\n",
              "      filter: drop-shadow(0px 1px 2px rgba(0, 0, 0, 0.3));\n",
              "      fill: #FFFFFF;\n",
              "    }\n",
              "  </style>\n",
              "\n",
              "      <script>\n",
              "        const buttonEl =\n",
              "          document.querySelector('#df-90def919-0a37-4f9d-be08-99b4b2e8467a button.colab-df-convert');\n",
              "        buttonEl.style.display =\n",
              "          google.colab.kernel.accessAllowed ? 'block' : 'none';\n",
              "\n",
              "        async function convertToInteractive(key) {\n",
              "          const element = document.querySelector('#df-90def919-0a37-4f9d-be08-99b4b2e8467a');\n",
              "          const dataTable =\n",
              "            await google.colab.kernel.invokeFunction('convertToInteractive',\n",
              "                                                     [key], {});\n",
              "          if (!dataTable) return;\n",
              "\n",
              "          const docLinkHtml = 'Like what you see? Visit the ' +\n",
              "            '<a target=\"_blank\" href=https://colab.research.google.com/notebooks/data_table.ipynb>data table notebook</a>'\n",
              "            + ' to learn more about interactive tables.';\n",
              "          element.innerHTML = '';\n",
              "          dataTable['output_type'] = 'display_data';\n",
              "          await google.colab.output.renderOutput(dataTable, element);\n",
              "          const docLink = document.createElement('div');\n",
              "          docLink.innerHTML = docLinkHtml;\n",
              "          element.appendChild(docLink);\n",
              "        }\n",
              "      </script>\n",
              "    </div>\n",
              "  </div>\n",
              "  "
            ]
          },
          "metadata": {},
          "execution_count": 263
        }
      ],
      "source": [
        "model_df_train = pd.concat([dtf_train, new_columns], axis=1)\n",
        "model_df_test = pd.concat([dtf_test, new_columns_test], axis=1)\n",
        "model_df_train.head()"
      ],
      "metadata": {
        "pycharm": {
          "name": "#%%\n"
        },
        "id": "n6tnVPK3R7uy",
        "colab": {
          "base_uri": "https://localhost:8080/",
          "height": 351
        },
        "outputId": "f57fe4c7-8a34-4d08-fad0-a7ab08c9786a"
      }
    },
    {
      "cell_type": "code",
      "source": [
        "new_columns.shape"
      ],
      "metadata": {
        "id": "92XgDO_67ziG",
        "colab": {
          "base_uri": "https://localhost:8080/"
        },
        "outputId": "add8bc83-5208-453a-819e-5300cd35bb8c"
      },
      "execution_count": 264,
      "outputs": [
        {
          "output_type": "execute_result",
          "data": {
            "text/plain": [
              "(110144, 21)"
            ]
          },
          "metadata": {},
          "execution_count": 264
        }
      ]
    },
    {
      "cell_type": "code",
      "source": [
        "model_df_train.isna().sum()\n"
      ],
      "metadata": {
        "id": "2pSVXJ5q6_F7",
        "colab": {
          "base_uri": "https://localhost:8080/"
        },
        "outputId": "8560df5b-b2b9-4d2d-df6a-fa70e30a0529"
      },
      "execution_count": 265,
      "outputs": [
        {
          "output_type": "execute_result",
          "data": {
            "text/plain": [
              "semi-major axis                       0\n",
              "eccentricity                          0\n",
              "Inclination with ecliptic plane       0\n",
              "Longitude of the ascending node       0\n",
              "argument of perihelion                0\n",
              "perihelion distance(au)               0\n",
              "aphelion distance(au)                 0\n",
              "Orbital period                        0\n",
              "data arc-span(d)                    113\n",
              "number of observations used           0\n",
              "Absolute Magnitude parameter        613\n",
              "diameter                              0\n",
              "albedo                             1002\n",
              "moid                                  0\n",
              "Orbit condition code_1                0\n",
              "Orbit condition code_2.0              0\n",
              "Orbit condition code_3.0              0\n",
              "Orbit condition code_4.0              0\n",
              "Orbit condition code_5.0              0\n",
              "Orbit condition code_6.0              0\n",
              "Orbit condition code_7.0              0\n",
              "Orbit condition code_8.0              0\n",
              "Orbit condition code_9.0              0\n",
              "Orbit condition code_0                0\n",
              "Orbit condition code_1                0\n",
              "Orbit condition code_2                0\n",
              "Orbit condition code_3                0\n",
              "Orbit condition code_4                0\n",
              "Orbit condition code_5                0\n",
              "Orbit condition code_6                0\n",
              "Orbit condition code_7                0\n",
              "Orbit condition code_8                0\n",
              "Orbit condition code_9                0\n",
              "neo_Y                                 0\n",
              "pha_Y                                 0\n",
              "dtype: int64"
            ]
          },
          "metadata": {},
          "execution_count": 265
        }
      ]
    },
    {
      "cell_type": "code",
      "source": [
        "model_df_train.shape"
      ],
      "metadata": {
        "id": "svfPPJhy4m-a",
        "colab": {
          "base_uri": "https://localhost:8080/"
        },
        "outputId": "5c806d62-2ce2-41b2-fe58-2db4a0ddb157"
      },
      "execution_count": 266,
      "outputs": [
        {
          "output_type": "execute_result",
          "data": {
            "text/plain": [
              "(110144, 35)"
            ]
          },
          "metadata": {},
          "execution_count": 266
        }
      ]
    },
    {
      "cell_type": "code",
      "source": [
        "model_df_test.shape"
      ],
      "metadata": {
        "id": "RnpYDuZ54roS",
        "colab": {
          "base_uri": "https://localhost:8080/"
        },
        "outputId": "a129ef89-cc5d-4928-817e-db02879b16fb"
      },
      "execution_count": 267,
      "outputs": [
        {
          "output_type": "execute_result",
          "data": {
            "text/plain": [
              "(27537, 35)"
            ]
          },
          "metadata": {},
          "execution_count": 267
        }
      ]
    },
    {
      "cell_type": "code",
      "source": [
        "def predict_missing_values(nan_cols, model_df_train, model_df_test):\n",
        "\n",
        "  for arg in nan_cols:\n",
        "    model_copy = model_df_train.copy()\n",
        "    nan_cols_con_copy = nan_cols.copy()\n",
        "    nan_cols_con_copy.remove(arg)\n",
        "    model_copy = model_copy.drop(nan_cols_con_copy, axis=1)\n",
        "    test_data = model_copy[model_copy[arg].isnull()]\n",
        "    model_copy.dropna(inplace=True)\n",
        "\n",
        "    y_train = model_copy[arg]\n",
        "    X_train = model_copy.drop(arg, axis=1)\n",
        "    X_test = test_data.drop(arg, axis=1)\n",
        "    model = LinearRegression()\n",
        "    model.fit(X_train, y_train)\n",
        "    y_pred = model.predict(X_test)\n",
        "    model_df_train.loc[model_df_train[arg].isnull(), arg] = y_pred\n",
        "    #model_copy_test = model_df_test.copy()\n",
        "\n",
        "    test_data = model_df_test[model_df_test[arg].isnull()]\n",
        "    #y_pred_test = model.predict(model_df_test.drop(arg, axis=1))\n",
        "    y_pred_test = model.predict(test_data.drop(nan_cols, axis=1))\n",
        "    model_df_test.loc[model_df_test[arg].isnull(), arg] = y_pred_test\n"
      ],
      "metadata": {
        "id": "IGQCeFLHCNzO"
      },
      "execution_count": 268,
      "outputs": []
    },
    {
      "cell_type": "code",
      "source": [
        "predict_missing_values(nan_cols_contiguous, model_df_train, model_df_test)"
      ],
      "metadata": {
        "id": "0T0HV5xzLTnO"
      },
      "execution_count": 269,
      "outputs": []
    },
    {
      "cell_type": "code",
      "source": [
        "model_df_test.isna().sum()"
      ],
      "metadata": {
        "colab": {
          "base_uri": "https://localhost:8080/"
        },
        "id": "v0kxeMA-UefY",
        "outputId": "c92f292c-44d0-475f-c682-605607f0d049"
      },
      "execution_count": 270,
      "outputs": [
        {
          "output_type": "execute_result",
          "data": {
            "text/plain": [
              "semi-major axis                    0\n",
              "eccentricity                       0\n",
              "Inclination with ecliptic plane    0\n",
              "Longitude of the ascending node    0\n",
              "argument of perihelion             0\n",
              "perihelion distance(au)            0\n",
              "aphelion distance(au)              0\n",
              "Orbital period                     0\n",
              "data arc-span(d)                   0\n",
              "number of observations used        0\n",
              "Absolute Magnitude parameter       0\n",
              "diameter                           0\n",
              "albedo                             0\n",
              "moid                               0\n",
              "Orbit condition code_1             0\n",
              "Orbit condition code_2.0           0\n",
              "Orbit condition code_3.0           0\n",
              "Orbit condition code_4.0           0\n",
              "Orbit condition code_5.0           0\n",
              "Orbit condition code_6.0           0\n",
              "Orbit condition code_7.0           0\n",
              "Orbit condition code_8.0           0\n",
              "Orbit condition code_9.0           0\n",
              "Orbit condition code_0             0\n",
              "Orbit condition code_1             0\n",
              "Orbit condition code_2             0\n",
              "Orbit condition code_3             0\n",
              "Orbit condition code_4             0\n",
              "Orbit condition code_5             0\n",
              "Orbit condition code_6             0\n",
              "Orbit condition code_7             0\n",
              "Orbit condition code_8             0\n",
              "Orbit condition code_9             0\n",
              "neo_Y                              0\n",
              "pha_Y                              0\n",
              "dtype: int64"
            ]
          },
          "metadata": {},
          "execution_count": 270
        }
      ]
    },
    {
      "cell_type": "markdown",
      "metadata": {
        "id": "jRzMKpVv3u0Y"
      },
      "source": [
        "# Asteroids"
      ]
    },
    {
      "cell_type": "code",
      "execution_count": 271,
      "metadata": {
        "id": "TlLBvgm6wjIB"
      },
      "outputs": [],
      "source": [
        "# plt.figure(figsize=(20,17))\n",
        "# cor = model_df_train.corr()\n",
        "# sns.heatmap(model_df_train.corr(method='pearson'),annot=True)\n",
        "# plt.title(\"Correlation Between Features\")\n",
        "# plt.show()"
      ]
    },
    {
      "cell_type": "code",
      "execution_count": 272,
      "metadata": {
        "id": "mI3fSRt6ZPdD",
        "colab": {
          "base_uri": "https://localhost:8080/"
        },
        "outputId": "205846b5-070a-4b80-d23b-6f404c88ea9e"
      },
      "outputs": [
        {
          "output_type": "execute_result",
          "data": {
            "text/plain": [
              "2.613     39\n",
              "3.140     39\n",
              "3.473     38\n",
              "3.377     38\n",
              "3.111     37\n",
              "          ..\n",
              "13.265     1\n",
              "13.696     1\n",
              "9.648      1\n",
              "29.731     1\n",
              "7.417      1\n",
              "Name: diameter, Length: 15287, dtype: int64"
            ]
          },
          "metadata": {},
          "execution_count": 272
        }
      ],
      "source": [
        "model_df_train['diameter'].value_counts()"
      ]
    },
    {
      "cell_type": "markdown",
      "source": [
        "## Linear Regression"
      ],
      "metadata": {
        "collapsed": false,
        "pycharm": {
          "name": "#%% md\n"
        },
        "id": "xbhKf2zaR7u0"
      }
    },
    {
      "cell_type": "code",
      "source": [
        "y_train = model_df_train['diameter']\n",
        "X_train = model_df_train.drop(['diameter'], axis = 1)\n",
        "y_test = model_df_test['diameter']\n",
        "X_test = model_df_test.drop(['diameter'], axis = 1)"
      ],
      "metadata": {
        "id": "qihsMuSazxts"
      },
      "execution_count": 273,
      "outputs": []
    },
    {
      "cell_type": "code",
      "source": [
        "X_test.shape"
      ],
      "metadata": {
        "id": "46PU3wxh7kp4",
        "colab": {
          "base_uri": "https://localhost:8080/"
        },
        "outputId": "3acb0676-f225-4bf1-e2bd-4ac6c0c39f7a"
      },
      "execution_count": 274,
      "outputs": [
        {
          "output_type": "execute_result",
          "data": {
            "text/plain": [
              "(27537, 34)"
            ]
          },
          "metadata": {},
          "execution_count": 274
        }
      ]
    },
    {
      "cell_type": "code",
      "source": [
        "X_train.isna().sum().sum()"
      ],
      "metadata": {
        "id": "lgbAWQ3Y5uZU",
        "colab": {
          "base_uri": "https://localhost:8080/"
        },
        "outputId": "d4685fca-22d2-4dd0-e8f4-3ebddbeb29a9"
      },
      "execution_count": 275,
      "outputs": [
        {
          "output_type": "execute_result",
          "data": {
            "text/plain": [
              "0"
            ]
          },
          "metadata": {},
          "execution_count": 275
        }
      ]
    },
    {
      "cell_type": "code",
      "execution_count": 276,
      "outputs": [],
      "source": [
        "multi_reg = LinearRegression()\n",
        "multi_reg.fit(X_train , y_train)\n",
        "pred = multi_reg.predict(X_test)"
      ],
      "metadata": {
        "pycharm": {
          "name": "#%%\n"
        },
        "id": "d_9FHf0FR7u0"
      }
    },
    {
      "cell_type": "code",
      "execution_count": 277,
      "outputs": [
        {
          "output_type": "stream",
          "name": "stdout",
          "text": [
            "Training Accuracy :  0.45845271827269973\n",
            "Test Accuracy :  0.5230363793076928\n"
          ]
        }
      ],
      "source": [
        "print('Training Accuracy : ' , multi_reg.score(X_train, y_train))\n",
        "print('Test Accuracy : ' , multi_reg.score(X_test, y_test))"
      ],
      "metadata": {
        "pycharm": {
          "name": "#%%\n"
        },
        "id": "T2yVThaNR7u0",
        "colab": {
          "base_uri": "https://localhost:8080/"
        },
        "outputId": "dfb8cf84-839f-45a8-e538-a2e10e979df7"
      }
    },
    {
      "cell_type": "markdown",
      "source": [
        "## Random Forest Regression"
      ],
      "metadata": {
        "collapsed": false,
        "pycharm": {
          "name": "#%% md\n"
        },
        "id": "ks8uxRhUR7u0"
      }
    },
    {
      "cell_type": "code",
      "execution_count": 278,
      "outputs": [],
      "source": [
        "rf_model = RandomForestRegressor()\n",
        "rf_model.fit(X_train, y_train)\n",
        "y_pred = rf_model.predict(X_test)"
      ],
      "metadata": {
        "pycharm": {
          "name": "#%%\n",
          "is_executing": true
        },
        "id": "bNSNz-G5R7u1"
      }
    },
    {
      "cell_type": "code",
      "execution_count": 279,
      "outputs": [
        {
          "output_type": "stream",
          "name": "stdout",
          "text": [
            "Training Accuracy :  0.45845271827269973\n",
            "Test Accuracy :  0.5230363793076928\n"
          ]
        }
      ],
      "source": [
        "print('Training Accuracy : ' , multi_reg.score(X_train, y_train))\n",
        "print('Test Accuracy : ' , multi_reg.score(X_test, y_test))"
      ],
      "metadata": {
        "pycharm": {
          "name": "#%%\n",
          "is_executing": true
        },
        "id": "0ix5gDaqR7u1",
        "colab": {
          "base_uri": "https://localhost:8080/"
        },
        "outputId": "325c6d10-57f3-4233-8dd9-b57e4ba62a13"
      }
    }
  ],
  "metadata": {
    "colab": {
      "collapsed_sections": [],
      "name": "Asteroid_notebook_predict.ipynb",
      "provenance": []
    },
    "kernelspec": {
      "display_name": "Python 3 (ipykernel)",
      "language": "python",
      "name": "python3"
    },
    "language_info": {
      "codemirror_mode": {
        "name": "ipython",
        "version": 3
      },
      "file_extension": ".py",
      "mimetype": "text/x-python",
      "name": "python",
      "nbconvert_exporter": "python",
      "pygments_lexer": "ipython3",
      "version": "3.9.7"
    }
  },
  "nbformat": 4,
  "nbformat_minor": 0
}