{
  "cells": [
    {
      "cell_type": "markdown",
      "metadata": {
        "id": "e46jmT5PvwGQ"
      },
      "source": [
        "# **Asteroid Prediction**\n"
      ]
    },
    {
      "cell_type": "markdown",
      "metadata": {
        "id": "ZBH8DG2uwVdK"
      },
      "source": [
        "# Import Python Libraries"
      ]
    },
    {
      "cell_type": "code",
      "execution_count": 421,
      "metadata": {
        "id": "f5wQSSrmvsmE"
      },
      "outputs": [],
      "source": [
        "import pandas as pd\n",
        "import numpy as np\n",
        "import seaborn as sns\n",
        "import matplotlib.pyplot as plt\n",
        "%matplotlib inline\n",
        "import sklearn\n",
        "import matplotlib.pyplot as plt\n",
        "import warnings\n",
        "warnings.filterwarnings(\"ignore\")"
      ]
    },
    {
      "cell_type": "markdown",
      "metadata": {
        "id": "eummGGzew4M9"
      },
      "source": [
        "# Reading the Asteroid Dataset"
      ]
    },
    {
      "cell_type": "code",
      "execution_count": 423,
      "metadata": {
        "id": "CmR1ECBM6ux5"
      },
      "outputs": [],
      "source": [
        "df = pd.read_csv('Asteroid.csv',  on_bad_lines='skip')"
      ]
    },
    {
      "cell_type": "code",
      "execution_count": 424,
      "metadata": {
        "colab": {
          "base_uri": "https://localhost:8080/",
          "height": 235
        },
        "id": "SDEsqcWavxlw",
        "outputId": "3e1bcd74-312d-4e01-f405-d4e0bcc45556"
      },
      "outputs": [
        {
          "output_type": "execute_result",
          "data": {
            "text/plain": [
              "        full_name         a         e     G          i          om  \\\n",
              "0         1 Ceres  2.769165  0.076009  0.12  10.594067   80.305532   \n",
              "1        2 Pallas  2.772466  0.230337  0.11  34.836234  173.080063   \n",
              "2          3 Juno  2.669150  0.256942  0.32  12.988919  169.852760   \n",
              "3         4 Vesta  2.361418  0.088721  0.32   7.141771  103.810804   \n",
              "4       5 Astraea  2.574249  0.191095   NaN   5.366988  141.576604   \n",
              "\n",
              "            w         q        ad     per_y  ...    rot_per       GM     BV  \\\n",
              "0   73.597694  2.558684  2.979647  4.608202  ...   9.074170  62.6284  0.713   \n",
              "1  310.048857  2.133865  3.411067  4.616444  ...   7.813200  14.3000  0.635   \n",
              "2  248.138626  1.983332  3.354967  4.360814  ...   7.210000      NaN  0.824   \n",
              "3  150.728541  2.151909  2.570926  3.628837  ...   5.342128  17.8000  0.782   \n",
              "4  358.687608  2.082324  3.066174  4.130323  ...  16.806000      NaN  0.826   \n",
              "\n",
              "      UB  IR spec_B  spec_T  neo  pha     moid  \n",
              "0  0.426 NaN      C       G    N    N  1.59478  \n",
              "1  0.284 NaN      B       B    N    N  1.23324  \n",
              "2  0.433 NaN     Sk       S    N    N  1.03454  \n",
              "3  0.492 NaN      V       V    N    N  1.13948  \n",
              "4  0.411 NaN      S       S    N    N  1.09589  \n",
              "\n",
              "[5 rows x 27 columns]"
            ],
            "text/html": [
              "\n",
              "  <div id=\"df-ef745357-85c0-4641-83ea-e74528f0a68b\">\n",
              "    <div class=\"colab-df-container\">\n",
              "      <div>\n",
              "<style scoped>\n",
              "    .dataframe tbody tr th:only-of-type {\n",
              "        vertical-align: middle;\n",
              "    }\n",
              "\n",
              "    .dataframe tbody tr th {\n",
              "        vertical-align: top;\n",
              "    }\n",
              "\n",
              "    .dataframe thead th {\n",
              "        text-align: right;\n",
              "    }\n",
              "</style>\n",
              "<table border=\"1\" class=\"dataframe\">\n",
              "  <thead>\n",
              "    <tr style=\"text-align: right;\">\n",
              "      <th></th>\n",
              "      <th>full_name</th>\n",
              "      <th>a</th>\n",
              "      <th>e</th>\n",
              "      <th>G</th>\n",
              "      <th>i</th>\n",
              "      <th>om</th>\n",
              "      <th>w</th>\n",
              "      <th>q</th>\n",
              "      <th>ad</th>\n",
              "      <th>per_y</th>\n",
              "      <th>...</th>\n",
              "      <th>rot_per</th>\n",
              "      <th>GM</th>\n",
              "      <th>BV</th>\n",
              "      <th>UB</th>\n",
              "      <th>IR</th>\n",
              "      <th>spec_B</th>\n",
              "      <th>spec_T</th>\n",
              "      <th>neo</th>\n",
              "      <th>pha</th>\n",
              "      <th>moid</th>\n",
              "    </tr>\n",
              "  </thead>\n",
              "  <tbody>\n",
              "    <tr>\n",
              "      <th>0</th>\n",
              "      <td>1 Ceres</td>\n",
              "      <td>2.769165</td>\n",
              "      <td>0.076009</td>\n",
              "      <td>0.12</td>\n",
              "      <td>10.594067</td>\n",
              "      <td>80.305532</td>\n",
              "      <td>73.597694</td>\n",
              "      <td>2.558684</td>\n",
              "      <td>2.979647</td>\n",
              "      <td>4.608202</td>\n",
              "      <td>...</td>\n",
              "      <td>9.074170</td>\n",
              "      <td>62.6284</td>\n",
              "      <td>0.713</td>\n",
              "      <td>0.426</td>\n",
              "      <td>NaN</td>\n",
              "      <td>C</td>\n",
              "      <td>G</td>\n",
              "      <td>N</td>\n",
              "      <td>N</td>\n",
              "      <td>1.59478</td>\n",
              "    </tr>\n",
              "    <tr>\n",
              "      <th>1</th>\n",
              "      <td>2 Pallas</td>\n",
              "      <td>2.772466</td>\n",
              "      <td>0.230337</td>\n",
              "      <td>0.11</td>\n",
              "      <td>34.836234</td>\n",
              "      <td>173.080063</td>\n",
              "      <td>310.048857</td>\n",
              "      <td>2.133865</td>\n",
              "      <td>3.411067</td>\n",
              "      <td>4.616444</td>\n",
              "      <td>...</td>\n",
              "      <td>7.813200</td>\n",
              "      <td>14.3000</td>\n",
              "      <td>0.635</td>\n",
              "      <td>0.284</td>\n",
              "      <td>NaN</td>\n",
              "      <td>B</td>\n",
              "      <td>B</td>\n",
              "      <td>N</td>\n",
              "      <td>N</td>\n",
              "      <td>1.23324</td>\n",
              "    </tr>\n",
              "    <tr>\n",
              "      <th>2</th>\n",
              "      <td>3 Juno</td>\n",
              "      <td>2.669150</td>\n",
              "      <td>0.256942</td>\n",
              "      <td>0.32</td>\n",
              "      <td>12.988919</td>\n",
              "      <td>169.852760</td>\n",
              "      <td>248.138626</td>\n",
              "      <td>1.983332</td>\n",
              "      <td>3.354967</td>\n",
              "      <td>4.360814</td>\n",
              "      <td>...</td>\n",
              "      <td>7.210000</td>\n",
              "      <td>NaN</td>\n",
              "      <td>0.824</td>\n",
              "      <td>0.433</td>\n",
              "      <td>NaN</td>\n",
              "      <td>Sk</td>\n",
              "      <td>S</td>\n",
              "      <td>N</td>\n",
              "      <td>N</td>\n",
              "      <td>1.03454</td>\n",
              "    </tr>\n",
              "    <tr>\n",
              "      <th>3</th>\n",
              "      <td>4 Vesta</td>\n",
              "      <td>2.361418</td>\n",
              "      <td>0.088721</td>\n",
              "      <td>0.32</td>\n",
              "      <td>7.141771</td>\n",
              "      <td>103.810804</td>\n",
              "      <td>150.728541</td>\n",
              "      <td>2.151909</td>\n",
              "      <td>2.570926</td>\n",
              "      <td>3.628837</td>\n",
              "      <td>...</td>\n",
              "      <td>5.342128</td>\n",
              "      <td>17.8000</td>\n",
              "      <td>0.782</td>\n",
              "      <td>0.492</td>\n",
              "      <td>NaN</td>\n",
              "      <td>V</td>\n",
              "      <td>V</td>\n",
              "      <td>N</td>\n",
              "      <td>N</td>\n",
              "      <td>1.13948</td>\n",
              "    </tr>\n",
              "    <tr>\n",
              "      <th>4</th>\n",
              "      <td>5 Astraea</td>\n",
              "      <td>2.574249</td>\n",
              "      <td>0.191095</td>\n",
              "      <td>NaN</td>\n",
              "      <td>5.366988</td>\n",
              "      <td>141.576604</td>\n",
              "      <td>358.687608</td>\n",
              "      <td>2.082324</td>\n",
              "      <td>3.066174</td>\n",
              "      <td>4.130323</td>\n",
              "      <td>...</td>\n",
              "      <td>16.806000</td>\n",
              "      <td>NaN</td>\n",
              "      <td>0.826</td>\n",
              "      <td>0.411</td>\n",
              "      <td>NaN</td>\n",
              "      <td>S</td>\n",
              "      <td>S</td>\n",
              "      <td>N</td>\n",
              "      <td>N</td>\n",
              "      <td>1.09589</td>\n",
              "    </tr>\n",
              "  </tbody>\n",
              "</table>\n",
              "<p>5 rows × 27 columns</p>\n",
              "</div>\n",
              "      <button class=\"colab-df-convert\" onclick=\"convertToInteractive('df-ef745357-85c0-4641-83ea-e74528f0a68b')\"\n",
              "              title=\"Convert this dataframe to an interactive table.\"\n",
              "              style=\"display:none;\">\n",
              "        \n",
              "  <svg xmlns=\"http://www.w3.org/2000/svg\" height=\"24px\"viewBox=\"0 0 24 24\"\n",
              "       width=\"24px\">\n",
              "    <path d=\"M0 0h24v24H0V0z\" fill=\"none\"/>\n",
              "    <path d=\"M18.56 5.44l.94 2.06.94-2.06 2.06-.94-2.06-.94-.94-2.06-.94 2.06-2.06.94zm-11 1L8.5 8.5l.94-2.06 2.06-.94-2.06-.94L8.5 2.5l-.94 2.06-2.06.94zm10 10l.94 2.06.94-2.06 2.06-.94-2.06-.94-.94-2.06-.94 2.06-2.06.94z\"/><path d=\"M17.41 7.96l-1.37-1.37c-.4-.4-.92-.59-1.43-.59-.52 0-1.04.2-1.43.59L10.3 9.45l-7.72 7.72c-.78.78-.78 2.05 0 2.83L4 21.41c.39.39.9.59 1.41.59.51 0 1.02-.2 1.41-.59l7.78-7.78 2.81-2.81c.8-.78.8-2.07 0-2.86zM5.41 20L4 18.59l7.72-7.72 1.47 1.35L5.41 20z\"/>\n",
              "  </svg>\n",
              "      </button>\n",
              "      \n",
              "  <style>\n",
              "    .colab-df-container {\n",
              "      display:flex;\n",
              "      flex-wrap:wrap;\n",
              "      gap: 12px;\n",
              "    }\n",
              "\n",
              "    .colab-df-convert {\n",
              "      background-color: #E8F0FE;\n",
              "      border: none;\n",
              "      border-radius: 50%;\n",
              "      cursor: pointer;\n",
              "      display: none;\n",
              "      fill: #1967D2;\n",
              "      height: 32px;\n",
              "      padding: 0 0 0 0;\n",
              "      width: 32px;\n",
              "    }\n",
              "\n",
              "    .colab-df-convert:hover {\n",
              "      background-color: #E2EBFA;\n",
              "      box-shadow: 0px 1px 2px rgba(60, 64, 67, 0.3), 0px 1px 3px 1px rgba(60, 64, 67, 0.15);\n",
              "      fill: #174EA6;\n",
              "    }\n",
              "\n",
              "    [theme=dark] .colab-df-convert {\n",
              "      background-color: #3B4455;\n",
              "      fill: #D2E3FC;\n",
              "    }\n",
              "\n",
              "    [theme=dark] .colab-df-convert:hover {\n",
              "      background-color: #434B5C;\n",
              "      box-shadow: 0px 1px 3px 1px rgba(0, 0, 0, 0.15);\n",
              "      filter: drop-shadow(0px 1px 2px rgba(0, 0, 0, 0.3));\n",
              "      fill: #FFFFFF;\n",
              "    }\n",
              "  </style>\n",
              "\n",
              "      <script>\n",
              "        const buttonEl =\n",
              "          document.querySelector('#df-ef745357-85c0-4641-83ea-e74528f0a68b button.colab-df-convert');\n",
              "        buttonEl.style.display =\n",
              "          google.colab.kernel.accessAllowed ? 'block' : 'none';\n",
              "\n",
              "        async function convertToInteractive(key) {\n",
              "          const element = document.querySelector('#df-ef745357-85c0-4641-83ea-e74528f0a68b');\n",
              "          const dataTable =\n",
              "            await google.colab.kernel.invokeFunction('convertToInteractive',\n",
              "                                                     [key], {});\n",
              "          if (!dataTable) return;\n",
              "\n",
              "          const docLinkHtml = 'Like what you see? Visit the ' +\n",
              "            '<a target=\"_blank\" href=https://colab.research.google.com/notebooks/data_table.ipynb>data table notebook</a>'\n",
              "            + ' to learn more about interactive tables.';\n",
              "          element.innerHTML = '';\n",
              "          dataTable['output_type'] = 'display_data';\n",
              "          await google.colab.output.renderOutput(dataTable, element);\n",
              "          const docLink = document.createElement('div');\n",
              "          docLink.innerHTML = docLinkHtml;\n",
              "          element.appendChild(docLink);\n",
              "        }\n",
              "      </script>\n",
              "    </div>\n",
              "  </div>\n",
              "  "
            ]
          },
          "metadata": {},
          "execution_count": 424
        }
      ],
      "source": [
        "df.head()"
      ]
    },
    {
      "cell_type": "markdown",
      "metadata": {
        "pycharm": {
          "name": "#%% md\n"
        },
        "id": "TOvWeVZIvxlw"
      },
      "source": [
        "# Column Renaming"
      ]
    },
    {
      "cell_type": "code",
      "execution_count": 425,
      "metadata": {
        "pycharm": {
          "name": "#%%\n"
        },
        "id": "170427KMvxlx"
      },
      "outputs": [],
      "source": [
        "readable_df = df.rename(columns={\"a\": \"semi-major axis\",\n",
        "                                        \"e\": \"eccentricity\",\n",
        "                                        \"G\": \"Magnitude slope parameter\",\n",
        "                                        \"i\": \"Inclination with ecliptic plane\",\n",
        "                                        \"om\": \"Longitude of the ascending node\",\n",
        "                                        \"w\": \"argument of perihelion\",\n",
        "                                        \"q\": \"perihelion distance(au)\",\n",
        "                                        \"ad\": \"aphelion distance(au)\",\n",
        "                                        \"per_y\": \"Orbital period\",\n",
        "                                        \"data_arc\": \"data arc-span(d)\",\n",
        "                                        \"condition_code\": \"Orbit condition code\",\n",
        "                                        \"n_obs_used\": \"number of observations used\",\n",
        "                                        \"H\": \"Absolute Magnitude parameter\",\n",
        "                                        })"
      ]
    },
    {
      "cell_type": "markdown",
      "metadata": {
        "id": "f_BrLBZxvxly"
      },
      "source": [
        "Full name column is not useful for the model's prediction ability."
      ]
    },
    {
      "cell_type": "code",
      "execution_count": 426,
      "metadata": {
        "colab": {
          "base_uri": "https://localhost:8080/",
          "height": 296
        },
        "id": "Q4rCmt2_vxlz",
        "outputId": "185f97c0-354a-431c-e30e-25fb96665e39"
      },
      "outputs": [
        {
          "output_type": "execute_result",
          "data": {
            "text/plain": [
              "   semi-major axis  eccentricity  Magnitude slope parameter  \\\n",
              "0         2.769165      0.076009                       0.12   \n",
              "1         2.772466      0.230337                       0.11   \n",
              "2         2.669150      0.256942                       0.32   \n",
              "3         2.361418      0.088721                       0.32   \n",
              "4         2.574249      0.191095                        NaN   \n",
              "\n",
              "   Inclination with ecliptic plane  Longitude of the ascending node  \\\n",
              "0                        10.594067                        80.305532   \n",
              "1                        34.836234                       173.080063   \n",
              "2                        12.988919                       169.852760   \n",
              "3                         7.141771                       103.810804   \n",
              "4                         5.366988                       141.576604   \n",
              "\n",
              "   argument of perihelion  perihelion distance(au)  aphelion distance(au)  \\\n",
              "0               73.597694                 2.558684               2.979647   \n",
              "1              310.048857                 2.133865               3.411067   \n",
              "2              248.138626                 1.983332               3.354967   \n",
              "3              150.728541                 2.151909               2.570926   \n",
              "4              358.687608                 2.082324               3.066174   \n",
              "\n",
              "   Orbital period  data arc-span(d)  ...    rot_per       GM     BV     UB  \\\n",
              "0        4.608202            8822.0  ...   9.074170  62.6284  0.713  0.426   \n",
              "1        4.616444           72318.0  ...   7.813200  14.3000  0.635  0.284   \n",
              "2        4.360814           72684.0  ...   7.210000      NaN  0.824  0.433   \n",
              "3        3.628837           24288.0  ...   5.342128  17.8000  0.782  0.492   \n",
              "4        4.130323           63431.0  ...  16.806000      NaN  0.826  0.411   \n",
              "\n",
              "   IR  spec_B  spec_T  neo  pha     moid  \n",
              "0 NaN       C       G    N    N  1.59478  \n",
              "1 NaN       B       B    N    N  1.23324  \n",
              "2 NaN      Sk       S    N    N  1.03454  \n",
              "3 NaN       V       V    N    N  1.13948  \n",
              "4 NaN       S       S    N    N  1.09589  \n",
              "\n",
              "[5 rows x 26 columns]"
            ],
            "text/html": [
              "\n",
              "  <div id=\"df-09858f3a-4a24-43ef-a4e5-118c1e99ae32\">\n",
              "    <div class=\"colab-df-container\">\n",
              "      <div>\n",
              "<style scoped>\n",
              "    .dataframe tbody tr th:only-of-type {\n",
              "        vertical-align: middle;\n",
              "    }\n",
              "\n",
              "    .dataframe tbody tr th {\n",
              "        vertical-align: top;\n",
              "    }\n",
              "\n",
              "    .dataframe thead th {\n",
              "        text-align: right;\n",
              "    }\n",
              "</style>\n",
              "<table border=\"1\" class=\"dataframe\">\n",
              "  <thead>\n",
              "    <tr style=\"text-align: right;\">\n",
              "      <th></th>\n",
              "      <th>semi-major axis</th>\n",
              "      <th>eccentricity</th>\n",
              "      <th>Magnitude slope parameter</th>\n",
              "      <th>Inclination with ecliptic plane</th>\n",
              "      <th>Longitude of the ascending node</th>\n",
              "      <th>argument of perihelion</th>\n",
              "      <th>perihelion distance(au)</th>\n",
              "      <th>aphelion distance(au)</th>\n",
              "      <th>Orbital period</th>\n",
              "      <th>data arc-span(d)</th>\n",
              "      <th>...</th>\n",
              "      <th>rot_per</th>\n",
              "      <th>GM</th>\n",
              "      <th>BV</th>\n",
              "      <th>UB</th>\n",
              "      <th>IR</th>\n",
              "      <th>spec_B</th>\n",
              "      <th>spec_T</th>\n",
              "      <th>neo</th>\n",
              "      <th>pha</th>\n",
              "      <th>moid</th>\n",
              "    </tr>\n",
              "  </thead>\n",
              "  <tbody>\n",
              "    <tr>\n",
              "      <th>0</th>\n",
              "      <td>2.769165</td>\n",
              "      <td>0.076009</td>\n",
              "      <td>0.12</td>\n",
              "      <td>10.594067</td>\n",
              "      <td>80.305532</td>\n",
              "      <td>73.597694</td>\n",
              "      <td>2.558684</td>\n",
              "      <td>2.979647</td>\n",
              "      <td>4.608202</td>\n",
              "      <td>8822.0</td>\n",
              "      <td>...</td>\n",
              "      <td>9.074170</td>\n",
              "      <td>62.6284</td>\n",
              "      <td>0.713</td>\n",
              "      <td>0.426</td>\n",
              "      <td>NaN</td>\n",
              "      <td>C</td>\n",
              "      <td>G</td>\n",
              "      <td>N</td>\n",
              "      <td>N</td>\n",
              "      <td>1.59478</td>\n",
              "    </tr>\n",
              "    <tr>\n",
              "      <th>1</th>\n",
              "      <td>2.772466</td>\n",
              "      <td>0.230337</td>\n",
              "      <td>0.11</td>\n",
              "      <td>34.836234</td>\n",
              "      <td>173.080063</td>\n",
              "      <td>310.048857</td>\n",
              "      <td>2.133865</td>\n",
              "      <td>3.411067</td>\n",
              "      <td>4.616444</td>\n",
              "      <td>72318.0</td>\n",
              "      <td>...</td>\n",
              "      <td>7.813200</td>\n",
              "      <td>14.3000</td>\n",
              "      <td>0.635</td>\n",
              "      <td>0.284</td>\n",
              "      <td>NaN</td>\n",
              "      <td>B</td>\n",
              "      <td>B</td>\n",
              "      <td>N</td>\n",
              "      <td>N</td>\n",
              "      <td>1.23324</td>\n",
              "    </tr>\n",
              "    <tr>\n",
              "      <th>2</th>\n",
              "      <td>2.669150</td>\n",
              "      <td>0.256942</td>\n",
              "      <td>0.32</td>\n",
              "      <td>12.988919</td>\n",
              "      <td>169.852760</td>\n",
              "      <td>248.138626</td>\n",
              "      <td>1.983332</td>\n",
              "      <td>3.354967</td>\n",
              "      <td>4.360814</td>\n",
              "      <td>72684.0</td>\n",
              "      <td>...</td>\n",
              "      <td>7.210000</td>\n",
              "      <td>NaN</td>\n",
              "      <td>0.824</td>\n",
              "      <td>0.433</td>\n",
              "      <td>NaN</td>\n",
              "      <td>Sk</td>\n",
              "      <td>S</td>\n",
              "      <td>N</td>\n",
              "      <td>N</td>\n",
              "      <td>1.03454</td>\n",
              "    </tr>\n",
              "    <tr>\n",
              "      <th>3</th>\n",
              "      <td>2.361418</td>\n",
              "      <td>0.088721</td>\n",
              "      <td>0.32</td>\n",
              "      <td>7.141771</td>\n",
              "      <td>103.810804</td>\n",
              "      <td>150.728541</td>\n",
              "      <td>2.151909</td>\n",
              "      <td>2.570926</td>\n",
              "      <td>3.628837</td>\n",
              "      <td>24288.0</td>\n",
              "      <td>...</td>\n",
              "      <td>5.342128</td>\n",
              "      <td>17.8000</td>\n",
              "      <td>0.782</td>\n",
              "      <td>0.492</td>\n",
              "      <td>NaN</td>\n",
              "      <td>V</td>\n",
              "      <td>V</td>\n",
              "      <td>N</td>\n",
              "      <td>N</td>\n",
              "      <td>1.13948</td>\n",
              "    </tr>\n",
              "    <tr>\n",
              "      <th>4</th>\n",
              "      <td>2.574249</td>\n",
              "      <td>0.191095</td>\n",
              "      <td>NaN</td>\n",
              "      <td>5.366988</td>\n",
              "      <td>141.576604</td>\n",
              "      <td>358.687608</td>\n",
              "      <td>2.082324</td>\n",
              "      <td>3.066174</td>\n",
              "      <td>4.130323</td>\n",
              "      <td>63431.0</td>\n",
              "      <td>...</td>\n",
              "      <td>16.806000</td>\n",
              "      <td>NaN</td>\n",
              "      <td>0.826</td>\n",
              "      <td>0.411</td>\n",
              "      <td>NaN</td>\n",
              "      <td>S</td>\n",
              "      <td>S</td>\n",
              "      <td>N</td>\n",
              "      <td>N</td>\n",
              "      <td>1.09589</td>\n",
              "    </tr>\n",
              "  </tbody>\n",
              "</table>\n",
              "<p>5 rows × 26 columns</p>\n",
              "</div>\n",
              "      <button class=\"colab-df-convert\" onclick=\"convertToInteractive('df-09858f3a-4a24-43ef-a4e5-118c1e99ae32')\"\n",
              "              title=\"Convert this dataframe to an interactive table.\"\n",
              "              style=\"display:none;\">\n",
              "        \n",
              "  <svg xmlns=\"http://www.w3.org/2000/svg\" height=\"24px\"viewBox=\"0 0 24 24\"\n",
              "       width=\"24px\">\n",
              "    <path d=\"M0 0h24v24H0V0z\" fill=\"none\"/>\n",
              "    <path d=\"M18.56 5.44l.94 2.06.94-2.06 2.06-.94-2.06-.94-.94-2.06-.94 2.06-2.06.94zm-11 1L8.5 8.5l.94-2.06 2.06-.94-2.06-.94L8.5 2.5l-.94 2.06-2.06.94zm10 10l.94 2.06.94-2.06 2.06-.94-2.06-.94-.94-2.06-.94 2.06-2.06.94z\"/><path d=\"M17.41 7.96l-1.37-1.37c-.4-.4-.92-.59-1.43-.59-.52 0-1.04.2-1.43.59L10.3 9.45l-7.72 7.72c-.78.78-.78 2.05 0 2.83L4 21.41c.39.39.9.59 1.41.59.51 0 1.02-.2 1.41-.59l7.78-7.78 2.81-2.81c.8-.78.8-2.07 0-2.86zM5.41 20L4 18.59l7.72-7.72 1.47 1.35L5.41 20z\"/>\n",
              "  </svg>\n",
              "      </button>\n",
              "      \n",
              "  <style>\n",
              "    .colab-df-container {\n",
              "      display:flex;\n",
              "      flex-wrap:wrap;\n",
              "      gap: 12px;\n",
              "    }\n",
              "\n",
              "    .colab-df-convert {\n",
              "      background-color: #E8F0FE;\n",
              "      border: none;\n",
              "      border-radius: 50%;\n",
              "      cursor: pointer;\n",
              "      display: none;\n",
              "      fill: #1967D2;\n",
              "      height: 32px;\n",
              "      padding: 0 0 0 0;\n",
              "      width: 32px;\n",
              "    }\n",
              "\n",
              "    .colab-df-convert:hover {\n",
              "      background-color: #E2EBFA;\n",
              "      box-shadow: 0px 1px 2px rgba(60, 64, 67, 0.3), 0px 1px 3px 1px rgba(60, 64, 67, 0.15);\n",
              "      fill: #174EA6;\n",
              "    }\n",
              "\n",
              "    [theme=dark] .colab-df-convert {\n",
              "      background-color: #3B4455;\n",
              "      fill: #D2E3FC;\n",
              "    }\n",
              "\n",
              "    [theme=dark] .colab-df-convert:hover {\n",
              "      background-color: #434B5C;\n",
              "      box-shadow: 0px 1px 3px 1px rgba(0, 0, 0, 0.15);\n",
              "      filter: drop-shadow(0px 1px 2px rgba(0, 0, 0, 0.3));\n",
              "      fill: #FFFFFF;\n",
              "    }\n",
              "  </style>\n",
              "\n",
              "      <script>\n",
              "        const buttonEl =\n",
              "          document.querySelector('#df-09858f3a-4a24-43ef-a4e5-118c1e99ae32 button.colab-df-convert');\n",
              "        buttonEl.style.display =\n",
              "          google.colab.kernel.accessAllowed ? 'block' : 'none';\n",
              "\n",
              "        async function convertToInteractive(key) {\n",
              "          const element = document.querySelector('#df-09858f3a-4a24-43ef-a4e5-118c1e99ae32');\n",
              "          const dataTable =\n",
              "            await google.colab.kernel.invokeFunction('convertToInteractive',\n",
              "                                                     [key], {});\n",
              "          if (!dataTable) return;\n",
              "\n",
              "          const docLinkHtml = 'Like what you see? Visit the ' +\n",
              "            '<a target=\"_blank\" href=https://colab.research.google.com/notebooks/data_table.ipynb>data table notebook</a>'\n",
              "            + ' to learn more about interactive tables.';\n",
              "          element.innerHTML = '';\n",
              "          dataTable['output_type'] = 'display_data';\n",
              "          await google.colab.output.renderOutput(dataTable, element);\n",
              "          const docLink = document.createElement('div');\n",
              "          docLink.innerHTML = docLinkHtml;\n",
              "          element.appendChild(docLink);\n",
              "        }\n",
              "      </script>\n",
              "    </div>\n",
              "  </div>\n",
              "  "
            ]
          },
          "metadata": {},
          "execution_count": 426
        }
      ],
      "source": [
        "readable_df = readable_df.drop(['full_name'], axis=1)\n",
        "readable_df.head()"
      ]
    },
    {
      "cell_type": "code",
      "execution_count": 427,
      "metadata": {
        "colab": {
          "base_uri": "https://localhost:8080/"
        },
        "id": "Eib1vs4c61H4",
        "outputId": "12e5e8cd-e1d9-4b47-b131-bffb0737c346"
      },
      "outputs": [
        {
          "output_type": "execute_result",
          "data": {
            "text/plain": [
              "(839736, 26)"
            ]
          },
          "metadata": {},
          "execution_count": 427
        }
      ],
      "source": [
        "readable_df.shape"
      ]
    },
    {
      "cell_type": "markdown",
      "metadata": {
        "id": "z0oHQWk2x9zD"
      },
      "source": [
        "# **Exploration (EDA) & Visualization**"
      ]
    },
    {
      "cell_type": "markdown",
      "metadata": {
        "id": "INcinz_Rvxl0"
      },
      "source": [
        "## Handling missing values - dropping values"
      ]
    },
    {
      "cell_type": "code",
      "execution_count": 428,
      "metadata": {
        "colab": {
          "base_uri": "https://localhost:8080/"
        },
        "id": "ofAkE3funvkX",
        "outputId": "0ed5cbaf-b569-4661-9c2c-f2290a1793b0"
      },
      "outputs": [
        {
          "output_type": "execute_result",
          "data": {
            "text/plain": [
              "semi-major axis                         2\n",
              "eccentricity                            0\n",
              "Magnitude slope parameter          839617\n",
              "Inclination with ecliptic plane         0\n",
              "Longitude of the ascending node         0\n",
              "argument of perihelion                  0\n",
              "perihelion distance(au)                 0\n",
              "aphelion distance(au)                   6\n",
              "Orbital period                          1\n",
              "data arc-span(d)                    15789\n",
              "Orbit condition code                  993\n",
              "number of observations used             0\n",
              "Absolute Magnitude parameter         2694\n",
              "diameter                           702055\n",
              "extent                             839718\n",
              "albedo                             703284\n",
              "rot_per                            820940\n",
              "GM                                 839722\n",
              "BV                                 838715\n",
              "UB                                 838757\n",
              "IR                                 839735\n",
              "spec_B                             838070\n",
              "spec_T                             838756\n",
              "neo                                     6\n",
              "pha                                 16922\n",
              "moid                                16922\n",
              "dtype: int64"
            ]
          },
          "metadata": {},
          "execution_count": 428
        }
      ],
      "source": [
        "readable_df.isna().sum()"
      ]
    },
    {
      "cell_type": "markdown",
      "metadata": {
        "id": "xqVsGzInvxl1"
      },
      "source": [
        "Now we will drop any row with null value in the diameter field"
      ]
    },
    {
      "cell_type": "code",
      "execution_count": 429,
      "metadata": {
        "pycharm": {
          "name": "#%%\n"
        },
        "colab": {
          "base_uri": "https://localhost:8080/"
        },
        "id": "5-wKNh1gvxl1",
        "outputId": "3ab63d5c-8d64-4f5b-a751-118849e6b772"
      },
      "outputs": [
        {
          "output_type": "execute_result",
          "data": {
            "text/plain": [
              "(137681, 26)"
            ]
          },
          "metadata": {},
          "execution_count": 429
        }
      ],
      "source": [
        "readable_df = readable_df.dropna(axis=0, subset=['diameter'])\n",
        "readable_df.shape"
      ]
    },
    {
      "cell_type": "code",
      "execution_count": 430,
      "metadata": {
        "colab": {
          "base_uri": "https://localhost:8080/"
        },
        "id": "2h0Q-C6Nvxl1",
        "outputId": "fa5fa043-ea78-4d46-d384-fc22b6f4bab1"
      },
      "outputs": [
        {
          "output_type": "stream",
          "name": "stdout",
          "text": [
            "Magnitude slope parameter       137562\n",
            "data arc-span(d)                   140\n",
            "Absolute Magnitude parameter       751\n",
            "extent                          137665\n",
            "albedo                            1232\n",
            "rot_per                         126493\n",
            "GM                              137667\n",
            "BV                              136676\n",
            "UB                              136716\n",
            "IR                              137680\n",
            "spec_B                          136311\n",
            "spec_T                          136716\n",
            "dtype: int64\n"
          ]
        }
      ],
      "source": [
        "def print_null_columns_sum(df):\n",
        "    column_null_list = df.columns[df.isna().sum() > 0].tolist()\n",
        "    print(df[column_null_list].isna().sum())\n",
        "    \n",
        "print_null_columns_sum(readable_df)"
      ]
    },
    {
      "cell_type": "markdown",
      "metadata": {
        "id": "5N6MkXn1vxl2"
      },
      "source": [
        "There are still a lot of columns with missing values so we will drop them completely"
      ]
    },
    {
      "cell_type": "code",
      "execution_count": 431,
      "metadata": {
        "pycharm": {
          "name": "#%%\n"
        },
        "colab": {
          "base_uri": "https://localhost:8080/"
        },
        "id": "gGkcuQ0Cvxl2",
        "outputId": "ef2dc743-9a0b-4d79-9a00-ee13a362e08f"
      },
      "outputs": [
        {
          "output_type": "stream",
          "name": "stdout",
          "text": [
            "data arc-span(d)                 140\n",
            "Absolute Magnitude parameter     751\n",
            "albedo                          1232\n",
            "dtype: int64\n"
          ]
        }
      ],
      "source": [
        "cleaned_df = readable_df.drop([\"Magnitude slope parameter\", 'spec_T', 'spec_B', \"IR\", \"UB\",\n",
        "                               \"BV\", \"GM\", \"rot_per\", \"extent\"], axis=1)\n",
        "print_null_columns_sum(cleaned_df)"
      ]
    },
    {
      "cell_type": "code",
      "execution_count": 432,
      "metadata": {
        "pycharm": {
          "name": "#%%\n"
        },
        "colab": {
          "base_uri": "https://localhost:8080/"
        },
        "id": "w-1GdxgBvxl2",
        "outputId": "32b13268-a329-4d51-f129-b6d3c206ca3c"
      },
      "outputs": [
        {
          "output_type": "stream",
          "name": "stdout",
          "text": [
            "shape before drop: (137681, 17)\n",
            "shape after drop:  (136044, 17)\n"
          ]
        }
      ],
      "source": [
        "print(f\"shape before drop: {cleaned_df.shape}\")\n",
        "cleaned_df = cleaned_df.dropna()\n",
        "print(f\"shape after drop:  {cleaned_df.shape}\")"
      ]
    },
    {
      "cell_type": "code",
      "execution_count": 433,
      "metadata": {
        "pycharm": {
          "name": "#%%\n"
        },
        "colab": {
          "base_uri": "https://localhost:8080/"
        },
        "id": "8Xl3wHsEvxl3",
        "outputId": "989283db-3a57-420c-a638-b8c738e50a9f"
      },
      "outputs": [
        {
          "output_type": "stream",
          "name": "stdout",
          "text": [
            "Series([], dtype: float64)\n"
          ]
        }
      ],
      "source": [
        "print_null_columns_sum(cleaned_df)"
      ]
    },
    {
      "cell_type": "code",
      "execution_count": 434,
      "metadata": {
        "pycharm": {
          "name": "#%%\n"
        },
        "colab": {
          "base_uri": "https://localhost:8080/"
        },
        "id": "-pzhZFQevxl3",
        "outputId": "364ab28f-5b66-42a2-9dd1-6331e99003fd"
      },
      "outputs": [
        {
          "output_type": "execute_result",
          "data": {
            "text/plain": [
              "semi-major axis                    float64\n",
              "eccentricity                       float64\n",
              "Inclination with ecliptic plane    float64\n",
              "Longitude of the ascending node    float64\n",
              "argument of perihelion             float64\n",
              "perihelion distance(au)            float64\n",
              "aphelion distance(au)              float64\n",
              "Orbital period                     float64\n",
              "data arc-span(d)                   float64\n",
              "Orbit condition code                object\n",
              "number of observations used          int64\n",
              "Absolute Magnitude parameter       float64\n",
              "diameter                            object\n",
              "albedo                             float64\n",
              "neo                                 object\n",
              "pha                                 object\n",
              "moid                               float64\n",
              "dtype: object"
            ]
          },
          "metadata": {},
          "execution_count": 434
        }
      ],
      "source": [
        "cleaned_df.dtypes"
      ]
    },
    {
      "cell_type": "code",
      "source": [
        "cleaned_df['Orbit condition code'].value_counts()"
      ],
      "metadata": {
        "colab": {
          "base_uri": "https://localhost:8080/"
        },
        "id": "BJ8QAh7zBaCo",
        "outputId": "62729fa6-ccf4-4e6e-fbb8-e4a9bf71a0f8"
      },
      "execution_count": 435,
      "outputs": [
        {
          "output_type": "execute_result",
          "data": {
            "text/plain": [
              "0      125682\n",
              "9        4917\n",
              "0        1899\n",
              "9.0       817\n",
              "1         752\n",
              "1         551\n",
              "2         291\n",
              "5         232\n",
              "6         142\n",
              "4         137\n",
              "3         127\n",
              "7         109\n",
              "2          95\n",
              "5.0        92\n",
              "8          45\n",
              "7.0        44\n",
              "6.0        36\n",
              "4.0        33\n",
              "3          32\n",
              "8.0        11\n",
              "Name: Orbit condition code, dtype: int64"
            ]
          },
          "metadata": {},
          "execution_count": 435
        }
      ]
    },
    {
      "cell_type": "code",
      "execution_count": 436,
      "metadata": {
        "id": "lWkRdpD0vxl3"
      },
      "outputs": [],
      "source": [
        "def adjust_numeric_data_types(df):\n",
        "    return df.astype({'diameter': 'float64'})"
      ]
    },
    {
      "cell_type": "markdown",
      "metadata": {
        "id": "waWw20Xivxl4"
      },
      "source": [
        "We also change some of the data types of other columns."
      ]
    },
    {
      "cell_type": "code",
      "execution_count": 437,
      "metadata": {
        "pycharm": {
          "name": "#%%\n"
        },
        "colab": {
          "base_uri": "https://localhost:8080/"
        },
        "id": "oqLzlArFvxl4",
        "outputId": "b1d09c23-fdac-4081-9317-91b7d6a4eb61"
      },
      "outputs": [
        {
          "output_type": "execute_result",
          "data": {
            "text/plain": [
              "semi-major axis                    float64\n",
              "eccentricity                       float64\n",
              "Inclination with ecliptic plane    float64\n",
              "Longitude of the ascending node    float64\n",
              "argument of perihelion             float64\n",
              "perihelion distance(au)            float64\n",
              "aphelion distance(au)              float64\n",
              "Orbital period                     float64\n",
              "data arc-span(d)                   float64\n",
              "Orbit condition code                object\n",
              "number of observations used          int64\n",
              "Absolute Magnitude parameter       float64\n",
              "diameter                           float64\n",
              "albedo                             float64\n",
              "neo                                 object\n",
              "pha                                 object\n",
              "moid                               float64\n",
              "dtype: object"
            ]
          },
          "metadata": {},
          "execution_count": 437
        }
      ],
      "source": [
        "cleaned_df = adjust_numeric_data_types(cleaned_df)\n",
        "cleaned_df.dtypes"
      ]
    },
    {
      "cell_type": "markdown",
      "metadata": {
        "pycharm": {
          "name": "#%% md\n"
        },
        "id": "W3M_tnDavxl5"
      },
      "source": [
        "## Dealing with Categorical variables"
      ]
    },
    {
      "cell_type": "markdown",
      "metadata": {
        "id": "_tJDDNczvxl5"
      },
      "source": [
        "### neo and pha columns"
      ]
    },
    {
      "cell_type": "code",
      "execution_count": 438,
      "metadata": {
        "id": "r7b1s64Mvxl5"
      },
      "outputs": [],
      "source": [
        "def handle_categorical_data(df, categories_list=['neo', 'pha']):\n",
        "    print(categories_list)\n",
        "    categorical_data = df.select_dtypes(include=['object']).copy()\n",
        "    new_columns = pd.get_dummies(categorical_data, columns=categories_list, drop_first=True)\n",
        "    df = df.drop(categories_list, axis = 1)\n",
        "    model_df = pd.concat([df, new_columns], axis=1)\n",
        "    return model_df"
      ]
    },
    {
      "cell_type": "code",
      "execution_count": 439,
      "metadata": {
        "pycharm": {
          "name": "#%%\n"
        },
        "colab": {
          "base_uri": "https://localhost:8080/",
          "height": 302
        },
        "id": "ZTro7ddqvxl5",
        "outputId": "859b39b9-2796-464e-f9c6-b132d9d6ba94"
      },
      "outputs": [
        {
          "output_type": "stream",
          "name": "stdout",
          "text": [
            "['neo', 'pha']\n"
          ]
        },
        {
          "output_type": "execute_result",
          "data": {
            "text/plain": [
              "   semi-major axis  eccentricity  Inclination with ecliptic plane  \\\n",
              "0         2.769165      0.076009                        10.594067   \n",
              "1         2.772466      0.230337                        34.836234   \n",
              "2         2.669150      0.256942                        12.988919   \n",
              "3         2.361418      0.088721                         7.141771   \n",
              "4         2.574249      0.191095                         5.366988   \n",
              "\n",
              "   Longitude of the ascending node  argument of perihelion  \\\n",
              "0                        80.305532               73.597694   \n",
              "1                       173.080063              310.048857   \n",
              "2                       169.852760              248.138626   \n",
              "3                       103.810804              150.728541   \n",
              "4                       141.576604              358.687608   \n",
              "\n",
              "   perihelion distance(au)  aphelion distance(au)  Orbital period  \\\n",
              "0                 2.558684               2.979647        4.608202   \n",
              "1                 2.133865               3.411067        4.616444   \n",
              "2                 1.983332               3.354967        4.360814   \n",
              "3                 2.151909               2.570926        3.628837   \n",
              "4                 2.082324               3.066174        4.130323   \n",
              "\n",
              "   data arc-span(d) Orbit condition code  number of observations used  \\\n",
              "0            8822.0                    0                         1002   \n",
              "1           72318.0                    0                         8490   \n",
              "2           72684.0                    0                         7104   \n",
              "3           24288.0                    0                         9325   \n",
              "4           63431.0                    0                         2861   \n",
              "\n",
              "   Absolute Magnitude parameter  diameter  albedo     moid  \\\n",
              "0                          3.34   939.400  0.0900  1.59478   \n",
              "1                          4.13   545.000  0.1010  1.23324   \n",
              "2                          5.33   246.596  0.2140  1.03454   \n",
              "3                          3.20   525.400  0.4228  1.13948   \n",
              "4                          6.85   106.699  0.2740  1.09589   \n",
              "\n",
              "  Orbit condition code  neo_Y  pha_Y  \n",
              "0                    0      0      0  \n",
              "1                    0      0      0  \n",
              "2                    0      0      0  \n",
              "3                    0      0      0  \n",
              "4                    0      0      0  "
            ],
            "text/html": [
              "\n",
              "  <div id=\"df-e103d1d0-2dae-4152-851f-04893856f48f\">\n",
              "    <div class=\"colab-df-container\">\n",
              "      <div>\n",
              "<style scoped>\n",
              "    .dataframe tbody tr th:only-of-type {\n",
              "        vertical-align: middle;\n",
              "    }\n",
              "\n",
              "    .dataframe tbody tr th {\n",
              "        vertical-align: top;\n",
              "    }\n",
              "\n",
              "    .dataframe thead th {\n",
              "        text-align: right;\n",
              "    }\n",
              "</style>\n",
              "<table border=\"1\" class=\"dataframe\">\n",
              "  <thead>\n",
              "    <tr style=\"text-align: right;\">\n",
              "      <th></th>\n",
              "      <th>semi-major axis</th>\n",
              "      <th>eccentricity</th>\n",
              "      <th>Inclination with ecliptic plane</th>\n",
              "      <th>Longitude of the ascending node</th>\n",
              "      <th>argument of perihelion</th>\n",
              "      <th>perihelion distance(au)</th>\n",
              "      <th>aphelion distance(au)</th>\n",
              "      <th>Orbital period</th>\n",
              "      <th>data arc-span(d)</th>\n",
              "      <th>Orbit condition code</th>\n",
              "      <th>number of observations used</th>\n",
              "      <th>Absolute Magnitude parameter</th>\n",
              "      <th>diameter</th>\n",
              "      <th>albedo</th>\n",
              "      <th>moid</th>\n",
              "      <th>Orbit condition code</th>\n",
              "      <th>neo_Y</th>\n",
              "      <th>pha_Y</th>\n",
              "    </tr>\n",
              "  </thead>\n",
              "  <tbody>\n",
              "    <tr>\n",
              "      <th>0</th>\n",
              "      <td>2.769165</td>\n",
              "      <td>0.076009</td>\n",
              "      <td>10.594067</td>\n",
              "      <td>80.305532</td>\n",
              "      <td>73.597694</td>\n",
              "      <td>2.558684</td>\n",
              "      <td>2.979647</td>\n",
              "      <td>4.608202</td>\n",
              "      <td>8822.0</td>\n",
              "      <td>0</td>\n",
              "      <td>1002</td>\n",
              "      <td>3.34</td>\n",
              "      <td>939.400</td>\n",
              "      <td>0.0900</td>\n",
              "      <td>1.59478</td>\n",
              "      <td>0</td>\n",
              "      <td>0</td>\n",
              "      <td>0</td>\n",
              "    </tr>\n",
              "    <tr>\n",
              "      <th>1</th>\n",
              "      <td>2.772466</td>\n",
              "      <td>0.230337</td>\n",
              "      <td>34.836234</td>\n",
              "      <td>173.080063</td>\n",
              "      <td>310.048857</td>\n",
              "      <td>2.133865</td>\n",
              "      <td>3.411067</td>\n",
              "      <td>4.616444</td>\n",
              "      <td>72318.0</td>\n",
              "      <td>0</td>\n",
              "      <td>8490</td>\n",
              "      <td>4.13</td>\n",
              "      <td>545.000</td>\n",
              "      <td>0.1010</td>\n",
              "      <td>1.23324</td>\n",
              "      <td>0</td>\n",
              "      <td>0</td>\n",
              "      <td>0</td>\n",
              "    </tr>\n",
              "    <tr>\n",
              "      <th>2</th>\n",
              "      <td>2.669150</td>\n",
              "      <td>0.256942</td>\n",
              "      <td>12.988919</td>\n",
              "      <td>169.852760</td>\n",
              "      <td>248.138626</td>\n",
              "      <td>1.983332</td>\n",
              "      <td>3.354967</td>\n",
              "      <td>4.360814</td>\n",
              "      <td>72684.0</td>\n",
              "      <td>0</td>\n",
              "      <td>7104</td>\n",
              "      <td>5.33</td>\n",
              "      <td>246.596</td>\n",
              "      <td>0.2140</td>\n",
              "      <td>1.03454</td>\n",
              "      <td>0</td>\n",
              "      <td>0</td>\n",
              "      <td>0</td>\n",
              "    </tr>\n",
              "    <tr>\n",
              "      <th>3</th>\n",
              "      <td>2.361418</td>\n",
              "      <td>0.088721</td>\n",
              "      <td>7.141771</td>\n",
              "      <td>103.810804</td>\n",
              "      <td>150.728541</td>\n",
              "      <td>2.151909</td>\n",
              "      <td>2.570926</td>\n",
              "      <td>3.628837</td>\n",
              "      <td>24288.0</td>\n",
              "      <td>0</td>\n",
              "      <td>9325</td>\n",
              "      <td>3.20</td>\n",
              "      <td>525.400</td>\n",
              "      <td>0.4228</td>\n",
              "      <td>1.13948</td>\n",
              "      <td>0</td>\n",
              "      <td>0</td>\n",
              "      <td>0</td>\n",
              "    </tr>\n",
              "    <tr>\n",
              "      <th>4</th>\n",
              "      <td>2.574249</td>\n",
              "      <td>0.191095</td>\n",
              "      <td>5.366988</td>\n",
              "      <td>141.576604</td>\n",
              "      <td>358.687608</td>\n",
              "      <td>2.082324</td>\n",
              "      <td>3.066174</td>\n",
              "      <td>4.130323</td>\n",
              "      <td>63431.0</td>\n",
              "      <td>0</td>\n",
              "      <td>2861</td>\n",
              "      <td>6.85</td>\n",
              "      <td>106.699</td>\n",
              "      <td>0.2740</td>\n",
              "      <td>1.09589</td>\n",
              "      <td>0</td>\n",
              "      <td>0</td>\n",
              "      <td>0</td>\n",
              "    </tr>\n",
              "  </tbody>\n",
              "</table>\n",
              "</div>\n",
              "      <button class=\"colab-df-convert\" onclick=\"convertToInteractive('df-e103d1d0-2dae-4152-851f-04893856f48f')\"\n",
              "              title=\"Convert this dataframe to an interactive table.\"\n",
              "              style=\"display:none;\">\n",
              "        \n",
              "  <svg xmlns=\"http://www.w3.org/2000/svg\" height=\"24px\"viewBox=\"0 0 24 24\"\n",
              "       width=\"24px\">\n",
              "    <path d=\"M0 0h24v24H0V0z\" fill=\"none\"/>\n",
              "    <path d=\"M18.56 5.44l.94 2.06.94-2.06 2.06-.94-2.06-.94-.94-2.06-.94 2.06-2.06.94zm-11 1L8.5 8.5l.94-2.06 2.06-.94-2.06-.94L8.5 2.5l-.94 2.06-2.06.94zm10 10l.94 2.06.94-2.06 2.06-.94-2.06-.94-.94-2.06-.94 2.06-2.06.94z\"/><path d=\"M17.41 7.96l-1.37-1.37c-.4-.4-.92-.59-1.43-.59-.52 0-1.04.2-1.43.59L10.3 9.45l-7.72 7.72c-.78.78-.78 2.05 0 2.83L4 21.41c.39.39.9.59 1.41.59.51 0 1.02-.2 1.41-.59l7.78-7.78 2.81-2.81c.8-.78.8-2.07 0-2.86zM5.41 20L4 18.59l7.72-7.72 1.47 1.35L5.41 20z\"/>\n",
              "  </svg>\n",
              "      </button>\n",
              "      \n",
              "  <style>\n",
              "    .colab-df-container {\n",
              "      display:flex;\n",
              "      flex-wrap:wrap;\n",
              "      gap: 12px;\n",
              "    }\n",
              "\n",
              "    .colab-df-convert {\n",
              "      background-color: #E8F0FE;\n",
              "      border: none;\n",
              "      border-radius: 50%;\n",
              "      cursor: pointer;\n",
              "      display: none;\n",
              "      fill: #1967D2;\n",
              "      height: 32px;\n",
              "      padding: 0 0 0 0;\n",
              "      width: 32px;\n",
              "    }\n",
              "\n",
              "    .colab-df-convert:hover {\n",
              "      background-color: #E2EBFA;\n",
              "      box-shadow: 0px 1px 2px rgba(60, 64, 67, 0.3), 0px 1px 3px 1px rgba(60, 64, 67, 0.15);\n",
              "      fill: #174EA6;\n",
              "    }\n",
              "\n",
              "    [theme=dark] .colab-df-convert {\n",
              "      background-color: #3B4455;\n",
              "      fill: #D2E3FC;\n",
              "    }\n",
              "\n",
              "    [theme=dark] .colab-df-convert:hover {\n",
              "      background-color: #434B5C;\n",
              "      box-shadow: 0px 1px 3px 1px rgba(0, 0, 0, 0.15);\n",
              "      filter: drop-shadow(0px 1px 2px rgba(0, 0, 0, 0.3));\n",
              "      fill: #FFFFFF;\n",
              "    }\n",
              "  </style>\n",
              "\n",
              "      <script>\n",
              "        const buttonEl =\n",
              "          document.querySelector('#df-e103d1d0-2dae-4152-851f-04893856f48f button.colab-df-convert');\n",
              "        buttonEl.style.display =\n",
              "          google.colab.kernel.accessAllowed ? 'block' : 'none';\n",
              "\n",
              "        async function convertToInteractive(key) {\n",
              "          const element = document.querySelector('#df-e103d1d0-2dae-4152-851f-04893856f48f');\n",
              "          const dataTable =\n",
              "            await google.colab.kernel.invokeFunction('convertToInteractive',\n",
              "                                                     [key], {});\n",
              "          if (!dataTable) return;\n",
              "\n",
              "          const docLinkHtml = 'Like what you see? Visit the ' +\n",
              "            '<a target=\"_blank\" href=https://colab.research.google.com/notebooks/data_table.ipynb>data table notebook</a>'\n",
              "            + ' to learn more about interactive tables.';\n",
              "          element.innerHTML = '';\n",
              "          dataTable['output_type'] = 'display_data';\n",
              "          await google.colab.output.renderOutput(dataTable, element);\n",
              "          const docLink = document.createElement('div');\n",
              "          docLink.innerHTML = docLinkHtml;\n",
              "          element.appendChild(docLink);\n",
              "        }\n",
              "      </script>\n",
              "    </div>\n",
              "  </div>\n",
              "  "
            ]
          },
          "metadata": {},
          "execution_count": 439
        }
      ],
      "source": [
        "model_df = handle_categorical_data(cleaned_df)\n",
        "model_df.head()"
      ]
    },
    {
      "cell_type": "code",
      "execution_count": 440,
      "metadata": {
        "pycharm": {
          "name": "#%%\n"
        },
        "colab": {
          "base_uri": "https://localhost:8080/"
        },
        "id": "u41s30cIvxl6",
        "outputId": "626806a3-a1ab-4cb3-9b6c-c87113a9fbf4"
      },
      "outputs": [
        {
          "output_type": "execute_result",
          "data": {
            "text/plain": [
              "neo_Y    uint8\n",
              "pha_Y    uint8\n",
              "dtype: object"
            ]
          },
          "metadata": {},
          "execution_count": 440
        }
      ],
      "source": [
        "model_df[[\"neo_Y\", \"pha_Y\"]].dtypes"
      ]
    },
    {
      "cell_type": "markdown",
      "metadata": {
        "id": "jRzMKpVv3u0Y"
      },
      "source": [
        "## Correlation Between Features"
      ]
    },
    {
      "cell_type": "code",
      "execution_count": 441,
      "metadata": {
        "colab": {
          "base_uri": "https://localhost:8080/",
          "height": 1000
        },
        "id": "TlLBvgm6wjIB",
        "outputId": "42358b1f-88dc-46ba-b177-190cd5cd9b11"
      },
      "outputs": [
        {
          "output_type": "display_data",
          "data": {
            "text/plain": [
              "<Figure size 1440x1224 with 2 Axes>"
            ],
            "image/png": "[encoded data removed]"
          },
          "metadata": {
            "needs_background": "light"
          }
        }
      ],
      "source": [
        "plt.figure(figsize=(20,17))\n",
        "sns.heatmap(model_df.corr(method='pearson'),annot=True)\n",
        "plt.title(\"Correlation Between Features\")\n",
        "plt.show()"
      ]
    },
    {
      "cell_type": "code",
      "execution_count": 442,
      "metadata": {
        "pycharm": {
          "name": "#%%\n"
        },
        "id": "Qx4CHU-dvxl6"
      },
      "outputs": [],
      "source": [
        "from sklearn.model_selection import train_test_split\n",
        "from sklearn.metrics import mean_squared_error"
      ]
    },
    {
      "cell_type": "code",
      "execution_count": 443,
      "metadata": {
        "id": "0oVxerRZvxl7"
      },
      "outputs": [],
      "source": [
        "def init_dataset(model_df):\n",
        "    y = model_df['diameter']\n",
        "    X = model_df.drop('diameter', axis=1)\n",
        "    X_train, X_test, y_train, y_test = train_test_split(X, y, test_size=0.2, random_state=42)\n",
        "    return X_train, X_test, y_train, y_test"
      ]
    },
    {
      "cell_type": "code",
      "execution_count": 444,
      "metadata": {
        "id": "aEtTzEwEvxl7"
      },
      "outputs": [],
      "source": [
        "X_train, X_test, y_train, y_test = init_dataset(model_df)"
      ]
    },
    {
      "cell_type": "code",
      "execution_count": 445,
      "metadata": {
        "id": "A0LyTeCCvxl7"
      },
      "outputs": [],
      "source": [
        "def different_models(Classifiers, X_train, X_test, y_train, y_test):\n",
        "    for classifier in Classifiers.keys():\n",
        "        clf = Classifiers[classifier]\n",
        "        clf.fit(X_train, y_train)\n",
        "        predict = clf.predict(X_test)\n",
        "        print(f'{classifier}:\\n')\n",
        "        print('Training Accuracy : ' , clf.score(X_train, y_train))\n",
        "        print('Test Accuracy : ' , clf.score(X_test, y_test))\n",
        "        print(f\"MSE score is: {mean_squared_error(y_test, predict)}\")"
      ]
    },
    {
      "cell_type": "markdown",
      "metadata": {
        "pycharm": {
          "name": "#%% md\n"
        },
        "id": "dREnqswIvxl7"
      },
      "source": [
        "## Basic Regression Models"
      ]
    },
    {
      "cell_type": "code",
      "execution_count": 446,
      "metadata": {
        "id": "BHf0r8_uvxl8"
      },
      "outputs": [],
      "source": [
        "from sklearn.ensemble import RandomForestRegressor\n",
        "from sklearn.linear_model import LinearRegression"
      ]
    },
    {
      "cell_type": "code",
      "execution_count": 447,
      "metadata": {
        "id": "m97LvVHzvxl8"
      },
      "outputs": [],
      "source": [
        "Classifiers = {\"Linear Regression\": LinearRegression(),\n",
        "              \"Random Forest\": RandomForestRegressor(),\n",
        "             }\n",
        "different_models(Classifiers, X_train, X_test, y_train, y_test)"
      ]
    },
    {
      "cell_type": "markdown",
      "metadata": {
        "pycharm": {
          "name": "#%% md\n"
        },
        "id": "Mf09JvsVvxl8"
      },
      "source": [
        "### Result conclusion from the models\n",
        "Basic Linear Regression was able to achieve only 37% accuracy results (with high overfitting). </br>\n",
        "Basic Random Forest was able to achieve 93% accuracy results (with a little overfitting). </br>"
      ]
    },
    {
      "cell_type": "markdown",
      "metadata": {
        "id": "WF7gVG5ivxl8"
      },
      "source": [
        "### Dropping columns which has more than 90% of missing values"
      ]
    },
    {
      "cell_type": "code",
      "execution_count": 449,
      "metadata": {
        "id": "mr52D0Ydvxl8"
      },
      "outputs": [],
      "source": [
        "def print_percent_missing(df):\n",
        "    percent_missing = df.isnull().sum() * 100 / len(df)\n",
        "    missing_value = pd.DataFrame({'column': df.columns,'percent_missing': percent_missing})\n",
        "    missing_value = missing_value.sort_values('percent_missing', ascending=False)    \n",
        "    \n",
        "    column_null_list = missing_value[missing_value[\"percent_missing\"] > 0]\n",
        "    print(column_null_list[\"percent_missing\"])\n",
        "    return missing_value"
      ]
    },
    {
      "cell_type": "code",
      "execution_count": 450,
      "metadata": {
        "colab": {
          "base_uri": "https://localhost:8080/"
        },
        "id": "l7-FDKuovxl9",
        "outputId": "8dc11a00-9286-46d3-ed0b-7c301be86e31"
      },
      "outputs": [
        {
          "output_type": "stream",
          "name": "stdout",
          "text": [
            "IR                              99.999274\n",
            "GM                              99.989832\n",
            "extent                          99.988379\n",
            "Magnitude slope parameter       99.913568\n",
            "spec_T                          99.299104\n",
            "UB                              99.299104\n",
            "BV                              99.270052\n",
            "spec_B                          99.004946\n",
            "rot_per                         91.873970\n",
            "albedo                           0.894822\n",
            "Absolute Magnitude parameter     0.545464\n",
            "data arc-span(d)                 0.101684\n",
            "Name: percent_missing, dtype: float64\n"
          ]
        }
      ],
      "source": [
        "missing_value = print_percent_missing(readable_df)"
      ]
    },
    {
      "cell_type": "code",
      "execution_count": 451,
      "metadata": {
        "id": "1TvI4Bzkvxl9"
      },
      "outputs": [],
      "source": [
        "drop_cols = missing_value[\"column\"][missing_value[\"percent_missing\"] > 90]\n",
        "cleaned_df = readable_df.drop(columns=drop_cols)"
      ]
    },
    {
      "cell_type": "markdown",
      "source": [
        "# Split the dataset into training and testing sets"
      ],
      "metadata": {
        "id": "0yELb2YJzbTl"
      }
    },
    {
      "cell_type": "code",
      "execution_count": 452,
      "metadata": {
        "id": "uVRvt8Dsvxl-"
      },
      "outputs": [],
      "source": [
        "cleaned_df = adjust_numeric_data_types(cleaned_df)\n",
        "dtf_train, dtf_test = train_test_split(cleaned_df, test_size=0.2)"
      ]
    },
    {
      "cell_type": "code",
      "execution_count": 453,
      "metadata": {
        "colab": {
          "base_uri": "https://localhost:8080/"
        },
        "id": "Hc4X-AMBvxl-",
        "outputId": "75b60c8e-1fa8-4480-c2be-d781ddb32d37"
      },
      "outputs": [
        {
          "output_type": "stream",
          "name": "stdout",
          "text": [
            "data arc-span(d)                107\n",
            "Absolute Magnitude parameter    582\n",
            "albedo                          966\n",
            "dtype: int64\n"
          ]
        }
      ],
      "source": [
        "print_null_columns_sum(dtf_train)"
      ]
    },
    {
      "cell_type": "code",
      "execution_count": 454,
      "metadata": {
        "colab": {
          "base_uri": "https://localhost:8080/"
        },
        "id": "EjOzJTnEvxl-",
        "outputId": "d969f69e-b46b-42be-b40e-8550b4d9f08b"
      },
      "outputs": [
        {
          "output_type": "execute_result",
          "data": {
            "text/plain": [
              "semi-major axis                    float64\n",
              "eccentricity                       float64\n",
              "Inclination with ecliptic plane    float64\n",
              "Longitude of the ascending node    float64\n",
              "argument of perihelion             float64\n",
              "perihelion distance(au)            float64\n",
              "aphelion distance(au)              float64\n",
              "Orbital period                     float64\n",
              "data arc-span(d)                   float64\n",
              "Orbit condition code                object\n",
              "number of observations used          int64\n",
              "Absolute Magnitude parameter       float64\n",
              "diameter                           float64\n",
              "albedo                             float64\n",
              "neo                                 object\n",
              "pha                                 object\n",
              "moid                               float64\n",
              "dtype: object"
            ]
          },
          "metadata": {},
          "execution_count": 454
        }
      ],
      "source": [
        "dtf_train.dtypes"
      ]
    },
    {
      "cell_type": "code",
      "execution_count": 455,
      "metadata": {
        "id": "kJLjmsrJvxl9"
      },
      "outputs": [],
      "source": [
        "nan_cols_contiguous = ['data arc-span(d)', 'Absolute Magnitude parameter', 'albedo']"
      ]
    },
    {
      "cell_type": "markdown",
      "source": [
        "# \"One Hot\" encoding"
      ],
      "metadata": {
        "id": "lywZjkh_8s8j"
      }
    },
    {
      "cell_type": "code",
      "source": [
        "dtf_train = handle_categorical_data(dtf_train,dtf_train.select_dtypes(include=['object']).columns)\n",
        "dtf_test = handle_categorical_data(dtf_test,dtf_test.select_dtypes(include=['object']).columns)"
      ],
      "metadata": {
        "colab": {
          "base_uri": "https://localhost:8080/"
        },
        "id": "7aryabGz8vlw",
        "outputId": "9c07ede5-f935-4b74-c40e-a3713b6769f4"
      },
      "execution_count": 456,
      "outputs": [
        {
          "output_type": "stream",
          "name": "stdout",
          "text": [
            "Index(['Orbit condition code', 'neo', 'pha'], dtype='object')\n",
            "Index(['Orbit condition code', 'neo', 'pha'], dtype='object')\n"
          ]
        }
      ]
    },
    {
      "cell_type": "markdown",
      "source": [
        "# Predict missing values"
      ],
      "metadata": {
        "id": "mJ8zYspcDPPw"
      }
    },
    {
      "cell_type": "code",
      "source": [
        "def predict_missing_values(nan_cols, model_df_train, model_df_test):\n",
        "\n",
        "  for arg in nan_cols:\n",
        "    model_copy = model_df_train.copy()\n",
        "    nan_cols_con_copy = nan_cols.copy()\n",
        "    nan_cols_con_copy.remove(arg)\n",
        "    model_copy = model_copy.drop(nan_cols_con_copy, axis=1)\n",
        "    test_data = model_copy[model_copy[arg].isnull()]\n",
        "    model_copy.dropna(inplace=True)\n",
        "\n",
        "    y_train = model_copy[arg]\n",
        "    X_train = model_copy.drop(arg, axis=1)\n",
        "    X_test = test_data.drop(arg, axis=1)\n",
        "    model = LinearRegression()\n",
        "    model.fit(X_train, y_train)\n",
        "    y_pred = model.predict(X_test)\n",
        "    model_df_train.loc[model_df_train[arg].isnull(), arg] = y_pred\n",
        "    #model_copy_test = model_df_test.copy()\n",
        "\n",
        "    test_data = model_df_test[model_df_test[arg].isnull()]\n",
        "    #y_pred_test = model.predict(model_df_test.drop(arg, axis=1))\n",
        "    y_pred_test = model.predict(test_data.drop(nan_cols, axis=1))\n",
        "    model_df_test.loc[model_df_test[arg].isnull(), arg] = y_pred_test"
      ],
      "metadata": {
        "id": "e_Oj8AwjCr8A"
      },
      "execution_count": 457,
      "outputs": []
    },
    {
      "cell_type": "code",
      "source": [
        "dtf_train_predict = dtf_train.copy()\n",
        "dtf_test_predict = dtf_test.copy()\n"
      ],
      "metadata": {
        "id": "dFr-k9raGKIF"
      },
      "execution_count": 458,
      "outputs": []
    },
    {
      "cell_type": "code",
      "source": [
        "predict_missing_values(nan_cols_contiguous, dtf_train_predict, dtf_test_predict)"
      ],
      "metadata": {
        "id": "EPWDmzCwCu7v"
      },
      "execution_count": 459,
      "outputs": []
    },
    {
      "cell_type": "code",
      "source": [
        "print_null_columns_sum(dtf_train_predict)"
      ],
      "metadata": {
        "colab": {
          "base_uri": "https://localhost:8080/"
        },
        "id": "qtxlO5eMC4FI",
        "outputId": "d847a926-85b5-4bc9-bea5-ac557d127b74"
      },
      "execution_count": 460,
      "outputs": [
        {
          "output_type": "stream",
          "name": "stdout",
          "text": [
            "Series([], dtype: float64)\n"
          ]
        }
      ]
    },
    {
      "cell_type": "markdown",
      "source": [
        "# Basic Regression Models"
      ],
      "metadata": {
        "id": "Eg_htG5fDWRY"
      }
    },
    {
      "cell_type": "code",
      "source": [
        "y_train = dtf_train_predict['diameter']\n",
        "X_train = dtf_train_predict.drop(['diameter'], axis = 1)\n",
        "y_test = dtf_test_predict['diameter']\n",
        "X_test = dtf_test_predict.drop(['diameter'], axis = 1)"
      ],
      "metadata": {
        "id": "s-PIXsxCD4Zu"
      },
      "execution_count": 461,
      "outputs": []
    },
    {
      "cell_type": "code",
      "source": [
        "Classifiers = {\"Linear Regression\": LinearRegression(),\n",
        "              \"Random Forest\": RandomForestRegressor(),\n",
        "             }\n",
        "different_models(Classifiers, X_train, X_test, y_train, y_test)"
      ],
      "metadata": {
        "colab": {
          "base_uri": "https://localhost:8080/"
        },
        "id": "nJHCHYi-DX2V",
        "outputId": "7b98decf-7f65-4604-f0db-219e7d130ec8"
      },
      "execution_count": 462,
      "outputs": [
        {
          "output_type": "stream",
          "name": "stdout",
          "text": [
            "Linear Regression:\n",
            "\n",
            "Training Accuracy :  0.4744060733054599\n",
            "Test Accuracy :  0.4468463769977409\n",
            "MSE score is: 47.688765012177804\n",
            "Random Forest:\n",
            "\n",
            "Training Accuracy :  0.9946773261104737\n",
            "Test Accuracy :  0.9684290872382807\n",
            "MSE score is: 2.721807789564907\n"
          ]
        }
      ]
    },
    {
      "cell_type": "markdown",
      "source": [
        "### Result conclusion from the models\n",
        "Basic Linear Regression was able to achieve only 44% accuracy results (with high overfitting). </br>\n",
        "Basic Random Forest was able to achieve 97% accuracy results (with a little overfitting). </br>"
      ],
      "metadata": {
        "id": "DAv8qgprDlW_"
      }
    },
    {
      "cell_type": "markdown",
      "source": [
        "# Fill null values with the mean"
      ],
      "metadata": {
        "id": "qCJCj3qfGinJ"
      }
    },
    {
      "cell_type": "code",
      "source": [
        "def fillnawithMean(nan_cols, dtf_train, dtf_test):\n",
        "  for arg in nan_cols:\n",
        "    dtf_train[arg] = dtf_train[arg].fillna(dtf_train[arg].mean())\n",
        "    dtf_test[arg] = dtf_test[arg].fillna(dtf_train[arg].mean())"
      ],
      "metadata": {
        "id": "zHjq3ERUGmyT"
      },
      "execution_count": 463,
      "outputs": []
    },
    {
      "cell_type": "code",
      "source": [
        "dtf_train_mean = dtf_train.copy()\n",
        "dtf_test_mean = dtf_test.copy()"
      ],
      "metadata": {
        "id": "maBu2K9KGrfU"
      },
      "execution_count": 464,
      "outputs": []
    },
    {
      "cell_type": "code",
      "source": [
        "fillnawithMean(nan_cols_contiguous,dtf_train_mean, dtf_test_mean)"
      ],
      "metadata": {
        "id": "J8s1ImSyGowX"
      },
      "execution_count": 469,
      "outputs": []
    },
    {
      "cell_type": "code",
      "source": [
        "print_null_columns_sum(dtf_train_mean)"
      ],
      "metadata": {
        "colab": {
          "base_uri": "https://localhost:8080/"
        },
        "id": "khoXOxPuHESs",
        "outputId": "28d9f3e7-fd5d-429e-a7e2-c7851a00c853"
      },
      "execution_count": 470,
      "outputs": [
        {
          "output_type": "stream",
          "name": "stdout",
          "text": [
            "Series([], dtype: float64)\n"
          ]
        }
      ]
    },
    {
      "cell_type": "markdown",
      "source": [
        "# Basic Regression Models"
      ],
      "metadata": {
        "id": "PgDpD07THMt1"
      }
    },
    {
      "cell_type": "code",
      "source": [
        "y_train = dtf_train_mean['diameter']\n",
        "X_train = dtf_train_mean.drop(['diameter'], axis = 1)\n",
        "y_test = dtf_test_mean['diameter']\n",
        "X_test = dtf_test_mean.drop(['diameter'], axis = 1)"
      ],
      "metadata": {
        "id": "Gsrke60DHP-D"
      },
      "execution_count": 471,
      "outputs": []
    },
    {
      "cell_type": "code",
      "source": [
        "Classifiers = {\"Linear Regression\": LinearRegression(),\n",
        "              \"Random Forest\": RandomForestRegressor(),\n",
        "             }\n",
        "different_models(Classifiers, X_train, X_test, y_train, y_test)"
      ],
      "metadata": {
        "colab": {
          "base_uri": "https://localhost:8080/"
        },
        "id": "sryQoDDeHmhR",
        "outputId": "9cdc4d81-c926-4413-d079-2032dc12aaa6"
      },
      "execution_count": 472,
      "outputs": [
        {
          "output_type": "stream",
          "name": "stdout",
          "text": [
            "Linear Regression:\n",
            "\n",
            "Training Accuracy :  0.4735762250904705\n",
            "Test Accuracy :  0.44560822789525156\n",
            "MSE score is: 47.79550896023003\n",
            "Random Forest:\n",
            "\n",
            "Training Accuracy :  0.9929964041378608\n",
            "Test Accuracy :  0.9654564881388173\n",
            "MSE score is: 2.9780830339722635\n"
          ]
        }
      ]
    },
    {
      "cell_type": "markdown",
      "source": [
        "### Result conclusion from the models\n",
        "Basic Linear Regression was able to achieve only 44% accuracy results (with high overfitting). </br>\n",
        "Basic Random Forest was able to achieve 97% accuracy results (with a little overfitting). </br>"
      ],
      "metadata": {
        "id": "1tytYvj5I_OW"
      }
    },
    {
      "cell_type": "markdown",
      "metadata": {
        "id": "Gp9a55y5vxl-"
      },
      "source": [
        "<h3>Ways to improve:</h3>\n",
        "<ul>\n",
        "    <li>Data cleaning and manipulation</li>\n",
        "    <li>Feature selection</li>\n",
        "    <li>Hyperparameter tuning</li>\n",
        "    <li>Boosting methods such as XGBoost</li>\n",
        "</ul>"
      ]
    }
  ],
  "metadata": {
    "colab": {
      "collapsed_sections": [],
      "name": "Asteroid_notebook_new_version.ipynb",
      "provenance": []
    },
    "kernelspec": {
      "display_name": "Python 3 (ipykernel)",
      "language": "python",
      "name": "python3"
    },
    "language_info": {
      "codemirror_mode": {
        "name": "ipython",
        "version": 3
      },
      "file_extension": ".py",
      "mimetype": "text/x-python",
      "name": "python",
      "nbconvert_exporter": "python",
      "pygments_lexer": "ipython3",
      "version": "3.9.7"
    }
  },
  "nbformat": 4,
  "nbformat_minor": 0
}