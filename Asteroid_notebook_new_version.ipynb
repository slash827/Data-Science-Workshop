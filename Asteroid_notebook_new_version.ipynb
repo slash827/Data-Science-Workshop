{
 "cells": [
  {
   "cell_type": "markdown",
   "metadata": {
    "id": "e46jmT5PvwGQ"
   },
   "source": [
    "# **Asteroid Prediction**\n"
   ]
  },
  {
   "cell_type": "markdown",
   "metadata": {
    "id": "ZBH8DG2uwVdK"
   },
   "source": [
    "# Import Python Libraries"
   ]
  },
  {
   "cell_type": "code",
   "execution_count": 55,
   "metadata": {
    "id": "f5wQSSrmvsmE"
   },
   "outputs": [],
   "source": [
    "import pandas as pd\n",
    "import numpy as np\n",
    "import seaborn as sns\n",
    "import matplotlib.pyplot as plt\n",
    "%matplotlib inline\n",
    "import sklearn\n",
    "import matplotlib.pyplot as plt\n",
    "import warnings\n",
    "warnings.filterwarnings(\"ignore\")"
   ]
  },
  {
   "cell_type": "markdown",
   "metadata": {
    "id": "eummGGzew4M9"
   },
   "source": [
    "# Reading the Asteroid Dataset"
   ]
  },
  {
   "cell_type": "code",
   "execution_count": 56,
   "metadata": {
    "id": "CmR1ECBM6ux5"
   },
   "outputs": [],
   "source": [
    "df = pd.read_csv('Asteroid_Updated.csv',  on_bad_lines='skip')"
   ]
  },
  {
   "cell_type": "code",
   "execution_count": 57,
   "metadata": {
    "colab": {
     "base_uri": "https://localhost:8080/",
     "height": 235
    },
    "id": "SDEsqcWavxlw",
    "outputId": "3e1bcd74-312d-4e01-f405-d4e0bcc45556"
   },
   "outputs": [
    {
     "data": {
      "text/html": [
       "<div>\n",
       "<style scoped>\n",
       "    .dataframe tbody tr th:only-of-type {\n",
       "        vertical-align: middle;\n",
       "    }\n",
       "\n",
       "    .dataframe tbody tr th {\n",
       "        vertical-align: top;\n",
       "    }\n",
       "\n",
       "    .dataframe thead th {\n",
       "        text-align: right;\n",
       "    }\n",
       "</style>\n",
       "<table border=\"1\" class=\"dataframe\">\n",
       "  <thead>\n",
       "    <tr style=\"text-align: right;\">\n",
       "      <th></th>\n",
       "      <th>name</th>\n",
       "      <th>a</th>\n",
       "      <th>e</th>\n",
       "      <th>i</th>\n",
       "      <th>om</th>\n",
       "      <th>w</th>\n",
       "      <th>q</th>\n",
       "      <th>ad</th>\n",
       "      <th>per_y</th>\n",
       "      <th>data_arc</th>\n",
       "      <th>...</th>\n",
       "      <th>UB</th>\n",
       "      <th>IR</th>\n",
       "      <th>spec_B</th>\n",
       "      <th>spec_T</th>\n",
       "      <th>G</th>\n",
       "      <th>moid</th>\n",
       "      <th>class</th>\n",
       "      <th>n</th>\n",
       "      <th>per</th>\n",
       "      <th>ma</th>\n",
       "    </tr>\n",
       "  </thead>\n",
       "  <tbody>\n",
       "    <tr>\n",
       "      <th>0</th>\n",
       "      <td>Ceres</td>\n",
       "      <td>2.769165</td>\n",
       "      <td>0.076009</td>\n",
       "      <td>10.594067</td>\n",
       "      <td>80.305532</td>\n",
       "      <td>73.597694</td>\n",
       "      <td>2.558684</td>\n",
       "      <td>2.979647</td>\n",
       "      <td>4.608202</td>\n",
       "      <td>8822.0</td>\n",
       "      <td>...</td>\n",
       "      <td>0.426</td>\n",
       "      <td>NaN</td>\n",
       "      <td>C</td>\n",
       "      <td>G</td>\n",
       "      <td>0.12</td>\n",
       "      <td>1.59478</td>\n",
       "      <td>MBA</td>\n",
       "      <td>0.213885</td>\n",
       "      <td>1683.145708</td>\n",
       "      <td>77.372096</td>\n",
       "    </tr>\n",
       "    <tr>\n",
       "      <th>1</th>\n",
       "      <td>Pallas</td>\n",
       "      <td>2.772466</td>\n",
       "      <td>0.230337</td>\n",
       "      <td>34.836234</td>\n",
       "      <td>173.080063</td>\n",
       "      <td>310.048857</td>\n",
       "      <td>2.133865</td>\n",
       "      <td>3.411067</td>\n",
       "      <td>4.616444</td>\n",
       "      <td>72318.0</td>\n",
       "      <td>...</td>\n",
       "      <td>0.284</td>\n",
       "      <td>NaN</td>\n",
       "      <td>B</td>\n",
       "      <td>B</td>\n",
       "      <td>0.11</td>\n",
       "      <td>1.23324</td>\n",
       "      <td>MBA</td>\n",
       "      <td>0.213503</td>\n",
       "      <td>1686.155999</td>\n",
       "      <td>59.699133</td>\n",
       "    </tr>\n",
       "    <tr>\n",
       "      <th>2</th>\n",
       "      <td>Juno</td>\n",
       "      <td>2.669150</td>\n",
       "      <td>0.256942</td>\n",
       "      <td>12.988919</td>\n",
       "      <td>169.852760</td>\n",
       "      <td>248.138626</td>\n",
       "      <td>1.983332</td>\n",
       "      <td>3.354967</td>\n",
       "      <td>4.360814</td>\n",
       "      <td>72684.0</td>\n",
       "      <td>...</td>\n",
       "      <td>0.433</td>\n",
       "      <td>NaN</td>\n",
       "      <td>Sk</td>\n",
       "      <td>S</td>\n",
       "      <td>0.32</td>\n",
       "      <td>1.03454</td>\n",
       "      <td>MBA</td>\n",
       "      <td>0.226019</td>\n",
       "      <td>1592.787285</td>\n",
       "      <td>34.925016</td>\n",
       "    </tr>\n",
       "    <tr>\n",
       "      <th>3</th>\n",
       "      <td>Vesta</td>\n",
       "      <td>2.361418</td>\n",
       "      <td>0.088721</td>\n",
       "      <td>7.141771</td>\n",
       "      <td>103.810804</td>\n",
       "      <td>150.728541</td>\n",
       "      <td>2.151909</td>\n",
       "      <td>2.570926</td>\n",
       "      <td>3.628837</td>\n",
       "      <td>24288.0</td>\n",
       "      <td>...</td>\n",
       "      <td>0.492</td>\n",
       "      <td>NaN</td>\n",
       "      <td>V</td>\n",
       "      <td>V</td>\n",
       "      <td>0.32</td>\n",
       "      <td>1.13948</td>\n",
       "      <td>MBA</td>\n",
       "      <td>0.271609</td>\n",
       "      <td>1325.432765</td>\n",
       "      <td>95.861936</td>\n",
       "    </tr>\n",
       "    <tr>\n",
       "      <th>4</th>\n",
       "      <td>Astraea</td>\n",
       "      <td>2.574249</td>\n",
       "      <td>0.191095</td>\n",
       "      <td>5.366988</td>\n",
       "      <td>141.576605</td>\n",
       "      <td>358.687607</td>\n",
       "      <td>2.082324</td>\n",
       "      <td>3.066174</td>\n",
       "      <td>4.130323</td>\n",
       "      <td>63507.0</td>\n",
       "      <td>...</td>\n",
       "      <td>0.411</td>\n",
       "      <td>NaN</td>\n",
       "      <td>S</td>\n",
       "      <td>S</td>\n",
       "      <td>NaN</td>\n",
       "      <td>1.09589</td>\n",
       "      <td>MBA</td>\n",
       "      <td>0.238632</td>\n",
       "      <td>1508.600458</td>\n",
       "      <td>282.366289</td>\n",
       "    </tr>\n",
       "  </tbody>\n",
       "</table>\n",
       "<p>5 rows × 31 columns</p>\n",
       "</div>"
      ],
      "text/plain": [
       "      name         a         e          i          om           w         q  \\\n",
       "0    Ceres  2.769165  0.076009  10.594067   80.305532   73.597694  2.558684   \n",
       "1   Pallas  2.772466  0.230337  34.836234  173.080063  310.048857  2.133865   \n",
       "2     Juno  2.669150  0.256942  12.988919  169.852760  248.138626  1.983332   \n",
       "3    Vesta  2.361418  0.088721   7.141771  103.810804  150.728541  2.151909   \n",
       "4  Astraea  2.574249  0.191095   5.366988  141.576605  358.687607  2.082324   \n",
       "\n",
       "         ad     per_y  data_arc  ...     UB  IR  spec_B spec_T     G     moid  \\\n",
       "0  2.979647  4.608202    8822.0  ...  0.426 NaN       C      G  0.12  1.59478   \n",
       "1  3.411067  4.616444   72318.0  ...  0.284 NaN       B      B  0.11  1.23324   \n",
       "2  3.354967  4.360814   72684.0  ...  0.433 NaN      Sk      S  0.32  1.03454   \n",
       "3  2.570926  3.628837   24288.0  ...  0.492 NaN       V      V  0.32  1.13948   \n",
       "4  3.066174  4.130323   63507.0  ...  0.411 NaN       S      S   NaN  1.09589   \n",
       "\n",
       "  class         n          per          ma  \n",
       "0   MBA  0.213885  1683.145708   77.372096  \n",
       "1   MBA  0.213503  1686.155999   59.699133  \n",
       "2   MBA  0.226019  1592.787285   34.925016  \n",
       "3   MBA  0.271609  1325.432765   95.861936  \n",
       "4   MBA  0.238632  1508.600458  282.366289  \n",
       "\n",
       "[5 rows x 31 columns]"
      ]
     },
     "execution_count": 57,
     "metadata": {},
     "output_type": "execute_result"
    }
   ],
   "source": [
    "df.head()"
   ]
  },
  {
   "cell_type": "markdown",
   "metadata": {
    "id": "TOvWeVZIvxlw",
    "pycharm": {
     "name": "#%% md\n"
    }
   },
   "source": [
    "# Column Renaming"
   ]
  },
  {
   "cell_type": "code",
   "execution_count": 58,
   "metadata": {
    "id": "170427KMvxlx",
    "pycharm": {
     "name": "#%%\n"
    }
   },
   "outputs": [],
   "source": [
    "readable_df = df.rename(columns={\"a\": \"semi-major axis\",\n",
    "                                        \"e\": \"eccentricity\",\n",
    "                                        \"G\": \"Magnitude slope parameter\",\n",
    "                                        \"i\": \"Inclination with ecliptic plane\",\n",
    "                                        \"om\": \"Longitude of the ascending node\",\n",
    "                                        \"w\": \"argument of perihelion\",\n",
    "                                        \"q\": \"perihelion distance(au)\",\n",
    "                                        \"ad\": \"aphelion distance(au)\",\n",
    "                                        \"per_y\": \"Orbital period\",\n",
    "                                        \"data_arc\": \"data arc-span(d)\",\n",
    "                                        \"condition_code\": \"Orbit condition code\",\n",
    "                                        \"n_obs_used\": \"number of observations used\",\n",
    "                                        \"H\": \"Absolute Magnitude parameter\",\n",
    "                                        })"
   ]
  },
  {
   "cell_type": "markdown",
   "metadata": {
    "id": "f_BrLBZxvxly"
   },
   "source": [
    "Full name column is not useful for the model's prediction ability."
   ]
  },
  {
   "cell_type": "code",
   "execution_count": 59,
   "metadata": {
    "colab": {
     "base_uri": "https://localhost:8080/",
     "height": 296
    },
    "id": "Q4rCmt2_vxlz",
    "outputId": "185f97c0-354a-431c-e30e-25fb96665e39"
   },
   "outputs": [
    {
     "data": {
      "text/html": [
       "<div>\n",
       "<style scoped>\n",
       "    .dataframe tbody tr th:only-of-type {\n",
       "        vertical-align: middle;\n",
       "    }\n",
       "\n",
       "    .dataframe tbody tr th {\n",
       "        vertical-align: top;\n",
       "    }\n",
       "\n",
       "    .dataframe thead th {\n",
       "        text-align: right;\n",
       "    }\n",
       "</style>\n",
       "<table border=\"1\" class=\"dataframe\">\n",
       "  <thead>\n",
       "    <tr style=\"text-align: right;\">\n",
       "      <th></th>\n",
       "      <th>semi-major axis</th>\n",
       "      <th>eccentricity</th>\n",
       "      <th>Inclination with ecliptic plane</th>\n",
       "      <th>Longitude of the ascending node</th>\n",
       "      <th>argument of perihelion</th>\n",
       "      <th>perihelion distance(au)</th>\n",
       "      <th>aphelion distance(au)</th>\n",
       "      <th>Orbital period</th>\n",
       "      <th>data arc-span(d)</th>\n",
       "      <th>Orbit condition code</th>\n",
       "      <th>...</th>\n",
       "      <th>UB</th>\n",
       "      <th>IR</th>\n",
       "      <th>spec_B</th>\n",
       "      <th>spec_T</th>\n",
       "      <th>Magnitude slope parameter</th>\n",
       "      <th>moid</th>\n",
       "      <th>class</th>\n",
       "      <th>n</th>\n",
       "      <th>per</th>\n",
       "      <th>ma</th>\n",
       "    </tr>\n",
       "  </thead>\n",
       "  <tbody>\n",
       "    <tr>\n",
       "      <th>0</th>\n",
       "      <td>2.769165</td>\n",
       "      <td>0.076009</td>\n",
       "      <td>10.594067</td>\n",
       "      <td>80.305532</td>\n",
       "      <td>73.597694</td>\n",
       "      <td>2.558684</td>\n",
       "      <td>2.979647</td>\n",
       "      <td>4.608202</td>\n",
       "      <td>8822.0</td>\n",
       "      <td>0</td>\n",
       "      <td>...</td>\n",
       "      <td>0.426</td>\n",
       "      <td>NaN</td>\n",
       "      <td>C</td>\n",
       "      <td>G</td>\n",
       "      <td>0.12</td>\n",
       "      <td>1.59478</td>\n",
       "      <td>MBA</td>\n",
       "      <td>0.213885</td>\n",
       "      <td>1683.145708</td>\n",
       "      <td>77.372096</td>\n",
       "    </tr>\n",
       "    <tr>\n",
       "      <th>1</th>\n",
       "      <td>2.772466</td>\n",
       "      <td>0.230337</td>\n",
       "      <td>34.836234</td>\n",
       "      <td>173.080063</td>\n",
       "      <td>310.048857</td>\n",
       "      <td>2.133865</td>\n",
       "      <td>3.411067</td>\n",
       "      <td>4.616444</td>\n",
       "      <td>72318.0</td>\n",
       "      <td>0</td>\n",
       "      <td>...</td>\n",
       "      <td>0.284</td>\n",
       "      <td>NaN</td>\n",
       "      <td>B</td>\n",
       "      <td>B</td>\n",
       "      <td>0.11</td>\n",
       "      <td>1.23324</td>\n",
       "      <td>MBA</td>\n",
       "      <td>0.213503</td>\n",
       "      <td>1686.155999</td>\n",
       "      <td>59.699133</td>\n",
       "    </tr>\n",
       "    <tr>\n",
       "      <th>2</th>\n",
       "      <td>2.669150</td>\n",
       "      <td>0.256942</td>\n",
       "      <td>12.988919</td>\n",
       "      <td>169.852760</td>\n",
       "      <td>248.138626</td>\n",
       "      <td>1.983332</td>\n",
       "      <td>3.354967</td>\n",
       "      <td>4.360814</td>\n",
       "      <td>72684.0</td>\n",
       "      <td>0</td>\n",
       "      <td>...</td>\n",
       "      <td>0.433</td>\n",
       "      <td>NaN</td>\n",
       "      <td>Sk</td>\n",
       "      <td>S</td>\n",
       "      <td>0.32</td>\n",
       "      <td>1.03454</td>\n",
       "      <td>MBA</td>\n",
       "      <td>0.226019</td>\n",
       "      <td>1592.787285</td>\n",
       "      <td>34.925016</td>\n",
       "    </tr>\n",
       "    <tr>\n",
       "      <th>3</th>\n",
       "      <td>2.361418</td>\n",
       "      <td>0.088721</td>\n",
       "      <td>7.141771</td>\n",
       "      <td>103.810804</td>\n",
       "      <td>150.728541</td>\n",
       "      <td>2.151909</td>\n",
       "      <td>2.570926</td>\n",
       "      <td>3.628837</td>\n",
       "      <td>24288.0</td>\n",
       "      <td>0</td>\n",
       "      <td>...</td>\n",
       "      <td>0.492</td>\n",
       "      <td>NaN</td>\n",
       "      <td>V</td>\n",
       "      <td>V</td>\n",
       "      <td>0.32</td>\n",
       "      <td>1.13948</td>\n",
       "      <td>MBA</td>\n",
       "      <td>0.271609</td>\n",
       "      <td>1325.432765</td>\n",
       "      <td>95.861936</td>\n",
       "    </tr>\n",
       "    <tr>\n",
       "      <th>4</th>\n",
       "      <td>2.574249</td>\n",
       "      <td>0.191095</td>\n",
       "      <td>5.366988</td>\n",
       "      <td>141.576605</td>\n",
       "      <td>358.687607</td>\n",
       "      <td>2.082324</td>\n",
       "      <td>3.066174</td>\n",
       "      <td>4.130323</td>\n",
       "      <td>63507.0</td>\n",
       "      <td>0</td>\n",
       "      <td>...</td>\n",
       "      <td>0.411</td>\n",
       "      <td>NaN</td>\n",
       "      <td>S</td>\n",
       "      <td>S</td>\n",
       "      <td>NaN</td>\n",
       "      <td>1.09589</td>\n",
       "      <td>MBA</td>\n",
       "      <td>0.238632</td>\n",
       "      <td>1508.600458</td>\n",
       "      <td>282.366289</td>\n",
       "    </tr>\n",
       "  </tbody>\n",
       "</table>\n",
       "<p>5 rows × 30 columns</p>\n",
       "</div>"
      ],
      "text/plain": [
       "   semi-major axis  eccentricity  Inclination with ecliptic plane  \\\n",
       "0         2.769165      0.076009                        10.594067   \n",
       "1         2.772466      0.230337                        34.836234   \n",
       "2         2.669150      0.256942                        12.988919   \n",
       "3         2.361418      0.088721                         7.141771   \n",
       "4         2.574249      0.191095                         5.366988   \n",
       "\n",
       "   Longitude of the ascending node  argument of perihelion  \\\n",
       "0                        80.305532               73.597694   \n",
       "1                       173.080063              310.048857   \n",
       "2                       169.852760              248.138626   \n",
       "3                       103.810804              150.728541   \n",
       "4                       141.576605              358.687607   \n",
       "\n",
       "   perihelion distance(au)  aphelion distance(au)  Orbital period  \\\n",
       "0                 2.558684               2.979647        4.608202   \n",
       "1                 2.133865               3.411067        4.616444   \n",
       "2                 1.983332               3.354967        4.360814   \n",
       "3                 2.151909               2.570926        3.628837   \n",
       "4                 2.082324               3.066174        4.130323   \n",
       "\n",
       "   data arc-span(d) Orbit condition code  ...     UB  IR spec_B spec_T  \\\n",
       "0            8822.0                    0  ...  0.426 NaN      C      G   \n",
       "1           72318.0                    0  ...  0.284 NaN      B      B   \n",
       "2           72684.0                    0  ...  0.433 NaN     Sk      S   \n",
       "3           24288.0                    0  ...  0.492 NaN      V      V   \n",
       "4           63507.0                    0  ...  0.411 NaN      S      S   \n",
       "\n",
       "  Magnitude slope parameter     moid  class         n          per          ma  \n",
       "0                      0.12  1.59478    MBA  0.213885  1683.145708   77.372096  \n",
       "1                      0.11  1.23324    MBA  0.213503  1686.155999   59.699133  \n",
       "2                      0.32  1.03454    MBA  0.226019  1592.787285   34.925016  \n",
       "3                      0.32  1.13948    MBA  0.271609  1325.432765   95.861936  \n",
       "4                       NaN  1.09589    MBA  0.238632  1508.600458  282.366289  \n",
       "\n",
       "[5 rows x 30 columns]"
      ]
     },
     "execution_count": 59,
     "metadata": {},
     "output_type": "execute_result"
    }
   ],
   "source": [
    "readable_df = readable_df.drop(['name'], axis=1)\n",
    "readable_df.head()"
   ]
  },
  {
   "cell_type": "code",
   "execution_count": 60,
   "metadata": {
    "colab": {
     "base_uri": "https://localhost:8080/"
    },
    "id": "Eib1vs4c61H4",
    "outputId": "12e5e8cd-e1d9-4b47-b131-bffb0737c346"
   },
   "outputs": [
    {
     "data": {
      "text/plain": [
       "(839714, 30)"
      ]
     },
     "execution_count": 60,
     "metadata": {},
     "output_type": "execute_result"
    }
   ],
   "source": [
    "readable_df.shape"
   ]
  },
  {
   "cell_type": "markdown",
   "metadata": {
    "id": "z0oHQWk2x9zD"
   },
   "source": [
    "# **Exploration (EDA) & Visualization**"
   ]
  },
  {
   "cell_type": "markdown",
   "metadata": {
    "id": "INcinz_Rvxl0"
   },
   "source": [
    "## Handling missing values - dropping values"
   ]
  },
  {
   "cell_type": "code",
   "execution_count": 134,
   "metadata": {},
   "outputs": [
    {
     "data": {
      "image/png": "[encoded data removed]",
      "text/plain": [
       "<Figure size 432x288 with 1 Axes>"
      ]
     },
     "metadata": {},
     "output_type": "display_data"
    }
   ],
   "source": [
    "missing_values = readable_df.isnull().sum() / len(readable_df) * 100\n",
    "missing_values = missing_values[missing_values > 0]\n",
    "missing_values.sort_values(inplace=True)\n",
    "missing_values = missing_values.to_frame()\n",
    "missing_values.columns = ['Precntage of missing values']\n",
    "missing_values.index.names = ['Column Name']\n",
    "missing_values['Column Name'] = missing_values.index\n",
    "sns.set(style=\"whitegrid\", color_codes=True)\n",
    "sns.barplot(x = 'Column Name', y = 'Precntage of missing values', data=missing_values).set_title('Precntage of missing values by column')\n",
    "plt.xticks(rotation = 90)\n",
    "plt.show()"
   ]
  },
  {
   "cell_type": "code",
   "execution_count": 135,
   "metadata": {},
   "outputs": [
    {
     "data": {
      "text/plain": [
       "Text(0.5, 1.0, 'Missing values')"
      ]
     },
     "execution_count": 135,
     "metadata": {},
     "output_type": "execute_result"
    },
    {
     "data": {
      "image/png": "[encoded data removed]",
      "text/plain": [
       "<Figure size 720x432 with 1 Axes>"
      ]
     },
     "metadata": {},
     "output_type": "display_data"
    }
   ],
   "source": [
    "plt.figure(figsize=(10, 6))\n",
    "sns.heatmap(df.isnull(), yticklabels=False, cbar=False)\n",
    "plt.title(\"Missing values\")"
   ]
  },
  {
   "cell_type": "code",
   "execution_count": 61,
   "metadata": {
    "colab": {
     "base_uri": "https://localhost:8080/"
    },
    "id": "ofAkE3funvkX",
    "outputId": "0ed5cbaf-b569-4661-9c2c-f2290a1793b0"
   },
   "outputs": [
    {
     "data": {
      "text/plain": [
       "semi-major axis                         2\n",
       "eccentricity                            0\n",
       "Inclination with ecliptic plane         0\n",
       "Longitude of the ascending node         0\n",
       "argument of perihelion                  0\n",
       "perihelion distance(au)                 0\n",
       "aphelion distance(au)                   6\n",
       "Orbital period                          1\n",
       "data arc-span(d)                    15474\n",
       "Orbit condition code                  867\n",
       "number of observations used             0\n",
       "Absolute Magnitude parameter         2689\n",
       "neo                                     6\n",
       "pha                                 16442\n",
       "diameter                           702078\n",
       "extent                             839696\n",
       "albedo                             703305\n",
       "rot_per                            820918\n",
       "GM                                 839700\n",
       "BV                                 838693\n",
       "UB                                 838735\n",
       "IR                                 839713\n",
       "spec_B                             838048\n",
       "spec_T                             838734\n",
       "Magnitude slope parameter          839595\n",
       "moid                                16442\n",
       "class                                   0\n",
       "n                                       2\n",
       "per                                     6\n",
       "ma                                      8\n",
       "dtype: int64"
      ]
     },
     "execution_count": 61,
     "metadata": {},
     "output_type": "execute_result"
    }
   ],
   "source": [
    "readable_df.isna().sum()"
   ]
  },
  {
   "cell_type": "markdown",
   "metadata": {
    "id": "xqVsGzInvxl1"
   },
   "source": [
    "Now we will drop any row with null value in the diameter field"
   ]
  },
  {
   "cell_type": "code",
   "execution_count": 62,
   "metadata": {
    "colab": {
     "base_uri": "https://localhost:8080/"
    },
    "id": "5-wKNh1gvxl1",
    "outputId": "3ab63d5c-8d64-4f5b-a751-118849e6b772",
    "pycharm": {
     "name": "#%%\n"
    }
   },
   "outputs": [
    {
     "data": {
      "text/plain": [
       "(137636, 30)"
      ]
     },
     "execution_count": 62,
     "metadata": {},
     "output_type": "execute_result"
    }
   ],
   "source": [
    "readable_df = readable_df.dropna(axis=0, subset=['diameter'])\n",
    "readable_df.shape"
   ]
  },
  {
   "cell_type": "code",
   "execution_count": 63,
   "metadata": {
    "colab": {
     "base_uri": "https://localhost:8080/"
    },
    "id": "2h0Q-C6Nvxl1",
    "outputId": "fa5fa043-ea78-4d46-d384-fc22b6f4bab1"
   },
   "outputs": [
    {
     "name": "stdout",
     "output_type": "stream",
     "text": [
      "data arc-span(d)                   138\n",
      "Absolute Magnitude parameter       747\n",
      "extent                          137620\n",
      "albedo                            1230\n",
      "rot_per                         126448\n",
      "GM                              137622\n",
      "BV                              136631\n",
      "UB                              136671\n",
      "IR                              137635\n",
      "spec_B                          136266\n",
      "spec_T                          136671\n",
      "Magnitude slope parameter       137517\n",
      "dtype: int64\n"
     ]
    }
   ],
   "source": [
    "def print_null_columns_sum(df):\n",
    "    column_null_list = df.columns[df.isna().sum() > 0].tolist()\n",
    "    print(df[column_null_list].isna().sum())\n",
    "    \n",
    "print_null_columns_sum(readable_df)"
   ]
  },
  {
   "cell_type": "markdown",
   "metadata": {
    "id": "5N6MkXn1vxl2"
   },
   "source": [
    "There are still a lot of columns with missing values so we will drop them completely"
   ]
  },
  {
   "cell_type": "code",
   "execution_count": 64,
   "metadata": {
    "colab": {
     "base_uri": "https://localhost:8080/"
    },
    "id": "gGkcuQ0Cvxl2",
    "outputId": "ef2dc743-9a0b-4d79-9a00-ee13a362e08f",
    "pycharm": {
     "name": "#%%\n"
    }
   },
   "outputs": [
    {
     "name": "stdout",
     "output_type": "stream",
     "text": [
      "data arc-span(d)                 138\n",
      "Absolute Magnitude parameter     747\n",
      "albedo                          1230\n",
      "dtype: int64\n"
     ]
    }
   ],
   "source": [
    "cleaned_df = readable_df.drop([\"Magnitude slope parameter\", 'spec_T', 'spec_B', \"IR\", \"UB\",\n",
    "                               \"BV\", \"GM\", \"rot_per\", \"extent\"], axis=1)\n",
    "print_null_columns_sum(cleaned_df)"
   ]
  },
  {
   "cell_type": "code",
   "execution_count": 65,
   "metadata": {
    "colab": {
     "base_uri": "https://localhost:8080/"
    },
    "id": "w-1GdxgBvxl2",
    "outputId": "32b13268-a329-4d51-f129-b6d3c206ca3c",
    "pycharm": {
     "name": "#%%\n"
    }
   },
   "outputs": [
    {
     "name": "stdout",
     "output_type": "stream",
     "text": [
      "shape before drop: (137636, 21)\n",
      "shape after drop:  (136005, 21)\n"
     ]
    }
   ],
   "source": [
    "print(f\"shape before drop: {cleaned_df.shape}\")\n",
    "cleaned_df = cleaned_df.dropna()\n",
    "print(f\"shape after drop:  {cleaned_df.shape}\")"
   ]
  },
  {
   "cell_type": "code",
   "execution_count": 66,
   "metadata": {
    "colab": {
     "base_uri": "https://localhost:8080/"
    },
    "id": "8Xl3wHsEvxl3",
    "outputId": "989283db-3a57-420c-a638-b8c738e50a9f",
    "pycharm": {
     "name": "#%%\n"
    }
   },
   "outputs": [
    {
     "name": "stdout",
     "output_type": "stream",
     "text": [
      "Series([], dtype: float64)\n"
     ]
    }
   ],
   "source": [
    "print_null_columns_sum(cleaned_df)"
   ]
  },
  {
   "cell_type": "code",
   "execution_count": 67,
   "metadata": {
    "colab": {
     "base_uri": "https://localhost:8080/"
    },
    "id": "-pzhZFQevxl3",
    "outputId": "364ab28f-5b66-42a2-9dd1-6331e99003fd",
    "pycharm": {
     "name": "#%%\n"
    }
   },
   "outputs": [
    {
     "data": {
      "text/plain": [
       "semi-major axis                    float64\n",
       "eccentricity                       float64\n",
       "Inclination with ecliptic plane    float64\n",
       "Longitude of the ascending node    float64\n",
       "argument of perihelion             float64\n",
       "perihelion distance(au)            float64\n",
       "aphelion distance(au)              float64\n",
       "Orbital period                     float64\n",
       "data arc-span(d)                   float64\n",
       "Orbit condition code                object\n",
       "number of observations used          int64\n",
       "Absolute Magnitude parameter       float64\n",
       "neo                                 object\n",
       "pha                                 object\n",
       "diameter                            object\n",
       "albedo                             float64\n",
       "moid                               float64\n",
       "class                               object\n",
       "n                                  float64\n",
       "per                                float64\n",
       "ma                                 float64\n",
       "dtype: object"
      ]
     },
     "execution_count": 67,
     "metadata": {},
     "output_type": "execute_result"
    }
   ],
   "source": [
    "cleaned_df.dtypes"
   ]
  },
  {
   "cell_type": "code",
   "execution_count": 68,
   "metadata": {
    "id": "lWkRdpD0vxl3"
   },
   "outputs": [],
   "source": [
    "def adjust_numeric_data_types(df):\n",
    "    return df.astype({'diameter': 'float64', 'Orbit condition code': 'float64'})"
   ]
  },
  {
   "cell_type": "markdown",
   "metadata": {
    "id": "waWw20Xivxl4"
   },
   "source": [
    "We also change some of the data types of other columns."
   ]
  },
  {
   "cell_type": "code",
   "execution_count": 69,
   "metadata": {
    "colab": {
     "base_uri": "https://localhost:8080/"
    },
    "id": "oqLzlArFvxl4",
    "outputId": "b1d09c23-fdac-4081-9317-91b7d6a4eb61",
    "pycharm": {
     "name": "#%%\n"
    }
   },
   "outputs": [
    {
     "data": {
      "text/plain": [
       "semi-major axis                    float64\n",
       "eccentricity                       float64\n",
       "Inclination with ecliptic plane    float64\n",
       "Longitude of the ascending node    float64\n",
       "argument of perihelion             float64\n",
       "perihelion distance(au)            float64\n",
       "aphelion distance(au)              float64\n",
       "Orbital period                     float64\n",
       "data arc-span(d)                   float64\n",
       "Orbit condition code               float64\n",
       "number of observations used          int64\n",
       "Absolute Magnitude parameter       float64\n",
       "neo                                 object\n",
       "pha                                 object\n",
       "diameter                           float64\n",
       "albedo                             float64\n",
       "moid                               float64\n",
       "class                               object\n",
       "n                                  float64\n",
       "per                                float64\n",
       "ma                                 float64\n",
       "dtype: object"
      ]
     },
     "execution_count": 69,
     "metadata": {},
     "output_type": "execute_result"
    }
   ],
   "source": [
    "cleaned_df = adjust_numeric_data_types(cleaned_df)\n",
    "cleaned_df.dtypes"
   ]
  },
  {
   "cell_type": "markdown",
   "metadata": {
    "id": "W3M_tnDavxl5",
    "pycharm": {
     "name": "#%% md\n"
    }
   },
   "source": [
    "## Dealing with Categorical variables"
   ]
  },
  {
   "cell_type": "markdown",
   "metadata": {
    "id": "_tJDDNczvxl5"
   },
   "source": [
    "### neo and pha columns"
   ]
  },
  {
   "cell_type": "code",
   "execution_count": 70,
   "metadata": {
    "id": "r7b1s64Mvxl5"
   },
   "outputs": [],
   "source": [
    "def handle_categorical_data(df, categories_list=['neo', 'pha', 'class']):\n",
    "    categorical_data = df.select_dtypes(include=['object']).copy()\n",
    "    new_columns = pd.get_dummies(categorical_data, columns=categories_list, drop_first=True)\n",
    "    df = df.drop(categories_list, axis = 1)\n",
    "    model_df = pd.concat([df, new_columns], axis=1)\n",
    "    return model_df"
   ]
  },
  {
   "cell_type": "markdown",
   "metadata": {
    "id": "jRzMKpVv3u0Y"
   },
   "source": [
    "## Correlation Between Features"
   ]
  },
  {
   "cell_type": "code",
   "execution_count": 74,
   "metadata": {
    "colab": {
     "base_uri": "https://localhost:8080/",
     "height": 1000
    },
    "id": "TlLBvgm6wjIB",
    "outputId": "42358b1f-88dc-46ba-b177-190cd5cd9b11"
   },
   "outputs": [
    {
     "data": {
      "image/png": "[encoded data removed]",
      "text/plain": [
       "<Figure size 1584x1368 with 2 Axes>"
      ]
     },
     "metadata": {
      "needs_background": "light"
     },
     "output_type": "display_data"
    }
   ],
   "source": [
    "plt.figure(figsize=(22, 19))\n",
    "sns.heatmap(cleaned_df.corr(method='pearson'),annot=True)\n",
    "plt.title(\"Correlation Between Features\")\n",
    "plt.show()"
   ]
  },
  {
   "cell_type": "code",
   "execution_count": 75,
   "metadata": {
    "id": "Qx4CHU-dvxl6",
    "pycharm": {
     "name": "#%%\n"
    }
   },
   "outputs": [],
   "source": [
    "from sklearn.model_selection import train_test_split\n",
    "from sklearn.metrics import mean_squared_error"
   ]
  },
  {
   "cell_type": "code",
   "execution_count": 76,
   "metadata": {
    "id": "0oVxerRZvxl7"
   },
   "outputs": [],
   "source": [
    "def init_dataset(model_df):\n",
    "    y = model_df['diameter']\n",
    "    X = model_df.drop('diameter', axis=1)\n",
    "    X_train, X_test, y_train, y_test = train_test_split(X, y, test_size=0.2, random_state=42)\n",
    "    return X_train, X_test, y_train, y_test"
   ]
  },
  {
   "cell_type": "code",
   "execution_count": 77,
   "metadata": {
    "id": "aEtTzEwEvxl7"
   },
   "outputs": [],
   "source": [
    "X_train, X_test, y_train, y_test = init_dataset(cleaned_df)\n",
    "X_train = handle_categorical_data(X_train)\n",
    "X_test = handle_categorical_data(X_test)"
   ]
  },
  {
   "cell_type": "code",
   "execution_count": 78,
   "metadata": {
    "id": "A0LyTeCCvxl7"
   },
   "outputs": [],
   "source": [
    "def different_models(Classifiers, X_train, X_test, y_train, y_test):\n",
    "    for classifier in Classifiers.keys():\n",
    "        clf = Classifiers[classifier]\n",
    "        clf.fit(X_train, y_train)\n",
    "        predict = clf.predict(X_test)\n",
    "        print(f'{classifier}:\\n')\n",
    "        print('Training Accuracy : ' , clf.score(X_train, y_train))\n",
    "        print('Test Accuracy : ' , clf.score(X_test, y_test))\n",
    "        print(f\"MSE score is: {mean_squared_error(y_test, predict)}\")"
   ]
  },
  {
   "cell_type": "markdown",
   "metadata": {
    "id": "dREnqswIvxl7",
    "pycharm": {
     "name": "#%% md\n"
    }
   },
   "source": [
    "## Basic Regression Models"
   ]
  },
  {
   "cell_type": "code",
   "execution_count": 79,
   "metadata": {
    "id": "BHf0r8_uvxl8"
   },
   "outputs": [],
   "source": [
    "from sklearn.ensemble import RandomForestRegressor\n",
    "from sklearn.linear_model import LinearRegression"
   ]
  },
  {
   "cell_type": "code",
   "execution_count": 80,
   "metadata": {
    "id": "m97LvVHzvxl8"
   },
   "outputs": [
    {
     "name": "stdout",
     "output_type": "stream",
     "text": [
      "Linear Regression:\n",
      "\n",
      "Training Accuracy :  0.5454264905959538\n",
      "Test Accuracy :  0.39247973195408636\n",
      "MSE score is: 65.480004894875\n",
      "Random Forest:\n",
      "\n",
      "Training Accuracy :  0.9941784972242428\n",
      "Test Accuracy :  0.9269865657022163\n",
      "MSE score is: 7.869564665864273\n"
     ]
    }
   ],
   "source": [
    "Classifiers = {\"Linear Regression\": LinearRegression(),\n",
    "              \"Random Forest\": RandomForestRegressor(),\n",
    "             }\n",
    "different_models(Classifiers, X_train, X_test, y_train, y_test)"
   ]
  },
  {
   "cell_type": "markdown",
   "metadata": {
    "id": "Mf09JvsVvxl8",
    "pycharm": {
     "name": "#%% md\n"
    }
   },
   "source": [
    "### Result conclusion from the models\n",
    "Basic Linear Regression was able to achieve only 39% accuracy results (with high overfitting). </br>\n",
    "Basic Random Forest was able to achieve 93% accuracy results (with a little overfitting). </br>"
   ]
  },
  {
   "cell_type": "markdown",
   "metadata": {
    "id": "WF7gVG5ivxl8"
   },
   "source": [
    "### Dropping columns which has more than 90% of missing values"
   ]
  },
  {
   "cell_type": "code",
   "execution_count": 81,
   "metadata": {
    "id": "mr52D0Ydvxl8"
   },
   "outputs": [],
   "source": [
    "def print_percent_missing(df):\n",
    "    percent_missing = df.isnull().sum() * 100 / len(df)\n",
    "    missing_value = pd.DataFrame({'column': df.columns,'percent_missing': percent_missing})\n",
    "    missing_value = missing_value.sort_values('percent_missing', ascending=False)    \n",
    "    \n",
    "    column_null_list = missing_value[missing_value[\"percent_missing\"] > 0]\n",
    "    print(column_null_list[\"percent_missing\"])\n",
    "    return missing_value"
   ]
  },
  {
   "cell_type": "code",
   "execution_count": 82,
   "metadata": {
    "colab": {
     "base_uri": "https://localhost:8080/"
    },
    "id": "l7-FDKuovxl9",
    "outputId": "8dc11a00-9286-46d3-ed0b-7c301be86e31"
   },
   "outputs": [
    {
     "name": "stdout",
     "output_type": "stream",
     "text": [
      "IR                              99.999273\n",
      "GM                              99.989828\n",
      "extent                          99.988375\n",
      "Magnitude slope parameter       99.913540\n",
      "spec_T                          99.298875\n",
      "UB                              99.298875\n",
      "BV                              99.269813\n",
      "spec_B                          99.004621\n",
      "rot_per                         91.871313\n",
      "albedo                           0.893662\n",
      "Absolute Magnitude parameter     0.542736\n",
      "data arc-span(d)                 0.100264\n",
      "Name: percent_missing, dtype: float64\n"
     ]
    }
   ],
   "source": [
    "missing_value = print_percent_missing(readable_df)"
   ]
  },
  {
   "cell_type": "code",
   "execution_count": 113,
   "metadata": {
    "id": "1TvI4Bzkvxl9"
   },
   "outputs": [],
   "source": [
    "drop_cols = missing_value[\"column\"][missing_value[\"percent_missing\"] > 90]\n",
    "cleaned_df = readable_df.drop(columns=drop_cols)"
   ]
  },
  {
   "cell_type": "markdown",
   "metadata": {
    "id": "0yELb2YJzbTl"
   },
   "source": [
    "# Split the dataset into training and testing sets"
   ]
  },
  {
   "cell_type": "code",
   "execution_count": 114,
   "metadata": {
    "id": "uVRvt8Dsvxl-"
   },
   "outputs": [],
   "source": [
    "cleaned_df = adjust_numeric_data_types(cleaned_df)\n",
    "dtf_train, dtf_test = train_test_split(cleaned_df, test_size=0.2)"
   ]
  },
  {
   "cell_type": "code",
   "execution_count": 115,
   "metadata": {
    "colab": {
     "base_uri": "https://localhost:8080/"
    },
    "id": "Hc4X-AMBvxl-",
    "outputId": "75b60c8e-1fa8-4480-c2be-d781ddb32d37"
   },
   "outputs": [
    {
     "name": "stdout",
     "output_type": "stream",
     "text": [
      "data arc-span(d)                121\n",
      "Absolute Magnitude parameter    601\n",
      "albedo                          973\n",
      "dtype: int64\n"
     ]
    }
   ],
   "source": [
    "print_null_columns_sum(dtf_train)"
   ]
  },
  {
   "cell_type": "code",
   "execution_count": 116,
   "metadata": {
    "colab": {
     "base_uri": "https://localhost:8080/"
    },
    "id": "EjOzJTnEvxl-",
    "outputId": "d969f69e-b46b-42be-b40e-8550b4d9f08b"
   },
   "outputs": [
    {
     "data": {
      "text/plain": [
       "semi-major axis                    float64\n",
       "eccentricity                       float64\n",
       "Inclination with ecliptic plane    float64\n",
       "Longitude of the ascending node    float64\n",
       "argument of perihelion             float64\n",
       "perihelion distance(au)            float64\n",
       "aphelion distance(au)              float64\n",
       "Orbital period                     float64\n",
       "data arc-span(d)                   float64\n",
       "Orbit condition code               float64\n",
       "number of observations used          int64\n",
       "Absolute Magnitude parameter       float64\n",
       "neo                                 object\n",
       "pha                                 object\n",
       "diameter                           float64\n",
       "albedo                             float64\n",
       "moid                               float64\n",
       "class                               object\n",
       "n                                  float64\n",
       "per                                float64\n",
       "ma                                 float64\n",
       "dtype: object"
      ]
     },
     "execution_count": 116,
     "metadata": {},
     "output_type": "execute_result"
    }
   ],
   "source": [
    "dtf_train.dtypes"
   ]
  },
  {
   "cell_type": "code",
   "execution_count": 117,
   "metadata": {
    "id": "kJLjmsrJvxl9"
   },
   "outputs": [],
   "source": [
    "nan_cols_contiguous = ['data arc-span(d)', 'Absolute Magnitude parameter', 'albedo']"
   ]
  },
  {
   "cell_type": "markdown",
   "metadata": {
    "id": "lywZjkh_8s8j"
   },
   "source": [
    "# \"One Hot\" encoding"
   ]
  },
  {
   "cell_type": "code",
   "execution_count": 118,
   "metadata": {
    "colab": {
     "base_uri": "https://localhost:8080/"
    },
    "id": "7aryabGz8vlw",
    "outputId": "9c07ede5-f935-4b74-c40e-a3713b6769f4"
   },
   "outputs": [],
   "source": [
    "dtf_train = handle_categorical_data(dtf_train, dtf_train.select_dtypes(include=['object']).columns)\n",
    "dtf_test = handle_categorical_data(dtf_test, dtf_test.select_dtypes(include=['object']).columns)"
   ]
  },
  {
   "cell_type": "markdown",
   "metadata": {
    "id": "mJ8zYspcDPPw"
   },
   "source": [
    "# Predict missing values"
   ]
  },
  {
   "cell_type": "code",
   "execution_count": 122,
   "metadata": {
    "id": "e_Oj8AwjCr8A"
   },
   "outputs": [],
   "source": [
    "def predict_missing_values(nan_cols, model_df_train, model_df_test):\n",
    "\n",
    "  for arg in nan_cols:\n",
    "    model_copy = model_df_train.copy()\n",
    "    nan_cols_con_copy = nan_cols.copy()\n",
    "    nan_cols_con_copy.remove(arg)\n",
    "    model_copy = model_copy.drop(nan_cols_con_copy, axis=1)\n",
    "    test_data = model_copy[model_copy[arg].isnull()]\n",
    "    model_copy.dropna(inplace=True)\n",
    "\n",
    "    y_train = model_copy[arg]\n",
    "    X_train = model_copy.drop(arg, axis=1)\n",
    "    X_test = test_data.drop(arg, axis=1)\n",
    "    model = LinearRegression()\n",
    "    model.fit(X_train, y_train)\n",
    "    y_pred = model.predict(X_test)\n",
    "    model_df_train.loc[model_df_train[arg].isnull(), arg] = y_pred\n",
    "    #model_copy_test = model_df_test.copy()\n",
    "\n",
    "    test_data = model_df_test[model_df_test[arg].isnull()]\n",
    "    #y_pred_test = model.predict(model_df_test.drop(arg, axis=1))\n",
    "    dropped = test_data.drop(nan_cols, axis=1)\n",
    "    y_pred_test = model.predict(dropped)\n",
    "    model_df_test.loc[model_df_test[arg].isnull(), arg] = y_pred_test"
   ]
  },
  {
   "cell_type": "code",
   "execution_count": 123,
   "metadata": {
    "id": "dFr-k9raGKIF"
   },
   "outputs": [],
   "source": [
    "dtf_train_predict = dtf_train.copy()\n",
    "dtf_test_predict = dtf_test.copy()\n"
   ]
  },
  {
   "cell_type": "code",
   "execution_count": 124,
   "metadata": {
    "id": "EPWDmzCwCu7v"
   },
   "outputs": [],
   "source": [
    "predict_missing_values(nan_cols_contiguous, dtf_train_predict, dtf_test_predict)"
   ]
  },
  {
   "cell_type": "code",
   "execution_count": 125,
   "metadata": {
    "colab": {
     "base_uri": "https://localhost:8080/"
    },
    "id": "qtxlO5eMC4FI",
    "outputId": "d847a926-85b5-4bc9-bea5-ac557d127b74"
   },
   "outputs": [
    {
     "name": "stdout",
     "output_type": "stream",
     "text": [
      "Series([], dtype: float64)\n"
     ]
    }
   ],
   "source": [
    "print_null_columns_sum(dtf_train_predict)"
   ]
  },
  {
   "cell_type": "markdown",
   "metadata": {
    "id": "Eg_htG5fDWRY"
   },
   "source": [
    "# Basic Regression Models"
   ]
  },
  {
   "cell_type": "code",
   "execution_count": 126,
   "metadata": {
    "id": "s-PIXsxCD4Zu"
   },
   "outputs": [],
   "source": [
    "y_train = dtf_train_predict['diameter']\n",
    "X_train = dtf_train_predict.drop(['diameter'], axis = 1)\n",
    "y_test = dtf_test_predict['diameter']\n",
    "X_test = dtf_test_predict.drop(['diameter'], axis = 1)"
   ]
  },
  {
   "cell_type": "code",
   "execution_count": 127,
   "metadata": {
    "colab": {
     "base_uri": "https://localhost:8080/"
    },
    "id": "nJHCHYi-DX2V",
    "outputId": "7b98decf-7f65-4604-f0db-219e7d130ec8"
   },
   "outputs": [
    {
     "name": "stdout",
     "output_type": "stream",
     "text": [
      "Linear Regression:\n",
      "\n",
      "Training Accuracy :  0.48744900407747677\n",
      "Test Accuracy :  0.5522111988932135\n",
      "MSE score is: 43.18536435650723\n",
      "Random Forest:\n",
      "\n",
      "Training Accuracy :  0.9931309005717852\n",
      "Test Accuracy :  0.9678386106573941\n",
      "MSE score is: 3.1016883708101286\n"
     ]
    }
   ],
   "source": [
    "Classifiers = {\"Linear Regression\": LinearRegression(),\n",
    "              \"Random Forest\": RandomForestRegressor(),\n",
    "             }\n",
    "different_models(Classifiers, X_train, X_test, y_train, y_test)"
   ]
  },
  {
   "cell_type": "markdown",
   "metadata": {
    "id": "DAv8qgprDlW_"
   },
   "source": [
    "### Result conclusion from the models\n",
    "Basic Linear Regression was able to achieve only 55% accuracy results (with higher score on test set!). </br>\n",
    "Basic Random Forest was able to achieve 97% accuracy results (with a little overfitting). </br>"
   ]
  },
  {
   "cell_type": "markdown",
   "metadata": {
    "id": "qCJCj3qfGinJ"
   },
   "source": [
    "# Fill null values with the mean"
   ]
  },
  {
   "cell_type": "code",
   "execution_count": 128,
   "metadata": {
    "id": "zHjq3ERUGmyT"
   },
   "outputs": [],
   "source": [
    "def fillnawithMean(nan_cols, dtf_train, dtf_test):\n",
    "  for arg in nan_cols:\n",
    "    dtf_train[arg] = dtf_train[arg].fillna(dtf_train[arg].mean())\n",
    "    dtf_test[arg] = dtf_test[arg].fillna(dtf_train[arg].mean())"
   ]
  },
  {
   "cell_type": "code",
   "execution_count": 129,
   "metadata": {
    "id": "maBu2K9KGrfU"
   },
   "outputs": [],
   "source": [
    "dtf_train_mean = dtf_train.copy()\n",
    "dtf_test_mean = dtf_test.copy()"
   ]
  },
  {
   "cell_type": "code",
   "execution_count": 130,
   "metadata": {
    "id": "J8s1ImSyGowX"
   },
   "outputs": [],
   "source": [
    "fillnawithMean(nan_cols_contiguous,dtf_train_mean, dtf_test_mean)"
   ]
  },
  {
   "cell_type": "code",
   "execution_count": 131,
   "metadata": {
    "colab": {
     "base_uri": "https://localhost:8080/"
    },
    "id": "khoXOxPuHESs",
    "outputId": "28d9f3e7-fd5d-429e-a7e2-c7851a00c853"
   },
   "outputs": [
    {
     "name": "stdout",
     "output_type": "stream",
     "text": [
      "Series([], dtype: float64)\n"
     ]
    }
   ],
   "source": [
    "print_null_columns_sum(dtf_train_mean)"
   ]
  },
  {
   "cell_type": "markdown",
   "metadata": {
    "id": "PgDpD07THMt1"
   },
   "source": [
    "# Basic Regression Models"
   ]
  },
  {
   "cell_type": "code",
   "execution_count": 132,
   "metadata": {
    "id": "Gsrke60DHP-D"
   },
   "outputs": [],
   "source": [
    "y_train = dtf_train_mean['diameter']\n",
    "X_train = dtf_train_mean.drop(['diameter'], axis = 1)\n",
    "y_test = dtf_test_mean['diameter']\n",
    "X_test = dtf_test_mean.drop(['diameter'], axis = 1)"
   ]
  },
  {
   "cell_type": "code",
   "execution_count": 133,
   "metadata": {
    "colab": {
     "base_uri": "https://localhost:8080/"
    },
    "id": "sryQoDDeHmhR",
    "outputId": "9cdc4d81-c926-4413-d079-2032dc12aaa6"
   },
   "outputs": [
    {
     "name": "stdout",
     "output_type": "stream",
     "text": [
      "Linear Regression:\n",
      "\n",
      "Training Accuracy :  0.4844517867507821\n",
      "Test Accuracy :  0.5512661235788565\n",
      "MSE score is: 43.27650871227042\n",
      "Random Forest:\n",
      "\n",
      "Training Accuracy :  0.9922015637886795\n",
      "Test Accuracy :  0.9586536175980335\n",
      "MSE score is: 3.987501662478127\n"
     ]
    }
   ],
   "source": [
    "Classifiers = {\"Linear Regression\": LinearRegression(),\n",
    "              \"Random Forest\": RandomForestRegressor(),\n",
    "             }\n",
    "different_models(Classifiers, X_train, X_test, y_train, y_test)"
   ]
  },
  {
   "cell_type": "markdown",
   "metadata": {
    "id": "1tytYvj5I_OW"
   },
   "source": [
    "### Result conclusion from the models\n",
    "Basic Linear Regression was able to achieve only 44% accuracy results (with high overfitting). </br>\n",
    "Basic Random Forest was able to achieve 97% accuracy results (with a little overfitting). </br>"
   ]
  },
  {
   "cell_type": "markdown",
   "metadata": {
    "id": "Gp9a55y5vxl-"
   },
   "source": [
    "<h3>Ways to improve:</h3>\n",
    "<ul>\n",
    "    <li>Data cleaning and manipulation</li>\n",
    "    <li>Feature selection</li>\n",
    "    <li>Hyperparameter tuning</li>\n",
    "    <li>Boosting methods such as XGBoost</li>\n",
    "</ul>"
   ]
  }
 ],
 "metadata": {
  "colab": {
   "collapsed_sections": [],
   "name": "Asteroid_notebook_new_version.ipynb",
   "provenance": []
  },
  "kernelspec": {
   "display_name": "Python 3 (ipykernel)",
   "language": "python",
   "name": "python3"
  },
  "language_info": {
   "codemirror_mode": {
    "name": "ipython",
    "version": 3
   },
   "file_extension": ".py",
   "mimetype": "text/x-python",
   "name": "python",
   "nbconvert_exporter": "python",
   "pygments_lexer": "ipython3",
   "version": "3.9.7"
  }
 },
 "nbformat": 4,
 "nbformat_minor": 1
}
