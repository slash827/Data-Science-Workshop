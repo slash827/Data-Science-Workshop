{
  "cells": [
    {
      "cell_type": "markdown",
      "metadata": {
        "id": "e46jmT5PvwGQ"
      },
      "source": [
        "# **Asteroid Prediction**\n"
      ]
    },
    {
      "cell_type": "markdown",
      "metadata": {
        "id": "ZBH8DG2uwVdK"
      },
      "source": [
        "# Import Python Libraries"
      ]
    },
    {
      "cell_type": "code",
      "execution_count": null,
      "outputs": [],
      "source": [
        "#from google.colab import drive\n",
        "#drive.mount('/content/drive')"
      ],
      "metadata": {
        "pycharm": {
          "name": "#%%\n"
        },
        "id": "7YSk9uvqR7uo"
      }
    },
    {
      "cell_type": "code",
      "execution_count": null,
      "metadata": {
        "id": "f5wQSSrmvsmE"
      },
      "outputs": [],
      "source": [
        "import pandas as pd\n",
        "import numpy as np\n",
        "import seaborn as sns\n",
        "import matplotlib.pyplot as plt\n",
        "%matplotlib inline\n",
        "import sklearn\n",
        "import matplotlib.pyplot as plt\n",
        "from sklearn.ensemble import RandomForestRegressor\n",
        "from sklearn.linear_model import LinearRegression\n",
        "from sklearn.model_selection import train_test_split\n",
        "from sklearn.preprocessing import OneHotEncoder\n",
        "import numpy as np"
      ]
    },
    {
      "cell_type": "markdown",
      "metadata": {
        "id": "eummGGzew4M9"
      },
      "source": [
        "# Reading the Income Classification Dataset"
      ]
    },
    {
      "cell_type": "code",
      "execution_count": null,
      "metadata": {
        "id": "JRldRS3T6q7x"
      },
      "outputs": [],
      "source": [
        "#%cd /content/drive/My Drive/Data"
      ]
    },
    {
      "cell_type": "code",
      "execution_count": null,
      "metadata": {
        "id": "CmR1ECBM6ux5",
        "outputId": "c2e929ef-e8d9-40e7-90ee-58ac4cdb5e4e",
        "colab": {
          "base_uri": "https://localhost:8080/"
        }
      },
      "outputs": [
        {
          "output_type": "stream",
          "name": "stderr",
          "text": [
            "/usr/local/lib/python3.7/dist-packages/IPython/core/interactiveshell.py:2882: DtypeWarning: Columns (11,14,15,22,23) have mixed types.Specify dtype option on import or set low_memory=False.\n",
            "  exec(code_obj, self.user_global_ns, self.user_ns)\n"
          ]
        }
      ],
      "source": [
        "df = pd.read_csv('/Asteroid.csv',  on_bad_lines='skip')"
      ]
    },
    {
      "cell_type": "code",
      "source": [
        "df.head()"
      ],
      "metadata": {
        "colab": {
          "base_uri": "https://localhost:8080/",
          "height": 235
        },
        "id": "CdeqEtNQ5x9a",
        "outputId": "2ffdd8b6-82c1-4c35-ebff-0e795af3354b"
      },
      "execution_count": null,
      "outputs": [
        {
          "output_type": "execute_result",
          "data": {
            "text/plain": [
              "        full_name         a         e     G          i          om  \\\n",
              "0         1 Ceres  2.769165  0.076009  0.12  10.594067   80.305532   \n",
              "1        2 Pallas  2.772466  0.230337  0.11  34.836234  173.080063   \n",
              "2          3 Juno  2.669150  0.256942  0.32  12.988919  169.852760   \n",
              "3         4 Vesta  2.361418  0.088721  0.32   7.141771  103.810804   \n",
              "4       5 Astraea  2.574249  0.191095   NaN   5.366988  141.576604   \n",
              "\n",
              "            w         q        ad     per_y  ...    rot_per       GM     BV  \\\n",
              "0   73.597694  2.558684  2.979647  4.608202  ...   9.074170  62.6284  0.713   \n",
              "1  310.048857  2.133865  3.411067  4.616444  ...   7.813200  14.3000  0.635   \n",
              "2  248.138626  1.983332  3.354967  4.360814  ...   7.210000      NaN  0.824   \n",
              "3  150.728541  2.151909  2.570926  3.628837  ...   5.342128  17.8000  0.782   \n",
              "4  358.687608  2.082324  3.066174  4.130323  ...  16.806000      NaN  0.826   \n",
              "\n",
              "      UB  IR spec_B  spec_T  neo  pha     moid  \n",
              "0  0.426 NaN      C       G    N    N  1.59478  \n",
              "1  0.284 NaN      B       B    N    N  1.23324  \n",
              "2  0.433 NaN     Sk       S    N    N  1.03454  \n",
              "3  0.492 NaN      V       V    N    N  1.13948  \n",
              "4  0.411 NaN      S       S    N    N  1.09589  \n",
              "\n",
              "[5 rows x 27 columns]"
            ],
            "text/html": [
              "\n",
              "  <div id=\"df-701855fc-93be-443f-a399-8884f6377a2d\">\n",
              "    <div class=\"colab-df-container\">\n",
              "      <div>\n",
              "<style scoped>\n",
              "    .dataframe tbody tr th:only-of-type {\n",
              "        vertical-align: middle;\n",
              "    }\n",
              "\n",
              "    .dataframe tbody tr th {\n",
              "        vertical-align: top;\n",
              "    }\n",
              "\n",
              "    .dataframe thead th {\n",
              "        text-align: right;\n",
              "    }\n",
              "</style>\n",
              "<table border=\"1\" class=\"dataframe\">\n",
              "  <thead>\n",
              "    <tr style=\"text-align: right;\">\n",
              "      <th></th>\n",
              "      <th>full_name</th>\n",
              "      <th>a</th>\n",
              "      <th>e</th>\n",
              "      <th>G</th>\n",
              "      <th>i</th>\n",
              "      <th>om</th>\n",
              "      <th>w</th>\n",
              "      <th>q</th>\n",
              "      <th>ad</th>\n",
              "      <th>per_y</th>\n",
              "      <th>...</th>\n",
              "      <th>rot_per</th>\n",
              "      <th>GM</th>\n",
              "      <th>BV</th>\n",
              "      <th>UB</th>\n",
              "      <th>IR</th>\n",
              "      <th>spec_B</th>\n",
              "      <th>spec_T</th>\n",
              "      <th>neo</th>\n",
              "      <th>pha</th>\n",
              "      <th>moid</th>\n",
              "    </tr>\n",
              "  </thead>\n",
              "  <tbody>\n",
              "    <tr>\n",
              "      <th>0</th>\n",
              "      <td>1 Ceres</td>\n",
              "      <td>2.769165</td>\n",
              "      <td>0.076009</td>\n",
              "      <td>0.12</td>\n",
              "      <td>10.594067</td>\n",
              "      <td>80.305532</td>\n",
              "      <td>73.597694</td>\n",
              "      <td>2.558684</td>\n",
              "      <td>2.979647</td>\n",
              "      <td>4.608202</td>\n",
              "      <td>...</td>\n",
              "      <td>9.074170</td>\n",
              "      <td>62.6284</td>\n",
              "      <td>0.713</td>\n",
              "      <td>0.426</td>\n",
              "      <td>NaN</td>\n",
              "      <td>C</td>\n",
              "      <td>G</td>\n",
              "      <td>N</td>\n",
              "      <td>N</td>\n",
              "      <td>1.59478</td>\n",
              "    </tr>\n",
              "    <tr>\n",
              "      <th>1</th>\n",
              "      <td>2 Pallas</td>\n",
              "      <td>2.772466</td>\n",
              "      <td>0.230337</td>\n",
              "      <td>0.11</td>\n",
              "      <td>34.836234</td>\n",
              "      <td>173.080063</td>\n",
              "      <td>310.048857</td>\n",
              "      <td>2.133865</td>\n",
              "      <td>3.411067</td>\n",
              "      <td>4.616444</td>\n",
              "      <td>...</td>\n",
              "      <td>7.813200</td>\n",
              "      <td>14.3000</td>\n",
              "      <td>0.635</td>\n",
              "      <td>0.284</td>\n",
              "      <td>NaN</td>\n",
              "      <td>B</td>\n",
              "      <td>B</td>\n",
              "      <td>N</td>\n",
              "      <td>N</td>\n",
              "      <td>1.23324</td>\n",
              "    </tr>\n",
              "    <tr>\n",
              "      <th>2</th>\n",
              "      <td>3 Juno</td>\n",
              "      <td>2.669150</td>\n",
              "      <td>0.256942</td>\n",
              "      <td>0.32</td>\n",
              "      <td>12.988919</td>\n",
              "      <td>169.852760</td>\n",
              "      <td>248.138626</td>\n",
              "      <td>1.983332</td>\n",
              "      <td>3.354967</td>\n",
              "      <td>4.360814</td>\n",
              "      <td>...</td>\n",
              "      <td>7.210000</td>\n",
              "      <td>NaN</td>\n",
              "      <td>0.824</td>\n",
              "      <td>0.433</td>\n",
              "      <td>NaN</td>\n",
              "      <td>Sk</td>\n",
              "      <td>S</td>\n",
              "      <td>N</td>\n",
              "      <td>N</td>\n",
              "      <td>1.03454</td>\n",
              "    </tr>\n",
              "    <tr>\n",
              "      <th>3</th>\n",
              "      <td>4 Vesta</td>\n",
              "      <td>2.361418</td>\n",
              "      <td>0.088721</td>\n",
              "      <td>0.32</td>\n",
              "      <td>7.141771</td>\n",
              "      <td>103.810804</td>\n",
              "      <td>150.728541</td>\n",
              "      <td>2.151909</td>\n",
              "      <td>2.570926</td>\n",
              "      <td>3.628837</td>\n",
              "      <td>...</td>\n",
              "      <td>5.342128</td>\n",
              "      <td>17.8000</td>\n",
              "      <td>0.782</td>\n",
              "      <td>0.492</td>\n",
              "      <td>NaN</td>\n",
              "      <td>V</td>\n",
              "      <td>V</td>\n",
              "      <td>N</td>\n",
              "      <td>N</td>\n",
              "      <td>1.13948</td>\n",
              "    </tr>\n",
              "    <tr>\n",
              "      <th>4</th>\n",
              "      <td>5 Astraea</td>\n",
              "      <td>2.574249</td>\n",
              "      <td>0.191095</td>\n",
              "      <td>NaN</td>\n",
              "      <td>5.366988</td>\n",
              "      <td>141.576604</td>\n",
              "      <td>358.687608</td>\n",
              "      <td>2.082324</td>\n",
              "      <td>3.066174</td>\n",
              "      <td>4.130323</td>\n",
              "      <td>...</td>\n",
              "      <td>16.806000</td>\n",
              "      <td>NaN</td>\n",
              "      <td>0.826</td>\n",
              "      <td>0.411</td>\n",
              "      <td>NaN</td>\n",
              "      <td>S</td>\n",
              "      <td>S</td>\n",
              "      <td>N</td>\n",
              "      <td>N</td>\n",
              "      <td>1.09589</td>\n",
              "    </tr>\n",
              "  </tbody>\n",
              "</table>\n",
              "<p>5 rows × 27 columns</p>\n",
              "</div>\n",
              "      <button class=\"colab-df-convert\" onclick=\"convertToInteractive('df-701855fc-93be-443f-a399-8884f6377a2d')\"\n",
              "              title=\"Convert this dataframe to an interactive table.\"\n",
              "              style=\"display:none;\">\n",
              "        \n",
              "  <svg xmlns=\"http://www.w3.org/2000/svg\" height=\"24px\"viewBox=\"0 0 24 24\"\n",
              "       width=\"24px\">\n",
              "    <path d=\"M0 0h24v24H0V0z\" fill=\"none\"/>\n",
              "    <path d=\"M18.56 5.44l.94 2.06.94-2.06 2.06-.94-2.06-.94-.94-2.06-.94 2.06-2.06.94zm-11 1L8.5 8.5l.94-2.06 2.06-.94-2.06-.94L8.5 2.5l-.94 2.06-2.06.94zm10 10l.94 2.06.94-2.06 2.06-.94-2.06-.94-.94-2.06-.94 2.06-2.06.94z\"/><path d=\"M17.41 7.96l-1.37-1.37c-.4-.4-.92-.59-1.43-.59-.52 0-1.04.2-1.43.59L10.3 9.45l-7.72 7.72c-.78.78-.78 2.05 0 2.83L4 21.41c.39.39.9.59 1.41.59.51 0 1.02-.2 1.41-.59l7.78-7.78 2.81-2.81c.8-.78.8-2.07 0-2.86zM5.41 20L4 18.59l7.72-7.72 1.47 1.35L5.41 20z\"/>\n",
              "  </svg>\n",
              "      </button>\n",
              "      \n",
              "  <style>\n",
              "    .colab-df-container {\n",
              "      display:flex;\n",
              "      flex-wrap:wrap;\n",
              "      gap: 12px;\n",
              "    }\n",
              "\n",
              "    .colab-df-convert {\n",
              "      background-color: #E8F0FE;\n",
              "      border: none;\n",
              "      border-radius: 50%;\n",
              "      cursor: pointer;\n",
              "      display: none;\n",
              "      fill: #1967D2;\n",
              "      height: 32px;\n",
              "      padding: 0 0 0 0;\n",
              "      width: 32px;\n",
              "    }\n",
              "\n",
              "    .colab-df-convert:hover {\n",
              "      background-color: #E2EBFA;\n",
              "      box-shadow: 0px 1px 2px rgba(60, 64, 67, 0.3), 0px 1px 3px 1px rgba(60, 64, 67, 0.15);\n",
              "      fill: #174EA6;\n",
              "    }\n",
              "\n",
              "    [theme=dark] .colab-df-convert {\n",
              "      background-color: #3B4455;\n",
              "      fill: #D2E3FC;\n",
              "    }\n",
              "\n",
              "    [theme=dark] .colab-df-convert:hover {\n",
              "      background-color: #434B5C;\n",
              "      box-shadow: 0px 1px 3px 1px rgba(0, 0, 0, 0.15);\n",
              "      filter: drop-shadow(0px 1px 2px rgba(0, 0, 0, 0.3));\n",
              "      fill: #FFFFFF;\n",
              "    }\n",
              "  </style>\n",
              "\n",
              "      <script>\n",
              "        const buttonEl =\n",
              "          document.querySelector('#df-701855fc-93be-443f-a399-8884f6377a2d button.colab-df-convert');\n",
              "        buttonEl.style.display =\n",
              "          google.colab.kernel.accessAllowed ? 'block' : 'none';\n",
              "\n",
              "        async function convertToInteractive(key) {\n",
              "          const element = document.querySelector('#df-701855fc-93be-443f-a399-8884f6377a2d');\n",
              "          const dataTable =\n",
              "            await google.colab.kernel.invokeFunction('convertToInteractive',\n",
              "                                                     [key], {});\n",
              "          if (!dataTable) return;\n",
              "\n",
              "          const docLinkHtml = 'Like what you see? Visit the ' +\n",
              "            '<a target=\"_blank\" href=https://colab.research.google.com/notebooks/data_table.ipynb>data table notebook</a>'\n",
              "            + ' to learn more about interactive tables.';\n",
              "          element.innerHTML = '';\n",
              "          dataTable['output_type'] = 'display_data';\n",
              "          await google.colab.output.renderOutput(dataTable, element);\n",
              "          const docLink = document.createElement('div');\n",
              "          docLink.innerHTML = docLinkHtml;\n",
              "          element.appendChild(docLink);\n",
              "        }\n",
              "      </script>\n",
              "    </div>\n",
              "  </div>\n",
              "  "
            ]
          },
          "metadata": {},
          "execution_count": 224
        }
      ]
    },
    {
      "cell_type": "markdown",
      "source": [
        "# Column Renaming"
      ],
      "metadata": {
        "collapsed": false,
        "pycharm": {
          "name": "#%% md\n"
        },
        "id": "UjIQvERdR7us"
      }
    },
    {
      "cell_type": "code",
      "execution_count": null,
      "outputs": [],
      "source": [
        "readable_df = df.copy()\n",
        "readable_df = readable_df.rename(columns={\"a\": \"semi-major axis\",\n",
        "                            \"e\": \"eccentricity\",\n",
        "                            \"G\": \"Magnitude slope parameter\",\n",
        "                            \"i\": \"Inclination with ecliptic plane\",\n",
        "                            \"om\": \"Longitude of the ascending node\",\n",
        "                            \"w\": \"argument of perihelion\",\n",
        "                            \"q\": \"perihelion distance(au)\",\n",
        "                            \"ad\": \"aphelion distance(au)\",\n",
        "                            \"per_y\": \"Orbital period\",\n",
        "                            \"data_arc\": \"data arc-span(d)\",\n",
        "                            \"condition_code\": \"Orbit condition code\",\n",
        "                            \"n_obs_used\": \"number of observations used\",\n",
        "                            \"H\": \"Absolute Magnitude parameter\",\n",
        "                            \"condition_code\": \"Orbit condition code\",\n",
        "                            })"
      ],
      "metadata": {
        "pycharm": {
          "name": "#%%\n"
        },
        "id": "evJ2jMnuR7us"
      }
    },
    {
      "cell_type": "code",
      "execution_count": null,
      "metadata": {
        "colab": {
          "base_uri": "https://localhost:8080/",
          "height": 297
        },
        "id": "h4-SRqnm6ik6",
        "outputId": "580c943a-2afb-4458-95e4-5dd4d6c8cc2b"
      },
      "outputs": [
        {
          "output_type": "execute_result",
          "data": {
            "text/plain": [
              "        full_name  semi-major axis  eccentricity  Magnitude slope parameter  \\\n",
              "0         1 Ceres         2.769165      0.076009                       0.12   \n",
              "1        2 Pallas         2.772466      0.230337                       0.11   \n",
              "2          3 Juno         2.669150      0.256942                       0.32   \n",
              "3         4 Vesta         2.361418      0.088721                       0.32   \n",
              "4       5 Astraea         2.574249      0.191095                        NaN   \n",
              "\n",
              "   Inclination with ecliptic plane  Longitude of the ascending node  \\\n",
              "0                        10.594067                        80.305532   \n",
              "1                        34.836234                       173.080063   \n",
              "2                        12.988919                       169.852760   \n",
              "3                         7.141771                       103.810804   \n",
              "4                         5.366988                       141.576604   \n",
              "\n",
              "   argument of perihelion  perihelion distance(au)  aphelion distance(au)  \\\n",
              "0               73.597694                 2.558684               2.979647   \n",
              "1              310.048857                 2.133865               3.411067   \n",
              "2              248.138626                 1.983332               3.354967   \n",
              "3              150.728541                 2.151909               2.570926   \n",
              "4              358.687608                 2.082324               3.066174   \n",
              "\n",
              "   Orbital period  ...    rot_per       GM     BV     UB  IR spec_B  spec_T  \\\n",
              "0        4.608202  ...   9.074170  62.6284  0.713  0.426 NaN      C       G   \n",
              "1        4.616444  ...   7.813200  14.3000  0.635  0.284 NaN      B       B   \n",
              "2        4.360814  ...   7.210000      NaN  0.824  0.433 NaN     Sk       S   \n",
              "3        3.628837  ...   5.342128  17.8000  0.782  0.492 NaN      V       V   \n",
              "4        4.130323  ...  16.806000      NaN  0.826  0.411 NaN      S       S   \n",
              "\n",
              "   neo  pha     moid  \n",
              "0    N    N  1.59478  \n",
              "1    N    N  1.23324  \n",
              "2    N    N  1.03454  \n",
              "3    N    N  1.13948  \n",
              "4    N    N  1.09589  \n",
              "\n",
              "[5 rows x 27 columns]"
            ],
            "text/html": [
              "\n",
              "  <div id=\"df-97e7a022-8375-4b8a-a2dc-1372459a1781\">\n",
              "    <div class=\"colab-df-container\">\n",
              "      <div>\n",
              "<style scoped>\n",
              "    .dataframe tbody tr th:only-of-type {\n",
              "        vertical-align: middle;\n",
              "    }\n",
              "\n",
              "    .dataframe tbody tr th {\n",
              "        vertical-align: top;\n",
              "    }\n",
              "\n",
              "    .dataframe thead th {\n",
              "        text-align: right;\n",
              "    }\n",
              "</style>\n",
              "<table border=\"1\" class=\"dataframe\">\n",
              "  <thead>\n",
              "    <tr style=\"text-align: right;\">\n",
              "      <th></th>\n",
              "      <th>full_name</th>\n",
              "      <th>semi-major axis</th>\n",
              "      <th>eccentricity</th>\n",
              "      <th>Magnitude slope parameter</th>\n",
              "      <th>Inclination with ecliptic plane</th>\n",
              "      <th>Longitude of the ascending node</th>\n",
              "      <th>argument of perihelion</th>\n",
              "      <th>perihelion distance(au)</th>\n",
              "      <th>aphelion distance(au)</th>\n",
              "      <th>Orbital period</th>\n",
              "      <th>...</th>\n",
              "      <th>rot_per</th>\n",
              "      <th>GM</th>\n",
              "      <th>BV</th>\n",
              "      <th>UB</th>\n",
              "      <th>IR</th>\n",
              "      <th>spec_B</th>\n",
              "      <th>spec_T</th>\n",
              "      <th>neo</th>\n",
              "      <th>pha</th>\n",
              "      <th>moid</th>\n",
              "    </tr>\n",
              "  </thead>\n",
              "  <tbody>\n",
              "    <tr>\n",
              "      <th>0</th>\n",
              "      <td>1 Ceres</td>\n",
              "      <td>2.769165</td>\n",
              "      <td>0.076009</td>\n",
              "      <td>0.12</td>\n",
              "      <td>10.594067</td>\n",
              "      <td>80.305532</td>\n",
              "      <td>73.597694</td>\n",
              "      <td>2.558684</td>\n",
              "      <td>2.979647</td>\n",
              "      <td>4.608202</td>\n",
              "      <td>...</td>\n",
              "      <td>9.074170</td>\n",
              "      <td>62.6284</td>\n",
              "      <td>0.713</td>\n",
              "      <td>0.426</td>\n",
              "      <td>NaN</td>\n",
              "      <td>C</td>\n",
              "      <td>G</td>\n",
              "      <td>N</td>\n",
              "      <td>N</td>\n",
              "      <td>1.59478</td>\n",
              "    </tr>\n",
              "    <tr>\n",
              "      <th>1</th>\n",
              "      <td>2 Pallas</td>\n",
              "      <td>2.772466</td>\n",
              "      <td>0.230337</td>\n",
              "      <td>0.11</td>\n",
              "      <td>34.836234</td>\n",
              "      <td>173.080063</td>\n",
              "      <td>310.048857</td>\n",
              "      <td>2.133865</td>\n",
              "      <td>3.411067</td>\n",
              "      <td>4.616444</td>\n",
              "      <td>...</td>\n",
              "      <td>7.813200</td>\n",
              "      <td>14.3000</td>\n",
              "      <td>0.635</td>\n",
              "      <td>0.284</td>\n",
              "      <td>NaN</td>\n",
              "      <td>B</td>\n",
              "      <td>B</td>\n",
              "      <td>N</td>\n",
              "      <td>N</td>\n",
              "      <td>1.23324</td>\n",
              "    </tr>\n",
              "    <tr>\n",
              "      <th>2</th>\n",
              "      <td>3 Juno</td>\n",
              "      <td>2.669150</td>\n",
              "      <td>0.256942</td>\n",
              "      <td>0.32</td>\n",
              "      <td>12.988919</td>\n",
              "      <td>169.852760</td>\n",
              "      <td>248.138626</td>\n",
              "      <td>1.983332</td>\n",
              "      <td>3.354967</td>\n",
              "      <td>4.360814</td>\n",
              "      <td>...</td>\n",
              "      <td>7.210000</td>\n",
              "      <td>NaN</td>\n",
              "      <td>0.824</td>\n",
              "      <td>0.433</td>\n",
              "      <td>NaN</td>\n",
              "      <td>Sk</td>\n",
              "      <td>S</td>\n",
              "      <td>N</td>\n",
              "      <td>N</td>\n",
              "      <td>1.03454</td>\n",
              "    </tr>\n",
              "    <tr>\n",
              "      <th>3</th>\n",
              "      <td>4 Vesta</td>\n",
              "      <td>2.361418</td>\n",
              "      <td>0.088721</td>\n",
              "      <td>0.32</td>\n",
              "      <td>7.141771</td>\n",
              "      <td>103.810804</td>\n",
              "      <td>150.728541</td>\n",
              "      <td>2.151909</td>\n",
              "      <td>2.570926</td>\n",
              "      <td>3.628837</td>\n",
              "      <td>...</td>\n",
              "      <td>5.342128</td>\n",
              "      <td>17.8000</td>\n",
              "      <td>0.782</td>\n",
              "      <td>0.492</td>\n",
              "      <td>NaN</td>\n",
              "      <td>V</td>\n",
              "      <td>V</td>\n",
              "      <td>N</td>\n",
              "      <td>N</td>\n",
              "      <td>1.13948</td>\n",
              "    </tr>\n",
              "    <tr>\n",
              "      <th>4</th>\n",
              "      <td>5 Astraea</td>\n",
              "      <td>2.574249</td>\n",
              "      <td>0.191095</td>\n",
              "      <td>NaN</td>\n",
              "      <td>5.366988</td>\n",
              "      <td>141.576604</td>\n",
              "      <td>358.687608</td>\n",
              "      <td>2.082324</td>\n",
              "      <td>3.066174</td>\n",
              "      <td>4.130323</td>\n",
              "      <td>...</td>\n",
              "      <td>16.806000</td>\n",
              "      <td>NaN</td>\n",
              "      <td>0.826</td>\n",
              "      <td>0.411</td>\n",
              "      <td>NaN</td>\n",
              "      <td>S</td>\n",
              "      <td>S</td>\n",
              "      <td>N</td>\n",
              "      <td>N</td>\n",
              "      <td>1.09589</td>\n",
              "    </tr>\n",
              "  </tbody>\n",
              "</table>\n",
              "<p>5 rows × 27 columns</p>\n",
              "</div>\n",
              "      <button class=\"colab-df-convert\" onclick=\"convertToInteractive('df-97e7a022-8375-4b8a-a2dc-1372459a1781')\"\n",
              "              title=\"Convert this dataframe to an interactive table.\"\n",
              "              style=\"display:none;\">\n",
              "        \n",
              "  <svg xmlns=\"http://www.w3.org/2000/svg\" height=\"24px\"viewBox=\"0 0 24 24\"\n",
              "       width=\"24px\">\n",
              "    <path d=\"M0 0h24v24H0V0z\" fill=\"none\"/>\n",
              "    <path d=\"M18.56 5.44l.94 2.06.94-2.06 2.06-.94-2.06-.94-.94-2.06-.94 2.06-2.06.94zm-11 1L8.5 8.5l.94-2.06 2.06-.94-2.06-.94L8.5 2.5l-.94 2.06-2.06.94zm10 10l.94 2.06.94-2.06 2.06-.94-2.06-.94-.94-2.06-.94 2.06-2.06.94z\"/><path d=\"M17.41 7.96l-1.37-1.37c-.4-.4-.92-.59-1.43-.59-.52 0-1.04.2-1.43.59L10.3 9.45l-7.72 7.72c-.78.78-.78 2.05 0 2.83L4 21.41c.39.39.9.59 1.41.59.51 0 1.02-.2 1.41-.59l7.78-7.78 2.81-2.81c.8-.78.8-2.07 0-2.86zM5.41 20L4 18.59l7.72-7.72 1.47 1.35L5.41 20z\"/>\n",
              "  </svg>\n",
              "      </button>\n",
              "      \n",
              "  <style>\n",
              "    .colab-df-container {\n",
              "      display:flex;\n",
              "      flex-wrap:wrap;\n",
              "      gap: 12px;\n",
              "    }\n",
              "\n",
              "    .colab-df-convert {\n",
              "      background-color: #E8F0FE;\n",
              "      border: none;\n",
              "      border-radius: 50%;\n",
              "      cursor: pointer;\n",
              "      display: none;\n",
              "      fill: #1967D2;\n",
              "      height: 32px;\n",
              "      padding: 0 0 0 0;\n",
              "      width: 32px;\n",
              "    }\n",
              "\n",
              "    .colab-df-convert:hover {\n",
              "      background-color: #E2EBFA;\n",
              "      box-shadow: 0px 1px 2px rgba(60, 64, 67, 0.3), 0px 1px 3px 1px rgba(60, 64, 67, 0.15);\n",
              "      fill: #174EA6;\n",
              "    }\n",
              "\n",
              "    [theme=dark] .colab-df-convert {\n",
              "      background-color: #3B4455;\n",
              "      fill: #D2E3FC;\n",
              "    }\n",
              "\n",
              "    [theme=dark] .colab-df-convert:hover {\n",
              "      background-color: #434B5C;\n",
              "      box-shadow: 0px 1px 3px 1px rgba(0, 0, 0, 0.15);\n",
              "      filter: drop-shadow(0px 1px 2px rgba(0, 0, 0, 0.3));\n",
              "      fill: #FFFFFF;\n",
              "    }\n",
              "  </style>\n",
              "\n",
              "      <script>\n",
              "        const buttonEl =\n",
              "          document.querySelector('#df-97e7a022-8375-4b8a-a2dc-1372459a1781 button.colab-df-convert');\n",
              "        buttonEl.style.display =\n",
              "          google.colab.kernel.accessAllowed ? 'block' : 'none';\n",
              "\n",
              "        async function convertToInteractive(key) {\n",
              "          const element = document.querySelector('#df-97e7a022-8375-4b8a-a2dc-1372459a1781');\n",
              "          const dataTable =\n",
              "            await google.colab.kernel.invokeFunction('convertToInteractive',\n",
              "                                                     [key], {});\n",
              "          if (!dataTable) return;\n",
              "\n",
              "          const docLinkHtml = 'Like what you see? Visit the ' +\n",
              "            '<a target=\"_blank\" href=https://colab.research.google.com/notebooks/data_table.ipynb>data table notebook</a>'\n",
              "            + ' to learn more about interactive tables.';\n",
              "          element.innerHTML = '';\n",
              "          dataTable['output_type'] = 'display_data';\n",
              "          await google.colab.output.renderOutput(dataTable, element);\n",
              "          const docLink = document.createElement('div');\n",
              "          docLink.innerHTML = docLinkHtml;\n",
              "          element.appendChild(docLink);\n",
              "        }\n",
              "      </script>\n",
              "    </div>\n",
              "  </div>\n",
              "  "
            ]
          },
          "metadata": {},
          "execution_count": 226
        }
      ],
      "source": [
        "readable_df.head()"
      ]
    },
    {
      "cell_type": "markdown",
      "metadata": {
        "id": "z0oHQWk2x9zD"
      },
      "source": [
        "# **Exploration (EDA) & Visualization**"
      ]
    },
    {
      "cell_type": "code",
      "execution_count": null,
      "metadata": {
        "colab": {
          "base_uri": "https://localhost:8080/"
        },
        "id": "Eib1vs4c61H4",
        "outputId": "3084bf05-6c05-4e49-cb9d-eff7b71d2b93"
      },
      "outputs": [
        {
          "output_type": "execute_result",
          "data": {
            "text/plain": [
              "(839736, 27)"
            ]
          },
          "metadata": {},
          "execution_count": 227
        }
      ],
      "source": [
        "readable_df.shape"
      ]
    },
    {
      "cell_type": "code",
      "source": [
        "readable_df = readable_df.dropna(axis=0, subset=['diameter'])"
      ],
      "metadata": {
        "id": "Xh4aY96vTsMG"
      },
      "execution_count": null,
      "outputs": []
    },
    {
      "cell_type": "code",
      "execution_count": null,
      "outputs": [],
      "source": [
        "dtf_train, dtf_test = train_test_split(readable_df, test_size=0.2)"
      ],
      "metadata": {
        "pycharm": {
          "name": "#%%\n"
        },
        "id": "uoGtm_ChR7uz"
      }
    },
    {
      "cell_type": "code",
      "execution_count": null,
      "metadata": {
        "colab": {
          "base_uri": "https://localhost:8080/"
        },
        "id": "ofAkE3funvkX",
        "outputId": "2c6762ec-ddc1-405f-b9ce-865b7c734509"
      },
      "outputs": [
        {
          "output_type": "execute_result",
          "data": {
            "text/plain": [
              "full_name                               0\n",
              "semi-major axis                         0\n",
              "eccentricity                            0\n",
              "Magnitude slope parameter          110044\n",
              "Inclination with ecliptic plane         0\n",
              "Longitude of the ascending node         0\n",
              "argument of perihelion                  0\n",
              "perihelion distance(au)                 0\n",
              "aphelion distance(au)                   0\n",
              "Orbital period                          0\n",
              "data arc-span(d)                      107\n",
              "Orbit condition code                    0\n",
              "number of observations used             0\n",
              "Absolute Magnitude parameter          587\n",
              "diameter                                0\n",
              "extent                             110129\n",
              "albedo                                981\n",
              "rot_per                            101190\n",
              "GM                                 110133\n",
              "BV                                 109313\n",
              "UB                                 109349\n",
              "IR                                 110143\n",
              "spec_B                             109035\n",
              "spec_T                             109345\n",
              "neo                                     0\n",
              "pha                                     0\n",
              "moid                                    0\n",
              "dtype: int64"
            ]
          },
          "metadata": {},
          "execution_count": 230
        }
      ],
      "source": [
        "dtf_train.isna().sum()"
      ]
    },
    {
      "cell_type": "code",
      "source": [
        "dtf_train.dtypes"
      ],
      "metadata": {
        "colab": {
          "base_uri": "https://localhost:8080/"
        },
        "id": "x6kdIgSpAumD",
        "outputId": "cafd7b57-cf03-409c-ad46-ddab6f6df66d"
      },
      "execution_count": null,
      "outputs": [
        {
          "output_type": "execute_result",
          "data": {
            "text/plain": [
              "full_name                           object\n",
              "semi-major axis                    float64\n",
              "eccentricity                       float64\n",
              "Magnitude slope parameter          float64\n",
              "Inclination with ecliptic plane    float64\n",
              "Longitude of the ascending node    float64\n",
              "argument of perihelion             float64\n",
              "perihelion distance(au)            float64\n",
              "aphelion distance(au)              float64\n",
              "Orbital period                     float64\n",
              "data arc-span(d)                   float64\n",
              "Orbit condition code                object\n",
              "number of observations used          int64\n",
              "Absolute Magnitude parameter       float64\n",
              "diameter                            object\n",
              "extent                              object\n",
              "albedo                             float64\n",
              "rot_per                            float64\n",
              "GM                                 float64\n",
              "BV                                 float64\n",
              "UB                                 float64\n",
              "IR                                 float64\n",
              "spec_B                              object\n",
              "spec_T                              object\n",
              "neo                                 object\n",
              "pha                                 object\n",
              "moid                               float64\n",
              "dtype: object"
            ]
          },
          "metadata": {},
          "execution_count": 231
        }
      ]
    },
    {
      "cell_type": "code",
      "source": [
        "dtf_train.shape"
      ],
      "metadata": {
        "colab": {
          "base_uri": "https://localhost:8080/"
        },
        "id": "HtI-StX93-um",
        "outputId": "8ca63620-e974-4f5c-a87e-b6eaf89447b3"
      },
      "execution_count": null,
      "outputs": [
        {
          "output_type": "execute_result",
          "data": {
            "text/plain": [
              "(110144, 27)"
            ]
          },
          "metadata": {},
          "execution_count": 232
        }
      ]
    },
    {
      "cell_type": "code",
      "source": [
        "dtf_test.shape"
      ],
      "metadata": {
        "colab": {
          "base_uri": "https://localhost:8080/"
        },
        "id": "JbtLNFVx3x_z",
        "outputId": "7325b614-a614-4ab9-b78a-62bd1418135b"
      },
      "execution_count": null,
      "outputs": [
        {
          "output_type": "execute_result",
          "data": {
            "text/plain": [
              "(27537, 27)"
            ]
          },
          "metadata": {},
          "execution_count": 233
        }
      ]
    },
    {
      "cell_type": "code",
      "source": [
        "print(dtf_train.shape)\n",
        "print(dtf_test.shape)"
      ],
      "metadata": {
        "colab": {
          "base_uri": "https://localhost:8080/"
        },
        "id": "D7ssRz7940SY",
        "outputId": "07394a1e-c740-474c-fb0c-17978c0ce589"
      },
      "execution_count": null,
      "outputs": [
        {
          "output_type": "stream",
          "name": "stdout",
          "text": [
            "(110144, 27)\n",
            "(27537, 27)\n"
          ]
        }
      ]
    },
    {
      "cell_type": "code",
      "source": [
        "# tf_train = dtf_train.dropna(axis=0, subset=['diameter'])\n",
        "# tf_test = dtf_test.dropna(axis=0, subset=['diameter'])"
      ],
      "metadata": {
        "id": "CAtANumj16kP"
      },
      "execution_count": null,
      "outputs": []
    },
    {
      "cell_type": "code",
      "source": [
        "dtf_train['Orbit condition code'].value_counts()"
      ],
      "metadata": {
        "colab": {
          "base_uri": "https://localhost:8080/"
        },
        "id": "u0NHw2VwCXgT",
        "outputId": "c4d53120-a8d9-45a6-9fb3-d1fc28edf667"
      },
      "execution_count": null,
      "outputs": [
        {
          "output_type": "execute_result",
          "data": {
            "text/plain": [
              "0      100961\n",
              "9        4532\n",
              "0        1579\n",
              "9.0       685\n",
              "1         667\n",
              "1         451\n",
              "2         256\n",
              "5         200\n",
              "6         130\n",
              "4         115\n",
              "3         114\n",
              "7         107\n",
              "2          75\n",
              "5.0        66\n",
              "7.0        62\n",
              "8          38\n",
              "3.0        28\n",
              "6.0        27\n",
              "8.0        26\n",
              "4.0        25\n",
              "Name: Orbit condition code, dtype: int64"
            ]
          },
          "metadata": {},
          "execution_count": 236
        }
      ]
    },
    {
      "cell_type": "code",
      "source": [
        "dtf_train['Orbit condition code'].value_counts()"
      ],
      "metadata": {
        "colab": {
          "base_uri": "https://localhost:8080/"
        },
        "id": "v4tFzL7DIY_R",
        "outputId": "233bfc2d-c3e3-4af3-f1b5-52c7bddbca40"
      },
      "execution_count": null,
      "outputs": [
        {
          "output_type": "execute_result",
          "data": {
            "text/plain": [
              "0      100961\n",
              "9        4532\n",
              "0        1579\n",
              "9.0       685\n",
              "1         667\n",
              "1         451\n",
              "2         256\n",
              "5         200\n",
              "6         130\n",
              "4         115\n",
              "3         114\n",
              "7         107\n",
              "2          75\n",
              "5.0        66\n",
              "7.0        62\n",
              "8          38\n",
              "3.0        28\n",
              "6.0        27\n",
              "8.0        26\n",
              "4.0        25\n",
              "Name: Orbit condition code, dtype: int64"
            ]
          },
          "metadata": {},
          "execution_count": 237
        }
      ]
    },
    {
      "cell_type": "code",
      "source": [
        "# dtf_train = dtf_train.drop(dtf_train[dtf_train.loc[:,'Orbit condition code']== 'E'].index)\n",
        "# dtf_train = dtf_train.drop(dtf_train[dtf_train.loc[:,'Orbit condition code']== 'D'].index)"
      ],
      "metadata": {
        "id": "_SCJDaiNLHt0"
      },
      "execution_count": null,
      "outputs": []
    },
    {
      "cell_type": "code",
      "source": [
        "dtf_train['moid'].value_counts()"
      ],
      "metadata": {
        "colab": {
          "base_uri": "https://localhost:8080/"
        },
        "id": "tYtLMpNICpEk",
        "outputId": "e0d7beb2-12c8-4227-a8e8-19e51872e302"
      },
      "execution_count": null,
      "outputs": [
        {
          "output_type": "execute_result",
          "data": {
            "text/plain": [
              "1.097010    7\n",
              "1.245500    7\n",
              "1.160460    6\n",
              "1.141000    6\n",
              "1.253510    6\n",
              "           ..\n",
              "0.018117    1\n",
              "0.702439    1\n",
              "1.579470    1\n",
              "1.751130    1\n",
              "1.056090    1\n",
              "Name: moid, Length: 81054, dtype: int64"
            ]
          },
          "metadata": {},
          "execution_count": 239
        }
      ]
    },
    {
      "cell_type": "code",
      "source": [
        "dtf_train = dtf_train.astype({'diameter': 'float64'})\n",
        "dtf_test= dtf_test.astype({'diameter': 'float64'})"
      ],
      "metadata": {
        "id": "pArVS5TYCv6g"
      },
      "execution_count": null,
      "outputs": []
    },
    {
      "cell_type": "code",
      "source": [
        "categorical_variables = ['Orbit condition code', 'extent', 'spec_B', 'spec_T', 'neo', 'pha']"
      ],
      "metadata": {
        "id": "A9n4MeYkCEOY"
      },
      "execution_count": null,
      "outputs": []
    },
    {
      "cell_type": "code",
      "source": [
        "nan_cols_con = ['semi-major axis', 'aphelion distance(au)', 'Magnitude slope parameter', 'data arc-span(d)', 'Absolute Magnitude parameter', \n",
        "                'albedo', 'rot_per', 'GM', 'BV', 'UB', 'IR', 'moid', 'Orbital period']"
      ],
      "metadata": {
        "id": "D-RBKosn7cCo"
      },
      "execution_count": null,
      "outputs": []
    },
    {
      "cell_type": "markdown",
      "source": [
        "fill nan with mean value"
      ],
      "metadata": {
        "id": "zrAwhYUrPYxK"
      }
    },
    {
      "cell_type": "code",
      "source": [
        "for arg in nan_cols_con:\n",
        "  dtf_train[arg] = dtf_train[arg].fillna(dtf_train[arg].mean())\n",
        "  dtf_test[arg] = dtf_test[arg].fillna(dtf_train[arg].mean())"
      ],
      "metadata": {
        "id": "Upt-jjmB7K1e"
      },
      "execution_count": null,
      "outputs": []
    },
    {
      "cell_type": "code",
      "source": [
        "print(dtf_train.shape)\n",
        "print(dtf_test.shape)"
      ],
      "metadata": {
        "colab": {
          "base_uri": "https://localhost:8080/"
        },
        "id": "55MBecNY5Cvo",
        "outputId": "e864afff-4794-463c-dc34-bee15bc57aad"
      },
      "execution_count": null,
      "outputs": [
        {
          "output_type": "stream",
          "name": "stdout",
          "text": [
            "(110144, 27)\n",
            "(27537, 27)\n"
          ]
        }
      ]
    },
    {
      "cell_type": "code",
      "source": [
        "dtf_train.isna().sum()"
      ],
      "metadata": {
        "colab": {
          "base_uri": "https://localhost:8080/"
        },
        "id": "tBMvTk5mEz0C",
        "outputId": "281b1af4-1919-4433-d641-d9d35b735631"
      },
      "execution_count": null,
      "outputs": [
        {
          "output_type": "execute_result",
          "data": {
            "text/plain": [
              "full_name                               0\n",
              "semi-major axis                         0\n",
              "eccentricity                            0\n",
              "Magnitude slope parameter               0\n",
              "Inclination with ecliptic plane         0\n",
              "Longitude of the ascending node         0\n",
              "argument of perihelion                  0\n",
              "perihelion distance(au)                 0\n",
              "aphelion distance(au)                   0\n",
              "Orbital period                          0\n",
              "data arc-span(d)                        0\n",
              "Orbit condition code                    0\n",
              "number of observations used             0\n",
              "Absolute Magnitude parameter            0\n",
              "diameter                                0\n",
              "extent                             110129\n",
              "albedo                                  0\n",
              "rot_per                                 0\n",
              "GM                                      0\n",
              "BV                                      0\n",
              "UB                                      0\n",
              "IR                                      0\n",
              "spec_B                             109035\n",
              "spec_T                             109345\n",
              "neo                                     0\n",
              "pha                                     0\n",
              "moid                                    0\n",
              "dtype: int64"
            ]
          },
          "metadata": {},
          "execution_count": 245
        }
      ]
    },
    {
      "cell_type": "code",
      "source": [
        "dtf_train['pha'] = dtf_train['pha'].fillna(dtf_train['pha'].value_counts().index[0])\n",
        "dtf_test['pha'] = dtf_test['pha'].fillna(dtf_train['pha'].value_counts().index[0])"
      ],
      "metadata": {
        "id": "mMYCah1THguN"
      },
      "execution_count": null,
      "outputs": []
    },
    {
      "cell_type": "code",
      "source": [
        "dtf_train['Orbit condition code'] = dtf_train['Orbit condition code'].fillna(dtf_train['Orbit condition code'].value_counts().index[0])\n",
        "dtf_test['Orbit condition code'] = dtf_test['Orbit condition code'].fillna(dtf_train['Orbit condition code'].value_counts().index[0])"
      ],
      "metadata": {
        "id": "Of1QjsRaJumP"
      },
      "execution_count": null,
      "outputs": []
    },
    {
      "cell_type": "code",
      "source": [
        "for arg in ['extent', 'spec_B', 'spec_T', 'neo']:\n",
        "  dtf_train[arg] = dtf_train[arg].fillna('U')\n",
        "  dtf_test[arg] = dtf_test[arg].fillna('U')"
      ],
      "metadata": {
        "id": "bCFHcSGvGYMO"
      },
      "execution_count": null,
      "outputs": []
    },
    {
      "cell_type": "code",
      "source": [
        "print(dtf_train.shape)\n",
        "print(dtf_test.shape)"
      ],
      "metadata": {
        "colab": {
          "base_uri": "https://localhost:8080/"
        },
        "id": "J-inINf65F0I",
        "outputId": "fed9a87a-b31f-49e8-b903-8f9c593fd111"
      },
      "execution_count": null,
      "outputs": [
        {
          "output_type": "stream",
          "name": "stdout",
          "text": [
            "(110144, 27)\n",
            "(27537, 27)\n"
          ]
        }
      ]
    },
    {
      "cell_type": "code",
      "source": [
        "dtf_train.isna().sum()"
      ],
      "metadata": {
        "colab": {
          "base_uri": "https://localhost:8080/"
        },
        "id": "GieC7tK0GvoS",
        "outputId": "d0c845e7-9a39-4497-cf97-554056564237"
      },
      "execution_count": null,
      "outputs": [
        {
          "output_type": "execute_result",
          "data": {
            "text/plain": [
              "full_name                          0\n",
              "semi-major axis                    0\n",
              "eccentricity                       0\n",
              "Magnitude slope parameter          0\n",
              "Inclination with ecliptic plane    0\n",
              "Longitude of the ascending node    0\n",
              "argument of perihelion             0\n",
              "perihelion distance(au)            0\n",
              "aphelion distance(au)              0\n",
              "Orbital period                     0\n",
              "data arc-span(d)                   0\n",
              "Orbit condition code               0\n",
              "number of observations used        0\n",
              "Absolute Magnitude parameter       0\n",
              "diameter                           0\n",
              "extent                             0\n",
              "albedo                             0\n",
              "rot_per                            0\n",
              "GM                                 0\n",
              "BV                                 0\n",
              "UB                                 0\n",
              "IR                                 0\n",
              "spec_B                             0\n",
              "spec_T                             0\n",
              "neo                                0\n",
              "pha                                0\n",
              "moid                               0\n",
              "dtype: int64"
            ]
          },
          "metadata": {},
          "execution_count": 250
        }
      ]
    },
    {
      "cell_type": "code",
      "execution_count": null,
      "outputs": [],
      "source": [
        "# cleaned_df = cleaned_df.drop(['full_name'], axis=1)\n",
        "# cleaned_df.dtypes"
      ],
      "metadata": {
        "pycharm": {
          "name": "#%%\n"
        },
        "id": "Geg7qdjRR7uw"
      }
    },
    {
      "cell_type": "code",
      "execution_count": null,
      "outputs": [],
      "source": [
        "# real_diameter_df = cleaned_df.astype({'diameter': 'float64', \"condition_code\": \"int32\"})\n",
        "# real_diameter_df.dtypes"
      ],
      "metadata": {
        "pycharm": {
          "name": "#%%\n"
        },
        "id": "z9Elb5neR7ux"
      }
    },
    {
      "cell_type": "code",
      "source": [
        "dtf_train = dtf_train.drop(['full_name'], axis=1)\n",
        "dtf_test = dtf_test.drop(['full_name'], axis=1)"
      ],
      "metadata": {
        "id": "jpUrB_nCUS3L"
      },
      "execution_count": null,
      "outputs": []
    },
    {
      "cell_type": "code",
      "source": [
        "dtf_test.isna().sum()"
      ],
      "metadata": {
        "colab": {
          "base_uri": "https://localhost:8080/"
        },
        "id": "pQNzKiGG6Roo",
        "outputId": "6ddc62c0-8861-4a17-8c15-b291b573e8c0"
      },
      "execution_count": null,
      "outputs": [
        {
          "output_type": "execute_result",
          "data": {
            "text/plain": [
              "semi-major axis                    0\n",
              "eccentricity                       0\n",
              "Magnitude slope parameter          0\n",
              "Inclination with ecliptic plane    0\n",
              "Longitude of the ascending node    0\n",
              "argument of perihelion             0\n",
              "perihelion distance(au)            0\n",
              "aphelion distance(au)              0\n",
              "Orbital period                     0\n",
              "data arc-span(d)                   0\n",
              "Orbit condition code               0\n",
              "number of observations used        0\n",
              "Absolute Magnitude parameter       0\n",
              "diameter                           0\n",
              "extent                             0\n",
              "albedo                             0\n",
              "rot_per                            0\n",
              "GM                                 0\n",
              "BV                                 0\n",
              "UB                                 0\n",
              "IR                                 0\n",
              "spec_B                             0\n",
              "spec_T                             0\n",
              "neo                                0\n",
              "pha                                0\n",
              "moid                               0\n",
              "dtype: int64"
            ]
          },
          "metadata": {},
          "execution_count": 254
        }
      ]
    },
    {
      "cell_type": "markdown",
      "source": [
        "## Dealing with Categorical variables\n",
        "### neo and pha"
      ],
      "metadata": {
        "collapsed": false,
        "pycharm": {
          "name": "#%% md\n"
        },
        "id": "8GBZ40fKR7ux"
      }
    },
    {
      "cell_type": "code",
      "source": [
        "categorical_data = dtf_train.select_dtypes(include=['object']).copy()\n",
        "categorical_data_test = dtf_test.select_dtypes(include=['object']).copy()\n",
        "categorical_data "
      ],
      "metadata": {
        "colab": {
          "base_uri": "https://localhost:8080/",
          "height": 423
        },
        "id": "3CaxVyNwT7G-",
        "outputId": "88e715dd-1a0f-43a3-867b-ad3e78eb3482"
      },
      "execution_count": null,
      "outputs": [
        {
          "output_type": "execute_result",
          "data": {
            "text/plain": [
              "       Orbit condition code extent spec_B spec_T neo pha\n",
              "115463                    0      U      U      U   N   N\n",
              "24218                     0      U      U      U   N   N\n",
              "459444                    0      U      U      U   N   N\n",
              "241880                    0      U      U      U   N   N\n",
              "53921                     0      U      U      U   N   N\n",
              "...                     ...    ...    ...    ...  ..  ..\n",
              "222749                    0      U      U      U   N   N\n",
              "222606                    0      U      U      U   N   N\n",
              "313623                    0      U      U      U   N   N\n",
              "88540                     0      U      U      U   N   N\n",
              "142537                  0.0      U      U      U   N   N\n",
              "\n",
              "[110144 rows x 6 columns]"
            ],
            "text/html": [
              "\n",
              "  <div id=\"df-205308df-be12-4b9a-a5f3-ef618f101032\">\n",
              "    <div class=\"colab-df-container\">\n",
              "      <div>\n",
              "<style scoped>\n",
              "    .dataframe tbody tr th:only-of-type {\n",
              "        vertical-align: middle;\n",
              "    }\n",
              "\n",
              "    .dataframe tbody tr th {\n",
              "        vertical-align: top;\n",
              "    }\n",
              "\n",
              "    .dataframe thead th {\n",
              "        text-align: right;\n",
              "    }\n",
              "</style>\n",
              "<table border=\"1\" class=\"dataframe\">\n",
              "  <thead>\n",
              "    <tr style=\"text-align: right;\">\n",
              "      <th></th>\n",
              "      <th>Orbit condition code</th>\n",
              "      <th>extent</th>\n",
              "      <th>spec_B</th>\n",
              "      <th>spec_T</th>\n",
              "      <th>neo</th>\n",
              "      <th>pha</th>\n",
              "    </tr>\n",
              "  </thead>\n",
              "  <tbody>\n",
              "    <tr>\n",
              "      <th>115463</th>\n",
              "      <td>0</td>\n",
              "      <td>U</td>\n",
              "      <td>U</td>\n",
              "      <td>U</td>\n",
              "      <td>N</td>\n",
              "      <td>N</td>\n",
              "    </tr>\n",
              "    <tr>\n",
              "      <th>24218</th>\n",
              "      <td>0</td>\n",
              "      <td>U</td>\n",
              "      <td>U</td>\n",
              "      <td>U</td>\n",
              "      <td>N</td>\n",
              "      <td>N</td>\n",
              "    </tr>\n",
              "    <tr>\n",
              "      <th>459444</th>\n",
              "      <td>0</td>\n",
              "      <td>U</td>\n",
              "      <td>U</td>\n",
              "      <td>U</td>\n",
              "      <td>N</td>\n",
              "      <td>N</td>\n",
              "    </tr>\n",
              "    <tr>\n",
              "      <th>241880</th>\n",
              "      <td>0</td>\n",
              "      <td>U</td>\n",
              "      <td>U</td>\n",
              "      <td>U</td>\n",
              "      <td>N</td>\n",
              "      <td>N</td>\n",
              "    </tr>\n",
              "    <tr>\n",
              "      <th>53921</th>\n",
              "      <td>0</td>\n",
              "      <td>U</td>\n",
              "      <td>U</td>\n",
              "      <td>U</td>\n",
              "      <td>N</td>\n",
              "      <td>N</td>\n",
              "    </tr>\n",
              "    <tr>\n",
              "      <th>...</th>\n",
              "      <td>...</td>\n",
              "      <td>...</td>\n",
              "      <td>...</td>\n",
              "      <td>...</td>\n",
              "      <td>...</td>\n",
              "      <td>...</td>\n",
              "    </tr>\n",
              "    <tr>\n",
              "      <th>222749</th>\n",
              "      <td>0</td>\n",
              "      <td>U</td>\n",
              "      <td>U</td>\n",
              "      <td>U</td>\n",
              "      <td>N</td>\n",
              "      <td>N</td>\n",
              "    </tr>\n",
              "    <tr>\n",
              "      <th>222606</th>\n",
              "      <td>0</td>\n",
              "      <td>U</td>\n",
              "      <td>U</td>\n",
              "      <td>U</td>\n",
              "      <td>N</td>\n",
              "      <td>N</td>\n",
              "    </tr>\n",
              "    <tr>\n",
              "      <th>313623</th>\n",
              "      <td>0</td>\n",
              "      <td>U</td>\n",
              "      <td>U</td>\n",
              "      <td>U</td>\n",
              "      <td>N</td>\n",
              "      <td>N</td>\n",
              "    </tr>\n",
              "    <tr>\n",
              "      <th>88540</th>\n",
              "      <td>0</td>\n",
              "      <td>U</td>\n",
              "      <td>U</td>\n",
              "      <td>U</td>\n",
              "      <td>N</td>\n",
              "      <td>N</td>\n",
              "    </tr>\n",
              "    <tr>\n",
              "      <th>142537</th>\n",
              "      <td>0.0</td>\n",
              "      <td>U</td>\n",
              "      <td>U</td>\n",
              "      <td>U</td>\n",
              "      <td>N</td>\n",
              "      <td>N</td>\n",
              "    </tr>\n",
              "  </tbody>\n",
              "</table>\n",
              "<p>110144 rows × 6 columns</p>\n",
              "</div>\n",
              "      <button class=\"colab-df-convert\" onclick=\"convertToInteractive('df-205308df-be12-4b9a-a5f3-ef618f101032')\"\n",
              "              title=\"Convert this dataframe to an interactive table.\"\n",
              "              style=\"display:none;\">\n",
              "        \n",
              "  <svg xmlns=\"http://www.w3.org/2000/svg\" height=\"24px\"viewBox=\"0 0 24 24\"\n",
              "       width=\"24px\">\n",
              "    <path d=\"M0 0h24v24H0V0z\" fill=\"none\"/>\n",
              "    <path d=\"M18.56 5.44l.94 2.06.94-2.06 2.06-.94-2.06-.94-.94-2.06-.94 2.06-2.06.94zm-11 1L8.5 8.5l.94-2.06 2.06-.94-2.06-.94L8.5 2.5l-.94 2.06-2.06.94zm10 10l.94 2.06.94-2.06 2.06-.94-2.06-.94-.94-2.06-.94 2.06-2.06.94z\"/><path d=\"M17.41 7.96l-1.37-1.37c-.4-.4-.92-.59-1.43-.59-.52 0-1.04.2-1.43.59L10.3 9.45l-7.72 7.72c-.78.78-.78 2.05 0 2.83L4 21.41c.39.39.9.59 1.41.59.51 0 1.02-.2 1.41-.59l7.78-7.78 2.81-2.81c.8-.78.8-2.07 0-2.86zM5.41 20L4 18.59l7.72-7.72 1.47 1.35L5.41 20z\"/>\n",
              "  </svg>\n",
              "      </button>\n",
              "      \n",
              "  <style>\n",
              "    .colab-df-container {\n",
              "      display:flex;\n",
              "      flex-wrap:wrap;\n",
              "      gap: 12px;\n",
              "    }\n",
              "\n",
              "    .colab-df-convert {\n",
              "      background-color: #E8F0FE;\n",
              "      border: none;\n",
              "      border-radius: 50%;\n",
              "      cursor: pointer;\n",
              "      display: none;\n",
              "      fill: #1967D2;\n",
              "      height: 32px;\n",
              "      padding: 0 0 0 0;\n",
              "      width: 32px;\n",
              "    }\n",
              "\n",
              "    .colab-df-convert:hover {\n",
              "      background-color: #E2EBFA;\n",
              "      box-shadow: 0px 1px 2px rgba(60, 64, 67, 0.3), 0px 1px 3px 1px rgba(60, 64, 67, 0.15);\n",
              "      fill: #174EA6;\n",
              "    }\n",
              "\n",
              "    [theme=dark] .colab-df-convert {\n",
              "      background-color: #3B4455;\n",
              "      fill: #D2E3FC;\n",
              "    }\n",
              "\n",
              "    [theme=dark] .colab-df-convert:hover {\n",
              "      background-color: #434B5C;\n",
              "      box-shadow: 0px 1px 3px 1px rgba(0, 0, 0, 0.15);\n",
              "      filter: drop-shadow(0px 1px 2px rgba(0, 0, 0, 0.3));\n",
              "      fill: #FFFFFF;\n",
              "    }\n",
              "  </style>\n",
              "\n",
              "      <script>\n",
              "        const buttonEl =\n",
              "          document.querySelector('#df-205308df-be12-4b9a-a5f3-ef618f101032 button.colab-df-convert');\n",
              "        buttonEl.style.display =\n",
              "          google.colab.kernel.accessAllowed ? 'block' : 'none';\n",
              "\n",
              "        async function convertToInteractive(key) {\n",
              "          const element = document.querySelector('#df-205308df-be12-4b9a-a5f3-ef618f101032');\n",
              "          const dataTable =\n",
              "            await google.colab.kernel.invokeFunction('convertToInteractive',\n",
              "                                                     [key], {});\n",
              "          if (!dataTable) return;\n",
              "\n",
              "          const docLinkHtml = 'Like what you see? Visit the ' +\n",
              "            '<a target=\"_blank\" href=https://colab.research.google.com/notebooks/data_table.ipynb>data table notebook</a>'\n",
              "            + ' to learn more about interactive tables.';\n",
              "          element.innerHTML = '';\n",
              "          dataTable['output_type'] = 'display_data';\n",
              "          await google.colab.output.renderOutput(dataTable, element);\n",
              "          const docLink = document.createElement('div');\n",
              "          docLink.innerHTML = docLinkHtml;\n",
              "          element.appendChild(docLink);\n",
              "        }\n",
              "      </script>\n",
              "    </div>\n",
              "  </div>\n",
              "  "
            ]
          },
          "metadata": {},
          "execution_count": 255
        }
      ]
    },
    {
      "cell_type": "code",
      "source": [
        "dtf_train['Orbit condition code'].value_counts()"
      ],
      "metadata": {
        "colab": {
          "base_uri": "https://localhost:8080/"
        },
        "id": "o-dELwhfBO3W",
        "outputId": "f6a40f7a-0226-46b9-d9b0-a022cc8348a1"
      },
      "execution_count": null,
      "outputs": [
        {
          "output_type": "execute_result",
          "data": {
            "text/plain": [
              "0      100961\n",
              "9        4532\n",
              "0        1579\n",
              "9.0       685\n",
              "1         667\n",
              "1         451\n",
              "2         256\n",
              "5         200\n",
              "6         130\n",
              "4         115\n",
              "3         114\n",
              "7         107\n",
              "2          75\n",
              "5.0        66\n",
              "7.0        62\n",
              "8          38\n",
              "3.0        28\n",
              "6.0        27\n",
              "8.0        26\n",
              "4.0        25\n",
              "Name: Orbit condition code, dtype: int64"
            ]
          },
          "metadata": {},
          "execution_count": 256
        }
      ]
    },
    {
      "cell_type": "code",
      "source": [
        "dtf_test['Orbit condition code'].value_counts()"
      ],
      "metadata": {
        "colab": {
          "base_uri": "https://localhost:8080/"
        },
        "id": "yM3nIqArBlx0",
        "outputId": "276a2d26-e988-4410-c834-cf7fa0265e17"
      },
      "execution_count": null,
      "outputs": [
        {
          "output_type": "execute_result",
          "data": {
            "text/plain": [
              "0      25232\n",
              "9       1147\n",
              "0        438\n",
              "9.0      187\n",
              "1        142\n",
              "1        112\n",
              "2         46\n",
              "5         42\n",
              "4         29\n",
              "5.0       26\n",
              "7         22\n",
              "6         22\n",
              "3         21\n",
              "2.0       20\n",
              "7.0       16\n",
              "8         11\n",
              "6.0        9\n",
              "4.0        8\n",
              "3.0        5\n",
              "8.0        2\n",
              "Name: Orbit condition code, dtype: int64"
            ]
          },
          "metadata": {},
          "execution_count": 257
        }
      ]
    },
    {
      "cell_type": "code",
      "source": [
        "print(categorical_data.shape)\n",
        "print(categorical_data_test.shape)"
      ],
      "metadata": {
        "id": "uN5TGli65KeS",
        "colab": {
          "base_uri": "https://localhost:8080/"
        },
        "outputId": "fa3a7591-ee7a-47be-ab8e-f05a6eac450f"
      },
      "execution_count": null,
      "outputs": [
        {
          "output_type": "stream",
          "name": "stdout",
          "text": [
            "(110144, 6)\n",
            "(27537, 6)\n"
          ]
        }
      ]
    },
    {
      "cell_type": "code",
      "execution_count": null,
      "outputs": [
        {
          "output_type": "execute_result",
          "data": {
            "text/plain": [
              "        Orbit condition code_1  Orbit condition code_2  \\\n",
              "115463                       0                       0   \n",
              "24218                        0                       0   \n",
              "459444                       0                       0   \n",
              "241880                       0                       0   \n",
              "53921                        0                       0   \n",
              "...                        ...                     ...   \n",
              "222749                       0                       0   \n",
              "222606                       0                       0   \n",
              "313623                       0                       0   \n",
              "88540                        0                       0   \n",
              "142537                       0                       0   \n",
              "\n",
              "        Orbit condition code_3.0  Orbit condition code_4.0  \\\n",
              "115463                         0                         0   \n",
              "24218                          0                         0   \n",
              "459444                         0                         0   \n",
              "241880                         0                         0   \n",
              "53921                          0                         0   \n",
              "...                          ...                       ...   \n",
              "222749                         0                         0   \n",
              "222606                         0                         0   \n",
              "313623                         0                         0   \n",
              "88540                          0                         0   \n",
              "142537                         0                         0   \n",
              "\n",
              "        Orbit condition code_5.0  Orbit condition code_6.0  \\\n",
              "115463                         0                         0   \n",
              "24218                          0                         0   \n",
              "459444                         0                         0   \n",
              "241880                         0                         0   \n",
              "53921                          0                         0   \n",
              "...                          ...                       ...   \n",
              "222749                         0                         0   \n",
              "222606                         0                         0   \n",
              "313623                         0                         0   \n",
              "88540                          0                         0   \n",
              "142537                         0                         0   \n",
              "\n",
              "        Orbit condition code_7.0  Orbit condition code_8.0  \\\n",
              "115463                         0                         0   \n",
              "24218                          0                         0   \n",
              "459444                         0                         0   \n",
              "241880                         0                         0   \n",
              "53921                          0                         0   \n",
              "...                          ...                       ...   \n",
              "222749                         0                         0   \n",
              "222606                         0                         0   \n",
              "313623                         0                         0   \n",
              "88540                          0                         0   \n",
              "142537                         0                         0   \n",
              "\n",
              "        Orbit condition code_9.0  Orbit condition code_0  ...  spec_T_XDC  \\\n",
              "115463                         0                       0  ...           0   \n",
              "24218                          0                       0  ...           0   \n",
              "459444                         0                       0  ...           0   \n",
              "241880                         0                       0  ...           0   \n",
              "53921                          0                       0  ...           0   \n",
              "...                          ...                     ...  ...         ...   \n",
              "222749                         0                       0  ...           0   \n",
              "222606                         0                       0  ...           0   \n",
              "313623                         0                       0  ...           0   \n",
              "88540                          0                       0  ...           0   \n",
              "142537                         0                       0  ...           0   \n",
              "\n",
              "        spec_T_XF  spec_T_XFC  spec_T_XFCU  spec_T_XFU  spec_T_XSCU  \\\n",
              "115463          0           0            0           0            0   \n",
              "24218           0           0            0           0            0   \n",
              "459444          0           0            0           0            0   \n",
              "241880          0           0            0           0            0   \n",
              "53921           0           0            0           0            0   \n",
              "...           ...         ...          ...         ...          ...   \n",
              "222749          0           0            0           0            0   \n",
              "222606          0           0            0           0            0   \n",
              "313623          0           0            0           0            0   \n",
              "88540           0           0            0           0            0   \n",
              "142537          0           0            0           0            0   \n",
              "\n",
              "        spec_T_XU  spec_T_Z  neo_Y  pha_Y  \n",
              "115463          0         0      0      0  \n",
              "24218           0         0      0      0  \n",
              "459444          0         0      0      0  \n",
              "241880          0         0      0      0  \n",
              "53921           0         0      0      0  \n",
              "...           ...       ...    ...    ...  \n",
              "222749          0         0      0      0  \n",
              "222606          0         0      0      0  \n",
              "313623          0         0      0      0  \n",
              "88540           0         0      0      0  \n",
              "142537          0         0      0      0  \n",
              "\n",
              "[110144 rows x 183 columns]"
            ],
            "text/html": [
              "\n",
              "  <div id=\"df-bb6cfc6e-f1ff-48e2-9eb2-8cb61bf99cdc\">\n",
              "    <div class=\"colab-df-container\">\n",
              "      <div>\n",
              "<style scoped>\n",
              "    .dataframe tbody tr th:only-of-type {\n",
              "        vertical-align: middle;\n",
              "    }\n",
              "\n",
              "    .dataframe tbody tr th {\n",
              "        vertical-align: top;\n",
              "    }\n",
              "\n",
              "    .dataframe thead th {\n",
              "        text-align: right;\n",
              "    }\n",
              "</style>\n",
              "<table border=\"1\" class=\"dataframe\">\n",
              "  <thead>\n",
              "    <tr style=\"text-align: right;\">\n",
              "      <th></th>\n",
              "      <th>Orbit condition code_1</th>\n",
              "      <th>Orbit condition code_2</th>\n",
              "      <th>Orbit condition code_3.0</th>\n",
              "      <th>Orbit condition code_4.0</th>\n",
              "      <th>Orbit condition code_5.0</th>\n",
              "      <th>Orbit condition code_6.0</th>\n",
              "      <th>Orbit condition code_7.0</th>\n",
              "      <th>Orbit condition code_8.0</th>\n",
              "      <th>Orbit condition code_9.0</th>\n",
              "      <th>Orbit condition code_0</th>\n",
              "      <th>...</th>\n",
              "      <th>spec_T_XDC</th>\n",
              "      <th>spec_T_XF</th>\n",
              "      <th>spec_T_XFC</th>\n",
              "      <th>spec_T_XFCU</th>\n",
              "      <th>spec_T_XFU</th>\n",
              "      <th>spec_T_XSCU</th>\n",
              "      <th>spec_T_XU</th>\n",
              "      <th>spec_T_Z</th>\n",
              "      <th>neo_Y</th>\n",
              "      <th>pha_Y</th>\n",
              "    </tr>\n",
              "  </thead>\n",
              "  <tbody>\n",
              "    <tr>\n",
              "      <th>115463</th>\n",
              "      <td>0</td>\n",
              "      <td>0</td>\n",
              "      <td>0</td>\n",
              "      <td>0</td>\n",
              "      <td>0</td>\n",
              "      <td>0</td>\n",
              "      <td>0</td>\n",
              "      <td>0</td>\n",
              "      <td>0</td>\n",
              "      <td>0</td>\n",
              "      <td>...</td>\n",
              "      <td>0</td>\n",
              "      <td>0</td>\n",
              "      <td>0</td>\n",
              "      <td>0</td>\n",
              "      <td>0</td>\n",
              "      <td>0</td>\n",
              "      <td>0</td>\n",
              "      <td>0</td>\n",
              "      <td>0</td>\n",
              "      <td>0</td>\n",
              "    </tr>\n",
              "    <tr>\n",
              "      <th>24218</th>\n",
              "      <td>0</td>\n",
              "      <td>0</td>\n",
              "      <td>0</td>\n",
              "      <td>0</td>\n",
              "      <td>0</td>\n",
              "      <td>0</td>\n",
              "      <td>0</td>\n",
              "      <td>0</td>\n",
              "      <td>0</td>\n",
              "      <td>0</td>\n",
              "      <td>...</td>\n",
              "      <td>0</td>\n",
              "      <td>0</td>\n",
              "      <td>0</td>\n",
              "      <td>0</td>\n",
              "      <td>0</td>\n",
              "      <td>0</td>\n",
              "      <td>0</td>\n",
              "      <td>0</td>\n",
              "      <td>0</td>\n",
              "      <td>0</td>\n",
              "    </tr>\n",
              "    <tr>\n",
              "      <th>459444</th>\n",
              "      <td>0</td>\n",
              "      <td>0</td>\n",
              "      <td>0</td>\n",
              "      <td>0</td>\n",
              "      <td>0</td>\n",
              "      <td>0</td>\n",
              "      <td>0</td>\n",
              "      <td>0</td>\n",
              "      <td>0</td>\n",
              "      <td>0</td>\n",
              "      <td>...</td>\n",
              "      <td>0</td>\n",
              "      <td>0</td>\n",
              "      <td>0</td>\n",
              "      <td>0</td>\n",
              "      <td>0</td>\n",
              "      <td>0</td>\n",
              "      <td>0</td>\n",
              "      <td>0</td>\n",
              "      <td>0</td>\n",
              "      <td>0</td>\n",
              "    </tr>\n",
              "    <tr>\n",
              "      <th>241880</th>\n",
              "      <td>0</td>\n",
              "      <td>0</td>\n",
              "      <td>0</td>\n",
              "      <td>0</td>\n",
              "      <td>0</td>\n",
              "      <td>0</td>\n",
              "      <td>0</td>\n",
              "      <td>0</td>\n",
              "      <td>0</td>\n",
              "      <td>0</td>\n",
              "      <td>...</td>\n",
              "      <td>0</td>\n",
              "      <td>0</td>\n",
              "      <td>0</td>\n",
              "      <td>0</td>\n",
              "      <td>0</td>\n",
              "      <td>0</td>\n",
              "      <td>0</td>\n",
              "      <td>0</td>\n",
              "      <td>0</td>\n",
              "      <td>0</td>\n",
              "    </tr>\n",
              "    <tr>\n",
              "      <th>53921</th>\n",
              "      <td>0</td>\n",
              "      <td>0</td>\n",
              "      <td>0</td>\n",
              "      <td>0</td>\n",
              "      <td>0</td>\n",
              "      <td>0</td>\n",
              "      <td>0</td>\n",
              "      <td>0</td>\n",
              "      <td>0</td>\n",
              "      <td>0</td>\n",
              "      <td>...</td>\n",
              "      <td>0</td>\n",
              "      <td>0</td>\n",
              "      <td>0</td>\n",
              "      <td>0</td>\n",
              "      <td>0</td>\n",
              "      <td>0</td>\n",
              "      <td>0</td>\n",
              "      <td>0</td>\n",
              "      <td>0</td>\n",
              "      <td>0</td>\n",
              "    </tr>\n",
              "    <tr>\n",
              "      <th>...</th>\n",
              "      <td>...</td>\n",
              "      <td>...</td>\n",
              "      <td>...</td>\n",
              "      <td>...</td>\n",
              "      <td>...</td>\n",
              "      <td>...</td>\n",
              "      <td>...</td>\n",
              "      <td>...</td>\n",
              "      <td>...</td>\n",
              "      <td>...</td>\n",
              "      <td>...</td>\n",
              "      <td>...</td>\n",
              "      <td>...</td>\n",
              "      <td>...</td>\n",
              "      <td>...</td>\n",
              "      <td>...</td>\n",
              "      <td>...</td>\n",
              "      <td>...</td>\n",
              "      <td>...</td>\n",
              "      <td>...</td>\n",
              "      <td>...</td>\n",
              "    </tr>\n",
              "    <tr>\n",
              "      <th>222749</th>\n",
              "      <td>0</td>\n",
              "      <td>0</td>\n",
              "      <td>0</td>\n",
              "      <td>0</td>\n",
              "      <td>0</td>\n",
              "      <td>0</td>\n",
              "      <td>0</td>\n",
              "      <td>0</td>\n",
              "      <td>0</td>\n",
              "      <td>0</td>\n",
              "      <td>...</td>\n",
              "      <td>0</td>\n",
              "      <td>0</td>\n",
              "      <td>0</td>\n",
              "      <td>0</td>\n",
              "      <td>0</td>\n",
              "      <td>0</td>\n",
              "      <td>0</td>\n",
              "      <td>0</td>\n",
              "      <td>0</td>\n",
              "      <td>0</td>\n",
              "    </tr>\n",
              "    <tr>\n",
              "      <th>222606</th>\n",
              "      <td>0</td>\n",
              "      <td>0</td>\n",
              "      <td>0</td>\n",
              "      <td>0</td>\n",
              "      <td>0</td>\n",
              "      <td>0</td>\n",
              "      <td>0</td>\n",
              "      <td>0</td>\n",
              "      <td>0</td>\n",
              "      <td>0</td>\n",
              "      <td>...</td>\n",
              "      <td>0</td>\n",
              "      <td>0</td>\n",
              "      <td>0</td>\n",
              "      <td>0</td>\n",
              "      <td>0</td>\n",
              "      <td>0</td>\n",
              "      <td>0</td>\n",
              "      <td>0</td>\n",
              "      <td>0</td>\n",
              "      <td>0</td>\n",
              "    </tr>\n",
              "    <tr>\n",
              "      <th>313623</th>\n",
              "      <td>0</td>\n",
              "      <td>0</td>\n",
              "      <td>0</td>\n",
              "      <td>0</td>\n",
              "      <td>0</td>\n",
              "      <td>0</td>\n",
              "      <td>0</td>\n",
              "      <td>0</td>\n",
              "      <td>0</td>\n",
              "      <td>0</td>\n",
              "      <td>...</td>\n",
              "      <td>0</td>\n",
              "      <td>0</td>\n",
              "      <td>0</td>\n",
              "      <td>0</td>\n",
              "      <td>0</td>\n",
              "      <td>0</td>\n",
              "      <td>0</td>\n",
              "      <td>0</td>\n",
              "      <td>0</td>\n",
              "      <td>0</td>\n",
              "    </tr>\n",
              "    <tr>\n",
              "      <th>88540</th>\n",
              "      <td>0</td>\n",
              "      <td>0</td>\n",
              "      <td>0</td>\n",
              "      <td>0</td>\n",
              "      <td>0</td>\n",
              "      <td>0</td>\n",
              "      <td>0</td>\n",
              "      <td>0</td>\n",
              "      <td>0</td>\n",
              "      <td>0</td>\n",
              "      <td>...</td>\n",
              "      <td>0</td>\n",
              "      <td>0</td>\n",
              "      <td>0</td>\n",
              "      <td>0</td>\n",
              "      <td>0</td>\n",
              "      <td>0</td>\n",
              "      <td>0</td>\n",
              "      <td>0</td>\n",
              "      <td>0</td>\n",
              "      <td>0</td>\n",
              "    </tr>\n",
              "    <tr>\n",
              "      <th>142537</th>\n",
              "      <td>0</td>\n",
              "      <td>0</td>\n",
              "      <td>0</td>\n",
              "      <td>0</td>\n",
              "      <td>0</td>\n",
              "      <td>0</td>\n",
              "      <td>0</td>\n",
              "      <td>0</td>\n",
              "      <td>0</td>\n",
              "      <td>0</td>\n",
              "      <td>...</td>\n",
              "      <td>0</td>\n",
              "      <td>0</td>\n",
              "      <td>0</td>\n",
              "      <td>0</td>\n",
              "      <td>0</td>\n",
              "      <td>0</td>\n",
              "      <td>0</td>\n",
              "      <td>0</td>\n",
              "      <td>0</td>\n",
              "      <td>0</td>\n",
              "    </tr>\n",
              "  </tbody>\n",
              "</table>\n",
              "<p>110144 rows × 183 columns</p>\n",
              "</div>\n",
              "      <button class=\"colab-df-convert\" onclick=\"convertToInteractive('df-bb6cfc6e-f1ff-48e2-9eb2-8cb61bf99cdc')\"\n",
              "              title=\"Convert this dataframe to an interactive table.\"\n",
              "              style=\"display:none;\">\n",
              "        \n",
              "  <svg xmlns=\"http://www.w3.org/2000/svg\" height=\"24px\"viewBox=\"0 0 24 24\"\n",
              "       width=\"24px\">\n",
              "    <path d=\"M0 0h24v24H0V0z\" fill=\"none\"/>\n",
              "    <path d=\"M18.56 5.44l.94 2.06.94-2.06 2.06-.94-2.06-.94-.94-2.06-.94 2.06-2.06.94zm-11 1L8.5 8.5l.94-2.06 2.06-.94-2.06-.94L8.5 2.5l-.94 2.06-2.06.94zm10 10l.94 2.06.94-2.06 2.06-.94-2.06-.94-.94-2.06-.94 2.06-2.06.94z\"/><path d=\"M17.41 7.96l-1.37-1.37c-.4-.4-.92-.59-1.43-.59-.52 0-1.04.2-1.43.59L10.3 9.45l-7.72 7.72c-.78.78-.78 2.05 0 2.83L4 21.41c.39.39.9.59 1.41.59.51 0 1.02-.2 1.41-.59l7.78-7.78 2.81-2.81c.8-.78.8-2.07 0-2.86zM5.41 20L4 18.59l7.72-7.72 1.47 1.35L5.41 20z\"/>\n",
              "  </svg>\n",
              "      </button>\n",
              "      \n",
              "  <style>\n",
              "    .colab-df-container {\n",
              "      display:flex;\n",
              "      flex-wrap:wrap;\n",
              "      gap: 12px;\n",
              "    }\n",
              "\n",
              "    .colab-df-convert {\n",
              "      background-color: #E8F0FE;\n",
              "      border: none;\n",
              "      border-radius: 50%;\n",
              "      cursor: pointer;\n",
              "      display: none;\n",
              "      fill: #1967D2;\n",
              "      height: 32px;\n",
              "      padding: 0 0 0 0;\n",
              "      width: 32px;\n",
              "    }\n",
              "\n",
              "    .colab-df-convert:hover {\n",
              "      background-color: #E2EBFA;\n",
              "      box-shadow: 0px 1px 2px rgba(60, 64, 67, 0.3), 0px 1px 3px 1px rgba(60, 64, 67, 0.15);\n",
              "      fill: #174EA6;\n",
              "    }\n",
              "\n",
              "    [theme=dark] .colab-df-convert {\n",
              "      background-color: #3B4455;\n",
              "      fill: #D2E3FC;\n",
              "    }\n",
              "\n",
              "    [theme=dark] .colab-df-convert:hover {\n",
              "      background-color: #434B5C;\n",
              "      box-shadow: 0px 1px 3px 1px rgba(0, 0, 0, 0.15);\n",
              "      filter: drop-shadow(0px 1px 2px rgba(0, 0, 0, 0.3));\n",
              "      fill: #FFFFFF;\n",
              "    }\n",
              "  </style>\n",
              "\n",
              "      <script>\n",
              "        const buttonEl =\n",
              "          document.querySelector('#df-bb6cfc6e-f1ff-48e2-9eb2-8cb61bf99cdc button.colab-df-convert');\n",
              "        buttonEl.style.display =\n",
              "          google.colab.kernel.accessAllowed ? 'block' : 'none';\n",
              "\n",
              "        async function convertToInteractive(key) {\n",
              "          const element = document.querySelector('#df-bb6cfc6e-f1ff-48e2-9eb2-8cb61bf99cdc');\n",
              "          const dataTable =\n",
              "            await google.colab.kernel.invokeFunction('convertToInteractive',\n",
              "                                                     [key], {});\n",
              "          if (!dataTable) return;\n",
              "\n",
              "          const docLinkHtml = 'Like what you see? Visit the ' +\n",
              "            '<a target=\"_blank\" href=https://colab.research.google.com/notebooks/data_table.ipynb>data table notebook</a>'\n",
              "            + ' to learn more about interactive tables.';\n",
              "          element.innerHTML = '';\n",
              "          dataTable['output_type'] = 'display_data';\n",
              "          await google.colab.output.renderOutput(dataTable, element);\n",
              "          const docLink = document.createElement('div');\n",
              "          docLink.innerHTML = docLinkHtml;\n",
              "          element.appendChild(docLink);\n",
              "        }\n",
              "      </script>\n",
              "    </div>\n",
              "  </div>\n",
              "  "
            ]
          },
          "metadata": {},
          "execution_count": 259
        }
      ],
      "source": [
        "#categorical_data = real_diameter_df.select_dtypes(include=['object']).copy()\n",
        "new_columns = pd.get_dummies(categorical_data, columns=categorical_data.columns, drop_first=True)\n",
        "new_columns_test = pd.get_dummies(categorical_data_test, columns=categorical_data_test.columns, drop_first=True)\n",
        "new_columns"
      ],
      "metadata": {
        "pycharm": {
          "name": "#%%\n"
        },
        "id": "PCVW0DxUR7uy",
        "colab": {
          "base_uri": "https://localhost:8080/",
          "height": 502
        },
        "outputId": "1827684b-7886-4375-a850-be5b19b86657"
      }
    },
    {
      "cell_type": "code",
      "source": [
        "new_columns, new_columns_test = new_columns.align(new_columns_test, join='left', axis=1)"
      ],
      "metadata": {
        "id": "uWV4n7zzJPsr"
      },
      "execution_count": null,
      "outputs": []
    },
    {
      "cell_type": "code",
      "source": [
        "new_columns = new_columns.fillna(0)\n",
        "new_columns_test = new_columns_test.fillna(0)"
      ],
      "metadata": {
        "id": "igU_JTBuJrV3"
      },
      "execution_count": null,
      "outputs": []
    },
    {
      "cell_type": "code",
      "execution_count": null,
      "outputs": [],
      "source": [
        "#real_diameter_df = real_diameter_df.drop(['neo' , 'pha'], axis = 1)"
      ],
      "metadata": {
        "pycharm": {
          "name": "#%%\n"
        },
        "id": "VIWNGMrdR7uy"
      }
    },
    {
      "cell_type": "code",
      "source": [
        "dtf_train = dtf_train.drop(categorical_data.columns, axis = 1)\n",
        "dtf_test = dtf_test.drop(categorical_data_test.columns, axis = 1)"
      ],
      "metadata": {
        "id": "UWSRmRfqU-7g"
      },
      "execution_count": null,
      "outputs": []
    },
    {
      "cell_type": "code",
      "execution_count": null,
      "outputs": [
        {
          "output_type": "execute_result",
          "data": {
            "text/plain": [
              "        semi-major axis  eccentricity  Magnitude slope parameter  \\\n",
              "115463         2.293673      0.163461                     0.1871   \n",
              "24218          2.207402      0.175629                     0.1871   \n",
              "459444         3.192089      0.227003                     0.1871   \n",
              "241880         3.199675      0.153845                     0.1871   \n",
              "53921          2.596313      0.243720                     0.1871   \n",
              "\n",
              "        Inclination with ecliptic plane  Longitude of the ascending node  \\\n",
              "115463                         2.441385                       334.870064   \n",
              "24218                          1.874951                       242.421340   \n",
              "459444                        26.874278                        65.645193   \n",
              "241880                        25.573412                       215.534567   \n",
              "53921                          2.657834                       160.847473   \n",
              "\n",
              "        argument of perihelion  perihelion distance(au)  \\\n",
              "115463               66.302762                 1.918747   \n",
              "24218                30.671744                 1.819720   \n",
              "459444              283.338537                 2.467473   \n",
              "241880               48.627799                 2.707420   \n",
              "53921               198.996805                 1.963540   \n",
              "\n",
              "        aphelion distance(au)  Orbital period  data arc-span(d)  ...  \\\n",
              "115463               2.668598        3.473804            8233.0  ...   \n",
              "24218                2.595085        3.279672           23289.0  ...   \n",
              "459444               3.916704        5.703226            7264.0  ...   \n",
              "241880               3.691930        5.723569            6235.0  ...   \n",
              "53921                3.229087        4.183540            9741.0  ...   \n",
              "\n",
              "        spec_T_XD  spec_T_XD:  spec_T_XDC  spec_T_XF  spec_T_XFC  spec_T_XFCU  \\\n",
              "115463          0           0           0          0           0            0   \n",
              "24218           0           0           0          0           0            0   \n",
              "459444          0           0           0          0           0            0   \n",
              "241880          0           0           0          0           0            0   \n",
              "53921           0           0           0          0           0            0   \n",
              "\n",
              "        spec_T_XFU  spec_T_XSCU  spec_T_XU  spec_T_Z  \n",
              "115463           0            0          0         0  \n",
              "24218            0            0          0         0  \n",
              "459444           0            0          0         0  \n",
              "241880           0            0          0         0  \n",
              "53921            0            0          0         0  \n",
              "\n",
              "[5 rows x 205 columns]"
            ],
            "text/html": [
              "\n",
              "  <div id=\"df-0f3e16da-c3d4-4324-8ea3-529da87756b1\">\n",
              "    <div class=\"colab-df-container\">\n",
              "      <div>\n",
              "<style scoped>\n",
              "    .dataframe tbody tr th:only-of-type {\n",
              "        vertical-align: middle;\n",
              "    }\n",
              "\n",
              "    .dataframe tbody tr th {\n",
              "        vertical-align: top;\n",
              "    }\n",
              "\n",
              "    .dataframe thead th {\n",
              "        text-align: right;\n",
              "    }\n",
              "</style>\n",
              "<table border=\"1\" class=\"dataframe\">\n",
              "  <thead>\n",
              "    <tr style=\"text-align: right;\">\n",
              "      <th></th>\n",
              "      <th>semi-major axis</th>\n",
              "      <th>eccentricity</th>\n",
              "      <th>Magnitude slope parameter</th>\n",
              "      <th>Inclination with ecliptic plane</th>\n",
              "      <th>Longitude of the ascending node</th>\n",
              "      <th>argument of perihelion</th>\n",
              "      <th>perihelion distance(au)</th>\n",
              "      <th>aphelion distance(au)</th>\n",
              "      <th>Orbital period</th>\n",
              "      <th>data arc-span(d)</th>\n",
              "      <th>...</th>\n",
              "      <th>spec_T_XD</th>\n",
              "      <th>spec_T_XD:</th>\n",
              "      <th>spec_T_XDC</th>\n",
              "      <th>spec_T_XF</th>\n",
              "      <th>spec_T_XFC</th>\n",
              "      <th>spec_T_XFCU</th>\n",
              "      <th>spec_T_XFU</th>\n",
              "      <th>spec_T_XSCU</th>\n",
              "      <th>spec_T_XU</th>\n",
              "      <th>spec_T_Z</th>\n",
              "    </tr>\n",
              "  </thead>\n",
              "  <tbody>\n",
              "    <tr>\n",
              "      <th>115463</th>\n",
              "      <td>2.293673</td>\n",
              "      <td>0.163461</td>\n",
              "      <td>0.1871</td>\n",
              "      <td>2.441385</td>\n",
              "      <td>334.870064</td>\n",
              "      <td>66.302762</td>\n",
              "      <td>1.918747</td>\n",
              "      <td>2.668598</td>\n",
              "      <td>3.473804</td>\n",
              "      <td>8233.0</td>\n",
              "      <td>...</td>\n",
              "      <td>0</td>\n",
              "      <td>0</td>\n",
              "      <td>0</td>\n",
              "      <td>0</td>\n",
              "      <td>0</td>\n",
              "      <td>0</td>\n",
              "      <td>0</td>\n",
              "      <td>0</td>\n",
              "      <td>0</td>\n",
              "      <td>0</td>\n",
              "    </tr>\n",
              "    <tr>\n",
              "      <th>24218</th>\n",
              "      <td>2.207402</td>\n",
              "      <td>0.175629</td>\n",
              "      <td>0.1871</td>\n",
              "      <td>1.874951</td>\n",
              "      <td>242.421340</td>\n",
              "      <td>30.671744</td>\n",
              "      <td>1.819720</td>\n",
              "      <td>2.595085</td>\n",
              "      <td>3.279672</td>\n",
              "      <td>23289.0</td>\n",
              "      <td>...</td>\n",
              "      <td>0</td>\n",
              "      <td>0</td>\n",
              "      <td>0</td>\n",
              "      <td>0</td>\n",
              "      <td>0</td>\n",
              "      <td>0</td>\n",
              "      <td>0</td>\n",
              "      <td>0</td>\n",
              "      <td>0</td>\n",
              "      <td>0</td>\n",
              "    </tr>\n",
              "    <tr>\n",
              "      <th>459444</th>\n",
              "      <td>3.192089</td>\n",
              "      <td>0.227003</td>\n",
              "      <td>0.1871</td>\n",
              "      <td>26.874278</td>\n",
              "      <td>65.645193</td>\n",
              "      <td>283.338537</td>\n",
              "      <td>2.467473</td>\n",
              "      <td>3.916704</td>\n",
              "      <td>5.703226</td>\n",
              "      <td>7264.0</td>\n",
              "      <td>...</td>\n",
              "      <td>0</td>\n",
              "      <td>0</td>\n",
              "      <td>0</td>\n",
              "      <td>0</td>\n",
              "      <td>0</td>\n",
              "      <td>0</td>\n",
              "      <td>0</td>\n",
              "      <td>0</td>\n",
              "      <td>0</td>\n",
              "      <td>0</td>\n",
              "    </tr>\n",
              "    <tr>\n",
              "      <th>241880</th>\n",
              "      <td>3.199675</td>\n",
              "      <td>0.153845</td>\n",
              "      <td>0.1871</td>\n",
              "      <td>25.573412</td>\n",
              "      <td>215.534567</td>\n",
              "      <td>48.627799</td>\n",
              "      <td>2.707420</td>\n",
              "      <td>3.691930</td>\n",
              "      <td>5.723569</td>\n",
              "      <td>6235.0</td>\n",
              "      <td>...</td>\n",
              "      <td>0</td>\n",
              "      <td>0</td>\n",
              "      <td>0</td>\n",
              "      <td>0</td>\n",
              "      <td>0</td>\n",
              "      <td>0</td>\n",
              "      <td>0</td>\n",
              "      <td>0</td>\n",
              "      <td>0</td>\n",
              "      <td>0</td>\n",
              "    </tr>\n",
              "    <tr>\n",
              "      <th>53921</th>\n",
              "      <td>2.596313</td>\n",
              "      <td>0.243720</td>\n",
              "      <td>0.1871</td>\n",
              "      <td>2.657834</td>\n",
              "      <td>160.847473</td>\n",
              "      <td>198.996805</td>\n",
              "      <td>1.963540</td>\n",
              "      <td>3.229087</td>\n",
              "      <td>4.183540</td>\n",
              "      <td>9741.0</td>\n",
              "      <td>...</td>\n",
              "      <td>0</td>\n",
              "      <td>0</td>\n",
              "      <td>0</td>\n",
              "      <td>0</td>\n",
              "      <td>0</td>\n",
              "      <td>0</td>\n",
              "      <td>0</td>\n",
              "      <td>0</td>\n",
              "      <td>0</td>\n",
              "      <td>0</td>\n",
              "    </tr>\n",
              "  </tbody>\n",
              "</table>\n",
              "<p>5 rows × 205 columns</p>\n",
              "</div>\n",
              "      <button class=\"colab-df-convert\" onclick=\"convertToInteractive('df-0f3e16da-c3d4-4324-8ea3-529da87756b1')\"\n",
              "              title=\"Convert this dataframe to an interactive table.\"\n",
              "              style=\"display:none;\">\n",
              "        \n",
              "  <svg xmlns=\"http://www.w3.org/2000/svg\" height=\"24px\"viewBox=\"0 0 24 24\"\n",
              "       width=\"24px\">\n",
              "    <path d=\"M0 0h24v24H0V0z\" fill=\"none\"/>\n",
              "    <path d=\"M18.56 5.44l.94 2.06.94-2.06 2.06-.94-2.06-.94-.94-2.06-.94 2.06-2.06.94zm-11 1L8.5 8.5l.94-2.06 2.06-.94-2.06-.94L8.5 2.5l-.94 2.06-2.06.94zm10 10l.94 2.06.94-2.06 2.06-.94-2.06-.94-.94-2.06-.94 2.06-2.06.94z\"/><path d=\"M17.41 7.96l-1.37-1.37c-.4-.4-.92-.59-1.43-.59-.52 0-1.04.2-1.43.59L10.3 9.45l-7.72 7.72c-.78.78-.78 2.05 0 2.83L4 21.41c.39.39.9.59 1.41.59.51 0 1.02-.2 1.41-.59l7.78-7.78 2.81-2.81c.8-.78.8-2.07 0-2.86zM5.41 20L4 18.59l7.72-7.72 1.47 1.35L5.41 20z\"/>\n",
              "  </svg>\n",
              "      </button>\n",
              "      \n",
              "  <style>\n",
              "    .colab-df-container {\n",
              "      display:flex;\n",
              "      flex-wrap:wrap;\n",
              "      gap: 12px;\n",
              "    }\n",
              "\n",
              "    .colab-df-convert {\n",
              "      background-color: #E8F0FE;\n",
              "      border: none;\n",
              "      border-radius: 50%;\n",
              "      cursor: pointer;\n",
              "      display: none;\n",
              "      fill: #1967D2;\n",
              "      height: 32px;\n",
              "      padding: 0 0 0 0;\n",
              "      width: 32px;\n",
              "    }\n",
              "\n",
              "    .colab-df-convert:hover {\n",
              "      background-color: #E2EBFA;\n",
              "      box-shadow: 0px 1px 2px rgba(60, 64, 67, 0.3), 0px 1px 3px 1px rgba(60, 64, 67, 0.15);\n",
              "      fill: #174EA6;\n",
              "    }\n",
              "\n",
              "    [theme=dark] .colab-df-convert {\n",
              "      background-color: #3B4455;\n",
              "      fill: #D2E3FC;\n",
              "    }\n",
              "\n",
              "    [theme=dark] .colab-df-convert:hover {\n",
              "      background-color: #434B5C;\n",
              "      box-shadow: 0px 1px 3px 1px rgba(0, 0, 0, 0.15);\n",
              "      filter: drop-shadow(0px 1px 2px rgba(0, 0, 0, 0.3));\n",
              "      fill: #FFFFFF;\n",
              "    }\n",
              "  </style>\n",
              "\n",
              "      <script>\n",
              "        const buttonEl =\n",
              "          document.querySelector('#df-0f3e16da-c3d4-4324-8ea3-529da87756b1 button.colab-df-convert');\n",
              "        buttonEl.style.display =\n",
              "          google.colab.kernel.accessAllowed ? 'block' : 'none';\n",
              "\n",
              "        async function convertToInteractive(key) {\n",
              "          const element = document.querySelector('#df-0f3e16da-c3d4-4324-8ea3-529da87756b1');\n",
              "          const dataTable =\n",
              "            await google.colab.kernel.invokeFunction('convertToInteractive',\n",
              "                                                     [key], {});\n",
              "          if (!dataTable) return;\n",
              "\n",
              "          const docLinkHtml = 'Like what you see? Visit the ' +\n",
              "            '<a target=\"_blank\" href=https://colab.research.google.com/notebooks/data_table.ipynb>data table notebook</a>'\n",
              "            + ' to learn more about interactive tables.';\n",
              "          element.innerHTML = '';\n",
              "          dataTable['output_type'] = 'display_data';\n",
              "          await google.colab.output.renderOutput(dataTable, element);\n",
              "          const docLink = document.createElement('div');\n",
              "          docLink.innerHTML = docLinkHtml;\n",
              "          element.appendChild(docLink);\n",
              "        }\n",
              "      </script>\n",
              "    </div>\n",
              "  </div>\n",
              "  "
            ]
          },
          "metadata": {},
          "execution_count": 264
        }
      ],
      "source": [
        "model_df_train = pd.concat([dtf_train, new_columns], axis=1)\n",
        "model_df_test = pd.concat([dtf_test, new_columns_test], axis=1)\n",
        "model_df_train.head()"
      ],
      "metadata": {
        "pycharm": {
          "name": "#%%\n"
        },
        "id": "n6tnVPK3R7uy",
        "colab": {
          "base_uri": "https://localhost:8080/",
          "height": 314
        },
        "outputId": "0c6cb4f0-beec-4f8f-caf4-d49bfccd8178"
      }
    },
    {
      "cell_type": "code",
      "source": [
        "new_columns.shape"
      ],
      "metadata": {
        "id": "92XgDO_67ziG",
        "colab": {
          "base_uri": "https://localhost:8080/"
        },
        "outputId": "411737df-0da3-44b1-9492-2ce1d8a92d2e"
      },
      "execution_count": null,
      "outputs": [
        {
          "output_type": "execute_result",
          "data": {
            "text/plain": [
              "(110144, 185)"
            ]
          },
          "metadata": {},
          "execution_count": 265
        }
      ]
    },
    {
      "cell_type": "code",
      "source": [
        "model_df_test.isna().sum()\n"
      ],
      "metadata": {
        "id": "2pSVXJ5q6_F7",
        "colab": {
          "base_uri": "https://localhost:8080/"
        },
        "outputId": "0372c408-b9d4-4b44-974e-24717da0fe07"
      },
      "execution_count": null,
      "outputs": [
        {
          "output_type": "execute_result",
          "data": {
            "text/plain": [
              "semi-major axis                    0\n",
              "eccentricity                       0\n",
              "Magnitude slope parameter          0\n",
              "Inclination with ecliptic plane    0\n",
              "Longitude of the ascending node    0\n",
              "                                  ..\n",
              "spec_T_XFCU                        0\n",
              "spec_T_XFU                         0\n",
              "spec_T_XSCU                        0\n",
              "spec_T_XU                          0\n",
              "spec_T_Z                           0\n",
              "Length: 205, dtype: int64"
            ]
          },
          "metadata": {},
          "execution_count": 266
        }
      ]
    },
    {
      "cell_type": "code",
      "source": [
        "model_df_train.shape"
      ],
      "metadata": {
        "id": "svfPPJhy4m-a",
        "colab": {
          "base_uri": "https://localhost:8080/"
        },
        "outputId": "aac8defd-c83d-4e4b-8c10-3df1f06886da"
      },
      "execution_count": null,
      "outputs": [
        {
          "output_type": "execute_result",
          "data": {
            "text/plain": [
              "(110144, 205)"
            ]
          },
          "metadata": {},
          "execution_count": 267
        }
      ]
    },
    {
      "cell_type": "code",
      "source": [
        "model_df_test.shape"
      ],
      "metadata": {
        "id": "RnpYDuZ54roS",
        "colab": {
          "base_uri": "https://localhost:8080/"
        },
        "outputId": "3e53d0f5-a2cb-4ac5-e26b-ace312e1dbdf"
      },
      "execution_count": null,
      "outputs": [
        {
          "output_type": "execute_result",
          "data": {
            "text/plain": [
              "(27537, 205)"
            ]
          },
          "metadata": {},
          "execution_count": 268
        }
      ]
    },
    {
      "cell_type": "code",
      "execution_count": null,
      "outputs": [
        {
          "output_type": "execute_result",
          "data": {
            "text/plain": [
              "semi-major axis                    float64\n",
              "eccentricity                       float64\n",
              "Magnitude slope parameter          float64\n",
              "Inclination with ecliptic plane    float64\n",
              "Longitude of the ascending node    float64\n",
              "                                    ...   \n",
              "spec_T_XFCU                          uint8\n",
              "spec_T_XFU                           uint8\n",
              "spec_T_XSCU                          uint8\n",
              "spec_T_XU                            uint8\n",
              "spec_T_Z                             uint8\n",
              "Length: 205, dtype: object"
            ]
          },
          "metadata": {},
          "execution_count": 269
        }
      ],
      "source": [
        "model_df_train.dtypes"
      ],
      "metadata": {
        "pycharm": {
          "name": "#%%\n"
        },
        "id": "-LmbUlgzR7uy",
        "colab": {
          "base_uri": "https://localhost:8080/"
        },
        "outputId": "a273dfa5-d617-4bb9-a1d9-350882db228b"
      }
    },
    {
      "cell_type": "markdown",
      "metadata": {
        "id": "jRzMKpVv3u0Y"
      },
      "source": [
        "# Asteroids"
      ]
    },
    {
      "cell_type": "markdown",
      "metadata": {
        "id": "LtYR8sgXF3R6"
      },
      "source": [
        "\n",
        "*   **imbalanced data**\n",
        "\n"
      ]
    },
    {
      "cell_type": "code",
      "execution_count": null,
      "metadata": {
        "id": "TlLBvgm6wjIB"
      },
      "outputs": [],
      "source": [
        "# plt.figure(figsize=(20,17))\n",
        "# cor = model_df_train.corr()\n",
        "# sns.heatmap(model_df_train.corr(method='pearson'),annot=True)\n",
        "# plt.title(\"Correlation Between Features\")\n",
        "# plt.show()"
      ]
    },
    {
      "cell_type": "code",
      "execution_count": null,
      "metadata": {
        "id": "mI3fSRt6ZPdD",
        "colab": {
          "base_uri": "https://localhost:8080/"
        },
        "outputId": "9a91389d-0de2-4356-f6f5-a64f45d7e6ce"
      },
      "outputs": [
        {
          "output_type": "execute_result",
          "data": {
            "text/plain": [
              "3.008     42\n",
              "3.126     40\n",
              "3.122     39\n",
              "4.017     38\n",
              "3.296     37\n",
              "          ..\n",
              "14.286     1\n",
              "11.618     1\n",
              "1.054      1\n",
              "15.752     1\n",
              "14.900     1\n",
              "Name: diameter, Length: 15296, dtype: int64"
            ]
          },
          "metadata": {},
          "execution_count": 271
        }
      ],
      "source": [
        "model_df_train['diameter'].value_counts()"
      ]
    },
    {
      "cell_type": "markdown",
      "source": [
        "## Linear Regression"
      ],
      "metadata": {
        "collapsed": false,
        "pycharm": {
          "name": "#%% md\n"
        },
        "id": "xbhKf2zaR7u0"
      }
    },
    {
      "cell_type": "code",
      "source": [
        ""
      ],
      "metadata": {
        "id": "ilhP-Wwe5r_t"
      },
      "execution_count": null,
      "outputs": []
    },
    {
      "cell_type": "code",
      "source": [
        "y_train = model_df_train['diameter']\n",
        "X_train = model_df_train.drop(['diameter'], axis = 1)\n",
        "y_test = model_df_test['diameter']\n",
        "X_test = model_df_test.drop(['diameter'], axis = 1)"
      ],
      "metadata": {
        "id": "qihsMuSazxts"
      },
      "execution_count": null,
      "outputs": []
    },
    {
      "cell_type": "code",
      "source": [
        "X_test.shape"
      ],
      "metadata": {
        "id": "46PU3wxh7kp4",
        "colab": {
          "base_uri": "https://localhost:8080/"
        },
        "outputId": "ce49a1d0-4c8b-4018-aeea-d2daef1c6516"
      },
      "execution_count": null,
      "outputs": [
        {
          "output_type": "execute_result",
          "data": {
            "text/plain": [
              "(27537, 204)"
            ]
          },
          "metadata": {},
          "execution_count": 273
        }
      ]
    },
    {
      "cell_type": "code",
      "source": [
        "X_train.isna().sum().sum()"
      ],
      "metadata": {
        "id": "lgbAWQ3Y5uZU",
        "colab": {
          "base_uri": "https://localhost:8080/"
        },
        "outputId": "751ab36f-57bf-4db8-d3cb-00bba5c46f0c"
      },
      "execution_count": null,
      "outputs": [
        {
          "output_type": "execute_result",
          "data": {
            "text/plain": [
              "0"
            ]
          },
          "metadata": {},
          "execution_count": 274
        }
      ]
    },
    {
      "cell_type": "code",
      "execution_count": null,
      "outputs": [],
      "source": [
        "multi_reg = LinearRegression()\n",
        "multi_reg.fit(X_train , y_train)\n",
        "pred = multi_reg.predict(X_test)"
      ],
      "metadata": {
        "pycharm": {
          "name": "#%%\n"
        },
        "id": "d_9FHf0FR7u0"
      }
    },
    {
      "cell_type": "code",
      "execution_count": null,
      "outputs": [
        {
          "output_type": "stream",
          "name": "stdout",
          "text": [
            "Training Accuracy :  0.7906855479919159\n",
            "Test Accuracy :  0.5443139153623295\n"
          ]
        }
      ],
      "source": [
        "print('Training Accuracy : ' , multi_reg.score(X_train, y_train))\n",
        "print('Test Accuracy : ' , multi_reg.score(X_test, y_test))"
      ],
      "metadata": {
        "pycharm": {
          "name": "#%%\n"
        },
        "id": "T2yVThaNR7u0",
        "colab": {
          "base_uri": "https://localhost:8080/"
        },
        "outputId": "b0fcb744-cc81-43a3-820f-63b1d655f49e"
      }
    },
    {
      "cell_type": "markdown",
      "source": [
        "## Random Forest Regression"
      ],
      "metadata": {
        "collapsed": false,
        "pycharm": {
          "name": "#%% md\n"
        },
        "id": "ks8uxRhUR7u0"
      }
    },
    {
      "cell_type": "code",
      "execution_count": null,
      "outputs": [],
      "source": [
        "rf_model = RandomForestRegressor()\n",
        "rf_model.fit(X_train, y_train)\n",
        "y_pred = rf_model.predict(X_test)"
      ],
      "metadata": {
        "pycharm": {
          "name": "#%%\n",
          "is_executing": true
        },
        "id": "bNSNz-G5R7u1"
      }
    },
    {
      "cell_type": "code",
      "execution_count": null,
      "outputs": [
        {
          "output_type": "stream",
          "name": "stdout",
          "text": [
            "Training Accuracy :  0.7906855479919159\n",
            "Test Accuracy :  0.5443139153623295\n"
          ]
        }
      ],
      "source": [
        "print('Training Accuracy : ' , multi_reg.score(X_train, y_train))\n",
        "print('Test Accuracy : ' , multi_reg.score(X_test, y_test))"
      ],
      "metadata": {
        "pycharm": {
          "name": "#%%\n",
          "is_executing": true
        },
        "id": "0ix5gDaqR7u1",
        "colab": {
          "base_uri": "https://localhost:8080/"
        },
        "outputId": "e9a0efc0-5dc5-4ea3-b778-c23c29a7cc2c"
      }
    },
    {
      "cell_type": "code",
      "execution_count": null,
      "outputs": [],
      "source": [
        ""
      ],
      "metadata": {
        "pycharm": {
          "name": "#%%\n"
        },
        "id": "FZ-2psUDR7u1"
      }
    }
  ],
  "metadata": {
    "colab": {
      "collapsed_sections": [],
      "name": "Asteroid_notebook_mean_values.ipynb",
      "provenance": []
    },
    "kernelspec": {
      "display_name": "Python 3 (ipykernel)",
      "language": "python",
      "name": "python3"
    },
    "language_info": {
      "codemirror_mode": {
        "name": "ipython",
        "version": 3
      },
      "file_extension": ".py",
      "mimetype": "text/x-python",
      "name": "python",
      "nbconvert_exporter": "python",
      "pygments_lexer": "ipython3",
      "version": "3.9.7"
    }
  },
  "nbformat": 4,
  "nbformat_minor": 0
}