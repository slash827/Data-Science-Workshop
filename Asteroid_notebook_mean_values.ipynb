{
  "cells": [
    {
      "cell_type": "markdown",
      "metadata": {
        "id": "e46jmT5PvwGQ"
      },
      "source": [
        "# **Asteroid Prediction**\n"
      ]
    },
    {
      "cell_type": "markdown",
      "metadata": {
        "id": "ZBH8DG2uwVdK"
      },
      "source": [
        "# Import Python Libraries"
      ]
    },
    {
      "cell_type": "code",
      "execution_count": 340,
      "outputs": [],
      "source": [
        "#from google.colab import drive\n",
        "#drive.mount('/content/drive')"
      ],
      "metadata": {
        "pycharm": {
          "name": "#%%\n"
        },
        "id": "7YSk9uvqR7uo"
      }
    },
    {
      "cell_type": "code",
      "execution_count": 341,
      "metadata": {
        "id": "f5wQSSrmvsmE"
      },
      "outputs": [],
      "source": [
        "import pandas as pd\n",
        "import numpy as np\n",
        "import seaborn as sns\n",
        "import matplotlib.pyplot as plt\n",
        "%matplotlib inline\n",
        "import sklearn\n",
        "import matplotlib.pyplot as plt\n",
        "from sklearn.ensemble import RandomForestRegressor\n",
        "from sklearn.linear_model import LinearRegression\n",
        "from sklearn.model_selection import train_test_split\n",
        "from sklearn.preprocessing import OneHotEncoder\n",
        "import numpy as np"
      ]
    },
    {
      "cell_type": "markdown",
      "metadata": {
        "id": "eummGGzew4M9"
      },
      "source": [
        "# Reading the Income Classification Dataset"
      ]
    },
    {
      "cell_type": "code",
      "execution_count": 342,
      "metadata": {
        "id": "JRldRS3T6q7x"
      },
      "outputs": [],
      "source": [
        "#%cd /content/drive/My Drive/Data"
      ]
    },
    {
      "cell_type": "code",
      "execution_count": 343,
      "metadata": {
        "id": "CmR1ECBM6ux5",
        "outputId": "86073d3f-e037-4f43-bd1a-a7fbd047fd20",
        "colab": {
          "base_uri": "https://localhost:8080/"
        }
      },
      "outputs": [
        {
          "output_type": "stream",
          "name": "stdout",
          "text": [
            "Drive already mounted at /content/drive; to attempt to forcibly remount, call drive.mount(\"/content/drive\", force_remount=True).\n"
          ]
        }
      ],
      "source": [
        "from google.colab import drive\n",
        "drive.mount('/content/drive')\n"
      ]
    },
    {
      "cell_type": "code",
      "source": [
        "df = pd.read_csv('/content/drive/MyDrive/Asteroid.csv',  on_bad_lines='skip')"
      ],
      "metadata": {
        "colab": {
          "base_uri": "https://localhost:8080/"
        },
        "id": "UAYGpkj6FSDy",
        "outputId": "477ae570-98c6-40df-c8ce-0254aa28f8c9"
      },
      "execution_count": 344,
      "outputs": [
        {
          "output_type": "stream",
          "name": "stderr",
          "text": [
            "/usr/local/lib/python3.7/dist-packages/IPython/core/interactiveshell.py:2882: DtypeWarning: Columns (11,14,15,22,23) have mixed types.Specify dtype option on import or set low_memory=False.\n",
            "  exec(code_obj, self.user_global_ns, self.user_ns)\n"
          ]
        }
      ]
    },
    {
      "cell_type": "code",
      "source": [
        "df.head()"
      ],
      "metadata": {
        "colab": {
          "base_uri": "https://localhost:8080/",
          "height": 235
        },
        "id": "CdeqEtNQ5x9a",
        "outputId": "060a5749-ec5f-4bbd-d9d7-e6a30ff87ad6"
      },
      "execution_count": 345,
      "outputs": [
        {
          "output_type": "execute_result",
          "data": {
            "text/plain": [
              "        full_name         a         e     G          i          om  \\\n",
              "0         1 Ceres  2.769165  0.076009  0.12  10.594067   80.305532   \n",
              "1        2 Pallas  2.772466  0.230337  0.11  34.836234  173.080063   \n",
              "2          3 Juno  2.669150  0.256942  0.32  12.988919  169.852760   \n",
              "3         4 Vesta  2.361418  0.088721  0.32   7.141771  103.810804   \n",
              "4       5 Astraea  2.574249  0.191095   NaN   5.366988  141.576604   \n",
              "\n",
              "            w         q        ad     per_y  ...    rot_per       GM     BV  \\\n",
              "0   73.597694  2.558684  2.979647  4.608202  ...   9.074170  62.6284  0.713   \n",
              "1  310.048857  2.133865  3.411067  4.616444  ...   7.813200  14.3000  0.635   \n",
              "2  248.138626  1.983332  3.354967  4.360814  ...   7.210000      NaN  0.824   \n",
              "3  150.728541  2.151909  2.570926  3.628837  ...   5.342128  17.8000  0.782   \n",
              "4  358.687608  2.082324  3.066174  4.130323  ...  16.806000      NaN  0.826   \n",
              "\n",
              "      UB  IR spec_B  spec_T  neo  pha     moid  \n",
              "0  0.426 NaN      C       G    N    N  1.59478  \n",
              "1  0.284 NaN      B       B    N    N  1.23324  \n",
              "2  0.433 NaN     Sk       S    N    N  1.03454  \n",
              "3  0.492 NaN      V       V    N    N  1.13948  \n",
              "4  0.411 NaN      S       S    N    N  1.09589  \n",
              "\n",
              "[5 rows x 27 columns]"
            ],
            "text/html": [
              "\n",
              "  <div id=\"df-be436703-f06a-405a-b1e8-4a377c6cf38f\">\n",
              "    <div class=\"colab-df-container\">\n",
              "      <div>\n",
              "<style scoped>\n",
              "    .dataframe tbody tr th:only-of-type {\n",
              "        vertical-align: middle;\n",
              "    }\n",
              "\n",
              "    .dataframe tbody tr th {\n",
              "        vertical-align: top;\n",
              "    }\n",
              "\n",
              "    .dataframe thead th {\n",
              "        text-align: right;\n",
              "    }\n",
              "</style>\n",
              "<table border=\"1\" class=\"dataframe\">\n",
              "  <thead>\n",
              "    <tr style=\"text-align: right;\">\n",
              "      <th></th>\n",
              "      <th>full_name</th>\n",
              "      <th>a</th>\n",
              "      <th>e</th>\n",
              "      <th>G</th>\n",
              "      <th>i</th>\n",
              "      <th>om</th>\n",
              "      <th>w</th>\n",
              "      <th>q</th>\n",
              "      <th>ad</th>\n",
              "      <th>per_y</th>\n",
              "      <th>...</th>\n",
              "      <th>rot_per</th>\n",
              "      <th>GM</th>\n",
              "      <th>BV</th>\n",
              "      <th>UB</th>\n",
              "      <th>IR</th>\n",
              "      <th>spec_B</th>\n",
              "      <th>spec_T</th>\n",
              "      <th>neo</th>\n",
              "      <th>pha</th>\n",
              "      <th>moid</th>\n",
              "    </tr>\n",
              "  </thead>\n",
              "  <tbody>\n",
              "    <tr>\n",
              "      <th>0</th>\n",
              "      <td>1 Ceres</td>\n",
              "      <td>2.769165</td>\n",
              "      <td>0.076009</td>\n",
              "      <td>0.12</td>\n",
              "      <td>10.594067</td>\n",
              "      <td>80.305532</td>\n",
              "      <td>73.597694</td>\n",
              "      <td>2.558684</td>\n",
              "      <td>2.979647</td>\n",
              "      <td>4.608202</td>\n",
              "      <td>...</td>\n",
              "      <td>9.074170</td>\n",
              "      <td>62.6284</td>\n",
              "      <td>0.713</td>\n",
              "      <td>0.426</td>\n",
              "      <td>NaN</td>\n",
              "      <td>C</td>\n",
              "      <td>G</td>\n",
              "      <td>N</td>\n",
              "      <td>N</td>\n",
              "      <td>1.59478</td>\n",
              "    </tr>\n",
              "    <tr>\n",
              "      <th>1</th>\n",
              "      <td>2 Pallas</td>\n",
              "      <td>2.772466</td>\n",
              "      <td>0.230337</td>\n",
              "      <td>0.11</td>\n",
              "      <td>34.836234</td>\n",
              "      <td>173.080063</td>\n",
              "      <td>310.048857</td>\n",
              "      <td>2.133865</td>\n",
              "      <td>3.411067</td>\n",
              "      <td>4.616444</td>\n",
              "      <td>...</td>\n",
              "      <td>7.813200</td>\n",
              "      <td>14.3000</td>\n",
              "      <td>0.635</td>\n",
              "      <td>0.284</td>\n",
              "      <td>NaN</td>\n",
              "      <td>B</td>\n",
              "      <td>B</td>\n",
              "      <td>N</td>\n",
              "      <td>N</td>\n",
              "      <td>1.23324</td>\n",
              "    </tr>\n",
              "    <tr>\n",
              "      <th>2</th>\n",
              "      <td>3 Juno</td>\n",
              "      <td>2.669150</td>\n",
              "      <td>0.256942</td>\n",
              "      <td>0.32</td>\n",
              "      <td>12.988919</td>\n",
              "      <td>169.852760</td>\n",
              "      <td>248.138626</td>\n",
              "      <td>1.983332</td>\n",
              "      <td>3.354967</td>\n",
              "      <td>4.360814</td>\n",
              "      <td>...</td>\n",
              "      <td>7.210000</td>\n",
              "      <td>NaN</td>\n",
              "      <td>0.824</td>\n",
              "      <td>0.433</td>\n",
              "      <td>NaN</td>\n",
              "      <td>Sk</td>\n",
              "      <td>S</td>\n",
              "      <td>N</td>\n",
              "      <td>N</td>\n",
              "      <td>1.03454</td>\n",
              "    </tr>\n",
              "    <tr>\n",
              "      <th>3</th>\n",
              "      <td>4 Vesta</td>\n",
              "      <td>2.361418</td>\n",
              "      <td>0.088721</td>\n",
              "      <td>0.32</td>\n",
              "      <td>7.141771</td>\n",
              "      <td>103.810804</td>\n",
              "      <td>150.728541</td>\n",
              "      <td>2.151909</td>\n",
              "      <td>2.570926</td>\n",
              "      <td>3.628837</td>\n",
              "      <td>...</td>\n",
              "      <td>5.342128</td>\n",
              "      <td>17.8000</td>\n",
              "      <td>0.782</td>\n",
              "      <td>0.492</td>\n",
              "      <td>NaN</td>\n",
              "      <td>V</td>\n",
              "      <td>V</td>\n",
              "      <td>N</td>\n",
              "      <td>N</td>\n",
              "      <td>1.13948</td>\n",
              "    </tr>\n",
              "    <tr>\n",
              "      <th>4</th>\n",
              "      <td>5 Astraea</td>\n",
              "      <td>2.574249</td>\n",
              "      <td>0.191095</td>\n",
              "      <td>NaN</td>\n",
              "      <td>5.366988</td>\n",
              "      <td>141.576604</td>\n",
              "      <td>358.687608</td>\n",
              "      <td>2.082324</td>\n",
              "      <td>3.066174</td>\n",
              "      <td>4.130323</td>\n",
              "      <td>...</td>\n",
              "      <td>16.806000</td>\n",
              "      <td>NaN</td>\n",
              "      <td>0.826</td>\n",
              "      <td>0.411</td>\n",
              "      <td>NaN</td>\n",
              "      <td>S</td>\n",
              "      <td>S</td>\n",
              "      <td>N</td>\n",
              "      <td>N</td>\n",
              "      <td>1.09589</td>\n",
              "    </tr>\n",
              "  </tbody>\n",
              "</table>\n",
              "<p>5 rows × 27 columns</p>\n",
              "</div>\n",
              "      <button class=\"colab-df-convert\" onclick=\"convertToInteractive('df-be436703-f06a-405a-b1e8-4a377c6cf38f')\"\n",
              "              title=\"Convert this dataframe to an interactive table.\"\n",
              "              style=\"display:none;\">\n",
              "        \n",
              "  <svg xmlns=\"http://www.w3.org/2000/svg\" height=\"24px\"viewBox=\"0 0 24 24\"\n",
              "       width=\"24px\">\n",
              "    <path d=\"M0 0h24v24H0V0z\" fill=\"none\"/>\n",
              "    <path d=\"M18.56 5.44l.94 2.06.94-2.06 2.06-.94-2.06-.94-.94-2.06-.94 2.06-2.06.94zm-11 1L8.5 8.5l.94-2.06 2.06-.94-2.06-.94L8.5 2.5l-.94 2.06-2.06.94zm10 10l.94 2.06.94-2.06 2.06-.94-2.06-.94-.94-2.06-.94 2.06-2.06.94z\"/><path d=\"M17.41 7.96l-1.37-1.37c-.4-.4-.92-.59-1.43-.59-.52 0-1.04.2-1.43.59L10.3 9.45l-7.72 7.72c-.78.78-.78 2.05 0 2.83L4 21.41c.39.39.9.59 1.41.59.51 0 1.02-.2 1.41-.59l7.78-7.78 2.81-2.81c.8-.78.8-2.07 0-2.86zM5.41 20L4 18.59l7.72-7.72 1.47 1.35L5.41 20z\"/>\n",
              "  </svg>\n",
              "      </button>\n",
              "      \n",
              "  <style>\n",
              "    .colab-df-container {\n",
              "      display:flex;\n",
              "      flex-wrap:wrap;\n",
              "      gap: 12px;\n",
              "    }\n",
              "\n",
              "    .colab-df-convert {\n",
              "      background-color: #E8F0FE;\n",
              "      border: none;\n",
              "      border-radius: 50%;\n",
              "      cursor: pointer;\n",
              "      display: none;\n",
              "      fill: #1967D2;\n",
              "      height: 32px;\n",
              "      padding: 0 0 0 0;\n",
              "      width: 32px;\n",
              "    }\n",
              "\n",
              "    .colab-df-convert:hover {\n",
              "      background-color: #E2EBFA;\n",
              "      box-shadow: 0px 1px 2px rgba(60, 64, 67, 0.3), 0px 1px 3px 1px rgba(60, 64, 67, 0.15);\n",
              "      fill: #174EA6;\n",
              "    }\n",
              "\n",
              "    [theme=dark] .colab-df-convert {\n",
              "      background-color: #3B4455;\n",
              "      fill: #D2E3FC;\n",
              "    }\n",
              "\n",
              "    [theme=dark] .colab-df-convert:hover {\n",
              "      background-color: #434B5C;\n",
              "      box-shadow: 0px 1px 3px 1px rgba(0, 0, 0, 0.15);\n",
              "      filter: drop-shadow(0px 1px 2px rgba(0, 0, 0, 0.3));\n",
              "      fill: #FFFFFF;\n",
              "    }\n",
              "  </style>\n",
              "\n",
              "      <script>\n",
              "        const buttonEl =\n",
              "          document.querySelector('#df-be436703-f06a-405a-b1e8-4a377c6cf38f button.colab-df-convert');\n",
              "        buttonEl.style.display =\n",
              "          google.colab.kernel.accessAllowed ? 'block' : 'none';\n",
              "\n",
              "        async function convertToInteractive(key) {\n",
              "          const element = document.querySelector('#df-be436703-f06a-405a-b1e8-4a377c6cf38f');\n",
              "          const dataTable =\n",
              "            await google.colab.kernel.invokeFunction('convertToInteractive',\n",
              "                                                     [key], {});\n",
              "          if (!dataTable) return;\n",
              "\n",
              "          const docLinkHtml = 'Like what you see? Visit the ' +\n",
              "            '<a target=\"_blank\" href=https://colab.research.google.com/notebooks/data_table.ipynb>data table notebook</a>'\n",
              "            + ' to learn more about interactive tables.';\n",
              "          element.innerHTML = '';\n",
              "          dataTable['output_type'] = 'display_data';\n",
              "          await google.colab.output.renderOutput(dataTable, element);\n",
              "          const docLink = document.createElement('div');\n",
              "          docLink.innerHTML = docLinkHtml;\n",
              "          element.appendChild(docLink);\n",
              "        }\n",
              "      </script>\n",
              "    </div>\n",
              "  </div>\n",
              "  "
            ]
          },
          "metadata": {},
          "execution_count": 345
        }
      ]
    },
    {
      "cell_type": "markdown",
      "source": [
        "# Column Renaming"
      ],
      "metadata": {
        "collapsed": false,
        "pycharm": {
          "name": "#%% md\n"
        },
        "id": "UjIQvERdR7us"
      }
    },
    {
      "cell_type": "code",
      "execution_count": 346,
      "outputs": [],
      "source": [
        "readable_df = df.copy()\n",
        "readable_df = readable_df.rename(columns={\"a\": \"semi-major axis\",\n",
        "                            \"e\": \"eccentricity\",\n",
        "                            \"G\": \"Magnitude slope parameter\",\n",
        "                            \"i\": \"Inclination with ecliptic plane\",\n",
        "                            \"om\": \"Longitude of the ascending node\",\n",
        "                            \"w\": \"argument of perihelion\",\n",
        "                            \"q\": \"perihelion distance(au)\",\n",
        "                            \"ad\": \"aphelion distance(au)\",\n",
        "                            \"per_y\": \"Orbital period\",\n",
        "                            \"data_arc\": \"data arc-span(d)\",\n",
        "                            \"condition_code\": \"Orbit condition code\",\n",
        "                            \"n_obs_used\": \"number of observations used\",\n",
        "                            \"H\": \"Absolute Magnitude parameter\",\n",
        "                            \"condition_code\": \"Orbit condition code\",\n",
        "                            })"
      ],
      "metadata": {
        "pycharm": {
          "name": "#%%\n"
        },
        "id": "evJ2jMnuR7us"
      }
    },
    {
      "cell_type": "code",
      "execution_count": 347,
      "metadata": {
        "colab": {
          "base_uri": "https://localhost:8080/",
          "height": 296
        },
        "id": "h4-SRqnm6ik6",
        "outputId": "c7f6add3-3df9-4571-d838-ebdd16465cb0"
      },
      "outputs": [
        {
          "output_type": "execute_result",
          "data": {
            "text/plain": [
              "        full_name  semi-major axis  eccentricity  Magnitude slope parameter  \\\n",
              "0         1 Ceres         2.769165      0.076009                       0.12   \n",
              "1        2 Pallas         2.772466      0.230337                       0.11   \n",
              "2          3 Juno         2.669150      0.256942                       0.32   \n",
              "3         4 Vesta         2.361418      0.088721                       0.32   \n",
              "4       5 Astraea         2.574249      0.191095                        NaN   \n",
              "\n",
              "   Inclination with ecliptic plane  Longitude of the ascending node  \\\n",
              "0                        10.594067                        80.305532   \n",
              "1                        34.836234                       173.080063   \n",
              "2                        12.988919                       169.852760   \n",
              "3                         7.141771                       103.810804   \n",
              "4                         5.366988                       141.576604   \n",
              "\n",
              "   argument of perihelion  perihelion distance(au)  aphelion distance(au)  \\\n",
              "0               73.597694                 2.558684               2.979647   \n",
              "1              310.048857                 2.133865               3.411067   \n",
              "2              248.138626                 1.983332               3.354967   \n",
              "3              150.728541                 2.151909               2.570926   \n",
              "4              358.687608                 2.082324               3.066174   \n",
              "\n",
              "   Orbital period  ...    rot_per       GM     BV     UB  IR spec_B  spec_T  \\\n",
              "0        4.608202  ...   9.074170  62.6284  0.713  0.426 NaN      C       G   \n",
              "1        4.616444  ...   7.813200  14.3000  0.635  0.284 NaN      B       B   \n",
              "2        4.360814  ...   7.210000      NaN  0.824  0.433 NaN     Sk       S   \n",
              "3        3.628837  ...   5.342128  17.8000  0.782  0.492 NaN      V       V   \n",
              "4        4.130323  ...  16.806000      NaN  0.826  0.411 NaN      S       S   \n",
              "\n",
              "   neo  pha     moid  \n",
              "0    N    N  1.59478  \n",
              "1    N    N  1.23324  \n",
              "2    N    N  1.03454  \n",
              "3    N    N  1.13948  \n",
              "4    N    N  1.09589  \n",
              "\n",
              "[5 rows x 27 columns]"
            ],
            "text/html": [
              "\n",
              "  <div id=\"df-3400031d-6f9a-4eab-8d68-43918c818505\">\n",
              "    <div class=\"colab-df-container\">\n",
              "      <div>\n",
              "<style scoped>\n",
              "    .dataframe tbody tr th:only-of-type {\n",
              "        vertical-align: middle;\n",
              "    }\n",
              "\n",
              "    .dataframe tbody tr th {\n",
              "        vertical-align: top;\n",
              "    }\n",
              "\n",
              "    .dataframe thead th {\n",
              "        text-align: right;\n",
              "    }\n",
              "</style>\n",
              "<table border=\"1\" class=\"dataframe\">\n",
              "  <thead>\n",
              "    <tr style=\"text-align: right;\">\n",
              "      <th></th>\n",
              "      <th>full_name</th>\n",
              "      <th>semi-major axis</th>\n",
              "      <th>eccentricity</th>\n",
              "      <th>Magnitude slope parameter</th>\n",
              "      <th>Inclination with ecliptic plane</th>\n",
              "      <th>Longitude of the ascending node</th>\n",
              "      <th>argument of perihelion</th>\n",
              "      <th>perihelion distance(au)</th>\n",
              "      <th>aphelion distance(au)</th>\n",
              "      <th>Orbital period</th>\n",
              "      <th>...</th>\n",
              "      <th>rot_per</th>\n",
              "      <th>GM</th>\n",
              "      <th>BV</th>\n",
              "      <th>UB</th>\n",
              "      <th>IR</th>\n",
              "      <th>spec_B</th>\n",
              "      <th>spec_T</th>\n",
              "      <th>neo</th>\n",
              "      <th>pha</th>\n",
              "      <th>moid</th>\n",
              "    </tr>\n",
              "  </thead>\n",
              "  <tbody>\n",
              "    <tr>\n",
              "      <th>0</th>\n",
              "      <td>1 Ceres</td>\n",
              "      <td>2.769165</td>\n",
              "      <td>0.076009</td>\n",
              "      <td>0.12</td>\n",
              "      <td>10.594067</td>\n",
              "      <td>80.305532</td>\n",
              "      <td>73.597694</td>\n",
              "      <td>2.558684</td>\n",
              "      <td>2.979647</td>\n",
              "      <td>4.608202</td>\n",
              "      <td>...</td>\n",
              "      <td>9.074170</td>\n",
              "      <td>62.6284</td>\n",
              "      <td>0.713</td>\n",
              "      <td>0.426</td>\n",
              "      <td>NaN</td>\n",
              "      <td>C</td>\n",
              "      <td>G</td>\n",
              "      <td>N</td>\n",
              "      <td>N</td>\n",
              "      <td>1.59478</td>\n",
              "    </tr>\n",
              "    <tr>\n",
              "      <th>1</th>\n",
              "      <td>2 Pallas</td>\n",
              "      <td>2.772466</td>\n",
              "      <td>0.230337</td>\n",
              "      <td>0.11</td>\n",
              "      <td>34.836234</td>\n",
              "      <td>173.080063</td>\n",
              "      <td>310.048857</td>\n",
              "      <td>2.133865</td>\n",
              "      <td>3.411067</td>\n",
              "      <td>4.616444</td>\n",
              "      <td>...</td>\n",
              "      <td>7.813200</td>\n",
              "      <td>14.3000</td>\n",
              "      <td>0.635</td>\n",
              "      <td>0.284</td>\n",
              "      <td>NaN</td>\n",
              "      <td>B</td>\n",
              "      <td>B</td>\n",
              "      <td>N</td>\n",
              "      <td>N</td>\n",
              "      <td>1.23324</td>\n",
              "    </tr>\n",
              "    <tr>\n",
              "      <th>2</th>\n",
              "      <td>3 Juno</td>\n",
              "      <td>2.669150</td>\n",
              "      <td>0.256942</td>\n",
              "      <td>0.32</td>\n",
              "      <td>12.988919</td>\n",
              "      <td>169.852760</td>\n",
              "      <td>248.138626</td>\n",
              "      <td>1.983332</td>\n",
              "      <td>3.354967</td>\n",
              "      <td>4.360814</td>\n",
              "      <td>...</td>\n",
              "      <td>7.210000</td>\n",
              "      <td>NaN</td>\n",
              "      <td>0.824</td>\n",
              "      <td>0.433</td>\n",
              "      <td>NaN</td>\n",
              "      <td>Sk</td>\n",
              "      <td>S</td>\n",
              "      <td>N</td>\n",
              "      <td>N</td>\n",
              "      <td>1.03454</td>\n",
              "    </tr>\n",
              "    <tr>\n",
              "      <th>3</th>\n",
              "      <td>4 Vesta</td>\n",
              "      <td>2.361418</td>\n",
              "      <td>0.088721</td>\n",
              "      <td>0.32</td>\n",
              "      <td>7.141771</td>\n",
              "      <td>103.810804</td>\n",
              "      <td>150.728541</td>\n",
              "      <td>2.151909</td>\n",
              "      <td>2.570926</td>\n",
              "      <td>3.628837</td>\n",
              "      <td>...</td>\n",
              "      <td>5.342128</td>\n",
              "      <td>17.8000</td>\n",
              "      <td>0.782</td>\n",
              "      <td>0.492</td>\n",
              "      <td>NaN</td>\n",
              "      <td>V</td>\n",
              "      <td>V</td>\n",
              "      <td>N</td>\n",
              "      <td>N</td>\n",
              "      <td>1.13948</td>\n",
              "    </tr>\n",
              "    <tr>\n",
              "      <th>4</th>\n",
              "      <td>5 Astraea</td>\n",
              "      <td>2.574249</td>\n",
              "      <td>0.191095</td>\n",
              "      <td>NaN</td>\n",
              "      <td>5.366988</td>\n",
              "      <td>141.576604</td>\n",
              "      <td>358.687608</td>\n",
              "      <td>2.082324</td>\n",
              "      <td>3.066174</td>\n",
              "      <td>4.130323</td>\n",
              "      <td>...</td>\n",
              "      <td>16.806000</td>\n",
              "      <td>NaN</td>\n",
              "      <td>0.826</td>\n",
              "      <td>0.411</td>\n",
              "      <td>NaN</td>\n",
              "      <td>S</td>\n",
              "      <td>S</td>\n",
              "      <td>N</td>\n",
              "      <td>N</td>\n",
              "      <td>1.09589</td>\n",
              "    </tr>\n",
              "  </tbody>\n",
              "</table>\n",
              "<p>5 rows × 27 columns</p>\n",
              "</div>\n",
              "      <button class=\"colab-df-convert\" onclick=\"convertToInteractive('df-3400031d-6f9a-4eab-8d68-43918c818505')\"\n",
              "              title=\"Convert this dataframe to an interactive table.\"\n",
              "              style=\"display:none;\">\n",
              "        \n",
              "  <svg xmlns=\"http://www.w3.org/2000/svg\" height=\"24px\"viewBox=\"0 0 24 24\"\n",
              "       width=\"24px\">\n",
              "    <path d=\"M0 0h24v24H0V0z\" fill=\"none\"/>\n",
              "    <path d=\"M18.56 5.44l.94 2.06.94-2.06 2.06-.94-2.06-.94-.94-2.06-.94 2.06-2.06.94zm-11 1L8.5 8.5l.94-2.06 2.06-.94-2.06-.94L8.5 2.5l-.94 2.06-2.06.94zm10 10l.94 2.06.94-2.06 2.06-.94-2.06-.94-.94-2.06-.94 2.06-2.06.94z\"/><path d=\"M17.41 7.96l-1.37-1.37c-.4-.4-.92-.59-1.43-.59-.52 0-1.04.2-1.43.59L10.3 9.45l-7.72 7.72c-.78.78-.78 2.05 0 2.83L4 21.41c.39.39.9.59 1.41.59.51 0 1.02-.2 1.41-.59l7.78-7.78 2.81-2.81c.8-.78.8-2.07 0-2.86zM5.41 20L4 18.59l7.72-7.72 1.47 1.35L5.41 20z\"/>\n",
              "  </svg>\n",
              "      </button>\n",
              "      \n",
              "  <style>\n",
              "    .colab-df-container {\n",
              "      display:flex;\n",
              "      flex-wrap:wrap;\n",
              "      gap: 12px;\n",
              "    }\n",
              "\n",
              "    .colab-df-convert {\n",
              "      background-color: #E8F0FE;\n",
              "      border: none;\n",
              "      border-radius: 50%;\n",
              "      cursor: pointer;\n",
              "      display: none;\n",
              "      fill: #1967D2;\n",
              "      height: 32px;\n",
              "      padding: 0 0 0 0;\n",
              "      width: 32px;\n",
              "    }\n",
              "\n",
              "    .colab-df-convert:hover {\n",
              "      background-color: #E2EBFA;\n",
              "      box-shadow: 0px 1px 2px rgba(60, 64, 67, 0.3), 0px 1px 3px 1px rgba(60, 64, 67, 0.15);\n",
              "      fill: #174EA6;\n",
              "    }\n",
              "\n",
              "    [theme=dark] .colab-df-convert {\n",
              "      background-color: #3B4455;\n",
              "      fill: #D2E3FC;\n",
              "    }\n",
              "\n",
              "    [theme=dark] .colab-df-convert:hover {\n",
              "      background-color: #434B5C;\n",
              "      box-shadow: 0px 1px 3px 1px rgba(0, 0, 0, 0.15);\n",
              "      filter: drop-shadow(0px 1px 2px rgba(0, 0, 0, 0.3));\n",
              "      fill: #FFFFFF;\n",
              "    }\n",
              "  </style>\n",
              "\n",
              "      <script>\n",
              "        const buttonEl =\n",
              "          document.querySelector('#df-3400031d-6f9a-4eab-8d68-43918c818505 button.colab-df-convert');\n",
              "        buttonEl.style.display =\n",
              "          google.colab.kernel.accessAllowed ? 'block' : 'none';\n",
              "\n",
              "        async function convertToInteractive(key) {\n",
              "          const element = document.querySelector('#df-3400031d-6f9a-4eab-8d68-43918c818505');\n",
              "          const dataTable =\n",
              "            await google.colab.kernel.invokeFunction('convertToInteractive',\n",
              "                                                     [key], {});\n",
              "          if (!dataTable) return;\n",
              "\n",
              "          const docLinkHtml = 'Like what you see? Visit the ' +\n",
              "            '<a target=\"_blank\" href=https://colab.research.google.com/notebooks/data_table.ipynb>data table notebook</a>'\n",
              "            + ' to learn more about interactive tables.';\n",
              "          element.innerHTML = '';\n",
              "          dataTable['output_type'] = 'display_data';\n",
              "          await google.colab.output.renderOutput(dataTable, element);\n",
              "          const docLink = document.createElement('div');\n",
              "          docLink.innerHTML = docLinkHtml;\n",
              "          element.appendChild(docLink);\n",
              "        }\n",
              "      </script>\n",
              "    </div>\n",
              "  </div>\n",
              "  "
            ]
          },
          "metadata": {},
          "execution_count": 347
        }
      ],
      "source": [
        "readable_df.head()"
      ]
    },
    {
      "cell_type": "markdown",
      "metadata": {
        "id": "z0oHQWk2x9zD"
      },
      "source": [
        "# **Exploration (EDA) & Visualization**"
      ]
    },
    {
      "cell_type": "markdown",
      "source": [
        "# Handling missing values"
      ],
      "metadata": {
        "id": "c-GN5RDYD05l"
      }
    },
    {
      "cell_type": "code",
      "execution_count": 348,
      "metadata": {
        "colab": {
          "base_uri": "https://localhost:8080/"
        },
        "id": "Eib1vs4c61H4",
        "outputId": "14f863e1-0f23-4fe9-bc15-82488cff0cbe"
      },
      "outputs": [
        {
          "output_type": "execute_result",
          "data": {
            "text/plain": [
              "(839736, 27)"
            ]
          },
          "metadata": {},
          "execution_count": 348
        }
      ],
      "source": [
        "readable_df.shape"
      ]
    },
    {
      "cell_type": "markdown",
      "source": [
        "**Drop nan rows (diameter col)**"
      ],
      "metadata": {
        "id": "8_4y6gbMD5ps"
      }
    },
    {
      "cell_type": "code",
      "source": [
        "readable_df = readable_df.dropna(axis=0, subset=['diameter'])"
      ],
      "metadata": {
        "id": "Xh4aY96vTsMG"
      },
      "execution_count": 349,
      "outputs": []
    },
    {
      "cell_type": "markdown",
      "source": [
        "**Split a dataset into training and testing sets**"
      ],
      "metadata": {
        "id": "Wi5mwXLND8v7"
      }
    },
    {
      "cell_type": "code",
      "execution_count": 350,
      "outputs": [],
      "source": [
        "dtf_train, dtf_test = train_test_split(readable_df, test_size=0.2)"
      ],
      "metadata": {
        "pycharm": {
          "name": "#%%\n"
        },
        "id": "uoGtm_ChR7uz"
      }
    },
    {
      "cell_type": "code",
      "source": [
        "dtf_train.shape"
      ],
      "metadata": {
        "colab": {
          "base_uri": "https://localhost:8080/"
        },
        "id": "HtI-StX93-um",
        "outputId": "71568ffb-d0b3-4a30-d713-3730dbcba8d2"
      },
      "execution_count": 351,
      "outputs": [
        {
          "output_type": "execute_result",
          "data": {
            "text/plain": [
              "(110144, 27)"
            ]
          },
          "metadata": {},
          "execution_count": 351
        }
      ]
    },
    {
      "cell_type": "code",
      "source": [
        "dtf_test.shape"
      ],
      "metadata": {
        "colab": {
          "base_uri": "https://localhost:8080/"
        },
        "id": "JbtLNFVx3x_z",
        "outputId": "2d221c48-9de8-45be-d0f0-a40421d70024"
      },
      "execution_count": 352,
      "outputs": [
        {
          "output_type": "execute_result",
          "data": {
            "text/plain": [
              "(27537, 27)"
            ]
          },
          "metadata": {},
          "execution_count": 352
        }
      ]
    },
    {
      "cell_type": "markdown",
      "source": [
        "**missing values**"
      ],
      "metadata": {
        "id": "97-yD03bEASJ"
      }
    },
    {
      "cell_type": "code",
      "execution_count": 353,
      "metadata": {
        "colab": {
          "base_uri": "https://localhost:8080/"
        },
        "id": "ofAkE3funvkX",
        "outputId": "4f47c91b-feae-4785-f2b2-dcc2e3c09e5d"
      },
      "outputs": [
        {
          "output_type": "execute_result",
          "data": {
            "text/plain": [
              "full_name                               0\n",
              "semi-major axis                         0\n",
              "eccentricity                            0\n",
              "Magnitude slope parameter          110047\n",
              "Inclination with ecliptic plane         0\n",
              "Longitude of the ascending node         0\n",
              "argument of perihelion                  0\n",
              "perihelion distance(au)                 0\n",
              "aphelion distance(au)                   0\n",
              "Orbital period                          0\n",
              "data arc-span(d)                      113\n",
              "Orbit condition code                    0\n",
              "number of observations used             0\n",
              "Absolute Magnitude parameter          614\n",
              "diameter                                0\n",
              "extent                             110134\n",
              "albedo                                991\n",
              "rot_per                            101179\n",
              "GM                                 110133\n",
              "BV                                 109356\n",
              "UB                                 109385\n",
              "IR                                 110143\n",
              "spec_B                             109051\n",
              "spec_T                             109387\n",
              "neo                                     0\n",
              "pha                                     0\n",
              "moid                                    0\n",
              "dtype: int64"
            ]
          },
          "metadata": {},
          "execution_count": 353
        }
      ],
      "source": [
        "dtf_train.isna().sum()"
      ]
    },
    {
      "cell_type": "code",
      "source": [
        "dtf_train.dtypes"
      ],
      "metadata": {
        "colab": {
          "base_uri": "https://localhost:8080/"
        },
        "id": "x6kdIgSpAumD",
        "outputId": "ea4bf5d2-9bb6-4796-e19c-52ed9d427ddf"
      },
      "execution_count": 354,
      "outputs": [
        {
          "output_type": "execute_result",
          "data": {
            "text/plain": [
              "full_name                           object\n",
              "semi-major axis                    float64\n",
              "eccentricity                       float64\n",
              "Magnitude slope parameter          float64\n",
              "Inclination with ecliptic plane    float64\n",
              "Longitude of the ascending node    float64\n",
              "argument of perihelion             float64\n",
              "perihelion distance(au)            float64\n",
              "aphelion distance(au)              float64\n",
              "Orbital period                     float64\n",
              "data arc-span(d)                   float64\n",
              "Orbit condition code                object\n",
              "number of observations used          int64\n",
              "Absolute Magnitude parameter       float64\n",
              "diameter                            object\n",
              "extent                              object\n",
              "albedo                             float64\n",
              "rot_per                            float64\n",
              "GM                                 float64\n",
              "BV                                 float64\n",
              "UB                                 float64\n",
              "IR                                 float64\n",
              "spec_B                              object\n",
              "spec_T                              object\n",
              "neo                                 object\n",
              "pha                                 object\n",
              "moid                               float64\n",
              "dtype: object"
            ]
          },
          "metadata": {},
          "execution_count": 354
        }
      ]
    },
    {
      "cell_type": "code",
      "source": [
        "dtf_train = dtf_train.astype({'diameter': 'float64'})\n",
        "dtf_test= dtf_test.astype({'diameter': 'float64'})"
      ],
      "metadata": {
        "id": "pArVS5TYCv6g"
      },
      "execution_count": 355,
      "outputs": []
    },
    {
      "cell_type": "code",
      "source": [
        "categorical_variables = ['Orbit condition code', 'extent', 'spec_B', 'spec_T', 'neo', 'pha']"
      ],
      "metadata": {
        "id": "A9n4MeYkCEOY"
      },
      "execution_count": 356,
      "outputs": []
    },
    {
      "cell_type": "markdown",
      "source": [
        "**contiguous cols with nan**"
      ],
      "metadata": {
        "id": "PLhbRNvREoAl"
      }
    },
    {
      "cell_type": "code",
      "source": [
        "nan_cols_con = ['semi-major axis', 'aphelion distance(au)', 'Magnitude slope parameter', 'data arc-span(d)', 'Absolute Magnitude parameter', \n",
        "                'albedo', 'rot_per', 'GM', 'BV', 'UB', 'IR', 'moid', 'Orbital period']"
      ],
      "metadata": {
        "id": "D-RBKosn7cCo"
      },
      "execution_count": 357,
      "outputs": []
    },
    {
      "cell_type": "markdown",
      "source": [
        "# fill the NaN values with the mean\n",
        "\n",
        "\n"
      ],
      "metadata": {
        "id": "zrAwhYUrPYxK"
      }
    },
    {
      "cell_type": "code",
      "source": [
        "def fillnawithMean(nan_cols, dtf_train, dtf_test):\n",
        "  for arg in nan_cols_con:\n",
        "    dtf_train[arg] = dtf_train[arg].fillna(dtf_train[arg].mean())\n",
        "    dtf_test[arg] = dtf_test[arg].fillna(dtf_train[arg].mean())\n"
      ],
      "metadata": {
        "id": "yyGGMjn4FuLw"
      },
      "execution_count": 358,
      "outputs": []
    },
    {
      "cell_type": "code",
      "source": [
        "fillnawithMean(nan_cols_con,dtf_train, dtf_test)"
      ],
      "metadata": {
        "id": "PfOB9ugWF7vX"
      },
      "execution_count": 359,
      "outputs": []
    },
    {
      "cell_type": "code",
      "source": [
        "dtf_train.isna().sum()"
      ],
      "metadata": {
        "colab": {
          "base_uri": "https://localhost:8080/"
        },
        "id": "tBMvTk5mEz0C",
        "outputId": "79fd0036-3def-416d-ff79-79c90bff21a9"
      },
      "execution_count": 360,
      "outputs": [
        {
          "output_type": "execute_result",
          "data": {
            "text/plain": [
              "full_name                               0\n",
              "semi-major axis                         0\n",
              "eccentricity                            0\n",
              "Magnitude slope parameter               0\n",
              "Inclination with ecliptic plane         0\n",
              "Longitude of the ascending node         0\n",
              "argument of perihelion                  0\n",
              "perihelion distance(au)                 0\n",
              "aphelion distance(au)                   0\n",
              "Orbital period                          0\n",
              "data arc-span(d)                        0\n",
              "Orbit condition code                    0\n",
              "number of observations used             0\n",
              "Absolute Magnitude parameter            0\n",
              "diameter                                0\n",
              "extent                             110134\n",
              "albedo                                  0\n",
              "rot_per                                 0\n",
              "GM                                      0\n",
              "BV                                      0\n",
              "UB                                      0\n",
              "IR                                      0\n",
              "spec_B                             109051\n",
              "spec_T                             109387\n",
              "neo                                     0\n",
              "pha                                     0\n",
              "moid                                    0\n",
              "dtype: int64"
            ]
          },
          "metadata": {},
          "execution_count": 360
        }
      ]
    },
    {
      "cell_type": "code",
      "source": [
        "# dtf_train['pha'] = dtf_train['pha'].fillna(dtf_train['pha'].value_counts().index[0])\n",
        "# dtf_test['pha'] = dtf_test['pha'].fillna(dtf_train['pha'].value_counts().index[0])"
      ],
      "metadata": {
        "id": "mMYCah1THguN"
      },
      "execution_count": 361,
      "outputs": []
    },
    {
      "cell_type": "code",
      "source": [
        "for arg in ['extent', 'spec_B', 'spec_T']:\n",
        "  dtf_train[arg] = dtf_train[arg].fillna('U')\n",
        "  dtf_test[arg] = dtf_test[arg].fillna('U')"
      ],
      "metadata": {
        "id": "bCFHcSGvGYMO"
      },
      "execution_count": 362,
      "outputs": []
    },
    {
      "cell_type": "code",
      "source": [
        "dtf_train.isna().sum().sum()"
      ],
      "metadata": {
        "colab": {
          "base_uri": "https://localhost:8080/"
        },
        "id": "GieC7tK0GvoS",
        "outputId": "3fa333d7-dd35-46b4-a069-c6d6edf42e53"
      },
      "execution_count": 363,
      "outputs": [
        {
          "output_type": "execute_result",
          "data": {
            "text/plain": [
              "0"
            ]
          },
          "metadata": {},
          "execution_count": 363
        }
      ]
    },
    {
      "cell_type": "code",
      "source": [
        "dtf_test.isna().sum().sum()"
      ],
      "metadata": {
        "colab": {
          "base_uri": "https://localhost:8080/"
        },
        "id": "pQNzKiGG6Roo",
        "outputId": "8e1ff0e0-5c33-40f0-f4bd-4a6f175cf202"
      },
      "execution_count": 364,
      "outputs": [
        {
          "output_type": "execute_result",
          "data": {
            "text/plain": [
              "0"
            ]
          },
          "metadata": {},
          "execution_count": 364
        }
      ]
    },
    {
      "cell_type": "markdown",
      "source": [
        "**Drop 'full_name' col**"
      ],
      "metadata": {
        "id": "S8qnMtzTILPS"
      }
    },
    {
      "cell_type": "code",
      "source": [
        "dtf_train = dtf_train.drop(['full_name'], axis=1)\n",
        "dtf_test = dtf_test.drop(['full_name'], axis=1)"
      ],
      "metadata": {
        "id": "jpUrB_nCUS3L"
      },
      "execution_count": 365,
      "outputs": []
    },
    {
      "cell_type": "markdown",
      "source": [
        "## Dealing with Categorical variables\n"
      ],
      "metadata": {
        "collapsed": false,
        "pycharm": {
          "name": "#%% md\n"
        },
        "id": "8GBZ40fKR7ux"
      }
    },
    {
      "cell_type": "code",
      "source": [
        "categorical_data = dtf_train.select_dtypes(include=['object']).copy()\n",
        "categorical_data_test = dtf_test.select_dtypes(include=['object']).copy()\n",
        "categorical_data.head() "
      ],
      "metadata": {
        "colab": {
          "base_uri": "https://localhost:8080/",
          "height": 206
        },
        "id": "3CaxVyNwT7G-",
        "outputId": "11285304-1132-4d1e-872e-e541981f70f4"
      },
      "execution_count": 366,
      "outputs": [
        {
          "output_type": "execute_result",
          "data": {
            "text/plain": [
              "       Orbit condition code extent spec_B spec_T neo pha\n",
              "19564                     0      U      U      U   N   N\n",
              "622659                    9      U      U      U   N   N\n",
              "37334                     0      U      U      U   N   N\n",
              "196928                    0      U      U      U   N   N\n",
              "350260                    0      U      U      U   N   N"
            ],
            "text/html": [
              "\n",
              "  <div id=\"df-dba40e37-db2b-4913-8d10-84eadc9a6acd\">\n",
              "    <div class=\"colab-df-container\">\n",
              "      <div>\n",
              "<style scoped>\n",
              "    .dataframe tbody tr th:only-of-type {\n",
              "        vertical-align: middle;\n",
              "    }\n",
              "\n",
              "    .dataframe tbody tr th {\n",
              "        vertical-align: top;\n",
              "    }\n",
              "\n",
              "    .dataframe thead th {\n",
              "        text-align: right;\n",
              "    }\n",
              "</style>\n",
              "<table border=\"1\" class=\"dataframe\">\n",
              "  <thead>\n",
              "    <tr style=\"text-align: right;\">\n",
              "      <th></th>\n",
              "      <th>Orbit condition code</th>\n",
              "      <th>extent</th>\n",
              "      <th>spec_B</th>\n",
              "      <th>spec_T</th>\n",
              "      <th>neo</th>\n",
              "      <th>pha</th>\n",
              "    </tr>\n",
              "  </thead>\n",
              "  <tbody>\n",
              "    <tr>\n",
              "      <th>19564</th>\n",
              "      <td>0</td>\n",
              "      <td>U</td>\n",
              "      <td>U</td>\n",
              "      <td>U</td>\n",
              "      <td>N</td>\n",
              "      <td>N</td>\n",
              "    </tr>\n",
              "    <tr>\n",
              "      <th>622659</th>\n",
              "      <td>9</td>\n",
              "      <td>U</td>\n",
              "      <td>U</td>\n",
              "      <td>U</td>\n",
              "      <td>N</td>\n",
              "      <td>N</td>\n",
              "    </tr>\n",
              "    <tr>\n",
              "      <th>37334</th>\n",
              "      <td>0</td>\n",
              "      <td>U</td>\n",
              "      <td>U</td>\n",
              "      <td>U</td>\n",
              "      <td>N</td>\n",
              "      <td>N</td>\n",
              "    </tr>\n",
              "    <tr>\n",
              "      <th>196928</th>\n",
              "      <td>0</td>\n",
              "      <td>U</td>\n",
              "      <td>U</td>\n",
              "      <td>U</td>\n",
              "      <td>N</td>\n",
              "      <td>N</td>\n",
              "    </tr>\n",
              "    <tr>\n",
              "      <th>350260</th>\n",
              "      <td>0</td>\n",
              "      <td>U</td>\n",
              "      <td>U</td>\n",
              "      <td>U</td>\n",
              "      <td>N</td>\n",
              "      <td>N</td>\n",
              "    </tr>\n",
              "  </tbody>\n",
              "</table>\n",
              "</div>\n",
              "      <button class=\"colab-df-convert\" onclick=\"convertToInteractive('df-dba40e37-db2b-4913-8d10-84eadc9a6acd')\"\n",
              "              title=\"Convert this dataframe to an interactive table.\"\n",
              "              style=\"display:none;\">\n",
              "        \n",
              "  <svg xmlns=\"http://www.w3.org/2000/svg\" height=\"24px\"viewBox=\"0 0 24 24\"\n",
              "       width=\"24px\">\n",
              "    <path d=\"M0 0h24v24H0V0z\" fill=\"none\"/>\n",
              "    <path d=\"M18.56 5.44l.94 2.06.94-2.06 2.06-.94-2.06-.94-.94-2.06-.94 2.06-2.06.94zm-11 1L8.5 8.5l.94-2.06 2.06-.94-2.06-.94L8.5 2.5l-.94 2.06-2.06.94zm10 10l.94 2.06.94-2.06 2.06-.94-2.06-.94-.94-2.06-.94 2.06-2.06.94z\"/><path d=\"M17.41 7.96l-1.37-1.37c-.4-.4-.92-.59-1.43-.59-.52 0-1.04.2-1.43.59L10.3 9.45l-7.72 7.72c-.78.78-.78 2.05 0 2.83L4 21.41c.39.39.9.59 1.41.59.51 0 1.02-.2 1.41-.59l7.78-7.78 2.81-2.81c.8-.78.8-2.07 0-2.86zM5.41 20L4 18.59l7.72-7.72 1.47 1.35L5.41 20z\"/>\n",
              "  </svg>\n",
              "      </button>\n",
              "      \n",
              "  <style>\n",
              "    .colab-df-container {\n",
              "      display:flex;\n",
              "      flex-wrap:wrap;\n",
              "      gap: 12px;\n",
              "    }\n",
              "\n",
              "    .colab-df-convert {\n",
              "      background-color: #E8F0FE;\n",
              "      border: none;\n",
              "      border-radius: 50%;\n",
              "      cursor: pointer;\n",
              "      display: none;\n",
              "      fill: #1967D2;\n",
              "      height: 32px;\n",
              "      padding: 0 0 0 0;\n",
              "      width: 32px;\n",
              "    }\n",
              "\n",
              "    .colab-df-convert:hover {\n",
              "      background-color: #E2EBFA;\n",
              "      box-shadow: 0px 1px 2px rgba(60, 64, 67, 0.3), 0px 1px 3px 1px rgba(60, 64, 67, 0.15);\n",
              "      fill: #174EA6;\n",
              "    }\n",
              "\n",
              "    [theme=dark] .colab-df-convert {\n",
              "      background-color: #3B4455;\n",
              "      fill: #D2E3FC;\n",
              "    }\n",
              "\n",
              "    [theme=dark] .colab-df-convert:hover {\n",
              "      background-color: #434B5C;\n",
              "      box-shadow: 0px 1px 3px 1px rgba(0, 0, 0, 0.15);\n",
              "      filter: drop-shadow(0px 1px 2px rgba(0, 0, 0, 0.3));\n",
              "      fill: #FFFFFF;\n",
              "    }\n",
              "  </style>\n",
              "\n",
              "      <script>\n",
              "        const buttonEl =\n",
              "          document.querySelector('#df-dba40e37-db2b-4913-8d10-84eadc9a6acd button.colab-df-convert');\n",
              "        buttonEl.style.display =\n",
              "          google.colab.kernel.accessAllowed ? 'block' : 'none';\n",
              "\n",
              "        async function convertToInteractive(key) {\n",
              "          const element = document.querySelector('#df-dba40e37-db2b-4913-8d10-84eadc9a6acd');\n",
              "          const dataTable =\n",
              "            await google.colab.kernel.invokeFunction('convertToInteractive',\n",
              "                                                     [key], {});\n",
              "          if (!dataTable) return;\n",
              "\n",
              "          const docLinkHtml = 'Like what you see? Visit the ' +\n",
              "            '<a target=\"_blank\" href=https://colab.research.google.com/notebooks/data_table.ipynb>data table notebook</a>'\n",
              "            + ' to learn more about interactive tables.';\n",
              "          element.innerHTML = '';\n",
              "          dataTable['output_type'] = 'display_data';\n",
              "          await google.colab.output.renderOutput(dataTable, element);\n",
              "          const docLink = document.createElement('div');\n",
              "          docLink.innerHTML = docLinkHtml;\n",
              "          element.appendChild(docLink);\n",
              "        }\n",
              "      </script>\n",
              "    </div>\n",
              "  </div>\n",
              "  "
            ]
          },
          "metadata": {},
          "execution_count": 366
        }
      ]
    },
    {
      "cell_type": "code",
      "source": [
        "#dtf_train['Orbit condition code'].value_counts()"
      ],
      "metadata": {
        "id": "o-dELwhfBO3W"
      },
      "execution_count": 367,
      "outputs": []
    },
    {
      "cell_type": "code",
      "source": [
        "#dtf_test['Orbit condition code'].value_counts()"
      ],
      "metadata": {
        "id": "yM3nIqArBlx0"
      },
      "execution_count": 368,
      "outputs": []
    },
    {
      "cell_type": "markdown",
      "source": [
        "**\"One Hot\" encoding**"
      ],
      "metadata": {
        "id": "eKZrub9wJRZQ"
      }
    },
    {
      "cell_type": "code",
      "execution_count": 369,
      "outputs": [
        {
          "output_type": "execute_result",
          "data": {
            "text/plain": [
              "        Orbit condition code_1  Orbit condition code_2.0  \\\n",
              "19564                        0                         0   \n",
              "622659                       0                         0   \n",
              "37334                        0                         0   \n",
              "196928                       0                         0   \n",
              "350260                       0                         0   \n",
              "\n",
              "        Orbit condition code_3.0  Orbit condition code_4.0  \\\n",
              "19564                          0                         0   \n",
              "622659                         0                         0   \n",
              "37334                          0                         0   \n",
              "196928                         0                         0   \n",
              "350260                         0                         0   \n",
              "\n",
              "        Orbit condition code_5.0  Orbit condition code_6.0  \\\n",
              "19564                          0                         0   \n",
              "622659                         0                         0   \n",
              "37334                          0                         0   \n",
              "196928                         0                         0   \n",
              "350260                         0                         0   \n",
              "\n",
              "        Orbit condition code_7.0  Orbit condition code_8.0  \\\n",
              "19564                          0                         0   \n",
              "622659                         0                         0   \n",
              "37334                          0                         0   \n",
              "196928                         0                         0   \n",
              "350260                         0                         0   \n",
              "\n",
              "        Orbit condition code_9.0  Orbit condition code_0  ...  spec_T_XDC  \\\n",
              "19564                          0                       0  ...           0   \n",
              "622659                         0                       0  ...           0   \n",
              "37334                          0                       0  ...           0   \n",
              "196928                         0                       0  ...           0   \n",
              "350260                         0                       0  ...           0   \n",
              "\n",
              "        spec_T_XF  spec_T_XFCU  spec_T_XFU  spec_T_XSC  spec_T_XSCU  \\\n",
              "19564           0            0           0           0            0   \n",
              "622659          0            0           0           0            0   \n",
              "37334           0            0           0           0            0   \n",
              "196928          0            0           0           0            0   \n",
              "350260          0            0           0           0            0   \n",
              "\n",
              "        spec_T_XU  spec_T_Z  neo_Y  pha_Y  \n",
              "19564           0         0      0      0  \n",
              "622659          0         0      0      0  \n",
              "37334           0         0      0      0  \n",
              "196928          0         0      0      0  \n",
              "350260          0         0      0      0  \n",
              "\n",
              "[5 rows x 170 columns]"
            ],
            "text/html": [
              "\n",
              "  <div id=\"df-d0b0701f-368f-4e3e-811a-4270ef32951a\">\n",
              "    <div class=\"colab-df-container\">\n",
              "      <div>\n",
              "<style scoped>\n",
              "    .dataframe tbody tr th:only-of-type {\n",
              "        vertical-align: middle;\n",
              "    }\n",
              "\n",
              "    .dataframe tbody tr th {\n",
              "        vertical-align: top;\n",
              "    }\n",
              "\n",
              "    .dataframe thead th {\n",
              "        text-align: right;\n",
              "    }\n",
              "</style>\n",
              "<table border=\"1\" class=\"dataframe\">\n",
              "  <thead>\n",
              "    <tr style=\"text-align: right;\">\n",
              "      <th></th>\n",
              "      <th>Orbit condition code_1</th>\n",
              "      <th>Orbit condition code_2.0</th>\n",
              "      <th>Orbit condition code_3.0</th>\n",
              "      <th>Orbit condition code_4.0</th>\n",
              "      <th>Orbit condition code_5.0</th>\n",
              "      <th>Orbit condition code_6.0</th>\n",
              "      <th>Orbit condition code_7.0</th>\n",
              "      <th>Orbit condition code_8.0</th>\n",
              "      <th>Orbit condition code_9.0</th>\n",
              "      <th>Orbit condition code_0</th>\n",
              "      <th>...</th>\n",
              "      <th>spec_T_XDC</th>\n",
              "      <th>spec_T_XF</th>\n",
              "      <th>spec_T_XFCU</th>\n",
              "      <th>spec_T_XFU</th>\n",
              "      <th>spec_T_XSC</th>\n",
              "      <th>spec_T_XSCU</th>\n",
              "      <th>spec_T_XU</th>\n",
              "      <th>spec_T_Z</th>\n",
              "      <th>neo_Y</th>\n",
              "      <th>pha_Y</th>\n",
              "    </tr>\n",
              "  </thead>\n",
              "  <tbody>\n",
              "    <tr>\n",
              "      <th>19564</th>\n",
              "      <td>0</td>\n",
              "      <td>0</td>\n",
              "      <td>0</td>\n",
              "      <td>0</td>\n",
              "      <td>0</td>\n",
              "      <td>0</td>\n",
              "      <td>0</td>\n",
              "      <td>0</td>\n",
              "      <td>0</td>\n",
              "      <td>0</td>\n",
              "      <td>...</td>\n",
              "      <td>0</td>\n",
              "      <td>0</td>\n",
              "      <td>0</td>\n",
              "      <td>0</td>\n",
              "      <td>0</td>\n",
              "      <td>0</td>\n",
              "      <td>0</td>\n",
              "      <td>0</td>\n",
              "      <td>0</td>\n",
              "      <td>0</td>\n",
              "    </tr>\n",
              "    <tr>\n",
              "      <th>622659</th>\n",
              "      <td>0</td>\n",
              "      <td>0</td>\n",
              "      <td>0</td>\n",
              "      <td>0</td>\n",
              "      <td>0</td>\n",
              "      <td>0</td>\n",
              "      <td>0</td>\n",
              "      <td>0</td>\n",
              "      <td>0</td>\n",
              "      <td>0</td>\n",
              "      <td>...</td>\n",
              "      <td>0</td>\n",
              "      <td>0</td>\n",
              "      <td>0</td>\n",
              "      <td>0</td>\n",
              "      <td>0</td>\n",
              "      <td>0</td>\n",
              "      <td>0</td>\n",
              "      <td>0</td>\n",
              "      <td>0</td>\n",
              "      <td>0</td>\n",
              "    </tr>\n",
              "    <tr>\n",
              "      <th>37334</th>\n",
              "      <td>0</td>\n",
              "      <td>0</td>\n",
              "      <td>0</td>\n",
              "      <td>0</td>\n",
              "      <td>0</td>\n",
              "      <td>0</td>\n",
              "      <td>0</td>\n",
              "      <td>0</td>\n",
              "      <td>0</td>\n",
              "      <td>0</td>\n",
              "      <td>...</td>\n",
              "      <td>0</td>\n",
              "      <td>0</td>\n",
              "      <td>0</td>\n",
              "      <td>0</td>\n",
              "      <td>0</td>\n",
              "      <td>0</td>\n",
              "      <td>0</td>\n",
              "      <td>0</td>\n",
              "      <td>0</td>\n",
              "      <td>0</td>\n",
              "    </tr>\n",
              "    <tr>\n",
              "      <th>196928</th>\n",
              "      <td>0</td>\n",
              "      <td>0</td>\n",
              "      <td>0</td>\n",
              "      <td>0</td>\n",
              "      <td>0</td>\n",
              "      <td>0</td>\n",
              "      <td>0</td>\n",
              "      <td>0</td>\n",
              "      <td>0</td>\n",
              "      <td>0</td>\n",
              "      <td>...</td>\n",
              "      <td>0</td>\n",
              "      <td>0</td>\n",
              "      <td>0</td>\n",
              "      <td>0</td>\n",
              "      <td>0</td>\n",
              "      <td>0</td>\n",
              "      <td>0</td>\n",
              "      <td>0</td>\n",
              "      <td>0</td>\n",
              "      <td>0</td>\n",
              "    </tr>\n",
              "    <tr>\n",
              "      <th>350260</th>\n",
              "      <td>0</td>\n",
              "      <td>0</td>\n",
              "      <td>0</td>\n",
              "      <td>0</td>\n",
              "      <td>0</td>\n",
              "      <td>0</td>\n",
              "      <td>0</td>\n",
              "      <td>0</td>\n",
              "      <td>0</td>\n",
              "      <td>0</td>\n",
              "      <td>...</td>\n",
              "      <td>0</td>\n",
              "      <td>0</td>\n",
              "      <td>0</td>\n",
              "      <td>0</td>\n",
              "      <td>0</td>\n",
              "      <td>0</td>\n",
              "      <td>0</td>\n",
              "      <td>0</td>\n",
              "      <td>0</td>\n",
              "      <td>0</td>\n",
              "    </tr>\n",
              "  </tbody>\n",
              "</table>\n",
              "<p>5 rows × 170 columns</p>\n",
              "</div>\n",
              "      <button class=\"colab-df-convert\" onclick=\"convertToInteractive('df-d0b0701f-368f-4e3e-811a-4270ef32951a')\"\n",
              "              title=\"Convert this dataframe to an interactive table.\"\n",
              "              style=\"display:none;\">\n",
              "        \n",
              "  <svg xmlns=\"http://www.w3.org/2000/svg\" height=\"24px\"viewBox=\"0 0 24 24\"\n",
              "       width=\"24px\">\n",
              "    <path d=\"M0 0h24v24H0V0z\" fill=\"none\"/>\n",
              "    <path d=\"M18.56 5.44l.94 2.06.94-2.06 2.06-.94-2.06-.94-.94-2.06-.94 2.06-2.06.94zm-11 1L8.5 8.5l.94-2.06 2.06-.94-2.06-.94L8.5 2.5l-.94 2.06-2.06.94zm10 10l.94 2.06.94-2.06 2.06-.94-2.06-.94-.94-2.06-.94 2.06-2.06.94z\"/><path d=\"M17.41 7.96l-1.37-1.37c-.4-.4-.92-.59-1.43-.59-.52 0-1.04.2-1.43.59L10.3 9.45l-7.72 7.72c-.78.78-.78 2.05 0 2.83L4 21.41c.39.39.9.59 1.41.59.51 0 1.02-.2 1.41-.59l7.78-7.78 2.81-2.81c.8-.78.8-2.07 0-2.86zM5.41 20L4 18.59l7.72-7.72 1.47 1.35L5.41 20z\"/>\n",
              "  </svg>\n",
              "      </button>\n",
              "      \n",
              "  <style>\n",
              "    .colab-df-container {\n",
              "      display:flex;\n",
              "      flex-wrap:wrap;\n",
              "      gap: 12px;\n",
              "    }\n",
              "\n",
              "    .colab-df-convert {\n",
              "      background-color: #E8F0FE;\n",
              "      border: none;\n",
              "      border-radius: 50%;\n",
              "      cursor: pointer;\n",
              "      display: none;\n",
              "      fill: #1967D2;\n",
              "      height: 32px;\n",
              "      padding: 0 0 0 0;\n",
              "      width: 32px;\n",
              "    }\n",
              "\n",
              "    .colab-df-convert:hover {\n",
              "      background-color: #E2EBFA;\n",
              "      box-shadow: 0px 1px 2px rgba(60, 64, 67, 0.3), 0px 1px 3px 1px rgba(60, 64, 67, 0.15);\n",
              "      fill: #174EA6;\n",
              "    }\n",
              "\n",
              "    [theme=dark] .colab-df-convert {\n",
              "      background-color: #3B4455;\n",
              "      fill: #D2E3FC;\n",
              "    }\n",
              "\n",
              "    [theme=dark] .colab-df-convert:hover {\n",
              "      background-color: #434B5C;\n",
              "      box-shadow: 0px 1px 3px 1px rgba(0, 0, 0, 0.15);\n",
              "      filter: drop-shadow(0px 1px 2px rgba(0, 0, 0, 0.3));\n",
              "      fill: #FFFFFF;\n",
              "    }\n",
              "  </style>\n",
              "\n",
              "      <script>\n",
              "        const buttonEl =\n",
              "          document.querySelector('#df-d0b0701f-368f-4e3e-811a-4270ef32951a button.colab-df-convert');\n",
              "        buttonEl.style.display =\n",
              "          google.colab.kernel.accessAllowed ? 'block' : 'none';\n",
              "\n",
              "        async function convertToInteractive(key) {\n",
              "          const element = document.querySelector('#df-d0b0701f-368f-4e3e-811a-4270ef32951a');\n",
              "          const dataTable =\n",
              "            await google.colab.kernel.invokeFunction('convertToInteractive',\n",
              "                                                     [key], {});\n",
              "          if (!dataTable) return;\n",
              "\n",
              "          const docLinkHtml = 'Like what you see? Visit the ' +\n",
              "            '<a target=\"_blank\" href=https://colab.research.google.com/notebooks/data_table.ipynb>data table notebook</a>'\n",
              "            + ' to learn more about interactive tables.';\n",
              "          element.innerHTML = '';\n",
              "          dataTable['output_type'] = 'display_data';\n",
              "          await google.colab.output.renderOutput(dataTable, element);\n",
              "          const docLink = document.createElement('div');\n",
              "          docLink.innerHTML = docLinkHtml;\n",
              "          element.appendChild(docLink);\n",
              "        }\n",
              "      </script>\n",
              "    </div>\n",
              "  </div>\n",
              "  "
            ]
          },
          "metadata": {},
          "execution_count": 369
        }
      ],
      "source": [
        "new_columns = pd.get_dummies(categorical_data, columns=categorical_data.columns, drop_first=True)\n",
        "new_columns_test = pd.get_dummies(categorical_data_test, columns=categorical_data_test.columns, drop_first=True)\n",
        "new_columns.head()"
      ],
      "metadata": {
        "pycharm": {
          "name": "#%%\n"
        },
        "id": "PCVW0DxUR7uy",
        "colab": {
          "base_uri": "https://localhost:8080/",
          "height": 314
        },
        "outputId": "2244311e-5f2c-4bfa-a956-1e3cb6703242"
      }
    },
    {
      "cell_type": "markdown",
      "source": [
        "**Define the same columns on train and test**"
      ],
      "metadata": {
        "id": "HY6rkhdyJbrt"
      }
    },
    {
      "cell_type": "code",
      "source": [
        "new_columns, new_columns_test = new_columns.align(new_columns_test, join='left', axis=1)"
      ],
      "metadata": {
        "id": "uWV4n7zzJPsr"
      },
      "execution_count": 370,
      "outputs": []
    },
    {
      "cell_type": "code",
      "source": [
        "new_columns = new_columns.fillna(0)\n",
        "new_columns_test = new_columns_test.fillna(0)"
      ],
      "metadata": {
        "id": "igU_JTBuJrV3"
      },
      "execution_count": 371,
      "outputs": []
    },
    {
      "cell_type": "markdown",
      "source": [
        "**Drop original categorical cols**"
      ],
      "metadata": {
        "id": "eUhJSzq2JkON"
      }
    },
    {
      "cell_type": "code",
      "source": [
        "dtf_train = dtf_train.drop(categorical_data.columns, axis = 1)\n",
        "dtf_test = dtf_test.drop(categorical_data_test.columns, axis = 1)"
      ],
      "metadata": {
        "id": "UWSRmRfqU-7g"
      },
      "execution_count": 372,
      "outputs": []
    },
    {
      "cell_type": "code",
      "execution_count": 373,
      "outputs": [
        {
          "output_type": "execute_result",
          "data": {
            "text/plain": [
              "        semi-major axis  eccentricity  Magnitude slope parameter  \\\n",
              "19564          3.075658      0.300625                   0.178763   \n",
              "622659         2.497102      0.316965                   0.178763   \n",
              "37334          2.391160      0.113889                   0.178763   \n",
              "196928         3.154738      0.205380                   0.178763   \n",
              "350260         3.039289      0.032858                   0.178763   \n",
              "\n",
              "        Inclination with ecliptic plane  Longitude of the ascending node  \\\n",
              "19564                         23.409470                       247.213951   \n",
              "622659                         5.301327                       124.435319   \n",
              "37334                          7.656416                       100.416875   \n",
              "196928                        22.489226                         3.619891   \n",
              "350260                        16.180644                       358.558717   \n",
              "\n",
              "        argument of perihelion  perihelion distance(au)  \\\n",
              "19564                54.975507                 2.151039   \n",
              "622659               10.914294                 1.705608   \n",
              "37334               250.866668                 2.118832   \n",
              "196928              134.378934                 2.506816   \n",
              "350260              131.946047                 2.939423   \n",
              "\n",
              "        aphelion distance(au)  Orbital period  data arc-span(d)  ...  \\\n",
              "19564                4.000278        5.394055           17009.0  ...   \n",
              "622659               3.288596        3.946051               1.0  ...   \n",
              "37334                2.663487        3.697609            9062.0  ...   \n",
              "196928               3.802659        5.603419            5821.0  ...   \n",
              "350260               3.139154        5.298662            5399.0  ...   \n",
              "\n",
              "        spec_T_XD  spec_T_XD:  spec_T_XDC  spec_T_XF  spec_T_XFCU  spec_T_XFU  \\\n",
              "19564           0           0           0          0            0           0   \n",
              "622659          0           0           0          0            0           0   \n",
              "37334           0           0           0          0            0           0   \n",
              "196928          0           0           0          0            0           0   \n",
              "350260          0           0           0          0            0           0   \n",
              "\n",
              "        spec_T_XSC  spec_T_XSCU  spec_T_XU  spec_T_Z  \n",
              "19564            0            0          0         0  \n",
              "622659           0            0          0         0  \n",
              "37334            0            0          0         0  \n",
              "196928           0            0          0         0  \n",
              "350260           0            0          0         0  \n",
              "\n",
              "[5 rows x 190 columns]"
            ],
            "text/html": [
              "\n",
              "  <div id=\"df-5eb0c951-66af-49b2-bec6-2bc37cca0f7c\">\n",
              "    <div class=\"colab-df-container\">\n",
              "      <div>\n",
              "<style scoped>\n",
              "    .dataframe tbody tr th:only-of-type {\n",
              "        vertical-align: middle;\n",
              "    }\n",
              "\n",
              "    .dataframe tbody tr th {\n",
              "        vertical-align: top;\n",
              "    }\n",
              "\n",
              "    .dataframe thead th {\n",
              "        text-align: right;\n",
              "    }\n",
              "</style>\n",
              "<table border=\"1\" class=\"dataframe\">\n",
              "  <thead>\n",
              "    <tr style=\"text-align: right;\">\n",
              "      <th></th>\n",
              "      <th>semi-major axis</th>\n",
              "      <th>eccentricity</th>\n",
              "      <th>Magnitude slope parameter</th>\n",
              "      <th>Inclination with ecliptic plane</th>\n",
              "      <th>Longitude of the ascending node</th>\n",
              "      <th>argument of perihelion</th>\n",
              "      <th>perihelion distance(au)</th>\n",
              "      <th>aphelion distance(au)</th>\n",
              "      <th>Orbital period</th>\n",
              "      <th>data arc-span(d)</th>\n",
              "      <th>...</th>\n",
              "      <th>spec_T_XD</th>\n",
              "      <th>spec_T_XD:</th>\n",
              "      <th>spec_T_XDC</th>\n",
              "      <th>spec_T_XF</th>\n",
              "      <th>spec_T_XFCU</th>\n",
              "      <th>spec_T_XFU</th>\n",
              "      <th>spec_T_XSC</th>\n",
              "      <th>spec_T_XSCU</th>\n",
              "      <th>spec_T_XU</th>\n",
              "      <th>spec_T_Z</th>\n",
              "    </tr>\n",
              "  </thead>\n",
              "  <tbody>\n",
              "    <tr>\n",
              "      <th>19564</th>\n",
              "      <td>3.075658</td>\n",
              "      <td>0.300625</td>\n",
              "      <td>0.178763</td>\n",
              "      <td>23.409470</td>\n",
              "      <td>247.213951</td>\n",
              "      <td>54.975507</td>\n",
              "      <td>2.151039</td>\n",
              "      <td>4.000278</td>\n",
              "      <td>5.394055</td>\n",
              "      <td>17009.0</td>\n",
              "      <td>...</td>\n",
              "      <td>0</td>\n",
              "      <td>0</td>\n",
              "      <td>0</td>\n",
              "      <td>0</td>\n",
              "      <td>0</td>\n",
              "      <td>0</td>\n",
              "      <td>0</td>\n",
              "      <td>0</td>\n",
              "      <td>0</td>\n",
              "      <td>0</td>\n",
              "    </tr>\n",
              "    <tr>\n",
              "      <th>622659</th>\n",
              "      <td>2.497102</td>\n",
              "      <td>0.316965</td>\n",
              "      <td>0.178763</td>\n",
              "      <td>5.301327</td>\n",
              "      <td>124.435319</td>\n",
              "      <td>10.914294</td>\n",
              "      <td>1.705608</td>\n",
              "      <td>3.288596</td>\n",
              "      <td>3.946051</td>\n",
              "      <td>1.0</td>\n",
              "      <td>...</td>\n",
              "      <td>0</td>\n",
              "      <td>0</td>\n",
              "      <td>0</td>\n",
              "      <td>0</td>\n",
              "      <td>0</td>\n",
              "      <td>0</td>\n",
              "      <td>0</td>\n",
              "      <td>0</td>\n",
              "      <td>0</td>\n",
              "      <td>0</td>\n",
              "    </tr>\n",
              "    <tr>\n",
              "      <th>37334</th>\n",
              "      <td>2.391160</td>\n",
              "      <td>0.113889</td>\n",
              "      <td>0.178763</td>\n",
              "      <td>7.656416</td>\n",
              "      <td>100.416875</td>\n",
              "      <td>250.866668</td>\n",
              "      <td>2.118832</td>\n",
              "      <td>2.663487</td>\n",
              "      <td>3.697609</td>\n",
              "      <td>9062.0</td>\n",
              "      <td>...</td>\n",
              "      <td>0</td>\n",
              "      <td>0</td>\n",
              "      <td>0</td>\n",
              "      <td>0</td>\n",
              "      <td>0</td>\n",
              "      <td>0</td>\n",
              "      <td>0</td>\n",
              "      <td>0</td>\n",
              "      <td>0</td>\n",
              "      <td>0</td>\n",
              "    </tr>\n",
              "    <tr>\n",
              "      <th>196928</th>\n",
              "      <td>3.154738</td>\n",
              "      <td>0.205380</td>\n",
              "      <td>0.178763</td>\n",
              "      <td>22.489226</td>\n",
              "      <td>3.619891</td>\n",
              "      <td>134.378934</td>\n",
              "      <td>2.506816</td>\n",
              "      <td>3.802659</td>\n",
              "      <td>5.603419</td>\n",
              "      <td>5821.0</td>\n",
              "      <td>...</td>\n",
              "      <td>0</td>\n",
              "      <td>0</td>\n",
              "      <td>0</td>\n",
              "      <td>0</td>\n",
              "      <td>0</td>\n",
              "      <td>0</td>\n",
              "      <td>0</td>\n",
              "      <td>0</td>\n",
              "      <td>0</td>\n",
              "      <td>0</td>\n",
              "    </tr>\n",
              "    <tr>\n",
              "      <th>350260</th>\n",
              "      <td>3.039289</td>\n",
              "      <td>0.032858</td>\n",
              "      <td>0.178763</td>\n",
              "      <td>16.180644</td>\n",
              "      <td>358.558717</td>\n",
              "      <td>131.946047</td>\n",
              "      <td>2.939423</td>\n",
              "      <td>3.139154</td>\n",
              "      <td>5.298662</td>\n",
              "      <td>5399.0</td>\n",
              "      <td>...</td>\n",
              "      <td>0</td>\n",
              "      <td>0</td>\n",
              "      <td>0</td>\n",
              "      <td>0</td>\n",
              "      <td>0</td>\n",
              "      <td>0</td>\n",
              "      <td>0</td>\n",
              "      <td>0</td>\n",
              "      <td>0</td>\n",
              "      <td>0</td>\n",
              "    </tr>\n",
              "  </tbody>\n",
              "</table>\n",
              "<p>5 rows × 190 columns</p>\n",
              "</div>\n",
              "      <button class=\"colab-df-convert\" onclick=\"convertToInteractive('df-5eb0c951-66af-49b2-bec6-2bc37cca0f7c')\"\n",
              "              title=\"Convert this dataframe to an interactive table.\"\n",
              "              style=\"display:none;\">\n",
              "        \n",
              "  <svg xmlns=\"http://www.w3.org/2000/svg\" height=\"24px\"viewBox=\"0 0 24 24\"\n",
              "       width=\"24px\">\n",
              "    <path d=\"M0 0h24v24H0V0z\" fill=\"none\"/>\n",
              "    <path d=\"M18.56 5.44l.94 2.06.94-2.06 2.06-.94-2.06-.94-.94-2.06-.94 2.06-2.06.94zm-11 1L8.5 8.5l.94-2.06 2.06-.94-2.06-.94L8.5 2.5l-.94 2.06-2.06.94zm10 10l.94 2.06.94-2.06 2.06-.94-2.06-.94-.94-2.06-.94 2.06-2.06.94z\"/><path d=\"M17.41 7.96l-1.37-1.37c-.4-.4-.92-.59-1.43-.59-.52 0-1.04.2-1.43.59L10.3 9.45l-7.72 7.72c-.78.78-.78 2.05 0 2.83L4 21.41c.39.39.9.59 1.41.59.51 0 1.02-.2 1.41-.59l7.78-7.78 2.81-2.81c.8-.78.8-2.07 0-2.86zM5.41 20L4 18.59l7.72-7.72 1.47 1.35L5.41 20z\"/>\n",
              "  </svg>\n",
              "      </button>\n",
              "      \n",
              "  <style>\n",
              "    .colab-df-container {\n",
              "      display:flex;\n",
              "      flex-wrap:wrap;\n",
              "      gap: 12px;\n",
              "    }\n",
              "\n",
              "    .colab-df-convert {\n",
              "      background-color: #E8F0FE;\n",
              "      border: none;\n",
              "      border-radius: 50%;\n",
              "      cursor: pointer;\n",
              "      display: none;\n",
              "      fill: #1967D2;\n",
              "      height: 32px;\n",
              "      padding: 0 0 0 0;\n",
              "      width: 32px;\n",
              "    }\n",
              "\n",
              "    .colab-df-convert:hover {\n",
              "      background-color: #E2EBFA;\n",
              "      box-shadow: 0px 1px 2px rgba(60, 64, 67, 0.3), 0px 1px 3px 1px rgba(60, 64, 67, 0.15);\n",
              "      fill: #174EA6;\n",
              "    }\n",
              "\n",
              "    [theme=dark] .colab-df-convert {\n",
              "      background-color: #3B4455;\n",
              "      fill: #D2E3FC;\n",
              "    }\n",
              "\n",
              "    [theme=dark] .colab-df-convert:hover {\n",
              "      background-color: #434B5C;\n",
              "      box-shadow: 0px 1px 3px 1px rgba(0, 0, 0, 0.15);\n",
              "      filter: drop-shadow(0px 1px 2px rgba(0, 0, 0, 0.3));\n",
              "      fill: #FFFFFF;\n",
              "    }\n",
              "  </style>\n",
              "\n",
              "      <script>\n",
              "        const buttonEl =\n",
              "          document.querySelector('#df-5eb0c951-66af-49b2-bec6-2bc37cca0f7c button.colab-df-convert');\n",
              "        buttonEl.style.display =\n",
              "          google.colab.kernel.accessAllowed ? 'block' : 'none';\n",
              "\n",
              "        async function convertToInteractive(key) {\n",
              "          const element = document.querySelector('#df-5eb0c951-66af-49b2-bec6-2bc37cca0f7c');\n",
              "          const dataTable =\n",
              "            await google.colab.kernel.invokeFunction('convertToInteractive',\n",
              "                                                     [key], {});\n",
              "          if (!dataTable) return;\n",
              "\n",
              "          const docLinkHtml = 'Like what you see? Visit the ' +\n",
              "            '<a target=\"_blank\" href=https://colab.research.google.com/notebooks/data_table.ipynb>data table notebook</a>'\n",
              "            + ' to learn more about interactive tables.';\n",
              "          element.innerHTML = '';\n",
              "          dataTable['output_type'] = 'display_data';\n",
              "          await google.colab.output.renderOutput(dataTable, element);\n",
              "          const docLink = document.createElement('div');\n",
              "          docLink.innerHTML = docLinkHtml;\n",
              "          element.appendChild(docLink);\n",
              "        }\n",
              "      </script>\n",
              "    </div>\n",
              "  </div>\n",
              "  "
            ]
          },
          "metadata": {},
          "execution_count": 373
        }
      ],
      "source": [
        "model_df_train = pd.concat([dtf_train, new_columns], axis=1)\n",
        "model_df_test = pd.concat([dtf_test, new_columns_test], axis=1)\n",
        "model_df_train.head()"
      ],
      "metadata": {
        "pycharm": {
          "name": "#%%\n"
        },
        "id": "n6tnVPK3R7uy",
        "colab": {
          "base_uri": "https://localhost:8080/",
          "height": 331
        },
        "outputId": "272f81ea-e8c6-4f31-9525-5105063ff6de"
      }
    },
    {
      "cell_type": "code",
      "source": [
        "model_df_train.shape"
      ],
      "metadata": {
        "id": "svfPPJhy4m-a",
        "colab": {
          "base_uri": "https://localhost:8080/"
        },
        "outputId": "adb3a9b0-965d-4df3-9d59-ac5049835983"
      },
      "execution_count": 374,
      "outputs": [
        {
          "output_type": "execute_result",
          "data": {
            "text/plain": [
              "(110144, 190)"
            ]
          },
          "metadata": {},
          "execution_count": 374
        }
      ]
    },
    {
      "cell_type": "code",
      "source": [
        "model_df_test.shape"
      ],
      "metadata": {
        "id": "RnpYDuZ54roS",
        "colab": {
          "base_uri": "https://localhost:8080/"
        },
        "outputId": "6486e38b-abbb-461b-ea91-a59ae8f1dbe8"
      },
      "execution_count": 375,
      "outputs": [
        {
          "output_type": "execute_result",
          "data": {
            "text/plain": [
              "(27537, 190)"
            ]
          },
          "metadata": {},
          "execution_count": 375
        }
      ]
    },
    {
      "cell_type": "markdown",
      "metadata": {
        "id": "jRzMKpVv3u0Y"
      },
      "source": [
        "# Asteroids"
      ]
    },
    {
      "cell_type": "markdown",
      "source": [
        "## Linear Regression"
      ],
      "metadata": {
        "collapsed": false,
        "pycharm": {
          "name": "#%% md\n"
        },
        "id": "xbhKf2zaR7u0"
      }
    },
    {
      "cell_type": "code",
      "source": [
        "y_train = model_df_train['diameter']\n",
        "X_train = model_df_train.drop(['diameter'], axis = 1)\n",
        "y_test = model_df_test['diameter']\n",
        "X_test = model_df_test.drop(['diameter'], axis = 1)"
      ],
      "metadata": {
        "id": "qihsMuSazxts"
      },
      "execution_count": 376,
      "outputs": []
    },
    {
      "cell_type": "code",
      "source": [
        "X_test.shape"
      ],
      "metadata": {
        "id": "46PU3wxh7kp4",
        "colab": {
          "base_uri": "https://localhost:8080/"
        },
        "outputId": "35975033-8977-4633-b5d9-6ce3d4a85355"
      },
      "execution_count": 377,
      "outputs": [
        {
          "output_type": "execute_result",
          "data": {
            "text/plain": [
              "(27537, 189)"
            ]
          },
          "metadata": {},
          "execution_count": 377
        }
      ]
    },
    {
      "cell_type": "code",
      "source": [
        "X_train.isna().sum().sum()"
      ],
      "metadata": {
        "id": "lgbAWQ3Y5uZU",
        "colab": {
          "base_uri": "https://localhost:8080/"
        },
        "outputId": "9e540b8e-7b62-4477-aa78-2d77db9be014"
      },
      "execution_count": 378,
      "outputs": [
        {
          "output_type": "execute_result",
          "data": {
            "text/plain": [
              "0"
            ]
          },
          "metadata": {},
          "execution_count": 378
        }
      ]
    },
    {
      "cell_type": "code",
      "execution_count": 379,
      "outputs": [],
      "source": [
        "multi_reg = LinearRegression()\n",
        "multi_reg.fit(X_train , y_train)\n",
        "pred = multi_reg.predict(X_test)"
      ],
      "metadata": {
        "pycharm": {
          "name": "#%%\n"
        },
        "id": "d_9FHf0FR7u0"
      }
    },
    {
      "cell_type": "code",
      "execution_count": 380,
      "outputs": [
        {
          "output_type": "stream",
          "name": "stdout",
          "text": [
            "Training Accuracy :  0.7356367255105545\n",
            "Test Accuracy :  0.6511357181793286\n"
          ]
        }
      ],
      "source": [
        "print('Training Accuracy : ' , multi_reg.score(X_train, y_train))\n",
        "print('Test Accuracy : ' , multi_reg.score(X_test, y_test))"
      ],
      "metadata": {
        "pycharm": {
          "name": "#%%\n"
        },
        "id": "T2yVThaNR7u0",
        "colab": {
          "base_uri": "https://localhost:8080/"
        },
        "outputId": "64de47d0-ddc7-4794-f20a-08c213d2cec9"
      }
    },
    {
      "cell_type": "markdown",
      "source": [
        "## Random Forest Regression"
      ],
      "metadata": {
        "collapsed": false,
        "pycharm": {
          "name": "#%% md\n"
        },
        "id": "ks8uxRhUR7u0"
      }
    },
    {
      "cell_type": "code",
      "execution_count": 338,
      "outputs": [],
      "source": [
        "rf_model = RandomForestRegressor()\n",
        "rf_model.fit(X_train, y_train)\n",
        "y_pred = rf_model.predict(X_test)"
      ],
      "metadata": {
        "pycharm": {
          "name": "#%%\n",
          "is_executing": true
        },
        "id": "bNSNz-G5R7u1"
      }
    },
    {
      "cell_type": "code",
      "execution_count": 339,
      "outputs": [
        {
          "output_type": "stream",
          "name": "stdout",
          "text": [
            "Training Accuracy :  0.7572537576163535\n",
            "Test Accuracy :  0.4963696112780095\n"
          ]
        }
      ],
      "source": [
        "print('Training Accuracy : ' , multi_reg.score(X_train, y_train))\n",
        "print('Test Accuracy : ' , multi_reg.score(X_test, y_test))"
      ],
      "metadata": {
        "pycharm": {
          "name": "#%%\n",
          "is_executing": true
        },
        "id": "0ix5gDaqR7u1",
        "colab": {
          "base_uri": "https://localhost:8080/"
        },
        "outputId": "fe922985-52c9-4321-b2c4-83cd023f69e8"
      }
    }
  ],
  "metadata": {
    "colab": {
      "collapsed_sections": [],
      "name": "Asteroid_notebook_mean_values.ipynb",
      "provenance": []
    },
    "kernelspec": {
      "display_name": "Python 3 (ipykernel)",
      "language": "python",
      "name": "python3"
    },
    "language_info": {
      "codemirror_mode": {
        "name": "ipython",
        "version": 3
      },
      "file_extension": ".py",
      "mimetype": "text/x-python",
      "name": "python",
      "nbconvert_exporter": "python",
      "pygments_lexer": "ipython3",
      "version": "3.9.7"
    }
  },
  "nbformat": 4,
  "nbformat_minor": 0
}